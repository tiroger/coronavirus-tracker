{
 "cells": [
  {
   "cell_type": "code",
   "execution_count": 20,
   "metadata": {},
   "outputs": [],
   "source": [
    "import pandas as pd\n",
    "from pandas import *\n",
    "import folium\n",
    "import plotly.graph_objects as go\n",
    "\n",
    "import pycountry # To convert country names to 3 letter code\n",
    "\n",
    "import webbrowser\n",
    "\n",
    "import pickle"
   ]
  },
  {
   "cell_type": "code",
   "execution_count": 21,
   "metadata": {},
   "outputs": [],
   "source": [
    "# Getting data\n",
    "base_url = \"https://raw.githubusercontent.com/CSSEGISandData/COVID-19/master/csse_covid_19_data/csse_covid_19_time_series/\"\n",
    "new_base_url = 'https://github.com/CSSEGISandData/COVID-19/tree/master/csse_covid_19_data/csse_covid_19_time_series'\n",
    "\n",
    "def loadData(fileName, columnName):\n",
    "    data = pd.read_csv(base_url + fileName) \\\n",
    "             .melt(id_vars=['Province/State', 'Country/Region', 'Lat', 'Long'], var_name='date', value_name=columnName) \\\n",
    "             .fillna('<all>')\n",
    "    data['date'] = data['date'].astype('datetime64[ns]')\n",
    "    return data"
   ]
  },
  {
   "cell_type": "code",
   "execution_count": 22,
   "metadata": {},
   "outputs": [],
   "source": [
    "all_data = loadData(\"time_series_covid19_confirmed_global.csv\", \"CumConfirmed\") \\\n",
    "    .merge(loadData(\"time_series_covid19_deaths_global.csv\", \"CumDeaths\"))"
   ]
  },
  {
   "cell_type": "code",
   "execution_count": 23,
   "metadata": {
    "scrolled": true
   },
   "outputs": [
    {
     "data": {
      "text/html": [
       "<div>\n",
       "<style scoped>\n",
       "    .dataframe tbody tr th:only-of-type {\n",
       "        vertical-align: middle;\n",
       "    }\n",
       "\n",
       "    .dataframe tbody tr th {\n",
       "        vertical-align: top;\n",
       "    }\n",
       "\n",
       "    .dataframe thead th {\n",
       "        text-align: right;\n",
       "    }\n",
       "</style>\n",
       "<table border=\"1\" class=\"dataframe\">\n",
       "  <thead>\n",
       "    <tr style=\"text-align: right;\">\n",
       "      <th></th>\n",
       "      <th>Province/State</th>\n",
       "      <th>Country/Region</th>\n",
       "      <th>Lat</th>\n",
       "      <th>Long</th>\n",
       "      <th>date</th>\n",
       "      <th>CumConfirmed</th>\n",
       "      <th>CumDeaths</th>\n",
       "    </tr>\n",
       "  </thead>\n",
       "  <tbody>\n",
       "    <tr>\n",
       "      <th>0</th>\n",
       "      <td>&lt;all&gt;</td>\n",
       "      <td>Afghanistan</td>\n",
       "      <td>33.0000</td>\n",
       "      <td>65.0000</td>\n",
       "      <td>2020-01-22</td>\n",
       "      <td>0</td>\n",
       "      <td>0</td>\n",
       "    </tr>\n",
       "    <tr>\n",
       "      <th>1</th>\n",
       "      <td>&lt;all&gt;</td>\n",
       "      <td>Albania</td>\n",
       "      <td>41.1533</td>\n",
       "      <td>20.1683</td>\n",
       "      <td>2020-01-22</td>\n",
       "      <td>0</td>\n",
       "      <td>0</td>\n",
       "    </tr>\n",
       "    <tr>\n",
       "      <th>2</th>\n",
       "      <td>&lt;all&gt;</td>\n",
       "      <td>Algeria</td>\n",
       "      <td>28.0339</td>\n",
       "      <td>1.6596</td>\n",
       "      <td>2020-01-22</td>\n",
       "      <td>0</td>\n",
       "      <td>0</td>\n",
       "    </tr>\n",
       "    <tr>\n",
       "      <th>3</th>\n",
       "      <td>&lt;all&gt;</td>\n",
       "      <td>Andorra</td>\n",
       "      <td>42.5063</td>\n",
       "      <td>1.5218</td>\n",
       "      <td>2020-01-22</td>\n",
       "      <td>0</td>\n",
       "      <td>0</td>\n",
       "    </tr>\n",
       "    <tr>\n",
       "      <th>4</th>\n",
       "      <td>&lt;all&gt;</td>\n",
       "      <td>Angola</td>\n",
       "      <td>-11.2027</td>\n",
       "      <td>17.8739</td>\n",
       "      <td>2020-01-22</td>\n",
       "      <td>0</td>\n",
       "      <td>0</td>\n",
       "    </tr>\n",
       "  </tbody>\n",
       "</table>\n",
       "</div>"
      ],
      "text/plain": [
       "  Province/State Country/Region      Lat     Long       date  CumConfirmed  \\\n",
       "0          <all>    Afghanistan  33.0000  65.0000 2020-01-22             0   \n",
       "1          <all>        Albania  41.1533  20.1683 2020-01-22             0   \n",
       "2          <all>        Algeria  28.0339   1.6596 2020-01-22             0   \n",
       "3          <all>        Andorra  42.5063   1.5218 2020-01-22             0   \n",
       "4          <all>         Angola -11.2027  17.8739 2020-01-22             0   \n",
       "\n",
       "   CumDeaths  \n",
       "0          0  \n",
       "1          0  \n",
       "2          0  \n",
       "3          0  \n",
       "4          0  "
      ]
     },
     "execution_count": 23,
     "metadata": {},
     "output_type": "execute_result"
    }
   ],
   "source": [
    "all_data.head()"
   ]
  },
  {
   "cell_type": "code",
   "execution_count": 24,
   "metadata": {},
   "outputs": [
    {
     "data": {
      "text/html": [
       "<div>\n",
       "<style scoped>\n",
       "    .dataframe tbody tr th:only-of-type {\n",
       "        vertical-align: middle;\n",
       "    }\n",
       "\n",
       "    .dataframe tbody tr th {\n",
       "        vertical-align: top;\n",
       "    }\n",
       "\n",
       "    .dataframe thead th {\n",
       "        text-align: right;\n",
       "    }\n",
       "</style>\n",
       "<table border=\"1\" class=\"dataframe\">\n",
       "  <thead>\n",
       "    <tr style=\"text-align: right;\">\n",
       "      <th></th>\n",
       "      <th>Country/Region</th>\n",
       "      <th>CumConfirmed</th>\n",
       "      <th>CumDeaths</th>\n",
       "    </tr>\n",
       "  </thead>\n",
       "  <tbody>\n",
       "    <tr>\n",
       "      <th>0</th>\n",
       "      <td>Afghanistan</td>\n",
       "      <td>349</td>\n",
       "      <td>7</td>\n",
       "    </tr>\n",
       "    <tr>\n",
       "      <th>1</th>\n",
       "      <td>Albania</td>\n",
       "      <td>361</td>\n",
       "      <td>20</td>\n",
       "    </tr>\n",
       "    <tr>\n",
       "      <th>2</th>\n",
       "      <td>Algeria</td>\n",
       "      <td>1320</td>\n",
       "      <td>152</td>\n",
       "    </tr>\n",
       "    <tr>\n",
       "      <th>3</th>\n",
       "      <td>Andorra</td>\n",
       "      <td>501</td>\n",
       "      <td>18</td>\n",
       "    </tr>\n",
       "    <tr>\n",
       "      <th>4</th>\n",
       "      <td>Angola</td>\n",
       "      <td>14</td>\n",
       "      <td>2</td>\n",
       "    </tr>\n",
       "  </tbody>\n",
       "</table>\n",
       "</div>"
      ],
      "text/plain": [
       "  Country/Region  CumConfirmed  CumDeaths\n",
       "0    Afghanistan           349          7\n",
       "1        Albania           361         20\n",
       "2        Algeria          1320        152\n",
       "3        Andorra           501         18\n",
       "4         Angola            14          2"
      ]
     },
     "execution_count": 24,
     "metadata": {},
     "output_type": "execute_result"
    }
   ],
   "source": [
    "grouped_countries = all_data.groupby('Country/Region').agg({'CumConfirmed': 'max', 'CumDeaths': 'max'}).reset_index()\n",
    "grouped_countries.head()"
   ]
  },
  {
   "cell_type": "code",
   "execution_count": 25,
   "metadata": {},
   "outputs": [
    {
     "data": {
      "text/html": [
       "<div>\n",
       "<style scoped>\n",
       "    .dataframe tbody tr th:only-of-type {\n",
       "        vertical-align: middle;\n",
       "    }\n",
       "\n",
       "    .dataframe tbody tr th {\n",
       "        vertical-align: top;\n",
       "    }\n",
       "\n",
       "    .dataframe thead th {\n",
       "        text-align: right;\n",
       "    }\n",
       "</style>\n",
       "<table border=\"1\" class=\"dataframe\">\n",
       "  <thead>\n",
       "    <tr style=\"text-align: right;\">\n",
       "      <th></th>\n",
       "      <th>Country/Region</th>\n",
       "      <th>CumConfirmed</th>\n",
       "      <th>CumDeaths</th>\n",
       "    </tr>\n",
       "  </thead>\n",
       "  <tbody>\n",
       "    <tr>\n",
       "      <th>32</th>\n",
       "      <td>Canada</td>\n",
       "      <td>7944</td>\n",
       "      <td>119</td>\n",
       "    </tr>\n",
       "  </tbody>\n",
       "</table>\n",
       "</div>"
      ],
      "text/plain": [
       "   Country/Region  CumConfirmed  CumDeaths\n",
       "32         Canada          7944        119"
      ]
     },
     "execution_count": 25,
     "metadata": {},
     "output_type": "execute_result"
    }
   ],
   "source": [
    "grouped_countries[grouped_countries['Country/Region'] == 'Canada']"
   ]
  },
  {
   "cell_type": "code",
   "execution_count": 26,
   "metadata": {},
   "outputs": [
    {
     "data": {
      "text/plain": [
       "array(['Afghanistan', 'Albania', 'Algeria', 'Andorra', 'Angola',\n",
       "       'Antigua and Barbuda', 'Argentina', 'Armenia', 'Australia',\n",
       "       'Austria', 'Azerbaijan', 'Bahamas', 'Bahrain', 'Bangladesh',\n",
       "       'Barbados', 'Belarus', 'Belgium', 'Belize', 'Benin', 'Bhutan',\n",
       "       'Bolivia', 'Bosnia and Herzegovina', 'Botswana', 'Brazil',\n",
       "       'Brunei', 'Bulgaria', 'Burkina Faso', 'Burma', 'Burundi',\n",
       "       'Cabo Verde', 'Cambodia', 'Cameroon', 'Canada',\n",
       "       'Central African Republic', 'Chad', 'Chile', 'China', 'Colombia',\n",
       "       'Congo (Brazzaville)', 'Congo (Kinshasa)', 'Costa Rica',\n",
       "       \"Cote d'Ivoire\", 'Croatia', 'Cuba', 'Cyprus', 'Czechia', 'Denmark',\n",
       "       'Diamond Princess', 'Djibouti', 'Dominica', 'Dominican Republic',\n",
       "       'Ecuador', 'Egypt', 'El Salvador', 'Equatorial Guinea', 'Eritrea',\n",
       "       'Estonia', 'Eswatini', 'Ethiopia', 'Fiji', 'Finland', 'France',\n",
       "       'Gabon', 'Gambia', 'Georgia', 'Germany', 'Ghana', 'Greece',\n",
       "       'Grenada', 'Guatemala', 'Guinea', 'Guinea-Bissau', 'Guyana',\n",
       "       'Haiti', 'Holy See', 'Honduras', 'Hungary', 'Iceland', 'India',\n",
       "       'Indonesia', 'Iran', 'Iraq', 'Ireland', 'Israel', 'Italy',\n",
       "       'Jamaica', 'Japan', 'Jordan', 'Kazakhstan', 'Kenya',\n",
       "       'Korea, South', 'Kosovo', 'Kuwait', 'Kyrgyzstan', 'Laos', 'Latvia',\n",
       "       'Lebanon', 'Liberia', 'Libya', 'Liechtenstein', 'Lithuania',\n",
       "       'Luxembourg', 'MS Zaandam', 'Madagascar', 'Malawi', 'Malaysia',\n",
       "       'Maldives', 'Mali', 'Malta', 'Mauritania', 'Mauritius', 'Mexico',\n",
       "       'Moldova', 'Monaco', 'Mongolia', 'Montenegro', 'Morocco',\n",
       "       'Mozambique', 'Namibia', 'Nepal', 'Netherlands', 'New Zealand',\n",
       "       'Nicaragua', 'Niger', 'Nigeria', 'North Macedonia', 'Norway',\n",
       "       'Oman', 'Pakistan', 'Panama', 'Papua New Guinea', 'Paraguay',\n",
       "       'Peru', 'Philippines', 'Poland', 'Portugal', 'Qatar', 'Romania',\n",
       "       'Russia', 'Rwanda', 'Saint Kitts and Nevis', 'Saint Lucia',\n",
       "       'Saint Vincent and the Grenadines', 'San Marino', 'Saudi Arabia',\n",
       "       'Senegal', 'Serbia', 'Seychelles', 'Sierra Leone', 'Singapore',\n",
       "       'Slovakia', 'Slovenia', 'Somalia', 'South Africa', 'South Sudan',\n",
       "       'Spain', 'Sri Lanka', 'Sudan', 'Suriname', 'Sweden', 'Switzerland',\n",
       "       'Syria', 'Taiwan*', 'Tanzania', 'Thailand', 'Timor-Leste', 'Togo',\n",
       "       'Trinidad and Tobago', 'Tunisia', 'Turkey', 'US', 'Uganda',\n",
       "       'Ukraine', 'United Arab Emirates', 'United Kingdom', 'Uruguay',\n",
       "       'Uzbekistan', 'Venezuela', 'Vietnam', 'West Bank and Gaza',\n",
       "       'Western Sahara', 'Zambia', 'Zimbabwe'], dtype=object)"
      ]
     },
     "execution_count": 26,
     "metadata": {},
     "output_type": "execute_result"
    }
   ],
   "source": [
    "grouped_countries['Country/Region'].unique()"
   ]
  },
  {
   "cell_type": "code",
   "execution_count": 27,
   "metadata": {},
   "outputs": [
    {
     "data": {
      "text/plain": [
       "'Myanmar'"
      ]
     },
     "execution_count": 27,
     "metadata": {},
     "output_type": "execute_result"
    }
   ],
   "source": [
    "burma = pycountry.countries.get(alpha_3='MMR')\n",
    "\n",
    "# Country(alpha_2='DE', alpha_3='DEU', name='Germany', numeric='276', official_name='Federal Republic of Germany')\n",
    "# germany.alpha_2\n",
    "\n",
    "burma.name\n",
    "\n",
    "# germany.numeric\n",
    "\n",
    "# german\n"
   ]
  },
  {
   "cell_type": "code",
   "execution_count": 28,
   "metadata": {
    "scrolled": true
   },
   "outputs": [
    {
     "name": "stdout",
     "output_type": "stream",
     "text": [
      "['AFG', 'ALB', 'DZA', 'AND', 'AGO', 'ATG', 'ARG', 'ARM', 'AUS', 'AUT', 'AZE', 'BHS', 'BHR', 'BGD', 'BRB', 'BLR', 'BEL', 'BLZ', 'BEN', 'BTN', 'Unknown code', 'BIH', 'BWA', 'BRA', 'Unknown code', 'BGR', 'BFA', 'Unknown code', 'BDI', 'CPV', 'KHM', 'CMR', 'CAN', 'CAF', 'TCD', 'CHL', 'CHN', 'COL', 'Unknown code', 'Unknown code', 'CRI', 'Unknown code', 'HRV', 'CUB', 'CYP', 'CZE', 'DNK', 'Unknown code', 'DJI', 'DMA', 'DOM', 'ECU', 'EGY', 'SLV', 'GNQ', 'ERI', 'EST', 'SWZ', 'ETH', 'FJI', 'FIN', 'FRA', 'GAB', 'GMB', 'GEO', 'DEU', 'GHA', 'GRC', 'GRD', 'GTM', 'GIN', 'GNB', 'GUY', 'HTI', 'Unknown code', 'HND', 'HUN', 'ISL', 'IND', 'IDN', 'Unknown code', 'IRQ', 'IRL', 'ISR', 'ITA', 'JAM', 'JPN', 'JOR', 'KAZ', 'KEN', 'Unknown code', 'Unknown code', 'KWT', 'KGZ', 'Unknown code', 'LVA', 'LBN', 'LBR', 'LBY', 'LIE', 'LTU', 'LUX', 'Unknown code', 'MDG', 'MWI', 'MYS', 'MDV', 'MLI', 'MLT', 'MRT', 'MUS', 'MEX', 'Unknown code', 'MCO', 'MNG', 'MNE', 'MAR', 'MOZ', 'NAM', 'NPL', 'NLD', 'NZL', 'NIC', 'NER', 'NGA', 'MKD', 'NOR', 'OMN', 'PAK', 'PAN', 'PNG', 'PRY', 'PER', 'PHL', 'POL', 'PRT', 'QAT', 'ROU', 'Unknown code', 'RWA', 'KNA', 'LCA', 'VCT', 'SMR', 'SAU', 'SEN', 'SRB', 'SYC', 'SLE', 'SGP', 'SVK', 'SVN', 'SOM', 'ZAF', 'SSD', 'ESP', 'LKA', 'SDN', 'SUR', 'SWE', 'CHE', 'Unknown code', 'Unknown code', 'Unknown code', 'THA', 'TLS', 'TGO', 'TTO', 'TUN', 'TUR', 'Unknown code', 'UGA', 'UKR', 'ARE', 'GBR', 'URY', 'UZB', 'Unknown code', 'Unknown code', 'Unknown code', 'ESH', 'ZMB', 'ZWE']\n"
     ]
    }
   ],
   "source": [
    "input_countries = grouped_countries['Country/Region']\n",
    "\n",
    "countries = {}\n",
    "for country in pycountry.countries:\n",
    "    countries[country.name] = country.alpha_3\n",
    "\n",
    "codes = [countries.get(country, 'Unknown code') for country in input_countries]\n",
    "\n",
    "print(codes)\n",
    "grouped_countries['code'] = codes"
   ]
  },
  {
   "cell_type": "code",
   "execution_count": 29,
   "metadata": {},
   "outputs": [],
   "source": [
    "# Pickling list of country code\n",
    "with open('pickled_files/country_codes.pkl', 'wb') as f:\n",
    "    pickle.dump(codes, f)"
   ]
  },
  {
   "cell_type": "code",
   "execution_count": 30,
   "metadata": {},
   "outputs": [
    {
     "data": {
      "text/html": [
       "<div>\n",
       "<style scoped>\n",
       "    .dataframe tbody tr th:only-of-type {\n",
       "        vertical-align: middle;\n",
       "    }\n",
       "\n",
       "    .dataframe tbody tr th {\n",
       "        vertical-align: top;\n",
       "    }\n",
       "\n",
       "    .dataframe thead th {\n",
       "        text-align: right;\n",
       "    }\n",
       "</style>\n",
       "<table border=\"1\" class=\"dataframe\">\n",
       "  <thead>\n",
       "    <tr style=\"text-align: right;\">\n",
       "      <th></th>\n",
       "      <th>Country/Region</th>\n",
       "      <th>CumConfirmed</th>\n",
       "      <th>CumDeaths</th>\n",
       "      <th>code</th>\n",
       "    </tr>\n",
       "  </thead>\n",
       "  <tbody>\n",
       "    <tr>\n",
       "      <th>0</th>\n",
       "      <td>Afghanistan</td>\n",
       "      <td>349</td>\n",
       "      <td>7</td>\n",
       "      <td>AFG</td>\n",
       "    </tr>\n",
       "    <tr>\n",
       "      <th>1</th>\n",
       "      <td>Albania</td>\n",
       "      <td>361</td>\n",
       "      <td>20</td>\n",
       "      <td>ALB</td>\n",
       "    </tr>\n",
       "    <tr>\n",
       "      <th>2</th>\n",
       "      <td>Algeria</td>\n",
       "      <td>1320</td>\n",
       "      <td>152</td>\n",
       "      <td>DZA</td>\n",
       "    </tr>\n",
       "    <tr>\n",
       "      <th>3</th>\n",
       "      <td>Andorra</td>\n",
       "      <td>501</td>\n",
       "      <td>18</td>\n",
       "      <td>AND</td>\n",
       "    </tr>\n",
       "    <tr>\n",
       "      <th>4</th>\n",
       "      <td>Angola</td>\n",
       "      <td>14</td>\n",
       "      <td>2</td>\n",
       "      <td>AGO</td>\n",
       "    </tr>\n",
       "    <tr>\n",
       "      <th>5</th>\n",
       "      <td>Antigua and Barbuda</td>\n",
       "      <td>15</td>\n",
       "      <td>0</td>\n",
       "      <td>ATG</td>\n",
       "    </tr>\n",
       "    <tr>\n",
       "      <th>6</th>\n",
       "      <td>Argentina</td>\n",
       "      <td>1451</td>\n",
       "      <td>44</td>\n",
       "      <td>ARG</td>\n",
       "    </tr>\n",
       "    <tr>\n",
       "      <th>7</th>\n",
       "      <td>Armenia</td>\n",
       "      <td>822</td>\n",
       "      <td>7</td>\n",
       "      <td>ARM</td>\n",
       "    </tr>\n",
       "    <tr>\n",
       "      <th>8</th>\n",
       "      <td>Australia</td>\n",
       "      <td>2580</td>\n",
       "      <td>16</td>\n",
       "      <td>AUS</td>\n",
       "    </tr>\n",
       "    <tr>\n",
       "      <th>9</th>\n",
       "      <td>Austria</td>\n",
       "      <td>12051</td>\n",
       "      <td>204</td>\n",
       "      <td>AUT</td>\n",
       "    </tr>\n",
       "    <tr>\n",
       "      <th>10</th>\n",
       "      <td>Azerbaijan</td>\n",
       "      <td>584</td>\n",
       "      <td>7</td>\n",
       "      <td>AZE</td>\n",
       "    </tr>\n",
       "    <tr>\n",
       "      <th>11</th>\n",
       "      <td>Bahamas</td>\n",
       "      <td>28</td>\n",
       "      <td>4</td>\n",
       "      <td>BHS</td>\n",
       "    </tr>\n",
       "    <tr>\n",
       "      <th>12</th>\n",
       "      <td>Bahrain</td>\n",
       "      <td>700</td>\n",
       "      <td>4</td>\n",
       "      <td>BHR</td>\n",
       "    </tr>\n",
       "    <tr>\n",
       "      <th>13</th>\n",
       "      <td>Bangladesh</td>\n",
       "      <td>88</td>\n",
       "      <td>9</td>\n",
       "      <td>BGD</td>\n",
       "    </tr>\n",
       "    <tr>\n",
       "      <th>14</th>\n",
       "      <td>Barbados</td>\n",
       "      <td>56</td>\n",
       "      <td>1</td>\n",
       "      <td>BRB</td>\n",
       "    </tr>\n",
       "    <tr>\n",
       "      <th>15</th>\n",
       "      <td>Belarus</td>\n",
       "      <td>562</td>\n",
       "      <td>8</td>\n",
       "      <td>BLR</td>\n",
       "    </tr>\n",
       "    <tr>\n",
       "      <th>16</th>\n",
       "      <td>Belgium</td>\n",
       "      <td>19691</td>\n",
       "      <td>1447</td>\n",
       "      <td>BEL</td>\n",
       "    </tr>\n",
       "    <tr>\n",
       "      <th>17</th>\n",
       "      <td>Belize</td>\n",
       "      <td>5</td>\n",
       "      <td>0</td>\n",
       "      <td>BLZ</td>\n",
       "    </tr>\n",
       "    <tr>\n",
       "      <th>18</th>\n",
       "      <td>Benin</td>\n",
       "      <td>22</td>\n",
       "      <td>0</td>\n",
       "      <td>BEN</td>\n",
       "    </tr>\n",
       "    <tr>\n",
       "      <th>19</th>\n",
       "      <td>Bhutan</td>\n",
       "      <td>5</td>\n",
       "      <td>0</td>\n",
       "      <td>BTN</td>\n",
       "    </tr>\n",
       "    <tr>\n",
       "      <th>20</th>\n",
       "      <td>Bolivia</td>\n",
       "      <td>157</td>\n",
       "      <td>10</td>\n",
       "      <td>Unknown code</td>\n",
       "    </tr>\n",
       "    <tr>\n",
       "      <th>21</th>\n",
       "      <td>Bosnia and Herzegovina</td>\n",
       "      <td>654</td>\n",
       "      <td>23</td>\n",
       "      <td>BIH</td>\n",
       "    </tr>\n",
       "    <tr>\n",
       "      <th>22</th>\n",
       "      <td>Botswana</td>\n",
       "      <td>6</td>\n",
       "      <td>1</td>\n",
       "      <td>BWA</td>\n",
       "    </tr>\n",
       "    <tr>\n",
       "      <th>23</th>\n",
       "      <td>Brazil</td>\n",
       "      <td>11130</td>\n",
       "      <td>486</td>\n",
       "      <td>BRA</td>\n",
       "    </tr>\n",
       "    <tr>\n",
       "      <th>24</th>\n",
       "      <td>Brunei</td>\n",
       "      <td>135</td>\n",
       "      <td>1</td>\n",
       "      <td>Unknown code</td>\n",
       "    </tr>\n",
       "    <tr>\n",
       "      <th>25</th>\n",
       "      <td>Bulgaria</td>\n",
       "      <td>531</td>\n",
       "      <td>20</td>\n",
       "      <td>BGR</td>\n",
       "    </tr>\n",
       "    <tr>\n",
       "      <th>26</th>\n",
       "      <td>Burkina Faso</td>\n",
       "      <td>345</td>\n",
       "      <td>17</td>\n",
       "      <td>BFA</td>\n",
       "    </tr>\n",
       "    <tr>\n",
       "      <th>27</th>\n",
       "      <td>Burma</td>\n",
       "      <td>21</td>\n",
       "      <td>1</td>\n",
       "      <td>Unknown code</td>\n",
       "    </tr>\n",
       "    <tr>\n",
       "      <th>28</th>\n",
       "      <td>Burundi</td>\n",
       "      <td>3</td>\n",
       "      <td>0</td>\n",
       "      <td>BDI</td>\n",
       "    </tr>\n",
       "    <tr>\n",
       "      <th>29</th>\n",
       "      <td>Cabo Verde</td>\n",
       "      <td>7</td>\n",
       "      <td>1</td>\n",
       "      <td>CPV</td>\n",
       "    </tr>\n",
       "    <tr>\n",
       "      <th>30</th>\n",
       "      <td>Cambodia</td>\n",
       "      <td>114</td>\n",
       "      <td>0</td>\n",
       "      <td>KHM</td>\n",
       "    </tr>\n",
       "    <tr>\n",
       "      <th>31</th>\n",
       "      <td>Cameroon</td>\n",
       "      <td>650</td>\n",
       "      <td>9</td>\n",
       "      <td>CMR</td>\n",
       "    </tr>\n",
       "    <tr>\n",
       "      <th>32</th>\n",
       "      <td>Canada</td>\n",
       "      <td>7944</td>\n",
       "      <td>119</td>\n",
       "      <td>CAN</td>\n",
       "    </tr>\n",
       "    <tr>\n",
       "      <th>33</th>\n",
       "      <td>Central African Republic</td>\n",
       "      <td>8</td>\n",
       "      <td>0</td>\n",
       "      <td>CAF</td>\n",
       "    </tr>\n",
       "    <tr>\n",
       "      <th>34</th>\n",
       "      <td>Chad</td>\n",
       "      <td>9</td>\n",
       "      <td>0</td>\n",
       "      <td>TCD</td>\n",
       "    </tr>\n",
       "    <tr>\n",
       "      <th>35</th>\n",
       "      <td>Chile</td>\n",
       "      <td>4471</td>\n",
       "      <td>34</td>\n",
       "      <td>CHL</td>\n",
       "    </tr>\n",
       "    <tr>\n",
       "      <th>36</th>\n",
       "      <td>China</td>\n",
       "      <td>67803</td>\n",
       "      <td>3210</td>\n",
       "      <td>CHN</td>\n",
       "    </tr>\n",
       "    <tr>\n",
       "      <th>37</th>\n",
       "      <td>Colombia</td>\n",
       "      <td>1485</td>\n",
       "      <td>35</td>\n",
       "      <td>COL</td>\n",
       "    </tr>\n",
       "    <tr>\n",
       "      <th>38</th>\n",
       "      <td>Congo (Brazzaville)</td>\n",
       "      <td>45</td>\n",
       "      <td>5</td>\n",
       "      <td>Unknown code</td>\n",
       "    </tr>\n",
       "    <tr>\n",
       "      <th>39</th>\n",
       "      <td>Congo (Kinshasa)</td>\n",
       "      <td>154</td>\n",
       "      <td>18</td>\n",
       "      <td>Unknown code</td>\n",
       "    </tr>\n",
       "    <tr>\n",
       "      <th>40</th>\n",
       "      <td>Costa Rica</td>\n",
       "      <td>454</td>\n",
       "      <td>2</td>\n",
       "      <td>CRI</td>\n",
       "    </tr>\n",
       "    <tr>\n",
       "      <th>41</th>\n",
       "      <td>Cote d'Ivoire</td>\n",
       "      <td>261</td>\n",
       "      <td>3</td>\n",
       "      <td>Unknown code</td>\n",
       "    </tr>\n",
       "    <tr>\n",
       "      <th>42</th>\n",
       "      <td>Croatia</td>\n",
       "      <td>1182</td>\n",
       "      <td>15</td>\n",
       "      <td>HRV</td>\n",
       "    </tr>\n",
       "    <tr>\n",
       "      <th>43</th>\n",
       "      <td>Cuba</td>\n",
       "      <td>320</td>\n",
       "      <td>8</td>\n",
       "      <td>CUB</td>\n",
       "    </tr>\n",
       "    <tr>\n",
       "      <th>44</th>\n",
       "      <td>Cyprus</td>\n",
       "      <td>446</td>\n",
       "      <td>11</td>\n",
       "      <td>CYP</td>\n",
       "    </tr>\n",
       "    <tr>\n",
       "      <th>45</th>\n",
       "      <td>Czechia</td>\n",
       "      <td>4587</td>\n",
       "      <td>67</td>\n",
       "      <td>CZE</td>\n",
       "    </tr>\n",
       "    <tr>\n",
       "      <th>46</th>\n",
       "      <td>Denmark</td>\n",
       "      <td>4369</td>\n",
       "      <td>179</td>\n",
       "      <td>DNK</td>\n",
       "    </tr>\n",
       "    <tr>\n",
       "      <th>47</th>\n",
       "      <td>Diamond Princess</td>\n",
       "      <td>712</td>\n",
       "      <td>11</td>\n",
       "      <td>Unknown code</td>\n",
       "    </tr>\n",
       "    <tr>\n",
       "      <th>48</th>\n",
       "      <td>Djibouti</td>\n",
       "      <td>59</td>\n",
       "      <td>0</td>\n",
       "      <td>DJI</td>\n",
       "    </tr>\n",
       "    <tr>\n",
       "      <th>49</th>\n",
       "      <td>Dominica</td>\n",
       "      <td>14</td>\n",
       "      <td>0</td>\n",
       "      <td>DMA</td>\n",
       "    </tr>\n",
       "  </tbody>\n",
       "</table>\n",
       "</div>"
      ],
      "text/plain": [
       "              Country/Region  CumConfirmed  CumDeaths          code\n",
       "0                Afghanistan           349          7           AFG\n",
       "1                    Albania           361         20           ALB\n",
       "2                    Algeria          1320        152           DZA\n",
       "3                    Andorra           501         18           AND\n",
       "4                     Angola            14          2           AGO\n",
       "5        Antigua and Barbuda            15          0           ATG\n",
       "6                  Argentina          1451         44           ARG\n",
       "7                    Armenia           822          7           ARM\n",
       "8                  Australia          2580         16           AUS\n",
       "9                    Austria         12051        204           AUT\n",
       "10                Azerbaijan           584          7           AZE\n",
       "11                   Bahamas            28          4           BHS\n",
       "12                   Bahrain           700          4           BHR\n",
       "13                Bangladesh            88          9           BGD\n",
       "14                  Barbados            56          1           BRB\n",
       "15                   Belarus           562          8           BLR\n",
       "16                   Belgium         19691       1447           BEL\n",
       "17                    Belize             5          0           BLZ\n",
       "18                     Benin            22          0           BEN\n",
       "19                    Bhutan             5          0           BTN\n",
       "20                   Bolivia           157         10  Unknown code\n",
       "21    Bosnia and Herzegovina           654         23           BIH\n",
       "22                  Botswana             6          1           BWA\n",
       "23                    Brazil         11130        486           BRA\n",
       "24                    Brunei           135          1  Unknown code\n",
       "25                  Bulgaria           531         20           BGR\n",
       "26              Burkina Faso           345         17           BFA\n",
       "27                     Burma            21          1  Unknown code\n",
       "28                   Burundi             3          0           BDI\n",
       "29                Cabo Verde             7          1           CPV\n",
       "30                  Cambodia           114          0           KHM\n",
       "31                  Cameroon           650          9           CMR\n",
       "32                    Canada          7944        119           CAN\n",
       "33  Central African Republic             8          0           CAF\n",
       "34                      Chad             9          0           TCD\n",
       "35                     Chile          4471         34           CHL\n",
       "36                     China         67803       3210           CHN\n",
       "37                  Colombia          1485         35           COL\n",
       "38       Congo (Brazzaville)            45          5  Unknown code\n",
       "39          Congo (Kinshasa)           154         18  Unknown code\n",
       "40                Costa Rica           454          2           CRI\n",
       "41             Cote d'Ivoire           261          3  Unknown code\n",
       "42                   Croatia          1182         15           HRV\n",
       "43                      Cuba           320          8           CUB\n",
       "44                    Cyprus           446         11           CYP\n",
       "45                   Czechia          4587         67           CZE\n",
       "46                   Denmark          4369        179           DNK\n",
       "47          Diamond Princess           712         11  Unknown code\n",
       "48                  Djibouti            59          0           DJI\n",
       "49                  Dominica            14          0           DMA"
      ]
     },
     "execution_count": 30,
     "metadata": {},
     "output_type": "execute_result"
    }
   ],
   "source": [
    "grouped_countries.head(50)"
   ]
  },
  {
   "cell_type": "code",
   "execution_count": 31,
   "metadata": {},
   "outputs": [
    {
     "data": {
      "text/html": [
       "<div>\n",
       "<style scoped>\n",
       "    .dataframe tbody tr th:only-of-type {\n",
       "        vertical-align: middle;\n",
       "    }\n",
       "\n",
       "    .dataframe tbody tr th {\n",
       "        vertical-align: top;\n",
       "    }\n",
       "\n",
       "    .dataframe thead th {\n",
       "        text-align: right;\n",
       "    }\n",
       "</style>\n",
       "<table border=\"1\" class=\"dataframe\">\n",
       "  <thead>\n",
       "    <tr style=\"text-align: right;\">\n",
       "      <th></th>\n",
       "      <th>Country/Region</th>\n",
       "      <th>CumConfirmed</th>\n",
       "      <th>CumDeaths</th>\n",
       "      <th>code</th>\n",
       "    </tr>\n",
       "  </thead>\n",
       "  <tbody>\n",
       "    <tr>\n",
       "      <th>20</th>\n",
       "      <td>Bolivia</td>\n",
       "      <td>157</td>\n",
       "      <td>10</td>\n",
       "      <td>Unknown code</td>\n",
       "    </tr>\n",
       "    <tr>\n",
       "      <th>24</th>\n",
       "      <td>Brunei</td>\n",
       "      <td>135</td>\n",
       "      <td>1</td>\n",
       "      <td>Unknown code</td>\n",
       "    </tr>\n",
       "    <tr>\n",
       "      <th>27</th>\n",
       "      <td>Burma</td>\n",
       "      <td>21</td>\n",
       "      <td>1</td>\n",
       "      <td>Unknown code</td>\n",
       "    </tr>\n",
       "    <tr>\n",
       "      <th>38</th>\n",
       "      <td>Congo (Brazzaville)</td>\n",
       "      <td>45</td>\n",
       "      <td>5</td>\n",
       "      <td>Unknown code</td>\n",
       "    </tr>\n",
       "    <tr>\n",
       "      <th>39</th>\n",
       "      <td>Congo (Kinshasa)</td>\n",
       "      <td>154</td>\n",
       "      <td>18</td>\n",
       "      <td>Unknown code</td>\n",
       "    </tr>\n",
       "    <tr>\n",
       "      <th>41</th>\n",
       "      <td>Cote d'Ivoire</td>\n",
       "      <td>261</td>\n",
       "      <td>3</td>\n",
       "      <td>Unknown code</td>\n",
       "    </tr>\n",
       "    <tr>\n",
       "      <th>47</th>\n",
       "      <td>Diamond Princess</td>\n",
       "      <td>712</td>\n",
       "      <td>11</td>\n",
       "      <td>Unknown code</td>\n",
       "    </tr>\n",
       "    <tr>\n",
       "      <th>74</th>\n",
       "      <td>Holy See</td>\n",
       "      <td>7</td>\n",
       "      <td>0</td>\n",
       "      <td>Unknown code</td>\n",
       "    </tr>\n",
       "    <tr>\n",
       "      <th>80</th>\n",
       "      <td>Iran</td>\n",
       "      <td>58226</td>\n",
       "      <td>3603</td>\n",
       "      <td>Unknown code</td>\n",
       "    </tr>\n",
       "    <tr>\n",
       "      <th>90</th>\n",
       "      <td>Korea, South</td>\n",
       "      <td>10237</td>\n",
       "      <td>183</td>\n",
       "      <td>Unknown code</td>\n",
       "    </tr>\n",
       "    <tr>\n",
       "      <th>91</th>\n",
       "      <td>Kosovo</td>\n",
       "      <td>145</td>\n",
       "      <td>1</td>\n",
       "      <td>Unknown code</td>\n",
       "    </tr>\n",
       "    <tr>\n",
       "      <th>94</th>\n",
       "      <td>Laos</td>\n",
       "      <td>11</td>\n",
       "      <td>0</td>\n",
       "      <td>Unknown code</td>\n",
       "    </tr>\n",
       "    <tr>\n",
       "      <th>102</th>\n",
       "      <td>MS Zaandam</td>\n",
       "      <td>9</td>\n",
       "      <td>2</td>\n",
       "      <td>Unknown code</td>\n",
       "    </tr>\n",
       "    <tr>\n",
       "      <th>112</th>\n",
       "      <td>Moldova</td>\n",
       "      <td>864</td>\n",
       "      <td>15</td>\n",
       "      <td>Unknown code</td>\n",
       "    </tr>\n",
       "    <tr>\n",
       "      <th>138</th>\n",
       "      <td>Russia</td>\n",
       "      <td>5389</td>\n",
       "      <td>45</td>\n",
       "      <td>Unknown code</td>\n",
       "    </tr>\n",
       "    <tr>\n",
       "      <th>161</th>\n",
       "      <td>Syria</td>\n",
       "      <td>19</td>\n",
       "      <td>2</td>\n",
       "      <td>Unknown code</td>\n",
       "    </tr>\n",
       "    <tr>\n",
       "      <th>162</th>\n",
       "      <td>Taiwan*</td>\n",
       "      <td>363</td>\n",
       "      <td>5</td>\n",
       "      <td>Unknown code</td>\n",
       "    </tr>\n",
       "    <tr>\n",
       "      <th>163</th>\n",
       "      <td>Tanzania</td>\n",
       "      <td>22</td>\n",
       "      <td>1</td>\n",
       "      <td>Unknown code</td>\n",
       "    </tr>\n",
       "    <tr>\n",
       "      <th>170</th>\n",
       "      <td>US</td>\n",
       "      <td>337072</td>\n",
       "      <td>9619</td>\n",
       "      <td>Unknown code</td>\n",
       "    </tr>\n",
       "    <tr>\n",
       "      <th>177</th>\n",
       "      <td>Venezuela</td>\n",
       "      <td>159</td>\n",
       "      <td>7</td>\n",
       "      <td>Unknown code</td>\n",
       "    </tr>\n",
       "    <tr>\n",
       "      <th>178</th>\n",
       "      <td>Vietnam</td>\n",
       "      <td>241</td>\n",
       "      <td>0</td>\n",
       "      <td>Unknown code</td>\n",
       "    </tr>\n",
       "    <tr>\n",
       "      <th>179</th>\n",
       "      <td>West Bank and Gaza</td>\n",
       "      <td>237</td>\n",
       "      <td>1</td>\n",
       "      <td>Unknown code</td>\n",
       "    </tr>\n",
       "  </tbody>\n",
       "</table>\n",
       "</div>"
      ],
      "text/plain": [
       "          Country/Region  CumConfirmed  CumDeaths          code\n",
       "20               Bolivia           157         10  Unknown code\n",
       "24                Brunei           135          1  Unknown code\n",
       "27                 Burma            21          1  Unknown code\n",
       "38   Congo (Brazzaville)            45          5  Unknown code\n",
       "39      Congo (Kinshasa)           154         18  Unknown code\n",
       "41         Cote d'Ivoire           261          3  Unknown code\n",
       "47      Diamond Princess           712         11  Unknown code\n",
       "74              Holy See             7          0  Unknown code\n",
       "80                  Iran         58226       3603  Unknown code\n",
       "90          Korea, South         10237        183  Unknown code\n",
       "91                Kosovo           145          1  Unknown code\n",
       "94                  Laos            11          0  Unknown code\n",
       "102           MS Zaandam             9          2  Unknown code\n",
       "112              Moldova           864         15  Unknown code\n",
       "138               Russia          5389         45  Unknown code\n",
       "161                Syria            19          2  Unknown code\n",
       "162              Taiwan*           363          5  Unknown code\n",
       "163             Tanzania            22          1  Unknown code\n",
       "170                   US        337072       9619  Unknown code\n",
       "177            Venezuela           159          7  Unknown code\n",
       "178              Vietnam           241          0  Unknown code\n",
       "179   West Bank and Gaza           237          1  Unknown code"
      ]
     },
     "execution_count": 31,
     "metadata": {},
     "output_type": "execute_result"
    }
   ],
   "source": [
    "grouped_countries[grouped_countries.code == 'Unknown code']"
   ]
  },
  {
   "cell_type": "code",
   "execution_count": 32,
   "metadata": {
    "scrolled": true
   },
   "outputs": [
    {
     "data": {
      "text/plain": [
       "[(20, 'Afghanistan'),\n",
       " (24, 'Albania'),\n",
       " (27, 'Algeria'),\n",
       " (38, 'Andorra'),\n",
       " (39, 'Angola'),\n",
       " (41, 'Antigua and Barbuda'),\n",
       " (47, 'Argentina'),\n",
       " (74, 'Armenia'),\n",
       " (80, 'Australia'),\n",
       " (90, 'Austria'),\n",
       " (91, 'Azerbaijan'),\n",
       " (94, 'Bahamas'),\n",
       " (102, 'Bahrain'),\n",
       " (112, 'Bangladesh'),\n",
       " (138, 'Barbados'),\n",
       " (161, 'Belarus'),\n",
       " (162, 'Belgium'),\n",
       " (163, 'Belize'),\n",
       " (170, 'Benin'),\n",
       " (177, 'Bhutan'),\n",
       " (178, 'Bolivia'),\n",
       " (179, 'Bosnia and Herzegovina')]"
      ]
     },
     "execution_count": 32,
     "metadata": {},
     "output_type": "execute_result"
    }
   ],
   "source": [
    "unknown_codes = list(zip(grouped_countries[grouped_countries.code == 'Unknown code'].index, grouped_countries['Country/Region']))\n",
    "unknown_codes"
   ]
  },
  {
   "cell_type": "code",
   "execution_count": 33,
   "metadata": {},
   "outputs": [],
   "source": [
    "# codes_to_add = ['BOL', 'BWN', 'MMR', 'COG', 'COD', 'CIV', 'VAT', 'IRN', 'KOR', 'RKS', 'LAO', 'MDA', 'RUS', 'TWN', 'TZA', 'USA', 'VEN', 'VNM', 'PSE']                                 \n",
    "\n",
    "# for index, country in unknown_codes:\n",
    "    \n",
    "#     print(index)\n",
    "#     grouped_countries.loc[index, 'code'] = [codes_to_add[i] for i in range(len(codes_to_add))]\n",
    "    "
   ]
  },
  {
   "cell_type": "code",
   "execution_count": 34,
   "metadata": {},
   "outputs": [],
   "source": [
    "#[print(i) for i in range(len(codes_to_add))]"
   ]
  },
  {
   "cell_type": "code",
   "execution_count": 35,
   "metadata": {
    "scrolled": true
   },
   "outputs": [],
   "source": [
    "# Manually adding 3-letter codes\n",
    "grouped_countries.loc[20, 'code'] = 'BOL'\n",
    "grouped_countries.loc[24, 'code'] = 'BWN'\n",
    "grouped_countries.loc[27, 'code'] = 'MMR'\n",
    "grouped_countries.loc[38, 'code'] = 'COG'\n",
    "grouped_countries.loc[39, 'code'] = 'COD'\n",
    "grouped_countries.loc[41, 'code'] = 'CIV'\n",
    "grouped_countries.loc[74, 'code'] = 'VAT'\n",
    "grouped_countries.loc[80, 'code'] = 'IRN'\n",
    "grouped_countries.loc[90, 'code'] = 'KOR'\n",
    "grouped_countries.loc[91, 'code'] = 'RKS'\n",
    "grouped_countries.loc[94, 'code'] = 'LAO'\n",
    "grouped_countries.loc[112, 'code'] = 'MDA'\n",
    "grouped_countries.loc[138, 'code'] = 'RUS'\n",
    "grouped_countries.loc[160, 'code'] = 'SYR'\n",
    "grouped_countries.loc[162, 'code'] = 'TWN'\n",
    "grouped_countries.loc[163, 'code'] = 'TZA'\n",
    "grouped_countries.loc[170, 'code'] = 'USA'\n",
    "grouped_countries.loc[177, 'code'] = 'VEN'\n",
    "grouped_countries.loc[178, 'code'] = 'VNM'\n",
    "grouped_countries.loc[179, 'code'] = 'PSE'"
   ]
  },
  {
   "cell_type": "code",
   "execution_count": 36,
   "metadata": {},
   "outputs": [
    {
     "data": {
      "text/plain": [
       "Country/Region    Ukraine\n",
       "CumConfirmed         1308\n",
       "CumDeaths              37\n",
       "code                  UKR\n",
       "Name: 172, dtype: object"
      ]
     },
     "execution_count": 36,
     "metadata": {},
     "output_type": "execute_result"
    }
   ],
   "source": [
    "grouped_countries.iloc[172]"
   ]
  },
  {
   "cell_type": "code",
   "execution_count": 37,
   "metadata": {},
   "outputs": [
    {
     "data": {
      "text/html": [
       "<div>\n",
       "<style scoped>\n",
       "    .dataframe tbody tr th:only-of-type {\n",
       "        vertical-align: middle;\n",
       "    }\n",
       "\n",
       "    .dataframe tbody tr th {\n",
       "        vertical-align: top;\n",
       "    }\n",
       "\n",
       "    .dataframe thead th {\n",
       "        text-align: right;\n",
       "    }\n",
       "</style>\n",
       "<table border=\"1\" class=\"dataframe\">\n",
       "  <thead>\n",
       "    <tr style=\"text-align: right;\">\n",
       "      <th></th>\n",
       "      <th>Country/Region</th>\n",
       "      <th>CumConfirmed</th>\n",
       "      <th>CumDeaths</th>\n",
       "      <th>code</th>\n",
       "    </tr>\n",
       "  </thead>\n",
       "  <tbody>\n",
       "    <tr>\n",
       "      <th>47</th>\n",
       "      <td>Diamond Princess</td>\n",
       "      <td>712</td>\n",
       "      <td>11</td>\n",
       "      <td>Unknown code</td>\n",
       "    </tr>\n",
       "    <tr>\n",
       "      <th>102</th>\n",
       "      <td>MS Zaandam</td>\n",
       "      <td>9</td>\n",
       "      <td>2</td>\n",
       "      <td>Unknown code</td>\n",
       "    </tr>\n",
       "    <tr>\n",
       "      <th>163</th>\n",
       "      <td>Tanzania</td>\n",
       "      <td>22</td>\n",
       "      <td>1</td>\n",
       "      <td>Unknown code</td>\n",
       "    </tr>\n",
       "    <tr>\n",
       "      <th>170</th>\n",
       "      <td>US</td>\n",
       "      <td>337072</td>\n",
       "      <td>9619</td>\n",
       "      <td>Unknown code</td>\n",
       "    </tr>\n",
       "    <tr>\n",
       "      <th>179</th>\n",
       "      <td>West Bank and Gaza</td>\n",
       "      <td>237</td>\n",
       "      <td>1</td>\n",
       "      <td>Unknown code</td>\n",
       "    </tr>\n",
       "  </tbody>\n",
       "</table>\n",
       "</div>"
      ],
      "text/plain": [
       "         Country/Region  CumConfirmed  CumDeaths          code\n",
       "47     Diamond Princess           712         11  Unknown code\n",
       "102          MS Zaandam             9          2  Unknown code\n",
       "163            Tanzania            22          1  Unknown code\n",
       "170                  US        337072       9619  Unknown code\n",
       "179  West Bank and Gaza           237          1  Unknown code"
      ]
     },
     "execution_count": 37,
     "metadata": {},
     "output_type": "execute_result"
    }
   ],
   "source": [
    "grouped_countries[grouped_countries.code == 'Unknown code']"
   ]
  },
  {
   "cell_type": "code",
   "execution_count": 38,
   "metadata": {},
   "outputs": [],
   "source": [
    "#colordict = {0: 'lightblue', 1: 'lightgreen', 2: 'orange', 3: 'red'}"
   ]
  },
  {
   "cell_type": "code",
   "execution_count": 39,
   "metadata": {},
   "outputs": [
    {
     "data": {
      "text/plain": [
       "0        33.000000\n",
       "1        41.153300\n",
       "2        28.033900\n",
       "3        42.506300\n",
       "4       -11.202700\n",
       "           ...    \n",
       "19645   -13.254308\n",
       "19646   -51.796300\n",
       "19647    46.885200\n",
       "19648     6.877000\n",
       "19649    24.215500\n",
       "Name: Lat, Length: 19650, dtype: float64"
      ]
     },
     "execution_count": 39,
     "metadata": {},
     "output_type": "execute_result"
    }
   ],
   "source": [
    "all_data['Lat']"
   ]
  },
  {
   "cell_type": "code",
   "execution_count": 40,
   "metadata": {},
   "outputs": [
    {
     "data": {
      "text/plain": [
       "0        65.000000\n",
       "1        20.168300\n",
       "2         1.659600\n",
       "3         1.521800\n",
       "4        17.873900\n",
       "           ...    \n",
       "19645    34.301525\n",
       "19646   -59.523600\n",
       "19647   -56.315900\n",
       "19648    31.307000\n",
       "19649   -12.885800\n",
       "Name: Long, Length: 19650, dtype: float64"
      ]
     },
     "execution_count": 40,
     "metadata": {},
     "output_type": "execute_result"
    }
   ],
   "source": [
    "all_data['Long']"
   ]
  },
  {
   "cell_type": "code",
   "execution_count": 41,
   "metadata": {},
   "outputs": [],
   "source": [
    "all_data['location'] = list(zip(all_data['Lat'], all_data['Long']))"
   ]
  },
  {
   "cell_type": "code",
   "execution_count": 42,
   "metadata": {},
   "outputs": [
    {
     "data": {
      "text/html": [
       "<div>\n",
       "<style scoped>\n",
       "    .dataframe tbody tr th:only-of-type {\n",
       "        vertical-align: middle;\n",
       "    }\n",
       "\n",
       "    .dataframe tbody tr th {\n",
       "        vertical-align: top;\n",
       "    }\n",
       "\n",
       "    .dataframe thead th {\n",
       "        text-align: right;\n",
       "    }\n",
       "</style>\n",
       "<table border=\"1\" class=\"dataframe\">\n",
       "  <thead>\n",
       "    <tr style=\"text-align: right;\">\n",
       "      <th></th>\n",
       "      <th>Province/State</th>\n",
       "      <th>Country/Region</th>\n",
       "      <th>Lat</th>\n",
       "      <th>Long</th>\n",
       "      <th>date</th>\n",
       "      <th>CumConfirmed</th>\n",
       "      <th>CumDeaths</th>\n",
       "      <th>location</th>\n",
       "    </tr>\n",
       "  </thead>\n",
       "  <tbody>\n",
       "    <tr>\n",
       "      <th>0</th>\n",
       "      <td>&lt;all&gt;</td>\n",
       "      <td>Afghanistan</td>\n",
       "      <td>33.0000</td>\n",
       "      <td>65.0000</td>\n",
       "      <td>2020-01-22</td>\n",
       "      <td>0</td>\n",
       "      <td>0</td>\n",
       "      <td>(33.0, 65.0)</td>\n",
       "    </tr>\n",
       "    <tr>\n",
       "      <th>1</th>\n",
       "      <td>&lt;all&gt;</td>\n",
       "      <td>Albania</td>\n",
       "      <td>41.1533</td>\n",
       "      <td>20.1683</td>\n",
       "      <td>2020-01-22</td>\n",
       "      <td>0</td>\n",
       "      <td>0</td>\n",
       "      <td>(41.1533, 20.1683)</td>\n",
       "    </tr>\n",
       "    <tr>\n",
       "      <th>2</th>\n",
       "      <td>&lt;all&gt;</td>\n",
       "      <td>Algeria</td>\n",
       "      <td>28.0339</td>\n",
       "      <td>1.6596</td>\n",
       "      <td>2020-01-22</td>\n",
       "      <td>0</td>\n",
       "      <td>0</td>\n",
       "      <td>(28.0339, 1.6596)</td>\n",
       "    </tr>\n",
       "    <tr>\n",
       "      <th>3</th>\n",
       "      <td>&lt;all&gt;</td>\n",
       "      <td>Andorra</td>\n",
       "      <td>42.5063</td>\n",
       "      <td>1.5218</td>\n",
       "      <td>2020-01-22</td>\n",
       "      <td>0</td>\n",
       "      <td>0</td>\n",
       "      <td>(42.5063, 1.5218)</td>\n",
       "    </tr>\n",
       "    <tr>\n",
       "      <th>4</th>\n",
       "      <td>&lt;all&gt;</td>\n",
       "      <td>Angola</td>\n",
       "      <td>-11.2027</td>\n",
       "      <td>17.8739</td>\n",
       "      <td>2020-01-22</td>\n",
       "      <td>0</td>\n",
       "      <td>0</td>\n",
       "      <td>(-11.2027, 17.8739)</td>\n",
       "    </tr>\n",
       "  </tbody>\n",
       "</table>\n",
       "</div>"
      ],
      "text/plain": [
       "  Province/State Country/Region      Lat     Long       date  CumConfirmed  \\\n",
       "0          <all>    Afghanistan  33.0000  65.0000 2020-01-22             0   \n",
       "1          <all>        Albania  41.1533  20.1683 2020-01-22             0   \n",
       "2          <all>        Algeria  28.0339   1.6596 2020-01-22             0   \n",
       "3          <all>        Andorra  42.5063   1.5218 2020-01-22             0   \n",
       "4          <all>         Angola -11.2027  17.8739 2020-01-22             0   \n",
       "\n",
       "   CumDeaths             location  \n",
       "0          0         (33.0, 65.0)  \n",
       "1          0   (41.1533, 20.1683)  \n",
       "2          0    (28.0339, 1.6596)  \n",
       "3          0    (42.5063, 1.5218)  \n",
       "4          0  (-11.2027, 17.8739)  "
      ]
     },
     "execution_count": 42,
     "metadata": {},
     "output_type": "execute_result"
    }
   ],
   "source": [
    "all_data.head()"
   ]
  },
  {
   "cell_type": "code",
   "execution_count": 43,
   "metadata": {},
   "outputs": [
    {
     "data": {
      "text/plain": [
       "0        0\n",
       "1        0\n",
       "2        0\n",
       "3        0\n",
       "4        0\n",
       "        ..\n",
       "19645    4\n",
       "19646    2\n",
       "19647    1\n",
       "19648    1\n",
       "19649    4\n",
       "Name: CumConfirmed, Length: 19650, dtype: int64"
      ]
     },
     "execution_count": 43,
     "metadata": {},
     "output_type": "execute_result"
    }
   ],
   "source": [
    "confirmed = all_data.CumConfirmed\n",
    "confirmed"
   ]
  },
  {
   "cell_type": "code",
   "execution_count": 44,
   "metadata": {},
   "outputs": [],
   "source": [
    "latitude = 37.0902\n",
    "longitude = -95.7129\n",
    "corona_map = folium.Map(location=[latitude, longitude], zoom_start=3)\n",
    "\n",
    "def map_locations():\n",
    "    locations = all_data['location']\n",
    "    confirmed_cases = all_data.CumConfirmed\n",
    "    deaths = all_data.CumDeaths\n",
    "    countries = all_data['Country/Region']\n",
    "\n",
    "    for location, confirmed, death, country in zip(locations, confirmed_cases, deaths, countries):\n",
    "        folium.CircleMarker(location, threshold_scale=[0,1000,20000,50000], color='#3186cc', weight=0.3,        \n",
    "            fill_color='#C23208',\n",
    "            fill=True,\n",
    "            fill_opacity=0.7, tooltip = ('<H6>' + country + '</H6>' + '<br>' \n",
    "                                               'Confirmed: ' + '<strong style=\"color:#C23208;\">' + str(confirmed) +'</strong>' + '<br>'\n",
    "                                               'Deaths: ' + '<strong style=\"color:#C23208;\">' + str(death) + '</strong>' + '<br>'\n",
    "                    )).add_to(corona_map)\n",
    "    return corona_map"
   ]
  },
  {
   "cell_type": "code",
   "execution_count": 45,
   "metadata": {},
   "outputs": [],
   "source": [
    "location_map = map_locations()\n",
    "location_map.save(outfile='location_map.html')"
   ]
  },
  {
   "cell_type": "code",
   "execution_count": 46,
   "metadata": {},
   "outputs": [],
   "source": [
    "# country_geo = 'world_countries.json'\n",
    "# m = folium.Map(location=[48, -102], zoom_start=3)\n",
    "\n",
    "# folium.Choropleth(\n",
    "#     geo_data=country_geo,\n",
    "#     data=all_data.CumConfirmed\n",
    "# ).add_to(m)\n",
    "\n",
    "# folium.LayerControl().add_to(m)\n",
    "\n",
    "#m"
   ]
  },
  {
   "cell_type": "code",
   "execution_count": 47,
   "metadata": {},
   "outputs": [],
   "source": [
    "# map2 = folium.Map(location=[38.9, -77.05], tiles='CartoDB dark_matter', zoom_start=11)\n",
    "\n",
    "# marker_cluster = folium.MarkerCluster().add_to(map2)\n",
    "\n",
    "# for point in range(0, len(locationlist)):\n",
    "#     folium.Marker(locationlist[point], popup=df_counters['Name'][point]).add_to(marker_cluster)\n",
    "# map2"
   ]
  },
  {
   "cell_type": "code",
   "execution_count": 48,
   "metadata": {},
   "outputs": [],
   "source": [
    "# for lat, lon, traffic_q, traffic, bike, city in zip(df['latitude'], df['longitude'], df['traffic_index_quartile'], df['traffic_index'], df['bike_score'], df['city']):\n",
    "#     folium.CircleMarker(\n",
    "#         [lat, lon],\n",
    "#         radius=.15*bike,\n",
    "#         popup = ('City: ' + str(city).capitalize() + '<br>'\n",
    "#                  'Bike score: ' + str(bike) + '<br>'\n",
    "#                  'Traffic level: ' + str(traffic) +'%'\n",
    "#                 ),\n",
    "#         color='b',\n",
    "#         key_on = traffic_q,\n",
    "#         threshold_scale=[0,1,2,3],\n",
    "#         fill_color=colordict[traffic_q],\n",
    "#         fill=True,\n",
    "#         fill_opacity=0.7\n",
    "#         ).add_to(traffic_map)\n",
    "# traffic_map"
   ]
  },
  {
   "cell_type": "code",
   "execution_count": 49,
   "metadata": {},
   "outputs": [
    {
     "data": {
      "text/html": [
       "<div>\n",
       "<style scoped>\n",
       "    .dataframe tbody tr th:only-of-type {\n",
       "        vertical-align: middle;\n",
       "    }\n",
       "\n",
       "    .dataframe tbody tr th {\n",
       "        vertical-align: top;\n",
       "    }\n",
       "\n",
       "    .dataframe thead th {\n",
       "        text-align: right;\n",
       "    }\n",
       "</style>\n",
       "<table border=\"1\" class=\"dataframe\">\n",
       "  <thead>\n",
       "    <tr style=\"text-align: right;\">\n",
       "      <th></th>\n",
       "      <th>Country/Region</th>\n",
       "      <th>CumConfirmed</th>\n",
       "      <th>CumDeaths</th>\n",
       "      <th>code</th>\n",
       "    </tr>\n",
       "  </thead>\n",
       "  <tbody>\n",
       "    <tr>\n",
       "      <th>0</th>\n",
       "      <td>Afghanistan</td>\n",
       "      <td>349</td>\n",
       "      <td>7</td>\n",
       "      <td>AFG</td>\n",
       "    </tr>\n",
       "    <tr>\n",
       "      <th>1</th>\n",
       "      <td>Albania</td>\n",
       "      <td>361</td>\n",
       "      <td>20</td>\n",
       "      <td>ALB</td>\n",
       "    </tr>\n",
       "    <tr>\n",
       "      <th>2</th>\n",
       "      <td>Algeria</td>\n",
       "      <td>1320</td>\n",
       "      <td>152</td>\n",
       "      <td>DZA</td>\n",
       "    </tr>\n",
       "    <tr>\n",
       "      <th>3</th>\n",
       "      <td>Andorra</td>\n",
       "      <td>501</td>\n",
       "      <td>18</td>\n",
       "      <td>AND</td>\n",
       "    </tr>\n",
       "    <tr>\n",
       "      <th>4</th>\n",
       "      <td>Angola</td>\n",
       "      <td>14</td>\n",
       "      <td>2</td>\n",
       "      <td>AGO</td>\n",
       "    </tr>\n",
       "  </tbody>\n",
       "</table>\n",
       "</div>"
      ],
      "text/plain": [
       "  Country/Region  CumConfirmed  CumDeaths code\n",
       "0    Afghanistan           349          7  AFG\n",
       "1        Albania           361         20  ALB\n",
       "2        Algeria          1320        152  DZA\n",
       "3        Andorra           501         18  AND\n",
       "4         Angola            14          2  AGO"
      ]
     },
     "execution_count": 49,
     "metadata": {},
     "output_type": "execute_result"
    }
   ],
   "source": [
    "grouped_countries.head()"
   ]
  },
  {
   "cell_type": "code",
   "execution_count": 50,
   "metadata": {},
   "outputs": [
    {
     "data": {
      "text/html": [
       "<div>\n",
       "<style scoped>\n",
       "    .dataframe tbody tr th:only-of-type {\n",
       "        vertical-align: middle;\n",
       "    }\n",
       "\n",
       "    .dataframe tbody tr th {\n",
       "        vertical-align: top;\n",
       "    }\n",
       "\n",
       "    .dataframe thead th {\n",
       "        text-align: right;\n",
       "    }\n",
       "</style>\n",
       "<table border=\"1\" class=\"dataframe\">\n",
       "  <thead>\n",
       "    <tr style=\"text-align: right;\">\n",
       "      <th></th>\n",
       "      <th>Country/Region</th>\n",
       "      <th>CumConfirmed</th>\n",
       "      <th>CumDeaths</th>\n",
       "      <th>code</th>\n",
       "    </tr>\n",
       "  </thead>\n",
       "  <tbody>\n",
       "    <tr>\n",
       "      <th>169</th>\n",
       "      <td>Turkey</td>\n",
       "      <td>27069</td>\n",
       "      <td>574</td>\n",
       "      <td>USA</td>\n",
       "    </tr>\n",
       "  </tbody>\n",
       "</table>\n",
       "</div>"
      ],
      "text/plain": [
       "    Country/Region  CumConfirmed  CumDeaths code\n",
       "169         Turkey         27069        574  USA"
      ]
     },
     "execution_count": 50,
     "metadata": {},
     "output_type": "execute_result"
    }
   ],
   "source": [
    "grouped_countries[grouped_countries['code'] == 'USA']"
   ]
  },
  {
   "cell_type": "code",
   "execution_count": 51,
   "metadata": {},
   "outputs": [],
   "source": [
    "import plotly.graph_objects as go\n",
    "import pandas as pd\n",
    "\n",
    "#df = pd.read_csv('https://raw.githubusercontent.com/plotly/datasets/master/2014_world_gdp_with_codes.csv')\n",
    "\n",
    "# def world_map():\n",
    "#     fig = go.Figure(data=go.Choropleth(\n",
    "#         locations = all_data['location'],\n",
    "#         z = all_data['CumConfirmed'],\n",
    "#         text = all_data['Country/Region'],\n",
    "#         colorscale = 'Blues',\n",
    "#         autocolorscale=False,\n",
    "#         reversescale=True,\n",
    "#         marker_line_color='darkgray',\n",
    "#         marker_line_width=0.5,\n",
    "#         colorbar_tickprefix = '$',\n",
    "#         colorbar_title = 'GDP<br>Billions US$',\n",
    "#     ))\n",
    "\n",
    "#     fig.update_layout(\n",
    "#         title_text='2014 Global GDP',\n",
    "#         geo=dict(\n",
    "#             showframe=False,\n",
    "#             showcoastlines=False,\n",
    "#             projection_type='equirectangular'\n",
    "#         ),\n",
    "#         annotations = [dict(\n",
    "#             x=0.55,\n",
    "#             y=0.1,\n",
    "#             xref='paper',\n",
    "#             yref='paper',\n",
    "#             text='Source: <a href=\"https://www.cia.gov/library/publications/the-world-factbook/fields/2195.html\">\\\n",
    "#                 CIA World Factbook</a>',\n",
    "#             showarrow = False\n",
    "#         )]\n",
    "#     )\n",
    "\n",
    "#     return fig"
   ]
  },
  {
   "cell_type": "code",
   "execution_count": 52,
   "metadata": {},
   "outputs": [
    {
     "data": {
      "application/vnd.plotly.v1+json": {
       "config": {
        "plotlyServerURL": "https://plot.ly"
       },
       "data": [
        {
         "autocolorscale": false,
         "colorbar": {
          "tickprefix": "",
          "title": {
           "text": ""
          }
         },
         "colorscale": [
          [
           0,
           "rgb(255,245,240)"
          ],
          [
           0.125,
           "rgb(254,224,210)"
          ],
          [
           0.25,
           "rgb(252,187,161)"
          ],
          [
           0.375,
           "rgb(252,146,114)"
          ],
          [
           0.5,
           "rgb(251,106,74)"
          ],
          [
           0.625,
           "rgb(239,59,44)"
          ],
          [
           0.75,
           "rgb(203,24,29)"
          ],
          [
           0.875,
           "rgb(165,15,21)"
          ],
          [
           1,
           "rgb(103,0,13)"
          ]
         ],
         "hovertemplate": [
          "<b>Afghanistan</b><br>Confirmed Cases: 349<br>Deaths: 7",
          "<b>Albania</b><br>Confirmed Cases: 361<br>Deaths: 20",
          "<b>Algeria</b><br>Confirmed Cases: 1320<br>Deaths: 152",
          "<b>Andorra</b><br>Confirmed Cases: 501<br>Deaths: 18",
          "<b>Angola</b><br>Confirmed Cases: 14<br>Deaths: 2",
          "<b>Antigua and Barbuda</b><br>Confirmed Cases: 15<br>Deaths: 0",
          "<b>Argentina</b><br>Confirmed Cases: 1451<br>Deaths: 44",
          "<b>Armenia</b><br>Confirmed Cases: 822<br>Deaths: 7",
          "<b>Australia</b><br>Confirmed Cases: 2580<br>Deaths: 16",
          "<b>Austria</b><br>Confirmed Cases: 12051<br>Deaths: 204",
          "<b>Azerbaijan</b><br>Confirmed Cases: 584<br>Deaths: 7",
          "<b>Bahamas</b><br>Confirmed Cases: 28<br>Deaths: 4",
          "<b>Bahrain</b><br>Confirmed Cases: 700<br>Deaths: 4",
          "<b>Bangladesh</b><br>Confirmed Cases: 88<br>Deaths: 9",
          "<b>Barbados</b><br>Confirmed Cases: 56<br>Deaths: 1",
          "<b>Belarus</b><br>Confirmed Cases: 562<br>Deaths: 8",
          "<b>Belgium</b><br>Confirmed Cases: 19691<br>Deaths: 1447",
          "<b>Belize</b><br>Confirmed Cases: 5<br>Deaths: 0",
          "<b>Benin</b><br>Confirmed Cases: 22<br>Deaths: 0",
          "<b>Bhutan</b><br>Confirmed Cases: 5<br>Deaths: 0",
          "<b>Bolivia</b><br>Confirmed Cases: 157<br>Deaths: 10",
          "<b>Bosnia and Herzegovina</b><br>Confirmed Cases: 654<br>Deaths: 23",
          "<b>Botswana</b><br>Confirmed Cases: 6<br>Deaths: 1",
          "<b>Brazil</b><br>Confirmed Cases: 11130<br>Deaths: 486",
          "<b>Brunei</b><br>Confirmed Cases: 135<br>Deaths: 1",
          "<b>Bulgaria</b><br>Confirmed Cases: 531<br>Deaths: 20",
          "<b>Burkina Faso</b><br>Confirmed Cases: 345<br>Deaths: 17",
          "<b>Burma</b><br>Confirmed Cases: 21<br>Deaths: 1",
          "<b>Burundi</b><br>Confirmed Cases: 3<br>Deaths: 0",
          "<b>Cabo Verde</b><br>Confirmed Cases: 7<br>Deaths: 1",
          "<b>Cambodia</b><br>Confirmed Cases: 114<br>Deaths: 0",
          "<b>Cameroon</b><br>Confirmed Cases: 650<br>Deaths: 9",
          "<b>Canada</b><br>Confirmed Cases: 7944<br>Deaths: 119",
          "<b>Central African Republic</b><br>Confirmed Cases: 8<br>Deaths: 0",
          "<b>Chad</b><br>Confirmed Cases: 9<br>Deaths: 0",
          "<b>Chile</b><br>Confirmed Cases: 4471<br>Deaths: 34",
          "<b>China</b><br>Confirmed Cases: 67803<br>Deaths: 3210",
          "<b>Colombia</b><br>Confirmed Cases: 1485<br>Deaths: 35",
          "<b>Congo (Brazzaville)</b><br>Confirmed Cases: 45<br>Deaths: 5",
          "<b>Congo (Kinshasa)</b><br>Confirmed Cases: 154<br>Deaths: 18",
          "<b>Costa Rica</b><br>Confirmed Cases: 454<br>Deaths: 2",
          "<b>Cote d'Ivoire</b><br>Confirmed Cases: 261<br>Deaths: 3",
          "<b>Croatia</b><br>Confirmed Cases: 1182<br>Deaths: 15",
          "<b>Cuba</b><br>Confirmed Cases: 320<br>Deaths: 8",
          "<b>Cyprus</b><br>Confirmed Cases: 446<br>Deaths: 11",
          "<b>Czechia</b><br>Confirmed Cases: 4587<br>Deaths: 67",
          "<b>Denmark</b><br>Confirmed Cases: 4369<br>Deaths: 179",
          "<b>Diamond Princess</b><br>Confirmed Cases: 712<br>Deaths: 11",
          "<b>Djibouti</b><br>Confirmed Cases: 59<br>Deaths: 0",
          "<b>Dominica</b><br>Confirmed Cases: 14<br>Deaths: 0",
          "<b>Dominican Republic</b><br>Confirmed Cases: 1745<br>Deaths: 82",
          "<b>Ecuador</b><br>Confirmed Cases: 3646<br>Deaths: 180",
          "<b>Egypt</b><br>Confirmed Cases: 1173<br>Deaths: 78",
          "<b>El Salvador</b><br>Confirmed Cases: 62<br>Deaths: 3",
          "<b>Equatorial Guinea</b><br>Confirmed Cases: 16<br>Deaths: 0",
          "<b>Eritrea</b><br>Confirmed Cases: 29<br>Deaths: 0",
          "<b>Estonia</b><br>Confirmed Cases: 1097<br>Deaths: 15",
          "<b>Eswatini</b><br>Confirmed Cases: 9<br>Deaths: 0",
          "<b>Ethiopia</b><br>Confirmed Cases: 43<br>Deaths: 2",
          "<b>Fiji</b><br>Confirmed Cases: 12<br>Deaths: 0",
          "<b>Finland</b><br>Confirmed Cases: 1927<br>Deaths: 28",
          "<b>France</b><br>Confirmed Cases: 92839<br>Deaths: 8078",
          "<b>Gabon</b><br>Confirmed Cases: 21<br>Deaths: 1",
          "<b>Gambia</b><br>Confirmed Cases: 4<br>Deaths: 1",
          "<b>Georgia</b><br>Confirmed Cases: 174<br>Deaths: 2",
          "<b>Germany</b><br>Confirmed Cases: 100123<br>Deaths: 1584",
          "<b>Ghana</b><br>Confirmed Cases: 214<br>Deaths: 5",
          "<b>Greece</b><br>Confirmed Cases: 1735<br>Deaths: 73",
          "<b>Grenada</b><br>Confirmed Cases: 12<br>Deaths: 0",
          "<b>Guatemala</b><br>Confirmed Cases: 61<br>Deaths: 2",
          "<b>Guinea</b><br>Confirmed Cases: 121<br>Deaths: 0",
          "<b>Guinea-Bissau</b><br>Confirmed Cases: 18<br>Deaths: 0",
          "<b>Guyana</b><br>Confirmed Cases: 24<br>Deaths: 4",
          "<b>Haiti</b><br>Confirmed Cases: 21<br>Deaths: 1",
          "<b>Holy See</b><br>Confirmed Cases: 7<br>Deaths: 0",
          "<b>Honduras</b><br>Confirmed Cases: 268<br>Deaths: 22",
          "<b>Hungary</b><br>Confirmed Cases: 733<br>Deaths: 34",
          "<b>Iceland</b><br>Confirmed Cases: 1486<br>Deaths: 5",
          "<b>India</b><br>Confirmed Cases: 3588<br>Deaths: 99",
          "<b>Indonesia</b><br>Confirmed Cases: 2273<br>Deaths: 198",
          "<b>Iran</b><br>Confirmed Cases: 58226<br>Deaths: 3603",
          "<b>Iraq</b><br>Confirmed Cases: 961<br>Deaths: 61",
          "<b>Ireland</b><br>Confirmed Cases: 4994<br>Deaths: 158",
          "<b>Israel</b><br>Confirmed Cases: 8430<br>Deaths: 49",
          "<b>Italy</b><br>Confirmed Cases: 128948<br>Deaths: 15887",
          "<b>Jamaica</b><br>Confirmed Cases: 58<br>Deaths: 3",
          "<b>Japan</b><br>Confirmed Cases: 3139<br>Deaths: 77",
          "<b>Jordan</b><br>Confirmed Cases: 345<br>Deaths: 5",
          "<b>Kazakhstan</b><br>Confirmed Cases: 584<br>Deaths: 6",
          "<b>Kenya</b><br>Confirmed Cases: 142<br>Deaths: 4",
          "<b>Korea, South</b><br>Confirmed Cases: 10237<br>Deaths: 183",
          "<b>Kosovo</b><br>Confirmed Cases: 145<br>Deaths: 1",
          "<b>Kuwait</b><br>Confirmed Cases: 556<br>Deaths: 1",
          "<b>Kyrgyzstan</b><br>Confirmed Cases: 147<br>Deaths: 1",
          "<b>Laos</b><br>Confirmed Cases: 11<br>Deaths: 0",
          "<b>Latvia</b><br>Confirmed Cases: 533<br>Deaths: 1",
          "<b>Lebanon</b><br>Confirmed Cases: 527<br>Deaths: 18",
          "<b>Liberia</b><br>Confirmed Cases: 13<br>Deaths: 3",
          "<b>Libya</b><br>Confirmed Cases: 18<br>Deaths: 1",
          "<b>Liechtenstein</b><br>Confirmed Cases: 77<br>Deaths: 1",
          "<b>Lithuania</b><br>Confirmed Cases: 811<br>Deaths: 13",
          "<b>Luxembourg</b><br>Confirmed Cases: 2804<br>Deaths: 36",
          "<b>MS Zaandam</b><br>Confirmed Cases: 9<br>Deaths: 2",
          "<b>Madagascar</b><br>Confirmed Cases: 72<br>Deaths: 0",
          "<b>Malawi</b><br>Confirmed Cases: 4<br>Deaths: 0",
          "<b>Malaysia</b><br>Confirmed Cases: 3662<br>Deaths: 61",
          "<b>Maldives</b><br>Confirmed Cases: 19<br>Deaths: 0",
          "<b>Mali</b><br>Confirmed Cases: 45<br>Deaths: 5",
          "<b>Malta</b><br>Confirmed Cases: 227<br>Deaths: 0",
          "<b>Mauritania</b><br>Confirmed Cases: 6<br>Deaths: 1",
          "<b>Mauritius</b><br>Confirmed Cases: 227<br>Deaths: 7",
          "<b>Mexico</b><br>Confirmed Cases: 1890<br>Deaths: 79",
          "<b>Moldova</b><br>Confirmed Cases: 864<br>Deaths: 15",
          "<b>Monaco</b><br>Confirmed Cases: 73<br>Deaths: 1",
          "<b>Mongolia</b><br>Confirmed Cases: 14<br>Deaths: 0",
          "<b>Montenegro</b><br>Confirmed Cases: 214<br>Deaths: 2",
          "<b>Morocco</b><br>Confirmed Cases: 1021<br>Deaths: 70",
          "<b>Mozambique</b><br>Confirmed Cases: 10<br>Deaths: 0",
          "<b>Namibia</b><br>Confirmed Cases: 16<br>Deaths: 0",
          "<b>Nepal</b><br>Confirmed Cases: 9<br>Deaths: 0",
          "<b>Netherlands</b><br>Confirmed Cases: 17851<br>Deaths: 1766",
          "<b>New Zealand</b><br>Confirmed Cases: 1039<br>Deaths: 1",
          "<b>Nicaragua</b><br>Confirmed Cases: 6<br>Deaths: 1",
          "<b>Niger</b><br>Confirmed Cases: 184<br>Deaths: 10",
          "<b>Nigeria</b><br>Confirmed Cases: 232<br>Deaths: 5",
          "<b>North Macedonia</b><br>Confirmed Cases: 555<br>Deaths: 18",
          "<b>Norway</b><br>Confirmed Cases: 5687<br>Deaths: 71",
          "<b>Oman</b><br>Confirmed Cases: 298<br>Deaths: 2",
          "<b>Pakistan</b><br>Confirmed Cases: 3157<br>Deaths: 47",
          "<b>Panama</b><br>Confirmed Cases: 1801<br>Deaths: 46",
          "<b>Papua New Guinea</b><br>Confirmed Cases: 1<br>Deaths: 0",
          "<b>Paraguay</b><br>Confirmed Cases: 104<br>Deaths: 3",
          "<b>Peru</b><br>Confirmed Cases: 2281<br>Deaths: 83",
          "<b>Philippines</b><br>Confirmed Cases: 3246<br>Deaths: 152",
          "<b>Poland</b><br>Confirmed Cases: 4102<br>Deaths: 94",
          "<b>Portugal</b><br>Confirmed Cases: 11278<br>Deaths: 295",
          "<b>Qatar</b><br>Confirmed Cases: 1604<br>Deaths: 4",
          "<b>Romania</b><br>Confirmed Cases: 3864<br>Deaths: 151",
          "<b>Russia</b><br>Confirmed Cases: 5389<br>Deaths: 45",
          "<b>Rwanda</b><br>Confirmed Cases: 104<br>Deaths: 0",
          "<b>Saint Kitts and Nevis</b><br>Confirmed Cases: 10<br>Deaths: 0",
          "<b>Saint Lucia</b><br>Confirmed Cases: 14<br>Deaths: 0",
          "<b>Saint Vincent and the Grenadines</b><br>Confirmed Cases: 7<br>Deaths: 0",
          "<b>San Marino</b><br>Confirmed Cases: 266<br>Deaths: 32",
          "<b>Saudi Arabia</b><br>Confirmed Cases: 2402<br>Deaths: 34",
          "<b>Senegal</b><br>Confirmed Cases: 222<br>Deaths: 2",
          "<b>Serbia</b><br>Confirmed Cases: 1908<br>Deaths: 51",
          "<b>Seychelles</b><br>Confirmed Cases: 10<br>Deaths: 0",
          "<b>Sierra Leone</b><br>Confirmed Cases: 6<br>Deaths: 0",
          "<b>Singapore</b><br>Confirmed Cases: 1309<br>Deaths: 6",
          "<b>Slovakia</b><br>Confirmed Cases: 485<br>Deaths: 1",
          "<b>Slovenia</b><br>Confirmed Cases: 997<br>Deaths: 28",
          "<b>Somalia</b><br>Confirmed Cases: 7<br>Deaths: 0",
          "<b>South Africa</b><br>Confirmed Cases: 1655<br>Deaths: 11",
          "<b>South Sudan</b><br>Confirmed Cases: 1<br>Deaths: 0",
          "<b>Spain</b><br>Confirmed Cases: 131646<br>Deaths: 12641",
          "<b>Sri Lanka</b><br>Confirmed Cases: 176<br>Deaths: 5",
          "<b>Sudan</b><br>Confirmed Cases: 12<br>Deaths: 2",
          "<b>Suriname</b><br>Confirmed Cases: 10<br>Deaths: 1",
          "<b>Sweden</b><br>Confirmed Cases: 6830<br>Deaths: 401",
          "<b>Switzerland</b><br>Confirmed Cases: 21100<br>Deaths: 715",
          "<b>Syria</b><br>Confirmed Cases: 19<br>Deaths: 2",
          "<b>Taiwan*</b><br>Confirmed Cases: 363<br>Deaths: 5",
          "<b>Tanzania</b><br>Confirmed Cases: 22<br>Deaths: 1",
          "<b>Thailand</b><br>Confirmed Cases: 2169<br>Deaths: 23",
          "<b>Timor-Leste</b><br>Confirmed Cases: 1<br>Deaths: 0",
          "<b>Togo</b><br>Confirmed Cases: 44<br>Deaths: 3",
          "<b>Trinidad and Tobago</b><br>Confirmed Cases: 104<br>Deaths: 7",
          "<b>Tunisia</b><br>Confirmed Cases: 574<br>Deaths: 22",
          "<b>Turkey</b><br>Confirmed Cases: 27069<br>Deaths: 574",
          "<b>US</b><br>Confirmed Cases: 337072<br>Deaths: 9619",
          "<b>Uganda</b><br>Confirmed Cases: 52<br>Deaths: 0",
          "<b>Ukraine</b><br>Confirmed Cases: 1308<br>Deaths: 37",
          "<b>United Arab Emirates</b><br>Confirmed Cases: 1799<br>Deaths: 10",
          "<b>United Kingdom</b><br>Confirmed Cases: 47806<br>Deaths: 4934",
          "<b>Uruguay</b><br>Confirmed Cases: 400<br>Deaths: 5",
          "<b>Uzbekistan</b><br>Confirmed Cases: 342<br>Deaths: 2",
          "<b>Venezuela</b><br>Confirmed Cases: 159<br>Deaths: 7",
          "<b>Vietnam</b><br>Confirmed Cases: 241<br>Deaths: 0",
          "<b>West Bank and Gaza</b><br>Confirmed Cases: 237<br>Deaths: 1",
          "<b>Western Sahara</b><br>Confirmed Cases: 4<br>Deaths: 0",
          "<b>Zambia</b><br>Confirmed Cases: 39<br>Deaths: 1",
          "<b>Zimbabwe</b><br>Confirmed Cases: 9<br>Deaths: 1"
         ],
         "locations": [
          "AFG",
          "ALB",
          "DZA",
          "AND",
          "AGO",
          "ATG",
          "ARG",
          "ARM",
          "AUS",
          "AUT",
          "AZE",
          "BHS",
          "BHR",
          "BGD",
          "BRB",
          "BLR",
          "BEL",
          "BLZ",
          "BEN",
          "BTN",
          "BOL",
          "BIH",
          "BWA",
          "BRA",
          "BWN",
          "BGR",
          "BFA",
          "MMR",
          "BDI",
          "CPV",
          "KHM",
          "CMR",
          "CAN",
          "CAF",
          "TCD",
          "CHL",
          "CHN",
          "COL",
          "COG",
          "COD",
          "CRI",
          "CIV",
          "HRV",
          "CUB",
          "CYP",
          "CZE",
          "DNK",
          "Unknown code",
          "DJI",
          "DMA",
          "DOM",
          "ECU",
          "EGY",
          "SLV",
          "GNQ",
          "ERI",
          "EST",
          "SWZ",
          "ETH",
          "FJI",
          "FIN",
          "FRA",
          "GAB",
          "GMB",
          "GEO",
          "DEU",
          "GHA",
          "GRC",
          "GRD",
          "GTM",
          "GIN",
          "GNB",
          "GUY",
          "HTI",
          "VAT",
          "HND",
          "HUN",
          "ISL",
          "IND",
          "IDN",
          "IRN",
          "IRQ",
          "IRL",
          "ISR",
          "ITA",
          "JAM",
          "JPN",
          "JOR",
          "KAZ",
          "KEN",
          "KOR",
          "RKS",
          "KWT",
          "KGZ",
          "LAO",
          "LVA",
          "LBN",
          "LBR",
          "LBY",
          "LIE",
          "LTU",
          "LUX",
          "Unknown code",
          "MDG",
          "MWI",
          "MYS",
          "MDV",
          "MLI",
          "MLT",
          "MRT",
          "MUS",
          "MEX",
          "MDA",
          "MCO",
          "MNG",
          "MNE",
          "MAR",
          "MOZ",
          "NAM",
          "NPL",
          "NLD",
          "NZL",
          "NIC",
          "NER",
          "NGA",
          "MKD",
          "NOR",
          "OMN",
          "PAK",
          "PAN",
          "PNG",
          "PRY",
          "PER",
          "PHL",
          "POL",
          "PRT",
          "QAT",
          "ROU",
          "RUS",
          "RWA",
          "KNA",
          "LCA",
          "VCT",
          "SMR",
          "SAU",
          "SEN",
          "SRB",
          "SYC",
          "SLE",
          "SGP",
          "SVK",
          "SVN",
          "SOM",
          "ZAF",
          "SSD",
          "ESP",
          "LKA",
          "SDN",
          "SUR",
          "SWE",
          "SYR",
          "TWN",
          "TZA",
          "Unknown code",
          "THA",
          "TLS",
          "TGO",
          "TTO",
          "TUN",
          "USA",
          "Unknown code",
          "UGA",
          "UKR",
          "ARE",
          "GBR",
          "URY",
          "VEN",
          "VNM",
          "PSE",
          "Unknown code",
          "ESH",
          "ZMB",
          "ZWE"
         ],
         "marker": {
          "line": {
           "color": "darkgray",
           "width": 0.5
          }
         },
         "reversescale": false,
         "type": "choropleth",
         "z": [
          349,
          361,
          1320,
          501,
          14,
          15,
          1451,
          822,
          2580,
          12051,
          584,
          28,
          700,
          88,
          56,
          562,
          19691,
          5,
          22,
          5,
          157,
          654,
          6,
          11130,
          135,
          531,
          345,
          21,
          3,
          7,
          114,
          650,
          7944,
          8,
          9,
          4471,
          67803,
          1485,
          45,
          154,
          454,
          261,
          1182,
          320,
          446,
          4587,
          4369,
          712,
          59,
          14,
          1745,
          3646,
          1173,
          62,
          16,
          29,
          1097,
          9,
          43,
          12,
          1927,
          92839,
          21,
          4,
          174,
          100123,
          214,
          1735,
          12,
          61,
          121,
          18,
          24,
          21,
          7,
          268,
          733,
          1486,
          3588,
          2273,
          58226,
          961,
          4994,
          8430,
          128948,
          58,
          3139,
          345,
          584,
          142,
          10237,
          145,
          556,
          147,
          11,
          533,
          527,
          13,
          18,
          77,
          811,
          2804,
          9,
          72,
          4,
          3662,
          19,
          45,
          227,
          6,
          227,
          1890,
          864,
          73,
          14,
          214,
          1021,
          10,
          16,
          9,
          17851,
          1039,
          6,
          184,
          232,
          555,
          5687,
          298,
          3157,
          1801,
          1,
          104,
          2281,
          3246,
          4102,
          11278,
          1604,
          3864,
          5389,
          104,
          10,
          14,
          7,
          266,
          2402,
          222,
          1908,
          10,
          6,
          1309,
          485,
          997,
          7,
          1655,
          1,
          131646,
          176,
          12,
          10,
          6830,
          21100,
          19,
          363,
          22,
          2169,
          1,
          44,
          104,
          574,
          27069,
          337072,
          52,
          1308,
          1799,
          47806,
          400,
          342,
          159,
          241,
          237,
          4,
          39,
          9
         ]
        }
       ],
       "layout": {
        "autosize": true,
        "geo": {
         "projection": {
          "type": "equirectangular"
         },
         "showcoastlines": false,
         "showframe": false
        },
        "margin": {
         "b": 0,
         "l": 0,
         "r": 0,
         "t": 0
        },
        "template": {
         "data": {
          "bar": [
           {
            "error_x": {
             "color": "#2a3f5f"
            },
            "error_y": {
             "color": "#2a3f5f"
            },
            "marker": {
             "line": {
              "color": "#E5ECF6",
              "width": 0.5
             }
            },
            "type": "bar"
           }
          ],
          "barpolar": [
           {
            "marker": {
             "line": {
              "color": "#E5ECF6",
              "width": 0.5
             }
            },
            "type": "barpolar"
           }
          ],
          "carpet": [
           {
            "aaxis": {
             "endlinecolor": "#2a3f5f",
             "gridcolor": "white",
             "linecolor": "white",
             "minorgridcolor": "white",
             "startlinecolor": "#2a3f5f"
            },
            "baxis": {
             "endlinecolor": "#2a3f5f",
             "gridcolor": "white",
             "linecolor": "white",
             "minorgridcolor": "white",
             "startlinecolor": "#2a3f5f"
            },
            "type": "carpet"
           }
          ],
          "choropleth": [
           {
            "colorbar": {
             "outlinewidth": 0,
             "ticks": ""
            },
            "type": "choropleth"
           }
          ],
          "contour": [
           {
            "colorbar": {
             "outlinewidth": 0,
             "ticks": ""
            },
            "colorscale": [
             [
              0,
              "#0d0887"
             ],
             [
              0.1111111111111111,
              "#46039f"
             ],
             [
              0.2222222222222222,
              "#7201a8"
             ],
             [
              0.3333333333333333,
              "#9c179e"
             ],
             [
              0.4444444444444444,
              "#bd3786"
             ],
             [
              0.5555555555555556,
              "#d8576b"
             ],
             [
              0.6666666666666666,
              "#ed7953"
             ],
             [
              0.7777777777777778,
              "#fb9f3a"
             ],
             [
              0.8888888888888888,
              "#fdca26"
             ],
             [
              1,
              "#f0f921"
             ]
            ],
            "type": "contour"
           }
          ],
          "contourcarpet": [
           {
            "colorbar": {
             "outlinewidth": 0,
             "ticks": ""
            },
            "type": "contourcarpet"
           }
          ],
          "heatmap": [
           {
            "colorbar": {
             "outlinewidth": 0,
             "ticks": ""
            },
            "colorscale": [
             [
              0,
              "#0d0887"
             ],
             [
              0.1111111111111111,
              "#46039f"
             ],
             [
              0.2222222222222222,
              "#7201a8"
             ],
             [
              0.3333333333333333,
              "#9c179e"
             ],
             [
              0.4444444444444444,
              "#bd3786"
             ],
             [
              0.5555555555555556,
              "#d8576b"
             ],
             [
              0.6666666666666666,
              "#ed7953"
             ],
             [
              0.7777777777777778,
              "#fb9f3a"
             ],
             [
              0.8888888888888888,
              "#fdca26"
             ],
             [
              1,
              "#f0f921"
             ]
            ],
            "type": "heatmap"
           }
          ],
          "heatmapgl": [
           {
            "colorbar": {
             "outlinewidth": 0,
             "ticks": ""
            },
            "colorscale": [
             [
              0,
              "#0d0887"
             ],
             [
              0.1111111111111111,
              "#46039f"
             ],
             [
              0.2222222222222222,
              "#7201a8"
             ],
             [
              0.3333333333333333,
              "#9c179e"
             ],
             [
              0.4444444444444444,
              "#bd3786"
             ],
             [
              0.5555555555555556,
              "#d8576b"
             ],
             [
              0.6666666666666666,
              "#ed7953"
             ],
             [
              0.7777777777777778,
              "#fb9f3a"
             ],
             [
              0.8888888888888888,
              "#fdca26"
             ],
             [
              1,
              "#f0f921"
             ]
            ],
            "type": "heatmapgl"
           }
          ],
          "histogram": [
           {
            "marker": {
             "colorbar": {
              "outlinewidth": 0,
              "ticks": ""
             }
            },
            "type": "histogram"
           }
          ],
          "histogram2d": [
           {
            "colorbar": {
             "outlinewidth": 0,
             "ticks": ""
            },
            "colorscale": [
             [
              0,
              "#0d0887"
             ],
             [
              0.1111111111111111,
              "#46039f"
             ],
             [
              0.2222222222222222,
              "#7201a8"
             ],
             [
              0.3333333333333333,
              "#9c179e"
             ],
             [
              0.4444444444444444,
              "#bd3786"
             ],
             [
              0.5555555555555556,
              "#d8576b"
             ],
             [
              0.6666666666666666,
              "#ed7953"
             ],
             [
              0.7777777777777778,
              "#fb9f3a"
             ],
             [
              0.8888888888888888,
              "#fdca26"
             ],
             [
              1,
              "#f0f921"
             ]
            ],
            "type": "histogram2d"
           }
          ],
          "histogram2dcontour": [
           {
            "colorbar": {
             "outlinewidth": 0,
             "ticks": ""
            },
            "colorscale": [
             [
              0,
              "#0d0887"
             ],
             [
              0.1111111111111111,
              "#46039f"
             ],
             [
              0.2222222222222222,
              "#7201a8"
             ],
             [
              0.3333333333333333,
              "#9c179e"
             ],
             [
              0.4444444444444444,
              "#bd3786"
             ],
             [
              0.5555555555555556,
              "#d8576b"
             ],
             [
              0.6666666666666666,
              "#ed7953"
             ],
             [
              0.7777777777777778,
              "#fb9f3a"
             ],
             [
              0.8888888888888888,
              "#fdca26"
             ],
             [
              1,
              "#f0f921"
             ]
            ],
            "type": "histogram2dcontour"
           }
          ],
          "mesh3d": [
           {
            "colorbar": {
             "outlinewidth": 0,
             "ticks": ""
            },
            "type": "mesh3d"
           }
          ],
          "parcoords": [
           {
            "line": {
             "colorbar": {
              "outlinewidth": 0,
              "ticks": ""
             }
            },
            "type": "parcoords"
           }
          ],
          "pie": [
           {
            "automargin": true,
            "type": "pie"
           }
          ],
          "scatter": [
           {
            "marker": {
             "colorbar": {
              "outlinewidth": 0,
              "ticks": ""
             }
            },
            "type": "scatter"
           }
          ],
          "scatter3d": [
           {
            "line": {
             "colorbar": {
              "outlinewidth": 0,
              "ticks": ""
             }
            },
            "marker": {
             "colorbar": {
              "outlinewidth": 0,
              "ticks": ""
             }
            },
            "type": "scatter3d"
           }
          ],
          "scattercarpet": [
           {
            "marker": {
             "colorbar": {
              "outlinewidth": 0,
              "ticks": ""
             }
            },
            "type": "scattercarpet"
           }
          ],
          "scattergeo": [
           {
            "marker": {
             "colorbar": {
              "outlinewidth": 0,
              "ticks": ""
             }
            },
            "type": "scattergeo"
           }
          ],
          "scattergl": [
           {
            "marker": {
             "colorbar": {
              "outlinewidth": 0,
              "ticks": ""
             }
            },
            "type": "scattergl"
           }
          ],
          "scattermapbox": [
           {
            "marker": {
             "colorbar": {
              "outlinewidth": 0,
              "ticks": ""
             }
            },
            "type": "scattermapbox"
           }
          ],
          "scatterpolar": [
           {
            "marker": {
             "colorbar": {
              "outlinewidth": 0,
              "ticks": ""
             }
            },
            "type": "scatterpolar"
           }
          ],
          "scatterpolargl": [
           {
            "marker": {
             "colorbar": {
              "outlinewidth": 0,
              "ticks": ""
             }
            },
            "type": "scatterpolargl"
           }
          ],
          "scatterternary": [
           {
            "marker": {
             "colorbar": {
              "outlinewidth": 0,
              "ticks": ""
             }
            },
            "type": "scatterternary"
           }
          ],
          "surface": [
           {
            "colorbar": {
             "outlinewidth": 0,
             "ticks": ""
            },
            "colorscale": [
             [
              0,
              "#0d0887"
             ],
             [
              0.1111111111111111,
              "#46039f"
             ],
             [
              0.2222222222222222,
              "#7201a8"
             ],
             [
              0.3333333333333333,
              "#9c179e"
             ],
             [
              0.4444444444444444,
              "#bd3786"
             ],
             [
              0.5555555555555556,
              "#d8576b"
             ],
             [
              0.6666666666666666,
              "#ed7953"
             ],
             [
              0.7777777777777778,
              "#fb9f3a"
             ],
             [
              0.8888888888888888,
              "#fdca26"
             ],
             [
              1,
              "#f0f921"
             ]
            ],
            "type": "surface"
           }
          ],
          "table": [
           {
            "cells": {
             "fill": {
              "color": "#EBF0F8"
             },
             "line": {
              "color": "white"
             }
            },
            "header": {
             "fill": {
              "color": "#C8D4E3"
             },
             "line": {
              "color": "white"
             }
            },
            "type": "table"
           }
          ]
         },
         "layout": {
          "annotationdefaults": {
           "arrowcolor": "#2a3f5f",
           "arrowhead": 0,
           "arrowwidth": 1
          },
          "coloraxis": {
           "colorbar": {
            "outlinewidth": 0,
            "ticks": ""
           }
          },
          "colorscale": {
           "diverging": [
            [
             0,
             "#8e0152"
            ],
            [
             0.1,
             "#c51b7d"
            ],
            [
             0.2,
             "#de77ae"
            ],
            [
             0.3,
             "#f1b6da"
            ],
            [
             0.4,
             "#fde0ef"
            ],
            [
             0.5,
             "#f7f7f7"
            ],
            [
             0.6,
             "#e6f5d0"
            ],
            [
             0.7,
             "#b8e186"
            ],
            [
             0.8,
             "#7fbc41"
            ],
            [
             0.9,
             "#4d9221"
            ],
            [
             1,
             "#276419"
            ]
           ],
           "sequential": [
            [
             0,
             "#0d0887"
            ],
            [
             0.1111111111111111,
             "#46039f"
            ],
            [
             0.2222222222222222,
             "#7201a8"
            ],
            [
             0.3333333333333333,
             "#9c179e"
            ],
            [
             0.4444444444444444,
             "#bd3786"
            ],
            [
             0.5555555555555556,
             "#d8576b"
            ],
            [
             0.6666666666666666,
             "#ed7953"
            ],
            [
             0.7777777777777778,
             "#fb9f3a"
            ],
            [
             0.8888888888888888,
             "#fdca26"
            ],
            [
             1,
             "#f0f921"
            ]
           ],
           "sequentialminus": [
            [
             0,
             "#0d0887"
            ],
            [
             0.1111111111111111,
             "#46039f"
            ],
            [
             0.2222222222222222,
             "#7201a8"
            ],
            [
             0.3333333333333333,
             "#9c179e"
            ],
            [
             0.4444444444444444,
             "#bd3786"
            ],
            [
             0.5555555555555556,
             "#d8576b"
            ],
            [
             0.6666666666666666,
             "#ed7953"
            ],
            [
             0.7777777777777778,
             "#fb9f3a"
            ],
            [
             0.8888888888888888,
             "#fdca26"
            ],
            [
             1,
             "#f0f921"
            ]
           ]
          },
          "colorway": [
           "#636efa",
           "#EF553B",
           "#00cc96",
           "#ab63fa",
           "#FFA15A",
           "#19d3f3",
           "#FF6692",
           "#B6E880",
           "#FF97FF",
           "#FECB52"
          ],
          "font": {
           "color": "#2a3f5f"
          },
          "geo": {
           "bgcolor": "white",
           "lakecolor": "white",
           "landcolor": "#E5ECF6",
           "showlakes": true,
           "showland": true,
           "subunitcolor": "white"
          },
          "hoverlabel": {
           "align": "left"
          },
          "hovermode": "closest",
          "mapbox": {
           "style": "light"
          },
          "paper_bgcolor": "white",
          "plot_bgcolor": "#E5ECF6",
          "polar": {
           "angularaxis": {
            "gridcolor": "white",
            "linecolor": "white",
            "ticks": ""
           },
           "bgcolor": "#E5ECF6",
           "radialaxis": {
            "gridcolor": "white",
            "linecolor": "white",
            "ticks": ""
           }
          },
          "scene": {
           "xaxis": {
            "backgroundcolor": "#E5ECF6",
            "gridcolor": "white",
            "gridwidth": 2,
            "linecolor": "white",
            "showbackground": true,
            "ticks": "",
            "zerolinecolor": "white"
           },
           "yaxis": {
            "backgroundcolor": "#E5ECF6",
            "gridcolor": "white",
            "gridwidth": 2,
            "linecolor": "white",
            "showbackground": true,
            "ticks": "",
            "zerolinecolor": "white"
           },
           "zaxis": {
            "backgroundcolor": "#E5ECF6",
            "gridcolor": "white",
            "gridwidth": 2,
            "linecolor": "white",
            "showbackground": true,
            "ticks": "",
            "zerolinecolor": "white"
           }
          },
          "shapedefaults": {
           "line": {
            "color": "#2a3f5f"
           }
          },
          "ternary": {
           "aaxis": {
            "gridcolor": "white",
            "linecolor": "white",
            "ticks": ""
           },
           "baxis": {
            "gridcolor": "white",
            "linecolor": "white",
            "ticks": ""
           },
           "bgcolor": "#E5ECF6",
           "caxis": {
            "gridcolor": "white",
            "linecolor": "white",
            "ticks": ""
           }
          },
          "title": {
           "x": 0.05
          },
          "xaxis": {
           "automargin": true,
           "gridcolor": "white",
           "linecolor": "white",
           "ticks": "",
           "title": {
            "standoff": 15
           },
           "zerolinecolor": "white",
           "zerolinewidth": 2
          },
          "yaxis": {
           "automargin": true,
           "gridcolor": "white",
           "linecolor": "white",
           "ticks": "",
           "title": {
            "standoff": 15
           },
           "zerolinecolor": "white",
           "zerolinewidth": 2
          }
         }
        },
        "title": {
         "text": ""
        }
       }
      },
      "image/png": "[encoded data removed]",
      "text/html": [
       "<div>\n",
       "        \n",
       "        \n",
       "            <div id=\"ecf6737b-4242-4ea9-900e-1eff97b37c9f\" class=\"plotly-graph-div\" style=\"height:525px; width:100%;\"></div>\n",
       "            <script type=\"text/javascript\">\n",
       "                require([\"plotly\"], function(Plotly) {\n",
       "                    window.PLOTLYENV=window.PLOTLYENV || {};\n",
       "                    \n",
       "                if (document.getElementById(\"ecf6737b-4242-4ea9-900e-1eff97b37c9f\")) {\n",
       "                    Plotly.newPlot(\n",
       "                        'ecf6737b-4242-4ea9-900e-1eff97b37c9f',\n",
       "                        [{\"autocolorscale\": false, \"colorbar\": {\"tickprefix\": \"\", \"title\": {\"text\": \"\"}}, \"colorscale\": [[0.0, \"rgb(255,245,240)\"], [0.125, \"rgb(254,224,210)\"], [0.25, \"rgb(252,187,161)\"], [0.375, \"rgb(252,146,114)\"], [0.5, \"rgb(251,106,74)\"], [0.625, \"rgb(239,59,44)\"], [0.75, \"rgb(203,24,29)\"], [0.875, \"rgb(165,15,21)\"], [1.0, \"rgb(103,0,13)\"]], \"hovertemplate\": [\"<b>Afghanistan</b><br>Confirmed Cases: 349<br>Deaths: 7\", \"<b>Albania</b><br>Confirmed Cases: 361<br>Deaths: 20\", \"<b>Algeria</b><br>Confirmed Cases: 1320<br>Deaths: 152\", \"<b>Andorra</b><br>Confirmed Cases: 501<br>Deaths: 18\", \"<b>Angola</b><br>Confirmed Cases: 14<br>Deaths: 2\", \"<b>Antigua and Barbuda</b><br>Confirmed Cases: 15<br>Deaths: 0\", \"<b>Argentina</b><br>Confirmed Cases: 1451<br>Deaths: 44\", \"<b>Armenia</b><br>Confirmed Cases: 822<br>Deaths: 7\", \"<b>Australia</b><br>Confirmed Cases: 2580<br>Deaths: 16\", \"<b>Austria</b><br>Confirmed Cases: 12051<br>Deaths: 204\", \"<b>Azerbaijan</b><br>Confirmed Cases: 584<br>Deaths: 7\", \"<b>Bahamas</b><br>Confirmed Cases: 28<br>Deaths: 4\", \"<b>Bahrain</b><br>Confirmed Cases: 700<br>Deaths: 4\", \"<b>Bangladesh</b><br>Confirmed Cases: 88<br>Deaths: 9\", \"<b>Barbados</b><br>Confirmed Cases: 56<br>Deaths: 1\", \"<b>Belarus</b><br>Confirmed Cases: 562<br>Deaths: 8\", \"<b>Belgium</b><br>Confirmed Cases: 19691<br>Deaths: 1447\", \"<b>Belize</b><br>Confirmed Cases: 5<br>Deaths: 0\", \"<b>Benin</b><br>Confirmed Cases: 22<br>Deaths: 0\", \"<b>Bhutan</b><br>Confirmed Cases: 5<br>Deaths: 0\", \"<b>Bolivia</b><br>Confirmed Cases: 157<br>Deaths: 10\", \"<b>Bosnia and Herzegovina</b><br>Confirmed Cases: 654<br>Deaths: 23\", \"<b>Botswana</b><br>Confirmed Cases: 6<br>Deaths: 1\", \"<b>Brazil</b><br>Confirmed Cases: 11130<br>Deaths: 486\", \"<b>Brunei</b><br>Confirmed Cases: 135<br>Deaths: 1\", \"<b>Bulgaria</b><br>Confirmed Cases: 531<br>Deaths: 20\", \"<b>Burkina Faso</b><br>Confirmed Cases: 345<br>Deaths: 17\", \"<b>Burma</b><br>Confirmed Cases: 21<br>Deaths: 1\", \"<b>Burundi</b><br>Confirmed Cases: 3<br>Deaths: 0\", \"<b>Cabo Verde</b><br>Confirmed Cases: 7<br>Deaths: 1\", \"<b>Cambodia</b><br>Confirmed Cases: 114<br>Deaths: 0\", \"<b>Cameroon</b><br>Confirmed Cases: 650<br>Deaths: 9\", \"<b>Canada</b><br>Confirmed Cases: 7944<br>Deaths: 119\", \"<b>Central African Republic</b><br>Confirmed Cases: 8<br>Deaths: 0\", \"<b>Chad</b><br>Confirmed Cases: 9<br>Deaths: 0\", \"<b>Chile</b><br>Confirmed Cases: 4471<br>Deaths: 34\", \"<b>China</b><br>Confirmed Cases: 67803<br>Deaths: 3210\", \"<b>Colombia</b><br>Confirmed Cases: 1485<br>Deaths: 35\", \"<b>Congo (Brazzaville)</b><br>Confirmed Cases: 45<br>Deaths: 5\", \"<b>Congo (Kinshasa)</b><br>Confirmed Cases: 154<br>Deaths: 18\", \"<b>Costa Rica</b><br>Confirmed Cases: 454<br>Deaths: 2\", \"<b>Cote d'Ivoire</b><br>Confirmed Cases: 261<br>Deaths: 3\", \"<b>Croatia</b><br>Confirmed Cases: 1182<br>Deaths: 15\", \"<b>Cuba</b><br>Confirmed Cases: 320<br>Deaths: 8\", \"<b>Cyprus</b><br>Confirmed Cases: 446<br>Deaths: 11\", \"<b>Czechia</b><br>Confirmed Cases: 4587<br>Deaths: 67\", \"<b>Denmark</b><br>Confirmed Cases: 4369<br>Deaths: 179\", \"<b>Diamond Princess</b><br>Confirmed Cases: 712<br>Deaths: 11\", \"<b>Djibouti</b><br>Confirmed Cases: 59<br>Deaths: 0\", \"<b>Dominica</b><br>Confirmed Cases: 14<br>Deaths: 0\", \"<b>Dominican Republic</b><br>Confirmed Cases: 1745<br>Deaths: 82\", \"<b>Ecuador</b><br>Confirmed Cases: 3646<br>Deaths: 180\", \"<b>Egypt</b><br>Confirmed Cases: 1173<br>Deaths: 78\", \"<b>El Salvador</b><br>Confirmed Cases: 62<br>Deaths: 3\", \"<b>Equatorial Guinea</b><br>Confirmed Cases: 16<br>Deaths: 0\", \"<b>Eritrea</b><br>Confirmed Cases: 29<br>Deaths: 0\", \"<b>Estonia</b><br>Confirmed Cases: 1097<br>Deaths: 15\", \"<b>Eswatini</b><br>Confirmed Cases: 9<br>Deaths: 0\", \"<b>Ethiopia</b><br>Confirmed Cases: 43<br>Deaths: 2\", \"<b>Fiji</b><br>Confirmed Cases: 12<br>Deaths: 0\", \"<b>Finland</b><br>Confirmed Cases: 1927<br>Deaths: 28\", \"<b>France</b><br>Confirmed Cases: 92839<br>Deaths: 8078\", \"<b>Gabon</b><br>Confirmed Cases: 21<br>Deaths: 1\", \"<b>Gambia</b><br>Confirmed Cases: 4<br>Deaths: 1\", \"<b>Georgia</b><br>Confirmed Cases: 174<br>Deaths: 2\", \"<b>Germany</b><br>Confirmed Cases: 100123<br>Deaths: 1584\", \"<b>Ghana</b><br>Confirmed Cases: 214<br>Deaths: 5\", \"<b>Greece</b><br>Confirmed Cases: 1735<br>Deaths: 73\", \"<b>Grenada</b><br>Confirmed Cases: 12<br>Deaths: 0\", \"<b>Guatemala</b><br>Confirmed Cases: 61<br>Deaths: 2\", \"<b>Guinea</b><br>Confirmed Cases: 121<br>Deaths: 0\", \"<b>Guinea-Bissau</b><br>Confirmed Cases: 18<br>Deaths: 0\", \"<b>Guyana</b><br>Confirmed Cases: 24<br>Deaths: 4\", \"<b>Haiti</b><br>Confirmed Cases: 21<br>Deaths: 1\", \"<b>Holy See</b><br>Confirmed Cases: 7<br>Deaths: 0\", \"<b>Honduras</b><br>Confirmed Cases: 268<br>Deaths: 22\", \"<b>Hungary</b><br>Confirmed Cases: 733<br>Deaths: 34\", \"<b>Iceland</b><br>Confirmed Cases: 1486<br>Deaths: 5\", \"<b>India</b><br>Confirmed Cases: 3588<br>Deaths: 99\", \"<b>Indonesia</b><br>Confirmed Cases: 2273<br>Deaths: 198\", \"<b>Iran</b><br>Confirmed Cases: 58226<br>Deaths: 3603\", \"<b>Iraq</b><br>Confirmed Cases: 961<br>Deaths: 61\", \"<b>Ireland</b><br>Confirmed Cases: 4994<br>Deaths: 158\", \"<b>Israel</b><br>Confirmed Cases: 8430<br>Deaths: 49\", \"<b>Italy</b><br>Confirmed Cases: 128948<br>Deaths: 15887\", \"<b>Jamaica</b><br>Confirmed Cases: 58<br>Deaths: 3\", \"<b>Japan</b><br>Confirmed Cases: 3139<br>Deaths: 77\", \"<b>Jordan</b><br>Confirmed Cases: 345<br>Deaths: 5\", \"<b>Kazakhstan</b><br>Confirmed Cases: 584<br>Deaths: 6\", \"<b>Kenya</b><br>Confirmed Cases: 142<br>Deaths: 4\", \"<b>Korea, South</b><br>Confirmed Cases: 10237<br>Deaths: 183\", \"<b>Kosovo</b><br>Confirmed Cases: 145<br>Deaths: 1\", \"<b>Kuwait</b><br>Confirmed Cases: 556<br>Deaths: 1\", \"<b>Kyrgyzstan</b><br>Confirmed Cases: 147<br>Deaths: 1\", \"<b>Laos</b><br>Confirmed Cases: 11<br>Deaths: 0\", \"<b>Latvia</b><br>Confirmed Cases: 533<br>Deaths: 1\", \"<b>Lebanon</b><br>Confirmed Cases: 527<br>Deaths: 18\", \"<b>Liberia</b><br>Confirmed Cases: 13<br>Deaths: 3\", \"<b>Libya</b><br>Confirmed Cases: 18<br>Deaths: 1\", \"<b>Liechtenstein</b><br>Confirmed Cases: 77<br>Deaths: 1\", \"<b>Lithuania</b><br>Confirmed Cases: 811<br>Deaths: 13\", \"<b>Luxembourg</b><br>Confirmed Cases: 2804<br>Deaths: 36\", \"<b>MS Zaandam</b><br>Confirmed Cases: 9<br>Deaths: 2\", \"<b>Madagascar</b><br>Confirmed Cases: 72<br>Deaths: 0\", \"<b>Malawi</b><br>Confirmed Cases: 4<br>Deaths: 0\", \"<b>Malaysia</b><br>Confirmed Cases: 3662<br>Deaths: 61\", \"<b>Maldives</b><br>Confirmed Cases: 19<br>Deaths: 0\", \"<b>Mali</b><br>Confirmed Cases: 45<br>Deaths: 5\", \"<b>Malta</b><br>Confirmed Cases: 227<br>Deaths: 0\", \"<b>Mauritania</b><br>Confirmed Cases: 6<br>Deaths: 1\", \"<b>Mauritius</b><br>Confirmed Cases: 227<br>Deaths: 7\", \"<b>Mexico</b><br>Confirmed Cases: 1890<br>Deaths: 79\", \"<b>Moldova</b><br>Confirmed Cases: 864<br>Deaths: 15\", \"<b>Monaco</b><br>Confirmed Cases: 73<br>Deaths: 1\", \"<b>Mongolia</b><br>Confirmed Cases: 14<br>Deaths: 0\", \"<b>Montenegro</b><br>Confirmed Cases: 214<br>Deaths: 2\", \"<b>Morocco</b><br>Confirmed Cases: 1021<br>Deaths: 70\", \"<b>Mozambique</b><br>Confirmed Cases: 10<br>Deaths: 0\", \"<b>Namibia</b><br>Confirmed Cases: 16<br>Deaths: 0\", \"<b>Nepal</b><br>Confirmed Cases: 9<br>Deaths: 0\", \"<b>Netherlands</b><br>Confirmed Cases: 17851<br>Deaths: 1766\", \"<b>New Zealand</b><br>Confirmed Cases: 1039<br>Deaths: 1\", \"<b>Nicaragua</b><br>Confirmed Cases: 6<br>Deaths: 1\", \"<b>Niger</b><br>Confirmed Cases: 184<br>Deaths: 10\", \"<b>Nigeria</b><br>Confirmed Cases: 232<br>Deaths: 5\", \"<b>North Macedonia</b><br>Confirmed Cases: 555<br>Deaths: 18\", \"<b>Norway</b><br>Confirmed Cases: 5687<br>Deaths: 71\", \"<b>Oman</b><br>Confirmed Cases: 298<br>Deaths: 2\", \"<b>Pakistan</b><br>Confirmed Cases: 3157<br>Deaths: 47\", \"<b>Panama</b><br>Confirmed Cases: 1801<br>Deaths: 46\", \"<b>Papua New Guinea</b><br>Confirmed Cases: 1<br>Deaths: 0\", \"<b>Paraguay</b><br>Confirmed Cases: 104<br>Deaths: 3\", \"<b>Peru</b><br>Confirmed Cases: 2281<br>Deaths: 83\", \"<b>Philippines</b><br>Confirmed Cases: 3246<br>Deaths: 152\", \"<b>Poland</b><br>Confirmed Cases: 4102<br>Deaths: 94\", \"<b>Portugal</b><br>Confirmed Cases: 11278<br>Deaths: 295\", \"<b>Qatar</b><br>Confirmed Cases: 1604<br>Deaths: 4\", \"<b>Romania</b><br>Confirmed Cases: 3864<br>Deaths: 151\", \"<b>Russia</b><br>Confirmed Cases: 5389<br>Deaths: 45\", \"<b>Rwanda</b><br>Confirmed Cases: 104<br>Deaths: 0\", \"<b>Saint Kitts and Nevis</b><br>Confirmed Cases: 10<br>Deaths: 0\", \"<b>Saint Lucia</b><br>Confirmed Cases: 14<br>Deaths: 0\", \"<b>Saint Vincent and the Grenadines</b><br>Confirmed Cases: 7<br>Deaths: 0\", \"<b>San Marino</b><br>Confirmed Cases: 266<br>Deaths: 32\", \"<b>Saudi Arabia</b><br>Confirmed Cases: 2402<br>Deaths: 34\", \"<b>Senegal</b><br>Confirmed Cases: 222<br>Deaths: 2\", \"<b>Serbia</b><br>Confirmed Cases: 1908<br>Deaths: 51\", \"<b>Seychelles</b><br>Confirmed Cases: 10<br>Deaths: 0\", \"<b>Sierra Leone</b><br>Confirmed Cases: 6<br>Deaths: 0\", \"<b>Singapore</b><br>Confirmed Cases: 1309<br>Deaths: 6\", \"<b>Slovakia</b><br>Confirmed Cases: 485<br>Deaths: 1\", \"<b>Slovenia</b><br>Confirmed Cases: 997<br>Deaths: 28\", \"<b>Somalia</b><br>Confirmed Cases: 7<br>Deaths: 0\", \"<b>South Africa</b><br>Confirmed Cases: 1655<br>Deaths: 11\", \"<b>South Sudan</b><br>Confirmed Cases: 1<br>Deaths: 0\", \"<b>Spain</b><br>Confirmed Cases: 131646<br>Deaths: 12641\", \"<b>Sri Lanka</b><br>Confirmed Cases: 176<br>Deaths: 5\", \"<b>Sudan</b><br>Confirmed Cases: 12<br>Deaths: 2\", \"<b>Suriname</b><br>Confirmed Cases: 10<br>Deaths: 1\", \"<b>Sweden</b><br>Confirmed Cases: 6830<br>Deaths: 401\", \"<b>Switzerland</b><br>Confirmed Cases: 21100<br>Deaths: 715\", \"<b>Syria</b><br>Confirmed Cases: 19<br>Deaths: 2\", \"<b>Taiwan*</b><br>Confirmed Cases: 363<br>Deaths: 5\", \"<b>Tanzania</b><br>Confirmed Cases: 22<br>Deaths: 1\", \"<b>Thailand</b><br>Confirmed Cases: 2169<br>Deaths: 23\", \"<b>Timor-Leste</b><br>Confirmed Cases: 1<br>Deaths: 0\", \"<b>Togo</b><br>Confirmed Cases: 44<br>Deaths: 3\", \"<b>Trinidad and Tobago</b><br>Confirmed Cases: 104<br>Deaths: 7\", \"<b>Tunisia</b><br>Confirmed Cases: 574<br>Deaths: 22\", \"<b>Turkey</b><br>Confirmed Cases: 27069<br>Deaths: 574\", \"<b>US</b><br>Confirmed Cases: 337072<br>Deaths: 9619\", \"<b>Uganda</b><br>Confirmed Cases: 52<br>Deaths: 0\", \"<b>Ukraine</b><br>Confirmed Cases: 1308<br>Deaths: 37\", \"<b>United Arab Emirates</b><br>Confirmed Cases: 1799<br>Deaths: 10\", \"<b>United Kingdom</b><br>Confirmed Cases: 47806<br>Deaths: 4934\", \"<b>Uruguay</b><br>Confirmed Cases: 400<br>Deaths: 5\", \"<b>Uzbekistan</b><br>Confirmed Cases: 342<br>Deaths: 2\", \"<b>Venezuela</b><br>Confirmed Cases: 159<br>Deaths: 7\", \"<b>Vietnam</b><br>Confirmed Cases: 241<br>Deaths: 0\", \"<b>West Bank and Gaza</b><br>Confirmed Cases: 237<br>Deaths: 1\", \"<b>Western Sahara</b><br>Confirmed Cases: 4<br>Deaths: 0\", \"<b>Zambia</b><br>Confirmed Cases: 39<br>Deaths: 1\", \"<b>Zimbabwe</b><br>Confirmed Cases: 9<br>Deaths: 1\"], \"locations\": [\"AFG\", \"ALB\", \"DZA\", \"AND\", \"AGO\", \"ATG\", \"ARG\", \"ARM\", \"AUS\", \"AUT\", \"AZE\", \"BHS\", \"BHR\", \"BGD\", \"BRB\", \"BLR\", \"BEL\", \"BLZ\", \"BEN\", \"BTN\", \"BOL\", \"BIH\", \"BWA\", \"BRA\", \"BWN\", \"BGR\", \"BFA\", \"MMR\", \"BDI\", \"CPV\", \"KHM\", \"CMR\", \"CAN\", \"CAF\", \"TCD\", \"CHL\", \"CHN\", \"COL\", \"COG\", \"COD\", \"CRI\", \"CIV\", \"HRV\", \"CUB\", \"CYP\", \"CZE\", \"DNK\", \"Unknown code\", \"DJI\", \"DMA\", \"DOM\", \"ECU\", \"EGY\", \"SLV\", \"GNQ\", \"ERI\", \"EST\", \"SWZ\", \"ETH\", \"FJI\", \"FIN\", \"FRA\", \"GAB\", \"GMB\", \"GEO\", \"DEU\", \"GHA\", \"GRC\", \"GRD\", \"GTM\", \"GIN\", \"GNB\", \"GUY\", \"HTI\", \"VAT\", \"HND\", \"HUN\", \"ISL\", \"IND\", \"IDN\", \"IRN\", \"IRQ\", \"IRL\", \"ISR\", \"ITA\", \"JAM\", \"JPN\", \"JOR\", \"KAZ\", \"KEN\", \"KOR\", \"RKS\", \"KWT\", \"KGZ\", \"LAO\", \"LVA\", \"LBN\", \"LBR\", \"LBY\", \"LIE\", \"LTU\", \"LUX\", \"Unknown code\", \"MDG\", \"MWI\", \"MYS\", \"MDV\", \"MLI\", \"MLT\", \"MRT\", \"MUS\", \"MEX\", \"MDA\", \"MCO\", \"MNG\", \"MNE\", \"MAR\", \"MOZ\", \"NAM\", \"NPL\", \"NLD\", \"NZL\", \"NIC\", \"NER\", \"NGA\", \"MKD\", \"NOR\", \"OMN\", \"PAK\", \"PAN\", \"PNG\", \"PRY\", \"PER\", \"PHL\", \"POL\", \"PRT\", \"QAT\", \"ROU\", \"RUS\", \"RWA\", \"KNA\", \"LCA\", \"VCT\", \"SMR\", \"SAU\", \"SEN\", \"SRB\", \"SYC\", \"SLE\", \"SGP\", \"SVK\", \"SVN\", \"SOM\", \"ZAF\", \"SSD\", \"ESP\", \"LKA\", \"SDN\", \"SUR\", \"SWE\", \"SYR\", \"TWN\", \"TZA\", \"Unknown code\", \"THA\", \"TLS\", \"TGO\", \"TTO\", \"TUN\", \"USA\", \"Unknown code\", \"UGA\", \"UKR\", \"ARE\", \"GBR\", \"URY\", \"VEN\", \"VNM\", \"PSE\", \"Unknown code\", \"ESH\", \"ZMB\", \"ZWE\"], \"marker\": {\"line\": {\"color\": \"darkgray\", \"width\": 0.5}}, \"reversescale\": false, \"type\": \"choropleth\", \"z\": [349, 361, 1320, 501, 14, 15, 1451, 822, 2580, 12051, 584, 28, 700, 88, 56, 562, 19691, 5, 22, 5, 157, 654, 6, 11130, 135, 531, 345, 21, 3, 7, 114, 650, 7944, 8, 9, 4471, 67803, 1485, 45, 154, 454, 261, 1182, 320, 446, 4587, 4369, 712, 59, 14, 1745, 3646, 1173, 62, 16, 29, 1097, 9, 43, 12, 1927, 92839, 21, 4, 174, 100123, 214, 1735, 12, 61, 121, 18, 24, 21, 7, 268, 733, 1486, 3588, 2273, 58226, 961, 4994, 8430, 128948, 58, 3139, 345, 584, 142, 10237, 145, 556, 147, 11, 533, 527, 13, 18, 77, 811, 2804, 9, 72, 4, 3662, 19, 45, 227, 6, 227, 1890, 864, 73, 14, 214, 1021, 10, 16, 9, 17851, 1039, 6, 184, 232, 555, 5687, 298, 3157, 1801, 1, 104, 2281, 3246, 4102, 11278, 1604, 3864, 5389, 104, 10, 14, 7, 266, 2402, 222, 1908, 10, 6, 1309, 485, 997, 7, 1655, 1, 131646, 176, 12, 10, 6830, 21100, 19, 363, 22, 2169, 1, 44, 104, 574, 27069, 337072, 52, 1308, 1799, 47806, 400, 342, 159, 241, 237, 4, 39, 9]}],\n",
       "                        {\"geo\": {\"projection\": {\"type\": \"equirectangular\"}, \"showcoastlines\": false, \"showframe\": false}, \"margin\": {\"b\": 0, \"l\": 0, \"r\": 0, \"t\": 0}, \"template\": {\"data\": {\"bar\": [{\"error_x\": {\"color\": \"#2a3f5f\"}, \"error_y\": {\"color\": \"#2a3f5f\"}, \"marker\": {\"line\": {\"color\": \"#E5ECF6\", \"width\": 0.5}}, \"type\": \"bar\"}], \"barpolar\": [{\"marker\": {\"line\": {\"color\": \"#E5ECF6\", \"width\": 0.5}}, \"type\": \"barpolar\"}], \"carpet\": [{\"aaxis\": {\"endlinecolor\": \"#2a3f5f\", \"gridcolor\": \"white\", \"linecolor\": \"white\", \"minorgridcolor\": \"white\", \"startlinecolor\": \"#2a3f5f\"}, \"baxis\": {\"endlinecolor\": \"#2a3f5f\", \"gridcolor\": \"white\", \"linecolor\": \"white\", \"minorgridcolor\": \"white\", \"startlinecolor\": \"#2a3f5f\"}, \"type\": \"carpet\"}], \"choropleth\": [{\"colorbar\": {\"outlinewidth\": 0, \"ticks\": \"\"}, \"type\": \"choropleth\"}], \"contour\": [{\"colorbar\": {\"outlinewidth\": 0, \"ticks\": \"\"}, \"colorscale\": [[0.0, \"#0d0887\"], [0.1111111111111111, \"#46039f\"], [0.2222222222222222, \"#7201a8\"], [0.3333333333333333, \"#9c179e\"], [0.4444444444444444, \"#bd3786\"], [0.5555555555555556, \"#d8576b\"], [0.6666666666666666, \"#ed7953\"], [0.7777777777777778, \"#fb9f3a\"], [0.8888888888888888, \"#fdca26\"], [1.0, \"#f0f921\"]], \"type\": \"contour\"}], \"contourcarpet\": [{\"colorbar\": {\"outlinewidth\": 0, \"ticks\": \"\"}, \"type\": \"contourcarpet\"}], \"heatmap\": [{\"colorbar\": {\"outlinewidth\": 0, \"ticks\": \"\"}, \"colorscale\": [[0.0, \"#0d0887\"], [0.1111111111111111, \"#46039f\"], [0.2222222222222222, \"#7201a8\"], [0.3333333333333333, \"#9c179e\"], [0.4444444444444444, \"#bd3786\"], [0.5555555555555556, \"#d8576b\"], [0.6666666666666666, \"#ed7953\"], [0.7777777777777778, \"#fb9f3a\"], [0.8888888888888888, \"#fdca26\"], [1.0, \"#f0f921\"]], \"type\": \"heatmap\"}], \"heatmapgl\": [{\"colorbar\": {\"outlinewidth\": 0, \"ticks\": \"\"}, \"colorscale\": [[0.0, \"#0d0887\"], [0.1111111111111111, \"#46039f\"], [0.2222222222222222, \"#7201a8\"], [0.3333333333333333, \"#9c179e\"], [0.4444444444444444, \"#bd3786\"], [0.5555555555555556, \"#d8576b\"], [0.6666666666666666, \"#ed7953\"], [0.7777777777777778, \"#fb9f3a\"], [0.8888888888888888, \"#fdca26\"], [1.0, \"#f0f921\"]], \"type\": \"heatmapgl\"}], \"histogram\": [{\"marker\": {\"colorbar\": {\"outlinewidth\": 0, \"ticks\": \"\"}}, \"type\": \"histogram\"}], \"histogram2d\": [{\"colorbar\": {\"outlinewidth\": 0, \"ticks\": \"\"}, \"colorscale\": [[0.0, \"#0d0887\"], [0.1111111111111111, \"#46039f\"], [0.2222222222222222, \"#7201a8\"], [0.3333333333333333, \"#9c179e\"], [0.4444444444444444, \"#bd3786\"], [0.5555555555555556, \"#d8576b\"], [0.6666666666666666, \"#ed7953\"], [0.7777777777777778, \"#fb9f3a\"], [0.8888888888888888, \"#fdca26\"], [1.0, \"#f0f921\"]], \"type\": \"histogram2d\"}], \"histogram2dcontour\": [{\"colorbar\": {\"outlinewidth\": 0, \"ticks\": \"\"}, \"colorscale\": [[0.0, \"#0d0887\"], [0.1111111111111111, \"#46039f\"], [0.2222222222222222, \"#7201a8\"], [0.3333333333333333, \"#9c179e\"], [0.4444444444444444, \"#bd3786\"], [0.5555555555555556, \"#d8576b\"], [0.6666666666666666, \"#ed7953\"], [0.7777777777777778, \"#fb9f3a\"], [0.8888888888888888, \"#fdca26\"], [1.0, \"#f0f921\"]], \"type\": \"histogram2dcontour\"}], \"mesh3d\": [{\"colorbar\": {\"outlinewidth\": 0, \"ticks\": \"\"}, \"type\": \"mesh3d\"}], \"parcoords\": [{\"line\": {\"colorbar\": {\"outlinewidth\": 0, \"ticks\": \"\"}}, \"type\": \"parcoords\"}], \"pie\": [{\"automargin\": true, \"type\": \"pie\"}], \"scatter\": [{\"marker\": {\"colorbar\": {\"outlinewidth\": 0, \"ticks\": \"\"}}, \"type\": \"scatter\"}], \"scatter3d\": [{\"line\": {\"colorbar\": {\"outlinewidth\": 0, \"ticks\": \"\"}}, \"marker\": {\"colorbar\": {\"outlinewidth\": 0, \"ticks\": \"\"}}, \"type\": \"scatter3d\"}], \"scattercarpet\": [{\"marker\": {\"colorbar\": {\"outlinewidth\": 0, \"ticks\": \"\"}}, \"type\": \"scattercarpet\"}], \"scattergeo\": [{\"marker\": {\"colorbar\": {\"outlinewidth\": 0, \"ticks\": \"\"}}, \"type\": \"scattergeo\"}], \"scattergl\": [{\"marker\": {\"colorbar\": {\"outlinewidth\": 0, \"ticks\": \"\"}}, \"type\": \"scattergl\"}], \"scattermapbox\": [{\"marker\": {\"colorbar\": {\"outlinewidth\": 0, \"ticks\": \"\"}}, \"type\": \"scattermapbox\"}], \"scatterpolar\": [{\"marker\": {\"colorbar\": {\"outlinewidth\": 0, \"ticks\": \"\"}}, \"type\": \"scatterpolar\"}], \"scatterpolargl\": [{\"marker\": {\"colorbar\": {\"outlinewidth\": 0, \"ticks\": \"\"}}, \"type\": \"scatterpolargl\"}], \"scatterternary\": [{\"marker\": {\"colorbar\": {\"outlinewidth\": 0, \"ticks\": \"\"}}, \"type\": \"scatterternary\"}], \"surface\": [{\"colorbar\": {\"outlinewidth\": 0, \"ticks\": \"\"}, \"colorscale\": [[0.0, \"#0d0887\"], [0.1111111111111111, \"#46039f\"], [0.2222222222222222, \"#7201a8\"], [0.3333333333333333, \"#9c179e\"], [0.4444444444444444, \"#bd3786\"], [0.5555555555555556, \"#d8576b\"], [0.6666666666666666, \"#ed7953\"], [0.7777777777777778, \"#fb9f3a\"], [0.8888888888888888, \"#fdca26\"], [1.0, \"#f0f921\"]], \"type\": \"surface\"}], \"table\": [{\"cells\": {\"fill\": {\"color\": \"#EBF0F8\"}, \"line\": {\"color\": \"white\"}}, \"header\": {\"fill\": {\"color\": \"#C8D4E3\"}, \"line\": {\"color\": \"white\"}}, \"type\": \"table\"}]}, \"layout\": {\"annotationdefaults\": {\"arrowcolor\": \"#2a3f5f\", \"arrowhead\": 0, \"arrowwidth\": 1}, \"coloraxis\": {\"colorbar\": {\"outlinewidth\": 0, \"ticks\": \"\"}}, \"colorscale\": {\"diverging\": [[0, \"#8e0152\"], [0.1, \"#c51b7d\"], [0.2, \"#de77ae\"], [0.3, \"#f1b6da\"], [0.4, \"#fde0ef\"], [0.5, \"#f7f7f7\"], [0.6, \"#e6f5d0\"], [0.7, \"#b8e186\"], [0.8, \"#7fbc41\"], [0.9, \"#4d9221\"], [1, \"#276419\"]], \"sequential\": [[0.0, \"#0d0887\"], [0.1111111111111111, \"#46039f\"], [0.2222222222222222, \"#7201a8\"], [0.3333333333333333, \"#9c179e\"], [0.4444444444444444, \"#bd3786\"], [0.5555555555555556, \"#d8576b\"], [0.6666666666666666, \"#ed7953\"], [0.7777777777777778, \"#fb9f3a\"], [0.8888888888888888, \"#fdca26\"], [1.0, \"#f0f921\"]], \"sequentialminus\": [[0.0, \"#0d0887\"], [0.1111111111111111, \"#46039f\"], [0.2222222222222222, \"#7201a8\"], [0.3333333333333333, \"#9c179e\"], [0.4444444444444444, \"#bd3786\"], [0.5555555555555556, \"#d8576b\"], [0.6666666666666666, \"#ed7953\"], [0.7777777777777778, \"#fb9f3a\"], [0.8888888888888888, \"#fdca26\"], [1.0, \"#f0f921\"]]}, \"colorway\": [\"#636efa\", \"#EF553B\", \"#00cc96\", \"#ab63fa\", \"#FFA15A\", \"#19d3f3\", \"#FF6692\", \"#B6E880\", \"#FF97FF\", \"#FECB52\"], \"font\": {\"color\": \"#2a3f5f\"}, \"geo\": {\"bgcolor\": \"white\", \"lakecolor\": \"white\", \"landcolor\": \"#E5ECF6\", \"showlakes\": true, \"showland\": true, \"subunitcolor\": \"white\"}, \"hoverlabel\": {\"align\": \"left\"}, \"hovermode\": \"closest\", \"mapbox\": {\"style\": \"light\"}, \"paper_bgcolor\": \"white\", \"plot_bgcolor\": \"#E5ECF6\", \"polar\": {\"angularaxis\": {\"gridcolor\": \"white\", \"linecolor\": \"white\", \"ticks\": \"\"}, \"bgcolor\": \"#E5ECF6\", \"radialaxis\": {\"gridcolor\": \"white\", \"linecolor\": \"white\", \"ticks\": \"\"}}, \"scene\": {\"xaxis\": {\"backgroundcolor\": \"#E5ECF6\", \"gridcolor\": \"white\", \"gridwidth\": 2, \"linecolor\": \"white\", \"showbackground\": true, \"ticks\": \"\", \"zerolinecolor\": \"white\"}, \"yaxis\": {\"backgroundcolor\": \"#E5ECF6\", \"gridcolor\": \"white\", \"gridwidth\": 2, \"linecolor\": \"white\", \"showbackground\": true, \"ticks\": \"\", \"zerolinecolor\": \"white\"}, \"zaxis\": {\"backgroundcolor\": \"#E5ECF6\", \"gridcolor\": \"white\", \"gridwidth\": 2, \"linecolor\": \"white\", \"showbackground\": true, \"ticks\": \"\", \"zerolinecolor\": \"white\"}}, \"shapedefaults\": {\"line\": {\"color\": \"#2a3f5f\"}}, \"ternary\": {\"aaxis\": {\"gridcolor\": \"white\", \"linecolor\": \"white\", \"ticks\": \"\"}, \"baxis\": {\"gridcolor\": \"white\", \"linecolor\": \"white\", \"ticks\": \"\"}, \"bgcolor\": \"#E5ECF6\", \"caxis\": {\"gridcolor\": \"white\", \"linecolor\": \"white\", \"ticks\": \"\"}}, \"title\": {\"x\": 0.05}, \"xaxis\": {\"automargin\": true, \"gridcolor\": \"white\", \"linecolor\": \"white\", \"ticks\": \"\", \"title\": {\"standoff\": 15}, \"zerolinecolor\": \"white\", \"zerolinewidth\": 2}, \"yaxis\": {\"automargin\": true, \"gridcolor\": \"white\", \"linecolor\": \"white\", \"ticks\": \"\", \"title\": {\"standoff\": 15}, \"zerolinecolor\": \"white\", \"zerolinewidth\": 2}}}, \"title\": {\"text\": \"\"}},\n",
       "                        {\"responsive\": true}\n",
       "                    ).then(function(){\n",
       "                            \n",
       "var gd = document.getElementById('ecf6737b-4242-4ea9-900e-1eff97b37c9f');\n",
       "var x = new MutationObserver(function (mutations, observer) {{\n",
       "        var display = window.getComputedStyle(gd).display;\n",
       "        if (!display || display === 'none') {{\n",
       "            console.log([gd, 'removed!']);\n",
       "            Plotly.purge(gd);\n",
       "            observer.disconnect();\n",
       "        }}\n",
       "}});\n",
       "\n",
       "// Listen for the removal of the full notebook cells\n",
       "var notebookContainer = gd.closest('#notebook-container');\n",
       "if (notebookContainer) {{\n",
       "    x.observe(notebookContainer, {childList: true});\n",
       "}}\n",
       "\n",
       "// Listen for the clearing of the current output cell\n",
       "var outputEl = gd.closest('.output');\n",
       "if (outputEl) {{\n",
       "    x.observe(outputEl, {childList: true});\n",
       "}}\n",
       "\n",
       "                        })\n",
       "                };\n",
       "                });\n",
       "            </script>\n",
       "        </div>"
      ]
     },
     "metadata": {},
     "output_type": "display_data"
    }
   ],
   "source": [
    "fig = go.Figure(data=go.Choropleth(\n",
    "        locations = grouped_countries['code'],\n",
    "        z = grouped_countries['CumConfirmed'],\n",
    "#         text = grouped_countries['CumConfirmed'],\n",
    "        colorscale = 'Reds',\n",
    "        autocolorscale=False,\n",
    "        reversescale=False,\n",
    "        marker_line_color='darkgray',\n",
    "        marker_line_width=0.5,\n",
    "        colorbar_tickprefix = '',\n",
    "        colorbar_title = '',\n",
    "    ))\n",
    "\n",
    "fig.update_layout(margin={\"r\":0,\"t\":0,\"l\":0,\"b\":0},\n",
    "        title_text='',\n",
    "        geo=dict(\n",
    "            showframe=False,\n",
    "            showcoastlines=False,\n",
    "            projection_type='equirectangular'\n",
    "        )\n",
    "    )\n",
    "fig.update_traces(hovertemplate='<b>' + grouped_countries['Country/Region'] +\n",
    "                      '</b>' + '<br>' + 'Confirmed Cases: ' +\n",
    "                      grouped_countries['CumConfirmed'].astype(str) + '<br>' +\n",
    "                      'Deaths: ' + grouped_countries['CumDeaths'].astype(str))\n",
    "\n",
    "fig.show()"
   ]
  },
  {
   "cell_type": "code",
   "execution_count": 53,
   "metadata": {},
   "outputs": [],
   "source": [
    "# import dash\n",
    "# import dash_core_components as dcc\n",
    "# import dash_html_components as html\n",
    "# import plotly.graph_objects as go\n",
    "# from dash.dependencies import Input, Output\n",
    "# import dash_bootstrap_components as dbc\n",
    "\n",
    "# external_stylesheets = ['https://codepen.io/chriddyp/pen/bWLwgP.css']\n",
    "# app = dash.Dash(__name__, external_stylesheets=external_stylesheets)\n",
    "# app.layout = html.Div(children=[\n",
    "#     html.H1(children=''),\n",
    "# dcc.Graph(\n",
    "#         id='example-graph-1',\n",
    "#         figure=fig\n",
    "#     ),\n",
    "# ])\n",
    "# if __name__ == '__main__':\n",
    "#     app.run_server(debug=True)"
   ]
  },
  {
   "cell_type": "code",
   "execution_count": 54,
   "metadata": {},
   "outputs": [
    {
     "data": {
      "application/vnd.plotly.v1+json": {
       "config": {
        "plotlyServerURL": "https://plot.ly"
       },
       "data": [
        {
         "coloraxis": "coloraxis",
         "customdata": [
          [
           349,
           7
          ],
          [
           361,
           20
          ],
          [
           1320,
           152
          ],
          [
           501,
           18
          ],
          [
           14,
           2
          ],
          [
           15,
           0
          ],
          [
           1451,
           44
          ],
          [
           822,
           7
          ],
          [
           2580,
           16
          ],
          [
           12051,
           204
          ],
          [
           584,
           7
          ],
          [
           28,
           4
          ],
          [
           700,
           4
          ],
          [
           88,
           9
          ],
          [
           56,
           1
          ],
          [
           562,
           8
          ],
          [
           19691,
           1447
          ],
          [
           5,
           0
          ],
          [
           22,
           0
          ],
          [
           5,
           0
          ],
          [
           157,
           10
          ],
          [
           654,
           23
          ],
          [
           6,
           1
          ],
          [
           11130,
           486
          ],
          [
           135,
           1
          ],
          [
           531,
           20
          ],
          [
           345,
           17
          ],
          [
           21,
           1
          ],
          [
           3,
           0
          ],
          [
           7,
           1
          ],
          [
           114,
           0
          ],
          [
           650,
           9
          ],
          [
           7944,
           119
          ],
          [
           8,
           0
          ],
          [
           9,
           0
          ],
          [
           4471,
           34
          ],
          [
           67803,
           3210
          ],
          [
           1485,
           35
          ],
          [
           45,
           5
          ],
          [
           154,
           18
          ],
          [
           454,
           2
          ],
          [
           261,
           3
          ],
          [
           1182,
           15
          ],
          [
           320,
           8
          ],
          [
           446,
           11
          ],
          [
           4587,
           67
          ],
          [
           4369,
           179
          ],
          [
           712,
           11
          ],
          [
           59,
           0
          ],
          [
           14,
           0
          ],
          [
           1745,
           82
          ],
          [
           3646,
           180
          ],
          [
           1173,
           78
          ],
          [
           62,
           3
          ],
          [
           16,
           0
          ],
          [
           29,
           0
          ],
          [
           1097,
           15
          ],
          [
           9,
           0
          ],
          [
           43,
           2
          ],
          [
           12,
           0
          ],
          [
           1927,
           28
          ],
          [
           92839,
           8078
          ],
          [
           21,
           1
          ],
          [
           4,
           1
          ],
          [
           174,
           2
          ],
          [
           100123,
           1584
          ],
          [
           214,
           5
          ],
          [
           1735,
           73
          ],
          [
           12,
           0
          ],
          [
           61,
           2
          ],
          [
           121,
           0
          ],
          [
           18,
           0
          ],
          [
           24,
           4
          ],
          [
           21,
           1
          ],
          [
           7,
           0
          ],
          [
           268,
           22
          ],
          [
           733,
           34
          ],
          [
           1486,
           5
          ],
          [
           3588,
           99
          ],
          [
           2273,
           198
          ],
          [
           58226,
           3603
          ],
          [
           961,
           61
          ],
          [
           4994,
           158
          ],
          [
           8430,
           49
          ],
          [
           128948,
           15887
          ],
          [
           58,
           3
          ],
          [
           3139,
           77
          ],
          [
           345,
           5
          ],
          [
           584,
           6
          ],
          [
           142,
           4
          ],
          [
           10237,
           183
          ],
          [
           145,
           1
          ],
          [
           556,
           1
          ],
          [
           147,
           1
          ],
          [
           11,
           0
          ],
          [
           533,
           1
          ],
          [
           527,
           18
          ],
          [
           13,
           3
          ],
          [
           18,
           1
          ],
          [
           77,
           1
          ],
          [
           811,
           13
          ],
          [
           2804,
           36
          ],
          [
           9,
           2
          ],
          [
           72,
           0
          ],
          [
           4,
           0
          ],
          [
           3662,
           61
          ],
          [
           19,
           0
          ],
          [
           45,
           5
          ],
          [
           227,
           0
          ],
          [
           6,
           1
          ],
          [
           227,
           7
          ],
          [
           1890,
           79
          ],
          [
           864,
           15
          ],
          [
           73,
           1
          ],
          [
           14,
           0
          ],
          [
           214,
           2
          ],
          [
           1021,
           70
          ],
          [
           10,
           0
          ],
          [
           16,
           0
          ],
          [
           9,
           0
          ],
          [
           17851,
           1766
          ],
          [
           1039,
           1
          ],
          [
           6,
           1
          ],
          [
           184,
           10
          ],
          [
           232,
           5
          ],
          [
           555,
           18
          ],
          [
           5687,
           71
          ],
          [
           298,
           2
          ],
          [
           3157,
           47
          ],
          [
           1801,
           46
          ],
          [
           1,
           0
          ],
          [
           104,
           3
          ],
          [
           2281,
           83
          ],
          [
           3246,
           152
          ],
          [
           4102,
           94
          ],
          [
           11278,
           295
          ],
          [
           1604,
           4
          ],
          [
           3864,
           151
          ],
          [
           5389,
           45
          ],
          [
           104,
           0
          ],
          [
           10,
           0
          ],
          [
           14,
           0
          ],
          [
           7,
           0
          ],
          [
           266,
           32
          ],
          [
           2402,
           34
          ],
          [
           222,
           2
          ],
          [
           1908,
           51
          ],
          [
           10,
           0
          ],
          [
           6,
           0
          ],
          [
           1309,
           6
          ],
          [
           485,
           1
          ],
          [
           997,
           28
          ],
          [
           7,
           0
          ],
          [
           1655,
           11
          ],
          [
           1,
           0
          ],
          [
           131646,
           12641
          ],
          [
           176,
           5
          ],
          [
           12,
           2
          ],
          [
           10,
           1
          ],
          [
           6830,
           401
          ],
          [
           21100,
           715
          ],
          [
           19,
           2
          ],
          [
           363,
           5
          ],
          [
           22,
           1
          ],
          [
           2169,
           23
          ],
          [
           1,
           0
          ],
          [
           44,
           3
          ],
          [
           104,
           7
          ],
          [
           574,
           22
          ],
          [
           27069,
           574
          ],
          [
           337072,
           9619
          ],
          [
           52,
           0
          ],
          [
           1308,
           37
          ],
          [
           1799,
           10
          ],
          [
           47806,
           4934
          ],
          [
           400,
           5
          ],
          [
           342,
           2
          ],
          [
           159,
           7
          ],
          [
           241,
           0
          ],
          [
           237,
           1
          ],
          [
           4,
           0
          ],
          [
           39,
           1
          ],
          [
           9,
           1
          ]
         ],
         "featureidkey": "grouped_countries.CumDeaths",
         "geo": "geo",
         "hoverlabel": {
          "namelength": 0
         },
         "hovertemplate": "Confirmed Cases (x10)=%{z}<br>Deaths=%{customdata[1]}<br>code=%{location}",
         "locations": [
          "AFG",
          "ALB",
          "DZA",
          "AND",
          "AGO",
          "ATG",
          "ARG",
          "ARM",
          "AUS",
          "AUT",
          "AZE",
          "BHS",
          "BHR",
          "BGD",
          "BRB",
          "BLR",
          "BEL",
          "BLZ",
          "BEN",
          "BTN",
          "BOL",
          "BIH",
          "BWA",
          "BRA",
          "BWN",
          "BGR",
          "BFA",
          "MMR",
          "BDI",
          "CPV",
          "KHM",
          "CMR",
          "CAN",
          "CAF",
          "TCD",
          "CHL",
          "CHN",
          "COL",
          "COG",
          "COD",
          "CRI",
          "CIV",
          "HRV",
          "CUB",
          "CYP",
          "CZE",
          "DNK",
          "Unknown code",
          "DJI",
          "DMA",
          "DOM",
          "ECU",
          "EGY",
          "SLV",
          "GNQ",
          "ERI",
          "EST",
          "SWZ",
          "ETH",
          "FJI",
          "FIN",
          "FRA",
          "GAB",
          "GMB",
          "GEO",
          "DEU",
          "GHA",
          "GRC",
          "GRD",
          "GTM",
          "GIN",
          "GNB",
          "GUY",
          "HTI",
          "VAT",
          "HND",
          "HUN",
          "ISL",
          "IND",
          "IDN",
          "IRN",
          "IRQ",
          "IRL",
          "ISR",
          "ITA",
          "JAM",
          "JPN",
          "JOR",
          "KAZ",
          "KEN",
          "KOR",
          "RKS",
          "KWT",
          "KGZ",
          "LAO",
          "LVA",
          "LBN",
          "LBR",
          "LBY",
          "LIE",
          "LTU",
          "LUX",
          "Unknown code",
          "MDG",
          "MWI",
          "MYS",
          "MDV",
          "MLI",
          "MLT",
          "MRT",
          "MUS",
          "MEX",
          "MDA",
          "MCO",
          "MNG",
          "MNE",
          "MAR",
          "MOZ",
          "NAM",
          "NPL",
          "NLD",
          "NZL",
          "NIC",
          "NER",
          "NGA",
          "MKD",
          "NOR",
          "OMN",
          "PAK",
          "PAN",
          "PNG",
          "PRY",
          "PER",
          "PHL",
          "POL",
          "PRT",
          "QAT",
          "ROU",
          "RUS",
          "RWA",
          "KNA",
          "LCA",
          "VCT",
          "SMR",
          "SAU",
          "SEN",
          "SRB",
          "SYC",
          "SLE",
          "SGP",
          "SVK",
          "SVN",
          "SOM",
          "ZAF",
          "SSD",
          "ESP",
          "LKA",
          "SDN",
          "SUR",
          "SWE",
          "SYR",
          "TWN",
          "TZA",
          "Unknown code",
          "THA",
          "TLS",
          "TGO",
          "TTO",
          "TUN",
          "USA",
          "Unknown code",
          "UGA",
          "UKR",
          "ARE",
          "GBR",
          "URY",
          "VEN",
          "VNM",
          "PSE",
          "Unknown code",
          "ESH",
          "ZMB",
          "ZWE"
         ],
         "name": "",
         "type": "choropleth",
         "z": [
          349,
          361,
          1320,
          501,
          14,
          15,
          1451,
          822,
          2580,
          12051,
          584,
          28,
          700,
          88,
          56,
          562,
          19691,
          5,
          22,
          5,
          157,
          654,
          6,
          11130,
          135,
          531,
          345,
          21,
          3,
          7,
          114,
          650,
          7944,
          8,
          9,
          4471,
          67803,
          1485,
          45,
          154,
          454,
          261,
          1182,
          320,
          446,
          4587,
          4369,
          712,
          59,
          14,
          1745,
          3646,
          1173,
          62,
          16,
          29,
          1097,
          9,
          43,
          12,
          1927,
          92839,
          21,
          4,
          174,
          100123,
          214,
          1735,
          12,
          61,
          121,
          18,
          24,
          21,
          7,
          268,
          733,
          1486,
          3588,
          2273,
          58226,
          961,
          4994,
          8430,
          128948,
          58,
          3139,
          345,
          584,
          142,
          10237,
          145,
          556,
          147,
          11,
          533,
          527,
          13,
          18,
          77,
          811,
          2804,
          9,
          72,
          4,
          3662,
          19,
          45,
          227,
          6,
          227,
          1890,
          864,
          73,
          14,
          214,
          1021,
          10,
          16,
          9,
          17851,
          1039,
          6,
          184,
          232,
          555,
          5687,
          298,
          3157,
          1801,
          1,
          104,
          2281,
          3246,
          4102,
          11278,
          1604,
          3864,
          5389,
          104,
          10,
          14,
          7,
          266,
          2402,
          222,
          1908,
          10,
          6,
          1309,
          485,
          997,
          7,
          1655,
          1,
          131646,
          176,
          12,
          10,
          6830,
          21100,
          19,
          363,
          22,
          2169,
          1,
          44,
          104,
          574,
          27069,
          337072,
          52,
          1308,
          1799,
          47806,
          400,
          342,
          159,
          241,
          237,
          4,
          39,
          9
         ]
        }
       ],
       "layout": {
        "coloraxis": {
         "cmax": 25000,
         "cmin": 0,
         "colorbar": {
          "title": {
           "text": "Confirmed Cases (x10)"
          }
         },
         "colorscale": [
          [
           0,
           "rgb(255,247,236)"
          ],
          [
           0.125,
           "rgb(254,232,200)"
          ],
          [
           0.25,
           "rgb(253,212,158)"
          ],
          [
           0.375,
           "rgb(253,187,132)"
          ],
          [
           0.5,
           "rgb(252,141,89)"
          ],
          [
           0.625,
           "rgb(239,101,72)"
          ],
          [
           0.75,
           "rgb(215,48,31)"
          ],
          [
           0.875,
           "rgb(179,0,0)"
          ],
          [
           1,
           "rgb(127,0,0)"
          ]
         ]
        },
        "geo": {
         "center": {},
         "domain": {
          "x": [
           0,
           1
          ],
          "y": [
           0,
           1
          ]
         },
         "projection": {
          "type": "equirectangular"
         },
         "scope": "world",
         "showcoastlines": false,
         "showframe": false
        },
        "height": 500,
        "legend": {
         "tracegroupgap": 0
        },
        "margin": {
         "t": 60
        },
        "template": {
         "data": {
          "bar": [
           {
            "error_x": {
             "color": "#2a3f5f"
            },
            "error_y": {
             "color": "#2a3f5f"
            },
            "marker": {
             "line": {
              "color": "#E5ECF6",
              "width": 0.5
             }
            },
            "type": "bar"
           }
          ],
          "barpolar": [
           {
            "marker": {
             "line": {
              "color": "#E5ECF6",
              "width": 0.5
             }
            },
            "type": "barpolar"
           }
          ],
          "carpet": [
           {
            "aaxis": {
             "endlinecolor": "#2a3f5f",
             "gridcolor": "white",
             "linecolor": "white",
             "minorgridcolor": "white",
             "startlinecolor": "#2a3f5f"
            },
            "baxis": {
             "endlinecolor": "#2a3f5f",
             "gridcolor": "white",
             "linecolor": "white",
             "minorgridcolor": "white",
             "startlinecolor": "#2a3f5f"
            },
            "type": "carpet"
           }
          ],
          "choropleth": [
           {
            "colorbar": {
             "outlinewidth": 0,
             "ticks": ""
            },
            "type": "choropleth"
           }
          ],
          "contour": [
           {
            "colorbar": {
             "outlinewidth": 0,
             "ticks": ""
            },
            "colorscale": [
             [
              0,
              "#0d0887"
             ],
             [
              0.1111111111111111,
              "#46039f"
             ],
             [
              0.2222222222222222,
              "#7201a8"
             ],
             [
              0.3333333333333333,
              "#9c179e"
             ],
             [
              0.4444444444444444,
              "#bd3786"
             ],
             [
              0.5555555555555556,
              "#d8576b"
             ],
             [
              0.6666666666666666,
              "#ed7953"
             ],
             [
              0.7777777777777778,
              "#fb9f3a"
             ],
             [
              0.8888888888888888,
              "#fdca26"
             ],
             [
              1,
              "#f0f921"
             ]
            ],
            "type": "contour"
           }
          ],
          "contourcarpet": [
           {
            "colorbar": {
             "outlinewidth": 0,
             "ticks": ""
            },
            "type": "contourcarpet"
           }
          ],
          "heatmap": [
           {
            "colorbar": {
             "outlinewidth": 0,
             "ticks": ""
            },
            "colorscale": [
             [
              0,
              "#0d0887"
             ],
             [
              0.1111111111111111,
              "#46039f"
             ],
             [
              0.2222222222222222,
              "#7201a8"
             ],
             [
              0.3333333333333333,
              "#9c179e"
             ],
             [
              0.4444444444444444,
              "#bd3786"
             ],
             [
              0.5555555555555556,
              "#d8576b"
             ],
             [
              0.6666666666666666,
              "#ed7953"
             ],
             [
              0.7777777777777778,
              "#fb9f3a"
             ],
             [
              0.8888888888888888,
              "#fdca26"
             ],
             [
              1,
              "#f0f921"
             ]
            ],
            "type": "heatmap"
           }
          ],
          "heatmapgl": [
           {
            "colorbar": {
             "outlinewidth": 0,
             "ticks": ""
            },
            "colorscale": [
             [
              0,
              "#0d0887"
             ],
             [
              0.1111111111111111,
              "#46039f"
             ],
             [
              0.2222222222222222,
              "#7201a8"
             ],
             [
              0.3333333333333333,
              "#9c179e"
             ],
             [
              0.4444444444444444,
              "#bd3786"
             ],
             [
              0.5555555555555556,
              "#d8576b"
             ],
             [
              0.6666666666666666,
              "#ed7953"
             ],
             [
              0.7777777777777778,
              "#fb9f3a"
             ],
             [
              0.8888888888888888,
              "#fdca26"
             ],
             [
              1,
              "#f0f921"
             ]
            ],
            "type": "heatmapgl"
           }
          ],
          "histogram": [
           {
            "marker": {
             "colorbar": {
              "outlinewidth": 0,
              "ticks": ""
             }
            },
            "type": "histogram"
           }
          ],
          "histogram2d": [
           {
            "colorbar": {
             "outlinewidth": 0,
             "ticks": ""
            },
            "colorscale": [
             [
              0,
              "#0d0887"
             ],
             [
              0.1111111111111111,
              "#46039f"
             ],
             [
              0.2222222222222222,
              "#7201a8"
             ],
             [
              0.3333333333333333,
              "#9c179e"
             ],
             [
              0.4444444444444444,
              "#bd3786"
             ],
             [
              0.5555555555555556,
              "#d8576b"
             ],
             [
              0.6666666666666666,
              "#ed7953"
             ],
             [
              0.7777777777777778,
              "#fb9f3a"
             ],
             [
              0.8888888888888888,
              "#fdca26"
             ],
             [
              1,
              "#f0f921"
             ]
            ],
            "type": "histogram2d"
           }
          ],
          "histogram2dcontour": [
           {
            "colorbar": {
             "outlinewidth": 0,
             "ticks": ""
            },
            "colorscale": [
             [
              0,
              "#0d0887"
             ],
             [
              0.1111111111111111,
              "#46039f"
             ],
             [
              0.2222222222222222,
              "#7201a8"
             ],
             [
              0.3333333333333333,
              "#9c179e"
             ],
             [
              0.4444444444444444,
              "#bd3786"
             ],
             [
              0.5555555555555556,
              "#d8576b"
             ],
             [
              0.6666666666666666,
              "#ed7953"
             ],
             [
              0.7777777777777778,
              "#fb9f3a"
             ],
             [
              0.8888888888888888,
              "#fdca26"
             ],
             [
              1,
              "#f0f921"
             ]
            ],
            "type": "histogram2dcontour"
           }
          ],
          "mesh3d": [
           {
            "colorbar": {
             "outlinewidth": 0,
             "ticks": ""
            },
            "type": "mesh3d"
           }
          ],
          "parcoords": [
           {
            "line": {
             "colorbar": {
              "outlinewidth": 0,
              "ticks": ""
             }
            },
            "type": "parcoords"
           }
          ],
          "pie": [
           {
            "automargin": true,
            "type": "pie"
           }
          ],
          "scatter": [
           {
            "marker": {
             "colorbar": {
              "outlinewidth": 0,
              "ticks": ""
             }
            },
            "type": "scatter"
           }
          ],
          "scatter3d": [
           {
            "line": {
             "colorbar": {
              "outlinewidth": 0,
              "ticks": ""
             }
            },
            "marker": {
             "colorbar": {
              "outlinewidth": 0,
              "ticks": ""
             }
            },
            "type": "scatter3d"
           }
          ],
          "scattercarpet": [
           {
            "marker": {
             "colorbar": {
              "outlinewidth": 0,
              "ticks": ""
             }
            },
            "type": "scattercarpet"
           }
          ],
          "scattergeo": [
           {
            "marker": {
             "colorbar": {
              "outlinewidth": 0,
              "ticks": ""
             }
            },
            "type": "scattergeo"
           }
          ],
          "scattergl": [
           {
            "marker": {
             "colorbar": {
              "outlinewidth": 0,
              "ticks": ""
             }
            },
            "type": "scattergl"
           }
          ],
          "scattermapbox": [
           {
            "marker": {
             "colorbar": {
              "outlinewidth": 0,
              "ticks": ""
             }
            },
            "type": "scattermapbox"
           }
          ],
          "scatterpolar": [
           {
            "marker": {
             "colorbar": {
              "outlinewidth": 0,
              "ticks": ""
             }
            },
            "type": "scatterpolar"
           }
          ],
          "scatterpolargl": [
           {
            "marker": {
             "colorbar": {
              "outlinewidth": 0,
              "ticks": ""
             }
            },
            "type": "scatterpolargl"
           }
          ],
          "scatterternary": [
           {
            "marker": {
             "colorbar": {
              "outlinewidth": 0,
              "ticks": ""
             }
            },
            "type": "scatterternary"
           }
          ],
          "surface": [
           {
            "colorbar": {
             "outlinewidth": 0,
             "ticks": ""
            },
            "colorscale": [
             [
              0,
              "#0d0887"
             ],
             [
              0.1111111111111111,
              "#46039f"
             ],
             [
              0.2222222222222222,
              "#7201a8"
             ],
             [
              0.3333333333333333,
              "#9c179e"
             ],
             [
              0.4444444444444444,
              "#bd3786"
             ],
             [
              0.5555555555555556,
              "#d8576b"
             ],
             [
              0.6666666666666666,
              "#ed7953"
             ],
             [
              0.7777777777777778,
              "#fb9f3a"
             ],
             [
              0.8888888888888888,
              "#fdca26"
             ],
             [
              1,
              "#f0f921"
             ]
            ],
            "type": "surface"
           }
          ],
          "table": [
           {
            "cells": {
             "fill": {
              "color": "#EBF0F8"
             },
             "line": {
              "color": "white"
             }
            },
            "header": {
             "fill": {
              "color": "#C8D4E3"
             },
             "line": {
              "color": "white"
             }
            },
            "type": "table"
           }
          ]
         },
         "layout": {
          "annotationdefaults": {
           "arrowcolor": "#2a3f5f",
           "arrowhead": 0,
           "arrowwidth": 1
          },
          "coloraxis": {
           "colorbar": {
            "outlinewidth": 0,
            "ticks": ""
           }
          },
          "colorscale": {
           "diverging": [
            [
             0,
             "#8e0152"
            ],
            [
             0.1,
             "#c51b7d"
            ],
            [
             0.2,
             "#de77ae"
            ],
            [
             0.3,
             "#f1b6da"
            ],
            [
             0.4,
             "#fde0ef"
            ],
            [
             0.5,
             "#f7f7f7"
            ],
            [
             0.6,
             "#e6f5d0"
            ],
            [
             0.7,
             "#b8e186"
            ],
            [
             0.8,
             "#7fbc41"
            ],
            [
             0.9,
             "#4d9221"
            ],
            [
             1,
             "#276419"
            ]
           ],
           "sequential": [
            [
             0,
             "#0d0887"
            ],
            [
             0.1111111111111111,
             "#46039f"
            ],
            [
             0.2222222222222222,
             "#7201a8"
            ],
            [
             0.3333333333333333,
             "#9c179e"
            ],
            [
             0.4444444444444444,
             "#bd3786"
            ],
            [
             0.5555555555555556,
             "#d8576b"
            ],
            [
             0.6666666666666666,
             "#ed7953"
            ],
            [
             0.7777777777777778,
             "#fb9f3a"
            ],
            [
             0.8888888888888888,
             "#fdca26"
            ],
            [
             1,
             "#f0f921"
            ]
           ],
           "sequentialminus": [
            [
             0,
             "#0d0887"
            ],
            [
             0.1111111111111111,
             "#46039f"
            ],
            [
             0.2222222222222222,
             "#7201a8"
            ],
            [
             0.3333333333333333,
             "#9c179e"
            ],
            [
             0.4444444444444444,
             "#bd3786"
            ],
            [
             0.5555555555555556,
             "#d8576b"
            ],
            [
             0.6666666666666666,
             "#ed7953"
            ],
            [
             0.7777777777777778,
             "#fb9f3a"
            ],
            [
             0.8888888888888888,
             "#fdca26"
            ],
            [
             1,
             "#f0f921"
            ]
           ]
          },
          "colorway": [
           "#636efa",
           "#EF553B",
           "#00cc96",
           "#ab63fa",
           "#FFA15A",
           "#19d3f3",
           "#FF6692",
           "#B6E880",
           "#FF97FF",
           "#FECB52"
          ],
          "font": {
           "color": "#2a3f5f"
          },
          "geo": {
           "bgcolor": "white",
           "lakecolor": "white",
           "landcolor": "#E5ECF6",
           "showlakes": true,
           "showland": true,
           "subunitcolor": "white"
          },
          "hoverlabel": {
           "align": "left"
          },
          "hovermode": "closest",
          "mapbox": {
           "style": "light"
          },
          "paper_bgcolor": "white",
          "plot_bgcolor": "#E5ECF6",
          "polar": {
           "angularaxis": {
            "gridcolor": "white",
            "linecolor": "white",
            "ticks": ""
           },
           "bgcolor": "#E5ECF6",
           "radialaxis": {
            "gridcolor": "white",
            "linecolor": "white",
            "ticks": ""
           }
          },
          "scene": {
           "xaxis": {
            "backgroundcolor": "#E5ECF6",
            "gridcolor": "white",
            "gridwidth": 2,
            "linecolor": "white",
            "showbackground": true,
            "ticks": "",
            "zerolinecolor": "white"
           },
           "yaxis": {
            "backgroundcolor": "#E5ECF6",
            "gridcolor": "white",
            "gridwidth": 2,
            "linecolor": "white",
            "showbackground": true,
            "ticks": "",
            "zerolinecolor": "white"
           },
           "zaxis": {
            "backgroundcolor": "#E5ECF6",
            "gridcolor": "white",
            "gridwidth": 2,
            "linecolor": "white",
            "showbackground": true,
            "ticks": "",
            "zerolinecolor": "white"
           }
          },
          "shapedefaults": {
           "line": {
            "color": "#2a3f5f"
           }
          },
          "ternary": {
           "aaxis": {
            "gridcolor": "white",
            "linecolor": "white",
            "ticks": ""
           },
           "baxis": {
            "gridcolor": "white",
            "linecolor": "white",
            "ticks": ""
           },
           "bgcolor": "#E5ECF6",
           "caxis": {
            "gridcolor": "white",
            "linecolor": "white",
            "ticks": ""
           }
          },
          "title": {
           "x": 0.05
          },
          "xaxis": {
           "automargin": true,
           "gridcolor": "white",
           "linecolor": "white",
           "ticks": "",
           "title": {
            "standoff": 15
           },
           "zerolinecolor": "white",
           "zerolinewidth": 2
          },
          "yaxis": {
           "automargin": true,
           "gridcolor": "white",
           "linecolor": "white",
           "ticks": "",
           "title": {
            "standoff": 15
           },
           "zerolinecolor": "white",
           "zerolinewidth": 2
          }
         }
        },
        "width": 1000
       }
      },
      "image/png": "[encoded data removed]",
      "text/html": [
       "<div>\n",
       "        \n",
       "        \n",
       "            <div id=\"9f3159c7-f9a4-44c6-8548-6b94ce8bb7e0\" class=\"plotly-graph-div\" style=\"height:500px; width:1000px;\"></div>\n",
       "            <script type=\"text/javascript\">\n",
       "                require([\"plotly\"], function(Plotly) {\n",
       "                    window.PLOTLYENV=window.PLOTLYENV || {};\n",
       "                    \n",
       "                if (document.getElementById(\"9f3159c7-f9a4-44c6-8548-6b94ce8bb7e0\")) {\n",
       "                    Plotly.newPlot(\n",
       "                        '9f3159c7-f9a4-44c6-8548-6b94ce8bb7e0',\n",
       "                        [{\"coloraxis\": \"coloraxis\", \"customdata\": [[349, 7], [361, 20], [1320, 152], [501, 18], [14, 2], [15, 0], [1451, 44], [822, 7], [2580, 16], [12051, 204], [584, 7], [28, 4], [700, 4], [88, 9], [56, 1], [562, 8], [19691, 1447], [5, 0], [22, 0], [5, 0], [157, 10], [654, 23], [6, 1], [11130, 486], [135, 1], [531, 20], [345, 17], [21, 1], [3, 0], [7, 1], [114, 0], [650, 9], [7944, 119], [8, 0], [9, 0], [4471, 34], [67803, 3210], [1485, 35], [45, 5], [154, 18], [454, 2], [261, 3], [1182, 15], [320, 8], [446, 11], [4587, 67], [4369, 179], [712, 11], [59, 0], [14, 0], [1745, 82], [3646, 180], [1173, 78], [62, 3], [16, 0], [29, 0], [1097, 15], [9, 0], [43, 2], [12, 0], [1927, 28], [92839, 8078], [21, 1], [4, 1], [174, 2], [100123, 1584], [214, 5], [1735, 73], [12, 0], [61, 2], [121, 0], [18, 0], [24, 4], [21, 1], [7, 0], [268, 22], [733, 34], [1486, 5], [3588, 99], [2273, 198], [58226, 3603], [961, 61], [4994, 158], [8430, 49], [128948, 15887], [58, 3], [3139, 77], [345, 5], [584, 6], [142, 4], [10237, 183], [145, 1], [556, 1], [147, 1], [11, 0], [533, 1], [527, 18], [13, 3], [18, 1], [77, 1], [811, 13], [2804, 36], [9, 2], [72, 0], [4, 0], [3662, 61], [19, 0], [45, 5], [227, 0], [6, 1], [227, 7], [1890, 79], [864, 15], [73, 1], [14, 0], [214, 2], [1021, 70], [10, 0], [16, 0], [9, 0], [17851, 1766], [1039, 1], [6, 1], [184, 10], [232, 5], [555, 18], [5687, 71], [298, 2], [3157, 47], [1801, 46], [1, 0], [104, 3], [2281, 83], [3246, 152], [4102, 94], [11278, 295], [1604, 4], [3864, 151], [5389, 45], [104, 0], [10, 0], [14, 0], [7, 0], [266, 32], [2402, 34], [222, 2], [1908, 51], [10, 0], [6, 0], [1309, 6], [485, 1], [997, 28], [7, 0], [1655, 11], [1, 0], [131646, 12641], [176, 5], [12, 2], [10, 1], [6830, 401], [21100, 715], [19, 2], [363, 5], [22, 1], [2169, 23], [1, 0], [44, 3], [104, 7], [574, 22], [27069, 574], [337072, 9619], [52, 0], [1308, 37], [1799, 10], [47806, 4934], [400, 5], [342, 2], [159, 7], [241, 0], [237, 1], [4, 0], [39, 1], [9, 1]], \"featureidkey\": \"grouped_countries.CumDeaths\", \"geo\": \"geo\", \"hoverlabel\": {\"namelength\": 0}, \"hovertemplate\": \"Confirmed Cases (x10)=%{z}<br>Deaths=%{customdata[1]}<br>code=%{location}\", \"locations\": [\"AFG\", \"ALB\", \"DZA\", \"AND\", \"AGO\", \"ATG\", \"ARG\", \"ARM\", \"AUS\", \"AUT\", \"AZE\", \"BHS\", \"BHR\", \"BGD\", \"BRB\", \"BLR\", \"BEL\", \"BLZ\", \"BEN\", \"BTN\", \"BOL\", \"BIH\", \"BWA\", \"BRA\", \"BWN\", \"BGR\", \"BFA\", \"MMR\", \"BDI\", \"CPV\", \"KHM\", \"CMR\", \"CAN\", \"CAF\", \"TCD\", \"CHL\", \"CHN\", \"COL\", \"COG\", \"COD\", \"CRI\", \"CIV\", \"HRV\", \"CUB\", \"CYP\", \"CZE\", \"DNK\", \"Unknown code\", \"DJI\", \"DMA\", \"DOM\", \"ECU\", \"EGY\", \"SLV\", \"GNQ\", \"ERI\", \"EST\", \"SWZ\", \"ETH\", \"FJI\", \"FIN\", \"FRA\", \"GAB\", \"GMB\", \"GEO\", \"DEU\", \"GHA\", \"GRC\", \"GRD\", \"GTM\", \"GIN\", \"GNB\", \"GUY\", \"HTI\", \"VAT\", \"HND\", \"HUN\", \"ISL\", \"IND\", \"IDN\", \"IRN\", \"IRQ\", \"IRL\", \"ISR\", \"ITA\", \"JAM\", \"JPN\", \"JOR\", \"KAZ\", \"KEN\", \"KOR\", \"RKS\", \"KWT\", \"KGZ\", \"LAO\", \"LVA\", \"LBN\", \"LBR\", \"LBY\", \"LIE\", \"LTU\", \"LUX\", \"Unknown code\", \"MDG\", \"MWI\", \"MYS\", \"MDV\", \"MLI\", \"MLT\", \"MRT\", \"MUS\", \"MEX\", \"MDA\", \"MCO\", \"MNG\", \"MNE\", \"MAR\", \"MOZ\", \"NAM\", \"NPL\", \"NLD\", \"NZL\", \"NIC\", \"NER\", \"NGA\", \"MKD\", \"NOR\", \"OMN\", \"PAK\", \"PAN\", \"PNG\", \"PRY\", \"PER\", \"PHL\", \"POL\", \"PRT\", \"QAT\", \"ROU\", \"RUS\", \"RWA\", \"KNA\", \"LCA\", \"VCT\", \"SMR\", \"SAU\", \"SEN\", \"SRB\", \"SYC\", \"SLE\", \"SGP\", \"SVK\", \"SVN\", \"SOM\", \"ZAF\", \"SSD\", \"ESP\", \"LKA\", \"SDN\", \"SUR\", \"SWE\", \"SYR\", \"TWN\", \"TZA\", \"Unknown code\", \"THA\", \"TLS\", \"TGO\", \"TTO\", \"TUN\", \"USA\", \"Unknown code\", \"UGA\", \"UKR\", \"ARE\", \"GBR\", \"URY\", \"VEN\", \"VNM\", \"PSE\", \"Unknown code\", \"ESH\", \"ZMB\", \"ZWE\"], \"name\": \"\", \"type\": \"choropleth\", \"z\": [349, 361, 1320, 501, 14, 15, 1451, 822, 2580, 12051, 584, 28, 700, 88, 56, 562, 19691, 5, 22, 5, 157, 654, 6, 11130, 135, 531, 345, 21, 3, 7, 114, 650, 7944, 8, 9, 4471, 67803, 1485, 45, 154, 454, 261, 1182, 320, 446, 4587, 4369, 712, 59, 14, 1745, 3646, 1173, 62, 16, 29, 1097, 9, 43, 12, 1927, 92839, 21, 4, 174, 100123, 214, 1735, 12, 61, 121, 18, 24, 21, 7, 268, 733, 1486, 3588, 2273, 58226, 961, 4994, 8430, 128948, 58, 3139, 345, 584, 142, 10237, 145, 556, 147, 11, 533, 527, 13, 18, 77, 811, 2804, 9, 72, 4, 3662, 19, 45, 227, 6, 227, 1890, 864, 73, 14, 214, 1021, 10, 16, 9, 17851, 1039, 6, 184, 232, 555, 5687, 298, 3157, 1801, 1, 104, 2281, 3246, 4102, 11278, 1604, 3864, 5389, 104, 10, 14, 7, 266, 2402, 222, 1908, 10, 6, 1309, 485, 997, 7, 1655, 1, 131646, 176, 12, 10, 6830, 21100, 19, 363, 22, 2169, 1, 44, 104, 574, 27069, 337072, 52, 1308, 1799, 47806, 400, 342, 159, 241, 237, 4, 39, 9]}],\n",
       "                        {\"coloraxis\": {\"cmax\": 25000, \"cmin\": 0, \"colorbar\": {\"title\": {\"text\": \"Confirmed Cases (x10)\"}}, \"colorscale\": [[0.0, \"rgb(255,247,236)\"], [0.125, \"rgb(254,232,200)\"], [0.25, \"rgb(253,212,158)\"], [0.375, \"rgb(253,187,132)\"], [0.5, \"rgb(252,141,89)\"], [0.625, \"rgb(239,101,72)\"], [0.75, \"rgb(215,48,31)\"], [0.875, \"rgb(179,0,0)\"], [1.0, \"rgb(127,0,0)\"]]}, \"geo\": {\"center\": {}, \"domain\": {\"x\": [0.0, 1.0], \"y\": [0.0, 1.0]}, \"projection\": {\"type\": \"equirectangular\"}, \"scope\": \"world\", \"showcoastlines\": false, \"showframe\": false}, \"height\": 500, \"legend\": {\"tracegroupgap\": 0}, \"margin\": {\"t\": 60}, \"template\": {\"data\": {\"bar\": [{\"error_x\": {\"color\": \"#2a3f5f\"}, \"error_y\": {\"color\": \"#2a3f5f\"}, \"marker\": {\"line\": {\"color\": \"#E5ECF6\", \"width\": 0.5}}, \"type\": \"bar\"}], \"barpolar\": [{\"marker\": {\"line\": {\"color\": \"#E5ECF6\", \"width\": 0.5}}, \"type\": \"barpolar\"}], \"carpet\": [{\"aaxis\": {\"endlinecolor\": \"#2a3f5f\", \"gridcolor\": \"white\", \"linecolor\": \"white\", \"minorgridcolor\": \"white\", \"startlinecolor\": \"#2a3f5f\"}, \"baxis\": {\"endlinecolor\": \"#2a3f5f\", \"gridcolor\": \"white\", \"linecolor\": \"white\", \"minorgridcolor\": \"white\", \"startlinecolor\": \"#2a3f5f\"}, \"type\": \"carpet\"}], \"choropleth\": [{\"colorbar\": {\"outlinewidth\": 0, \"ticks\": \"\"}, \"type\": \"choropleth\"}], \"contour\": [{\"colorbar\": {\"outlinewidth\": 0, \"ticks\": \"\"}, \"colorscale\": [[0.0, \"#0d0887\"], [0.1111111111111111, \"#46039f\"], [0.2222222222222222, \"#7201a8\"], [0.3333333333333333, \"#9c179e\"], [0.4444444444444444, \"#bd3786\"], [0.5555555555555556, \"#d8576b\"], [0.6666666666666666, \"#ed7953\"], [0.7777777777777778, \"#fb9f3a\"], [0.8888888888888888, \"#fdca26\"], [1.0, \"#f0f921\"]], \"type\": \"contour\"}], \"contourcarpet\": [{\"colorbar\": {\"outlinewidth\": 0, \"ticks\": \"\"}, \"type\": \"contourcarpet\"}], \"heatmap\": [{\"colorbar\": {\"outlinewidth\": 0, \"ticks\": \"\"}, \"colorscale\": [[0.0, \"#0d0887\"], [0.1111111111111111, \"#46039f\"], [0.2222222222222222, \"#7201a8\"], [0.3333333333333333, \"#9c179e\"], [0.4444444444444444, \"#bd3786\"], [0.5555555555555556, \"#d8576b\"], [0.6666666666666666, \"#ed7953\"], [0.7777777777777778, \"#fb9f3a\"], [0.8888888888888888, \"#fdca26\"], [1.0, \"#f0f921\"]], \"type\": \"heatmap\"}], \"heatmapgl\": [{\"colorbar\": {\"outlinewidth\": 0, \"ticks\": \"\"}, \"colorscale\": [[0.0, \"#0d0887\"], [0.1111111111111111, \"#46039f\"], [0.2222222222222222, \"#7201a8\"], [0.3333333333333333, \"#9c179e\"], [0.4444444444444444, \"#bd3786\"], [0.5555555555555556, \"#d8576b\"], [0.6666666666666666, \"#ed7953\"], [0.7777777777777778, \"#fb9f3a\"], [0.8888888888888888, \"#fdca26\"], [1.0, \"#f0f921\"]], \"type\": \"heatmapgl\"}], \"histogram\": [{\"marker\": {\"colorbar\": {\"outlinewidth\": 0, \"ticks\": \"\"}}, \"type\": \"histogram\"}], \"histogram2d\": [{\"colorbar\": {\"outlinewidth\": 0, \"ticks\": \"\"}, \"colorscale\": [[0.0, \"#0d0887\"], [0.1111111111111111, \"#46039f\"], [0.2222222222222222, \"#7201a8\"], [0.3333333333333333, \"#9c179e\"], [0.4444444444444444, \"#bd3786\"], [0.5555555555555556, \"#d8576b\"], [0.6666666666666666, \"#ed7953\"], [0.7777777777777778, \"#fb9f3a\"], [0.8888888888888888, \"#fdca26\"], [1.0, \"#f0f921\"]], \"type\": \"histogram2d\"}], \"histogram2dcontour\": [{\"colorbar\": {\"outlinewidth\": 0, \"ticks\": \"\"}, \"colorscale\": [[0.0, \"#0d0887\"], [0.1111111111111111, \"#46039f\"], [0.2222222222222222, \"#7201a8\"], [0.3333333333333333, \"#9c179e\"], [0.4444444444444444, \"#bd3786\"], [0.5555555555555556, \"#d8576b\"], [0.6666666666666666, \"#ed7953\"], [0.7777777777777778, \"#fb9f3a\"], [0.8888888888888888, \"#fdca26\"], [1.0, \"#f0f921\"]], \"type\": \"histogram2dcontour\"}], \"mesh3d\": [{\"colorbar\": {\"outlinewidth\": 0, \"ticks\": \"\"}, \"type\": \"mesh3d\"}], \"parcoords\": [{\"line\": {\"colorbar\": {\"outlinewidth\": 0, \"ticks\": \"\"}}, \"type\": \"parcoords\"}], \"pie\": [{\"automargin\": true, \"type\": \"pie\"}], \"scatter\": [{\"marker\": {\"colorbar\": {\"outlinewidth\": 0, \"ticks\": \"\"}}, \"type\": \"scatter\"}], \"scatter3d\": [{\"line\": {\"colorbar\": {\"outlinewidth\": 0, \"ticks\": \"\"}}, \"marker\": {\"colorbar\": {\"outlinewidth\": 0, \"ticks\": \"\"}}, \"type\": \"scatter3d\"}], \"scattercarpet\": [{\"marker\": {\"colorbar\": {\"outlinewidth\": 0, \"ticks\": \"\"}}, \"type\": \"scattercarpet\"}], \"scattergeo\": [{\"marker\": {\"colorbar\": {\"outlinewidth\": 0, \"ticks\": \"\"}}, \"type\": \"scattergeo\"}], \"scattergl\": [{\"marker\": {\"colorbar\": {\"outlinewidth\": 0, \"ticks\": \"\"}}, \"type\": \"scattergl\"}], \"scattermapbox\": [{\"marker\": {\"colorbar\": {\"outlinewidth\": 0, \"ticks\": \"\"}}, \"type\": \"scattermapbox\"}], \"scatterpolar\": [{\"marker\": {\"colorbar\": {\"outlinewidth\": 0, \"ticks\": \"\"}}, \"type\": \"scatterpolar\"}], \"scatterpolargl\": [{\"marker\": {\"colorbar\": {\"outlinewidth\": 0, \"ticks\": \"\"}}, \"type\": \"scatterpolargl\"}], \"scatterternary\": [{\"marker\": {\"colorbar\": {\"outlinewidth\": 0, \"ticks\": \"\"}}, \"type\": \"scatterternary\"}], \"surface\": [{\"colorbar\": {\"outlinewidth\": 0, \"ticks\": \"\"}, \"colorscale\": [[0.0, \"#0d0887\"], [0.1111111111111111, \"#46039f\"], [0.2222222222222222, \"#7201a8\"], [0.3333333333333333, \"#9c179e\"], [0.4444444444444444, \"#bd3786\"], [0.5555555555555556, \"#d8576b\"], [0.6666666666666666, \"#ed7953\"], [0.7777777777777778, \"#fb9f3a\"], [0.8888888888888888, \"#fdca26\"], [1.0, \"#f0f921\"]], \"type\": \"surface\"}], \"table\": [{\"cells\": {\"fill\": {\"color\": \"#EBF0F8\"}, \"line\": {\"color\": \"white\"}}, \"header\": {\"fill\": {\"color\": \"#C8D4E3\"}, \"line\": {\"color\": \"white\"}}, \"type\": \"table\"}]}, \"layout\": {\"annotationdefaults\": {\"arrowcolor\": \"#2a3f5f\", \"arrowhead\": 0, \"arrowwidth\": 1}, \"coloraxis\": {\"colorbar\": {\"outlinewidth\": 0, \"ticks\": \"\"}}, \"colorscale\": {\"diverging\": [[0, \"#8e0152\"], [0.1, \"#c51b7d\"], [0.2, \"#de77ae\"], [0.3, \"#f1b6da\"], [0.4, \"#fde0ef\"], [0.5, \"#f7f7f7\"], [0.6, \"#e6f5d0\"], [0.7, \"#b8e186\"], [0.8, \"#7fbc41\"], [0.9, \"#4d9221\"], [1, \"#276419\"]], \"sequential\": [[0.0, \"#0d0887\"], [0.1111111111111111, \"#46039f\"], [0.2222222222222222, \"#7201a8\"], [0.3333333333333333, \"#9c179e\"], [0.4444444444444444, \"#bd3786\"], [0.5555555555555556, \"#d8576b\"], [0.6666666666666666, \"#ed7953\"], [0.7777777777777778, \"#fb9f3a\"], [0.8888888888888888, \"#fdca26\"], [1.0, \"#f0f921\"]], \"sequentialminus\": [[0.0, \"#0d0887\"], [0.1111111111111111, \"#46039f\"], [0.2222222222222222, \"#7201a8\"], [0.3333333333333333, \"#9c179e\"], [0.4444444444444444, \"#bd3786\"], [0.5555555555555556, \"#d8576b\"], [0.6666666666666666, \"#ed7953\"], [0.7777777777777778, \"#fb9f3a\"], [0.8888888888888888, \"#fdca26\"], [1.0, \"#f0f921\"]]}, \"colorway\": [\"#636efa\", \"#EF553B\", \"#00cc96\", \"#ab63fa\", \"#FFA15A\", \"#19d3f3\", \"#FF6692\", \"#B6E880\", \"#FF97FF\", \"#FECB52\"], \"font\": {\"color\": \"#2a3f5f\"}, \"geo\": {\"bgcolor\": \"white\", \"lakecolor\": \"white\", \"landcolor\": \"#E5ECF6\", \"showlakes\": true, \"showland\": true, \"subunitcolor\": \"white\"}, \"hoverlabel\": {\"align\": \"left\"}, \"hovermode\": \"closest\", \"mapbox\": {\"style\": \"light\"}, \"paper_bgcolor\": \"white\", \"plot_bgcolor\": \"#E5ECF6\", \"polar\": {\"angularaxis\": {\"gridcolor\": \"white\", \"linecolor\": \"white\", \"ticks\": \"\"}, \"bgcolor\": \"#E5ECF6\", \"radialaxis\": {\"gridcolor\": \"white\", \"linecolor\": \"white\", \"ticks\": \"\"}}, \"scene\": {\"xaxis\": {\"backgroundcolor\": \"#E5ECF6\", \"gridcolor\": \"white\", \"gridwidth\": 2, \"linecolor\": \"white\", \"showbackground\": true, \"ticks\": \"\", \"zerolinecolor\": \"white\"}, \"yaxis\": {\"backgroundcolor\": \"#E5ECF6\", \"gridcolor\": \"white\", \"gridwidth\": 2, \"linecolor\": \"white\", \"showbackground\": true, \"ticks\": \"\", \"zerolinecolor\": \"white\"}, \"zaxis\": {\"backgroundcolor\": \"#E5ECF6\", \"gridcolor\": \"white\", \"gridwidth\": 2, \"linecolor\": \"white\", \"showbackground\": true, \"ticks\": \"\", \"zerolinecolor\": \"white\"}}, \"shapedefaults\": {\"line\": {\"color\": \"#2a3f5f\"}}, \"ternary\": {\"aaxis\": {\"gridcolor\": \"white\", \"linecolor\": \"white\", \"ticks\": \"\"}, \"baxis\": {\"gridcolor\": \"white\", \"linecolor\": \"white\", \"ticks\": \"\"}, \"bgcolor\": \"#E5ECF6\", \"caxis\": {\"gridcolor\": \"white\", \"linecolor\": \"white\", \"ticks\": \"\"}}, \"title\": {\"x\": 0.05}, \"xaxis\": {\"automargin\": true, \"gridcolor\": \"white\", \"linecolor\": \"white\", \"ticks\": \"\", \"title\": {\"standoff\": 15}, \"zerolinecolor\": \"white\", \"zerolinewidth\": 2}, \"yaxis\": {\"automargin\": true, \"gridcolor\": \"white\", \"linecolor\": \"white\", \"ticks\": \"\", \"title\": {\"standoff\": 15}, \"zerolinecolor\": \"white\", \"zerolinewidth\": 2}}}, \"width\": 1000},\n",
       "                        {\"responsive\": true}\n",
       "                    ).then(function(){\n",
       "                            \n",
       "var gd = document.getElementById('9f3159c7-f9a4-44c6-8548-6b94ce8bb7e0');\n",
       "var x = new MutationObserver(function (mutations, observer) {{\n",
       "        var display = window.getComputedStyle(gd).display;\n",
       "        if (!display || display === 'none') {{\n",
       "            console.log([gd, 'removed!']);\n",
       "            Plotly.purge(gd);\n",
       "            observer.disconnect();\n",
       "        }}\n",
       "}});\n",
       "\n",
       "// Listen for the removal of the full notebook cells\n",
       "var notebookContainer = gd.closest('#notebook-container');\n",
       "if (notebookContainer) {{\n",
       "    x.observe(notebookContainer, {childList: true});\n",
       "}}\n",
       "\n",
       "// Listen for the clearing of the current output cell\n",
       "var outputEl = gd.closest('.output');\n",
       "if (outputEl) {{\n",
       "    x.observe(outputEl, {childList: true});\n",
       "}}\n",
       "\n",
       "                        })\n",
       "                };\n",
       "                });\n",
       "            </script>\n",
       "        </div>"
      ]
     },
     "metadata": {},
     "output_type": "display_data"
    }
   ],
   "source": [
    "import plotly.express as px\n",
    "import numpy as np\n",
    "\n",
    "colorscale = [\"#f7fbff\", \"#ebf3fb\", \"#deebf7\", \"#d2e3f3\", \"#c6dbef\", \"#b3d2e9\", \"#9ecae1\",\n",
    "    \"#85bcdb\", \"#6baed6\", \"#57a0ce\", \"#4292c6\", \"#3082be\", \"#2171b5\", \"#1361a9\",\n",
    "    \"#08519c\", \"#0b4083\", \"#08306b\"]\n",
    "\n",
    "endpts = list(np.linspace(1, 12, len(colorscale) - 1))\n",
    "\n",
    "fig = px.choropleth(grouped_countries, locations='code',\n",
    "                    hover_data=[\"CumConfirmed\", \"CumDeaths\"],\n",
    "                    color='CumConfirmed',\n",
    "                    range_color=(0, 25000),\n",
    "                    color_continuous_scale='orrd', \n",
    "                    labels={'CumConfirmed': 'Confirmed Cases (x10)', 'CumDeaths': 'Deaths'}, \n",
    "                    featureidkey=\"grouped_countries.CumDeaths\",\n",
    "                    scope='world', height=500, width=1000)\n",
    "fig.update_layout(\n",
    "        geo=dict(\n",
    "            showframe=False,\n",
    "            showcoastlines=False,\n",
    "            projection_type='equirectangular'\n",
    "        )\n",
    "    )\n",
    "\n",
    "fig.show()"
   ]
  },
  {
   "cell_type": "code",
   "execution_count": 55,
   "metadata": {},
   "outputs": [
    {
     "data": {
      "text/plain": [
       "0      2.542825\n",
       "1      2.557507\n",
       "2      3.120574\n",
       "3      2.699838\n",
       "4      1.146128\n",
       "         ...   \n",
       "178    2.382017\n",
       "179    2.374748\n",
       "180    0.602060\n",
       "181    1.591065\n",
       "182    0.954243\n",
       "Name: CumConfirmed, Length: 183, dtype: float64"
      ]
     },
     "execution_count": 55,
     "metadata": {},
     "output_type": "execute_result"
    }
   ],
   "source": [
    "np.log10(grouped_countries['CumConfirmed'])"
   ]
  },
  {
   "cell_type": "code",
   "execution_count": 56,
   "metadata": {},
   "outputs": [],
   "source": [
    "def world_map():\n",
    "    fig = px.choropleth(grouped_countries, locations='code',\n",
    "                    color='CumConfirmed',\n",
    "                    color_continuous_scale='Reds', \n",
    "                    labels={'Confirmed Cases': 'CumConfirmed', 'Deaths': 'CumDeaths'}, \n",
    "                    featureidkey=\"grouped_countries.CumDeaths\",\n",
    "                    scope='world')\n",
    "    fig.update_layout(\n",
    "            title_text='Global Cases',\n",
    "            geo=dict(\n",
    "                showframe=False,\n",
    "                showcoastlines=False,\n",
    "                projection_type='equirectangular'\n",
    "            )\n",
    "        )\n",
    "\n",
    "    return fig"
   ]
  },
  {
   "cell_type": "code",
   "execution_count": 57,
   "metadata": {
    "scrolled": true
   },
   "outputs": [
    {
     "data": {
      "text/html": [
       "<div>\n",
       "<style scoped>\n",
       "    .dataframe tbody tr th:only-of-type {\n",
       "        vertical-align: middle;\n",
       "    }\n",
       "\n",
       "    .dataframe tbody tr th {\n",
       "        vertical-align: top;\n",
       "    }\n",
       "\n",
       "    .dataframe thead th {\n",
       "        text-align: right;\n",
       "    }\n",
       "</style>\n",
       "<table border=\"1\" class=\"dataframe\">\n",
       "  <thead>\n",
       "    <tr style=\"text-align: right;\">\n",
       "      <th></th>\n",
       "      <th>Country/Region</th>\n",
       "      <th>Lat</th>\n",
       "      <th>Long</th>\n",
       "      <th>date</th>\n",
       "      <th>CumConfirmed</th>\n",
       "      <th>CumDeaths</th>\n",
       "      <th>CumRecovered</th>\n",
       "      <th>location</th>\n",
       "      <th>code</th>\n",
       "    </tr>\n",
       "  </thead>\n",
       "  <tbody>\n",
       "    <tr>\n",
       "      <th>0</th>\n",
       "      <td>Afghanistan</td>\n",
       "      <td>33.0000</td>\n",
       "      <td>65.0000</td>\n",
       "      <td>2020-04-05</td>\n",
       "      <td>349</td>\n",
       "      <td>7</td>\n",
       "      <td>15</td>\n",
       "      <td>(33.0, 65.0)</td>\n",
       "      <td>AFG</td>\n",
       "    </tr>\n",
       "    <tr>\n",
       "      <th>1</th>\n",
       "      <td>Albania</td>\n",
       "      <td>41.1533</td>\n",
       "      <td>20.1683</td>\n",
       "      <td>2020-04-05</td>\n",
       "      <td>361</td>\n",
       "      <td>20</td>\n",
       "      <td>104</td>\n",
       "      <td>(41.1533, 20.1683)</td>\n",
       "      <td>ALB</td>\n",
       "    </tr>\n",
       "    <tr>\n",
       "      <th>2</th>\n",
       "      <td>Algeria</td>\n",
       "      <td>28.0339</td>\n",
       "      <td>1.6596</td>\n",
       "      <td>2020-04-05</td>\n",
       "      <td>1320</td>\n",
       "      <td>152</td>\n",
       "      <td>90</td>\n",
       "      <td>(28.0339, 1.6596)</td>\n",
       "      <td>DZA</td>\n",
       "    </tr>\n",
       "    <tr>\n",
       "      <th>3</th>\n",
       "      <td>Andorra</td>\n",
       "      <td>42.5063</td>\n",
       "      <td>1.5218</td>\n",
       "      <td>2020-04-05</td>\n",
       "      <td>501</td>\n",
       "      <td>18</td>\n",
       "      <td>26</td>\n",
       "      <td>(42.5063, 1.5218)</td>\n",
       "      <td>AND</td>\n",
       "    </tr>\n",
       "    <tr>\n",
       "      <th>4</th>\n",
       "      <td>Angola</td>\n",
       "      <td>-11.2027</td>\n",
       "      <td>17.8739</td>\n",
       "      <td>2020-04-05</td>\n",
       "      <td>14</td>\n",
       "      <td>2</td>\n",
       "      <td>2</td>\n",
       "      <td>(-11.2027, 17.8739)</td>\n",
       "      <td>AGO</td>\n",
       "    </tr>\n",
       "  </tbody>\n",
       "</table>\n",
       "</div>"
      ],
      "text/plain": [
       "  Country/Region      Lat     Long       date  CumConfirmed  CumDeaths  \\\n",
       "0    Afghanistan  33.0000  65.0000 2020-04-05           349          7   \n",
       "1        Albania  41.1533  20.1683 2020-04-05           361         20   \n",
       "2        Algeria  28.0339   1.6596 2020-04-05          1320        152   \n",
       "3        Andorra  42.5063   1.5218 2020-04-05           501         18   \n",
       "4         Angola -11.2027  17.8739 2020-04-05            14          2   \n",
       "\n",
       "   CumRecovered             location code  \n",
       "0            15         (33.0, 65.0)  AFG  \n",
       "1           104   (41.1533, 20.1683)  ALB  \n",
       "2            90    (28.0339, 1.6596)  DZA  \n",
       "3            26    (42.5063, 1.5218)  AND  \n",
       "4             2  (-11.2027, 17.8739)  AGO  "
      ]
     },
     "execution_count": 57,
     "metadata": {},
     "output_type": "execute_result"
    }
   ],
   "source": [
    "base_url = \"https://raw.githubusercontent.com/CSSEGISandData/COVID-19/master/csse_covid_19_data/csse_covid_19_time_series/\"\n",
    "\n",
    "tick_font = {\n",
    "    'size': 12,\n",
    "    'color': \"rgb(30,30,30)\",\n",
    "    'family': \"Helvetica, sans-serif\"\n",
    "}\n",
    "\n",
    "colors = {'background': '#111111', 'text': '#7FDBFF'}\n",
    "\n",
    "\n",
    "def loadData(fileName, columnName):\n",
    "    data = pd.read_csv(base_url + fileName) \\\n",
    "             .melt(id_vars=['Province/State', 'Country/Region', 'Lat', 'Long'], var_name='date', value_name=columnName) \\\n",
    "             .fillna('<all>')\n",
    "    data['date'] = data['date'].astype('datetime64[ns]')\n",
    "    return data\n",
    "\n",
    "\n",
    "all_data = loadData(\"time_series_covid19_confirmed_global.csv\", \"CumConfirmed\") \\\n",
    "    .merge(loadData(\"time_series_covid19_deaths_global.csv\", \"CumDeaths\")) \\\n",
    "    .merge(loadData(\"time_series_covid19_recovered_global.csv\", \"CumRecovered\"))\n",
    "\n",
    "all_data['location'] = list(zip(all_data['Lat'], all_data['Long']))\n",
    "\n",
    "countries = sorted(all_data['Country/Region'].unique())\n",
    "\n",
    "# Grouping data by country\n",
    "grouped_country = all_data.groupby('Country/Region').max().reset_index()\n",
    "grouped_country.drop('Province/State', axis=1, inplace=True)\n",
    "total_confirmed = grouped_country['CumConfirmed'].sum().astype(str)\n",
    "total_deaths = grouped_country['CumDeaths'].sum().astype(str)\n",
    "#print(total_confirmed)\n",
    "#print(total_deaths)\n",
    "\n",
    "# Adding 3-letter country codes\n",
    "input_countries = grouped_country['Country/Region']\n",
    "\n",
    "countries = {}\n",
    "for country in pycountry.countries:\n",
    "    countries[country.name] = country.alpha_3\n",
    "\n",
    "codes = [countries.get(country, 'Unknown code') for country in input_countries]\n",
    "\n",
    "#print(codes)\n",
    "grouped_country['code'] = codes\n",
    "\n",
    "# Manually updating some 3-letter codes\n",
    "grouped_country.loc[20, 'code'] = 'BOL'\n",
    "grouped_country.loc[24, 'code'] = 'BWN'\n",
    "grouped_country.loc[27, 'code'] = 'MMR'\n",
    "grouped_country.loc[37, 'code'] = 'COG'\n",
    "grouped_country.loc[38, 'code'] = 'COD'\n",
    "grouped_country.loc[40, 'code'] = 'CIV'\n",
    "grouped_country.loc[73, 'code'] = 'VAT'\n",
    "grouped_country.loc[79, 'code'] = 'IRN'\n",
    "grouped_country.loc[89, 'code'] = 'KOR'\n",
    "grouped_country.loc[90, 'code'] = 'RKS'\n",
    "grouped_country.loc[93, 'code'] = 'LAO'\n",
    "grouped_country.loc[110, 'code'] = 'MDA'\n",
    "grouped_country.loc[135, 'code'] = 'RUS'\n",
    "grouped_country.loc[157, 'code'] = 'TWN'\n",
    "grouped_country.loc[158, 'code'] = 'TZA'\n",
    "grouped_country.loc[164, 'code'] = 'USA'\n",
    "grouped_country.loc[171, 'code'] = 'VEN'\n",
    "grouped_country.loc[172, 'code'] = 'VNM'\n",
    "grouped_country.loc[173, 'code'] = 'PSE'\n",
    "\n",
    "grouped_country.head()"
   ]
  },
  {
   "cell_type": "code",
   "execution_count": 58,
   "metadata": {},
   "outputs": [
    {
     "data": {
      "text/html": [
       "<div>\n",
       "<style scoped>\n",
       "    .dataframe tbody tr th:only-of-type {\n",
       "        vertical-align: middle;\n",
       "    }\n",
       "\n",
       "    .dataframe tbody tr th {\n",
       "        vertical-align: top;\n",
       "    }\n",
       "\n",
       "    .dataframe thead th {\n",
       "        text-align: right;\n",
       "    }\n",
       "</style>\n",
       "<table border=\"1\" class=\"dataframe\">\n",
       "  <thead>\n",
       "    <tr style=\"text-align: right;\">\n",
       "      <th></th>\n",
       "      <th>index</th>\n",
       "      <th>Country/Region</th>\n",
       "      <th>Lat</th>\n",
       "      <th>Long</th>\n",
       "      <th>date</th>\n",
       "      <th>CumConfirmed</th>\n",
       "      <th>CumDeaths</th>\n",
       "      <th>CumRecovered</th>\n",
       "      <th>location</th>\n",
       "      <th>code</th>\n",
       "      <th>DeathRate</th>\n",
       "    </tr>\n",
       "  </thead>\n",
       "  <tbody>\n",
       "    <tr>\n",
       "      <th>0</th>\n",
       "      <td>62</td>\n",
       "      <td>Gambia</td>\n",
       "      <td>13.4432</td>\n",
       "      <td>-15.3101</td>\n",
       "      <td>2020-04-05</td>\n",
       "      <td>4</td>\n",
       "      <td>1</td>\n",
       "      <td>2</td>\n",
       "      <td>(13.4432, -15.3101)</td>\n",
       "      <td>GMB</td>\n",
       "      <td>25.000000</td>\n",
       "    </tr>\n",
       "    <tr>\n",
       "      <th>1</th>\n",
       "      <td>96</td>\n",
       "      <td>Liberia</td>\n",
       "      <td>6.4281</td>\n",
       "      <td>-9.4295</td>\n",
       "      <td>2020-04-05</td>\n",
       "      <td>13</td>\n",
       "      <td>3</td>\n",
       "      <td>3</td>\n",
       "      <td>(6.4281, -9.4295)</td>\n",
       "      <td>LBR</td>\n",
       "      <td>23.076923</td>\n",
       "    </tr>\n",
       "    <tr>\n",
       "      <th>2</th>\n",
       "      <td>101</td>\n",
       "      <td>MS Zaandam</td>\n",
       "      <td>0.0000</td>\n",
       "      <td>0.0000</td>\n",
       "      <td>2020-04-05</td>\n",
       "      <td>9</td>\n",
       "      <td>2</td>\n",
       "      <td>0</td>\n",
       "      <td>(0.0, 0.0)</td>\n",
       "      <td>Unknown code</td>\n",
       "      <td>22.222222</td>\n",
       "    </tr>\n",
       "    <tr>\n",
       "      <th>3</th>\n",
       "      <td>71</td>\n",
       "      <td>Guyana</td>\n",
       "      <td>5.0000</td>\n",
       "      <td>-58.7500</td>\n",
       "      <td>2020-04-05</td>\n",
       "      <td>24</td>\n",
       "      <td>4</td>\n",
       "      <td>0</td>\n",
       "      <td>(5.0, -58.75)</td>\n",
       "      <td>GUY</td>\n",
       "      <td>16.666667</td>\n",
       "    </tr>\n",
       "    <tr>\n",
       "      <th>4</th>\n",
       "      <td>120</td>\n",
       "      <td>Nicaragua</td>\n",
       "      <td>12.8654</td>\n",
       "      <td>-85.2072</td>\n",
       "      <td>2020-04-05</td>\n",
       "      <td>6</td>\n",
       "      <td>1</td>\n",
       "      <td>0</td>\n",
       "      <td>(12.8654, -85.2072)</td>\n",
       "      <td>NIC</td>\n",
       "      <td>16.666667</td>\n",
       "    </tr>\n",
       "  </tbody>\n",
       "</table>\n",
       "</div>"
      ],
      "text/plain": [
       "   index Country/Region      Lat     Long       date  CumConfirmed  CumDeaths  \\\n",
       "0     62         Gambia  13.4432 -15.3101 2020-04-05             4          1   \n",
       "1     96        Liberia   6.4281  -9.4295 2020-04-05            13          3   \n",
       "2    101     MS Zaandam   0.0000   0.0000 2020-04-05             9          2   \n",
       "3     71         Guyana   5.0000 -58.7500 2020-04-05            24          4   \n",
       "4    120      Nicaragua  12.8654 -85.2072 2020-04-05             6          1   \n",
       "\n",
       "   CumRecovered             location          code  DeathRate  \n",
       "0             2  (13.4432, -15.3101)           GMB  25.000000  \n",
       "1             3    (6.4281, -9.4295)           LBR  23.076923  \n",
       "2             0           (0.0, 0.0)  Unknown code  22.222222  \n",
       "3             0        (5.0, -58.75)           GUY  16.666667  \n",
       "4             0  (12.8654, -85.2072)           NIC  16.666667  "
      ]
     },
     "execution_count": 58,
     "metadata": {},
     "output_type": "execute_result"
    }
   ],
   "source": [
    "grouped_country['DeathRate'] = (grouped_country.CumDeaths/grouped_country.CumConfirmed)*100\n",
    "grouped_country = grouped_country.sort_values(['DeathRate'], ascending=False).reset_index()\n",
    "grouped_country.head()"
   ]
  },
  {
   "cell_type": "code",
   "execution_count": 59,
   "metadata": {},
   "outputs": [],
   "source": [
    "greater_one = grouped_country[grouped_country['DeathRate'] > 0]\n",
    "\n",
    "more_than_100 = greater_one[greater_one.CumConfirmed > 1000]\n",
    "\n",
    "mean = more_than_100.DeathRate.mean()"
   ]
  },
  {
   "cell_type": "code",
   "execution_count": 60,
   "metadata": {},
   "outputs": [
    {
     "data": {
      "text/html": [
       "<div>\n",
       "<style scoped>\n",
       "    .dataframe tbody tr th:only-of-type {\n",
       "        vertical-align: middle;\n",
       "    }\n",
       "\n",
       "    .dataframe tbody tr th {\n",
       "        vertical-align: top;\n",
       "    }\n",
       "\n",
       "    .dataframe thead th {\n",
       "        text-align: right;\n",
       "    }\n",
       "</style>\n",
       "<table border=\"1\" class=\"dataframe\">\n",
       "  <thead>\n",
       "    <tr style=\"text-align: right;\">\n",
       "      <th></th>\n",
       "      <th>index</th>\n",
       "      <th>Country/Region</th>\n",
       "      <th>Lat</th>\n",
       "      <th>Long</th>\n",
       "      <th>date</th>\n",
       "      <th>CumConfirmed</th>\n",
       "      <th>CumDeaths</th>\n",
       "      <th>CumRecovered</th>\n",
       "      <th>location</th>\n",
       "      <th>code</th>\n",
       "      <th>DeathRate</th>\n",
       "    </tr>\n",
       "  </thead>\n",
       "  <tbody>\n",
       "    <tr>\n",
       "      <th>11</th>\n",
       "      <td>83</td>\n",
       "      <td>Italy</td>\n",
       "      <td>43.0000</td>\n",
       "      <td>12.0000</td>\n",
       "      <td>2020-04-05</td>\n",
       "      <td>128948</td>\n",
       "      <td>15887</td>\n",
       "      <td>21815</td>\n",
       "      <td>(43.0, 12.0)</td>\n",
       "      <td>ITA</td>\n",
       "      <td>12.320470</td>\n",
       "    </tr>\n",
       "    <tr>\n",
       "      <th>14</th>\n",
       "      <td>2</td>\n",
       "      <td>Algeria</td>\n",
       "      <td>28.0339</td>\n",
       "      <td>1.6596</td>\n",
       "      <td>2020-04-05</td>\n",
       "      <td>1320</td>\n",
       "      <td>152</td>\n",
       "      <td>90</td>\n",
       "      <td>(28.0339, 1.6596)</td>\n",
       "      <td>DZA</td>\n",
       "      <td>11.515152</td>\n",
       "    </tr>\n",
       "    <tr>\n",
       "      <th>18</th>\n",
       "      <td>170</td>\n",
       "      <td>United Kingdom</td>\n",
       "      <td>55.3781</td>\n",
       "      <td>-2.3644</td>\n",
       "      <td>2020-04-05</td>\n",
       "      <td>47806</td>\n",
       "      <td>4934</td>\n",
       "      <td>135</td>\n",
       "      <td>(55.3781, -3.4360000000000004)</td>\n",
       "      <td>GBR</td>\n",
       "      <td>10.320880</td>\n",
       "    </tr>\n",
       "    <tr>\n",
       "      <th>21</th>\n",
       "      <td>118</td>\n",
       "      <td>Netherlands</td>\n",
       "      <td>52.1326</td>\n",
       "      <td>5.2913</td>\n",
       "      <td>2020-04-05</td>\n",
       "      <td>17851</td>\n",
       "      <td>1766</td>\n",
       "      <td>250</td>\n",
       "      <td>(52.1326, 5.2913)</td>\n",
       "      <td>NLD</td>\n",
       "      <td>9.893003</td>\n",
       "    </tr>\n",
       "    <tr>\n",
       "      <th>22</th>\n",
       "      <td>153</td>\n",
       "      <td>Spain</td>\n",
       "      <td>40.0000</td>\n",
       "      <td>-4.0000</td>\n",
       "      <td>2020-04-05</td>\n",
       "      <td>131646</td>\n",
       "      <td>12641</td>\n",
       "      <td>38080</td>\n",
       "      <td>(40.0, -4.0)</td>\n",
       "      <td>ESP</td>\n",
       "      <td>9.602267</td>\n",
       "    </tr>\n",
       "    <tr>\n",
       "      <th>23</th>\n",
       "      <td>78</td>\n",
       "      <td>Indonesia</td>\n",
       "      <td>-0.7893</td>\n",
       "      <td>113.9213</td>\n",
       "      <td>2020-04-05</td>\n",
       "      <td>2273</td>\n",
       "      <td>198</td>\n",
       "      <td>164</td>\n",
       "      <td>(-0.7893, 113.9213)</td>\n",
       "      <td>IDN</td>\n",
       "      <td>8.710955</td>\n",
       "    </tr>\n",
       "    <tr>\n",
       "      <th>24</th>\n",
       "      <td>60</td>\n",
       "      <td>France</td>\n",
       "      <td>46.8852</td>\n",
       "      <td>165.6180</td>\n",
       "      <td>2020-04-05</td>\n",
       "      <td>92839</td>\n",
       "      <td>8078</td>\n",
       "      <td>16183</td>\n",
       "      <td>(46.8852, -56.3159)</td>\n",
       "      <td>FRA</td>\n",
       "      <td>8.701085</td>\n",
       "    </tr>\n",
       "    <tr>\n",
       "      <th>26</th>\n",
       "      <td>16</td>\n",
       "      <td>Belgium</td>\n",
       "      <td>50.8333</td>\n",
       "      <td>4.0000</td>\n",
       "      <td>2020-04-05</td>\n",
       "      <td>19691</td>\n",
       "      <td>1447</td>\n",
       "      <td>3751</td>\n",
       "      <td>(50.8333, 4.0)</td>\n",
       "      <td>BEL</td>\n",
       "      <td>7.348535</td>\n",
       "    </tr>\n",
       "    <tr>\n",
       "      <th>27</th>\n",
       "      <td>115</td>\n",
       "      <td>Morocco</td>\n",
       "      <td>31.7917</td>\n",
       "      <td>-7.0926</td>\n",
       "      <td>2020-04-05</td>\n",
       "      <td>1021</td>\n",
       "      <td>70</td>\n",
       "      <td>76</td>\n",
       "      <td>(31.7917, -7.0926)</td>\n",
       "      <td>MAR</td>\n",
       "      <td>6.856024</td>\n",
       "    </tr>\n",
       "    <tr>\n",
       "      <th>30</th>\n",
       "      <td>51</td>\n",
       "      <td>Egypt</td>\n",
       "      <td>26.0000</td>\n",
       "      <td>30.0000</td>\n",
       "      <td>2020-04-05</td>\n",
       "      <td>1173</td>\n",
       "      <td>78</td>\n",
       "      <td>247</td>\n",
       "      <td>(26.0, 30.0)</td>\n",
       "      <td>EGY</td>\n",
       "      <td>6.649616</td>\n",
       "    </tr>\n",
       "    <tr>\n",
       "      <th>33</th>\n",
       "      <td>79</td>\n",
       "      <td>Iran</td>\n",
       "      <td>32.0000</td>\n",
       "      <td>53.0000</td>\n",
       "      <td>2020-04-05</td>\n",
       "      <td>58226</td>\n",
       "      <td>3603</td>\n",
       "      <td>19736</td>\n",
       "      <td>(32.0, 53.0)</td>\n",
       "      <td>IRN</td>\n",
       "      <td>6.187957</td>\n",
       "    </tr>\n",
       "    <tr>\n",
       "      <th>34</th>\n",
       "      <td>157</td>\n",
       "      <td>Sweden</td>\n",
       "      <td>63.0000</td>\n",
       "      <td>16.0000</td>\n",
       "      <td>2020-04-05</td>\n",
       "      <td>6830</td>\n",
       "      <td>401</td>\n",
       "      <td>205</td>\n",
       "      <td>(63.0, 16.0)</td>\n",
       "      <td>TWN</td>\n",
       "      <td>5.871157</td>\n",
       "    </tr>\n",
       "    <tr>\n",
       "      <th>39</th>\n",
       "      <td>50</td>\n",
       "      <td>Ecuador</td>\n",
       "      <td>-1.8312</td>\n",
       "      <td>-78.1834</td>\n",
       "      <td>2020-04-05</td>\n",
       "      <td>3646</td>\n",
       "      <td>180</td>\n",
       "      <td>100</td>\n",
       "      <td>(-1.8312, -78.1834)</td>\n",
       "      <td>ECU</td>\n",
       "      <td>4.936917</td>\n",
       "    </tr>\n",
       "    <tr>\n",
       "      <th>45</th>\n",
       "      <td>35</td>\n",
       "      <td>China</td>\n",
       "      <td>47.8620</td>\n",
       "      <td>127.7615</td>\n",
       "      <td>2020-04-05</td>\n",
       "      <td>67803</td>\n",
       "      <td>3210</td>\n",
       "      <td>63945</td>\n",
       "      <td>(47.862, 127.7615)</td>\n",
       "      <td>CHN</td>\n",
       "      <td>4.734304</td>\n",
       "    </tr>\n",
       "    <tr>\n",
       "      <th>46</th>\n",
       "      <td>49</td>\n",
       "      <td>Dominican Republic</td>\n",
       "      <td>18.7357</td>\n",
       "      <td>-70.1627</td>\n",
       "      <td>2020-04-05</td>\n",
       "      <td>1745</td>\n",
       "      <td>82</td>\n",
       "      <td>17</td>\n",
       "      <td>(18.7357, -70.1627)</td>\n",
       "      <td>DOM</td>\n",
       "      <td>4.699140</td>\n",
       "    </tr>\n",
       "    <tr>\n",
       "      <th>47</th>\n",
       "      <td>131</td>\n",
       "      <td>Philippines</td>\n",
       "      <td>13.0000</td>\n",
       "      <td>122.0000</td>\n",
       "      <td>2020-04-05</td>\n",
       "      <td>3246</td>\n",
       "      <td>152</td>\n",
       "      <td>64</td>\n",
       "      <td>(13.0, 122.0)</td>\n",
       "      <td>PHL</td>\n",
       "      <td>4.682686</td>\n",
       "    </tr>\n",
       "    <tr>\n",
       "      <th>52</th>\n",
       "      <td>23</td>\n",
       "      <td>Brazil</td>\n",
       "      <td>-14.2350</td>\n",
       "      <td>-51.9253</td>\n",
       "      <td>2020-04-05</td>\n",
       "      <td>11130</td>\n",
       "      <td>486</td>\n",
       "      <td>127</td>\n",
       "      <td>(-14.235, -51.9253)</td>\n",
       "      <td>BRA</td>\n",
       "      <td>4.366577</td>\n",
       "    </tr>\n",
       "    <tr>\n",
       "      <th>53</th>\n",
       "      <td>66</td>\n",
       "      <td>Greece</td>\n",
       "      <td>39.0742</td>\n",
       "      <td>21.8243</td>\n",
       "      <td>2020-04-05</td>\n",
       "      <td>1735</td>\n",
       "      <td>73</td>\n",
       "      <td>78</td>\n",
       "      <td>(39.0742, 21.8243)</td>\n",
       "      <td>GRC</td>\n",
       "      <td>4.207493</td>\n",
       "    </tr>\n",
       "    <tr>\n",
       "      <th>54</th>\n",
       "      <td>110</td>\n",
       "      <td>Mexico</td>\n",
       "      <td>23.6345</td>\n",
       "      <td>-102.5528</td>\n",
       "      <td>2020-04-05</td>\n",
       "      <td>1890</td>\n",
       "      <td>79</td>\n",
       "      <td>633</td>\n",
       "      <td>(23.6345, -102.5528)</td>\n",
       "      <td>MDA</td>\n",
       "      <td>4.179894</td>\n",
       "    </tr>\n",
       "    <tr>\n",
       "      <th>55</th>\n",
       "      <td>45</td>\n",
       "      <td>Denmark</td>\n",
       "      <td>71.7069</td>\n",
       "      <td>9.5018</td>\n",
       "      <td>2020-04-05</td>\n",
       "      <td>4369</td>\n",
       "      <td>179</td>\n",
       "      <td>1327</td>\n",
       "      <td>(71.7069, -42.6043)</td>\n",
       "      <td>DNK</td>\n",
       "      <td>4.097047</td>\n",
       "    </tr>\n",
       "    <tr>\n",
       "      <th>56</th>\n",
       "      <td>135</td>\n",
       "      <td>Romania</td>\n",
       "      <td>45.9432</td>\n",
       "      <td>24.9668</td>\n",
       "      <td>2020-04-05</td>\n",
       "      <td>3864</td>\n",
       "      <td>151</td>\n",
       "      <td>374</td>\n",
       "      <td>(45.9432, 24.9668)</td>\n",
       "      <td>RUS</td>\n",
       "      <td>3.907867</td>\n",
       "    </tr>\n",
       "    <tr>\n",
       "      <th>59</th>\n",
       "      <td>130</td>\n",
       "      <td>Peru</td>\n",
       "      <td>-9.1900</td>\n",
       "      <td>-75.0152</td>\n",
       "      <td>2020-04-05</td>\n",
       "      <td>2281</td>\n",
       "      <td>83</td>\n",
       "      <td>989</td>\n",
       "      <td>(-9.19, -75.0152)</td>\n",
       "      <td>PER</td>\n",
       "      <td>3.638755</td>\n",
       "    </tr>\n",
       "    <tr>\n",
       "      <th>63</th>\n",
       "      <td>158</td>\n",
       "      <td>Switzerland</td>\n",
       "      <td>46.8182</td>\n",
       "      <td>8.2275</td>\n",
       "      <td>2020-04-05</td>\n",
       "      <td>21100</td>\n",
       "      <td>715</td>\n",
       "      <td>6415</td>\n",
       "      <td>(46.8182, 8.2275)</td>\n",
       "      <td>TZA</td>\n",
       "      <td>3.388626</td>\n",
       "    </tr>\n",
       "    <tr>\n",
       "      <th>66</th>\n",
       "      <td>81</td>\n",
       "      <td>Ireland</td>\n",
       "      <td>53.1424</td>\n",
       "      <td>-7.6921</td>\n",
       "      <td>2020-04-05</td>\n",
       "      <td>4994</td>\n",
       "      <td>158</td>\n",
       "      <td>25</td>\n",
       "      <td>(53.1424, -7.6921)</td>\n",
       "      <td>IRL</td>\n",
       "      <td>3.163797</td>\n",
       "    </tr>\n",
       "    <tr>\n",
       "      <th>68</th>\n",
       "      <td>6</td>\n",
       "      <td>Argentina</td>\n",
       "      <td>-38.4161</td>\n",
       "      <td>-63.6167</td>\n",
       "      <td>2020-04-05</td>\n",
       "      <td>1451</td>\n",
       "      <td>44</td>\n",
       "      <td>280</td>\n",
       "      <td>(-38.4161, -63.6167)</td>\n",
       "      <td>ARG</td>\n",
       "      <td>3.032391</td>\n",
       "    </tr>\n",
       "    <tr>\n",
       "      <th>70</th>\n",
       "      <td>166</td>\n",
       "      <td>US</td>\n",
       "      <td>37.0902</td>\n",
       "      <td>-95.7129</td>\n",
       "      <td>2020-04-05</td>\n",
       "      <td>337072</td>\n",
       "      <td>9619</td>\n",
       "      <td>17448</td>\n",
       "      <td>(37.0902, -95.7129)</td>\n",
       "      <td>Unknown code</td>\n",
       "      <td>2.853693</td>\n",
       "    </tr>\n",
       "    <tr>\n",
       "      <th>72</th>\n",
       "      <td>168</td>\n",
       "      <td>Ukraine</td>\n",
       "      <td>48.3794</td>\n",
       "      <td>31.1656</td>\n",
       "      <td>2020-04-05</td>\n",
       "      <td>1308</td>\n",
       "      <td>37</td>\n",
       "      <td>28</td>\n",
       "      <td>(48.3794, 31.1656)</td>\n",
       "      <td>UKR</td>\n",
       "      <td>2.828746</td>\n",
       "    </tr>\n",
       "    <tr>\n",
       "      <th>75</th>\n",
       "      <td>77</td>\n",
       "      <td>India</td>\n",
       "      <td>21.0000</td>\n",
       "      <td>78.0000</td>\n",
       "      <td>2020-04-05</td>\n",
       "      <td>3588</td>\n",
       "      <td>99</td>\n",
       "      <td>229</td>\n",
       "      <td>(21.0, 78.0)</td>\n",
       "      <td>IND</td>\n",
       "      <td>2.759197</td>\n",
       "    </tr>\n",
       "    <tr>\n",
       "      <th>76</th>\n",
       "      <td>144</td>\n",
       "      <td>Serbia</td>\n",
       "      <td>44.0165</td>\n",
       "      <td>21.0059</td>\n",
       "      <td>2020-04-05</td>\n",
       "      <td>1908</td>\n",
       "      <td>51</td>\n",
       "      <td>15</td>\n",
       "      <td>(44.0165, 21.0059)</td>\n",
       "      <td>SRB</td>\n",
       "      <td>2.672956</td>\n",
       "    </tr>\n",
       "    <tr>\n",
       "      <th>77</th>\n",
       "      <td>133</td>\n",
       "      <td>Portugal</td>\n",
       "      <td>39.3999</td>\n",
       "      <td>-8.2245</td>\n",
       "      <td>2020-04-05</td>\n",
       "      <td>11278</td>\n",
       "      <td>295</td>\n",
       "      <td>75</td>\n",
       "      <td>(39.3999, -8.2245)</td>\n",
       "      <td>PRT</td>\n",
       "      <td>2.615712</td>\n",
       "    </tr>\n",
       "    <tr>\n",
       "      <th>79</th>\n",
       "      <td>127</td>\n",
       "      <td>Panama</td>\n",
       "      <td>8.5380</td>\n",
       "      <td>-80.7821</td>\n",
       "      <td>2020-04-05</td>\n",
       "      <td>1801</td>\n",
       "      <td>46</td>\n",
       "      <td>13</td>\n",
       "      <td>(8.538, -80.7821)</td>\n",
       "      <td>PAN</td>\n",
       "      <td>2.554137</td>\n",
       "    </tr>\n",
       "    <tr>\n",
       "      <th>82</th>\n",
       "      <td>85</td>\n",
       "      <td>Japan</td>\n",
       "      <td>36.0000</td>\n",
       "      <td>138.0000</td>\n",
       "      <td>2020-04-05</td>\n",
       "      <td>3139</td>\n",
       "      <td>77</td>\n",
       "      <td>514</td>\n",
       "      <td>(36.0, 138.0)</td>\n",
       "      <td>JPN</td>\n",
       "      <td>2.453011</td>\n",
       "    </tr>\n",
       "    <tr>\n",
       "      <th>83</th>\n",
       "      <td>36</td>\n",
       "      <td>Colombia</td>\n",
       "      <td>4.5709</td>\n",
       "      <td>-74.2973</td>\n",
       "      <td>2020-04-05</td>\n",
       "      <td>1485</td>\n",
       "      <td>35</td>\n",
       "      <td>88</td>\n",
       "      <td>(4.5709, -74.2973)</td>\n",
       "      <td>COL</td>\n",
       "      <td>2.356902</td>\n",
       "    </tr>\n",
       "    <tr>\n",
       "      <th>85</th>\n",
       "      <td>132</td>\n",
       "      <td>Poland</td>\n",
       "      <td>51.9194</td>\n",
       "      <td>19.1451</td>\n",
       "      <td>2020-04-05</td>\n",
       "      <td>4102</td>\n",
       "      <td>94</td>\n",
       "      <td>134</td>\n",
       "      <td>(51.9194, 19.1451)</td>\n",
       "      <td>POL</td>\n",
       "      <td>2.291565</td>\n",
       "    </tr>\n",
       "    <tr>\n",
       "      <th>87</th>\n",
       "      <td>165</td>\n",
       "      <td>Turkey</td>\n",
       "      <td>38.9637</td>\n",
       "      <td>35.2433</td>\n",
       "      <td>2020-04-05</td>\n",
       "      <td>27069</td>\n",
       "      <td>574</td>\n",
       "      <td>1042</td>\n",
       "      <td>(38.9637, 35.2433)</td>\n",
       "      <td>TUR</td>\n",
       "      <td>2.120507</td>\n",
       "    </tr>\n",
       "    <tr>\n",
       "      <th>89</th>\n",
       "      <td>89</td>\n",
       "      <td>Korea, South</td>\n",
       "      <td>36.0000</td>\n",
       "      <td>128.0000</td>\n",
       "      <td>2020-04-05</td>\n",
       "      <td>10237</td>\n",
       "      <td>183</td>\n",
       "      <td>6463</td>\n",
       "      <td>(36.0, 128.0)</td>\n",
       "      <td>KOR</td>\n",
       "      <td>1.787633</td>\n",
       "    </tr>\n",
       "    <tr>\n",
       "      <th>92</th>\n",
       "      <td>9</td>\n",
       "      <td>Austria</td>\n",
       "      <td>47.5162</td>\n",
       "      <td>14.5501</td>\n",
       "      <td>2020-04-05</td>\n",
       "      <td>12051</td>\n",
       "      <td>204</td>\n",
       "      <td>2998</td>\n",
       "      <td>(47.5162, 14.5501)</td>\n",
       "      <td>AUT</td>\n",
       "      <td>1.692806</td>\n",
       "    </tr>\n",
       "    <tr>\n",
       "      <th>93</th>\n",
       "      <td>104</td>\n",
       "      <td>Malaysia</td>\n",
       "      <td>2.5000</td>\n",
       "      <td>112.5000</td>\n",
       "      <td>2020-04-05</td>\n",
       "      <td>3662</td>\n",
       "      <td>61</td>\n",
       "      <td>1005</td>\n",
       "      <td>(2.5, 112.5)</td>\n",
       "      <td>MYS</td>\n",
       "      <td>1.665756</td>\n",
       "    </tr>\n",
       "    <tr>\n",
       "      <th>95</th>\n",
       "      <td>64</td>\n",
       "      <td>Germany</td>\n",
       "      <td>51.0000</td>\n",
       "      <td>9.0000</td>\n",
       "      <td>2020-04-05</td>\n",
       "      <td>100123</td>\n",
       "      <td>1584</td>\n",
       "      <td>28700</td>\n",
       "      <td>(51.0, 9.0)</td>\n",
       "      <td>DEU</td>\n",
       "      <td>1.582054</td>\n",
       "    </tr>\n",
       "    <tr>\n",
       "      <th>97</th>\n",
       "      <td>126</td>\n",
       "      <td>Pakistan</td>\n",
       "      <td>30.3753</td>\n",
       "      <td>69.3451</td>\n",
       "      <td>2020-04-05</td>\n",
       "      <td>3157</td>\n",
       "      <td>47</td>\n",
       "      <td>211</td>\n",
       "      <td>(30.3753, 69.3451)</td>\n",
       "      <td>PAK</td>\n",
       "      <td>1.488755</td>\n",
       "    </tr>\n",
       "    <tr>\n",
       "      <th>98</th>\n",
       "      <td>44</td>\n",
       "      <td>Czechia</td>\n",
       "      <td>49.8175</td>\n",
       "      <td>15.4730</td>\n",
       "      <td>2020-04-05</td>\n",
       "      <td>4587</td>\n",
       "      <td>67</td>\n",
       "      <td>96</td>\n",
       "      <td>(49.8175, 15.473)</td>\n",
       "      <td>CZE</td>\n",
       "      <td>1.460650</td>\n",
       "    </tr>\n",
       "    <tr>\n",
       "      <th>99</th>\n",
       "      <td>59</td>\n",
       "      <td>Finland</td>\n",
       "      <td>64.0000</td>\n",
       "      <td>26.0000</td>\n",
       "      <td>2020-04-05</td>\n",
       "      <td>1927</td>\n",
       "      <td>28</td>\n",
       "      <td>300</td>\n",
       "      <td>(64.0, 26.0)</td>\n",
       "      <td>FIN</td>\n",
       "      <td>1.453036</td>\n",
       "    </tr>\n",
       "    <tr>\n",
       "      <th>102</th>\n",
       "      <td>142</td>\n",
       "      <td>Saudi Arabia</td>\n",
       "      <td>24.0000</td>\n",
       "      <td>45.0000</td>\n",
       "      <td>2020-04-05</td>\n",
       "      <td>2402</td>\n",
       "      <td>34</td>\n",
       "      <td>488</td>\n",
       "      <td>(24.0, 45.0)</td>\n",
       "      <td>SAU</td>\n",
       "      <td>1.415487</td>\n",
       "    </tr>\n",
       "    <tr>\n",
       "      <th>106</th>\n",
       "      <td>55</td>\n",
       "      <td>Estonia</td>\n",
       "      <td>58.5953</td>\n",
       "      <td>25.0136</td>\n",
       "      <td>2020-04-05</td>\n",
       "      <td>1097</td>\n",
       "      <td>15</td>\n",
       "      <td>62</td>\n",
       "      <td>(58.5953, 25.0136)</td>\n",
       "      <td>EST</td>\n",
       "      <td>1.367366</td>\n",
       "    </tr>\n",
       "    <tr>\n",
       "      <th>108</th>\n",
       "      <td>100</td>\n",
       "      <td>Luxembourg</td>\n",
       "      <td>49.8153</td>\n",
       "      <td>6.1296</td>\n",
       "      <td>2020-04-05</td>\n",
       "      <td>2804</td>\n",
       "      <td>36</td>\n",
       "      <td>500</td>\n",
       "      <td>(49.8153, 6.1296)</td>\n",
       "      <td>LUX</td>\n",
       "      <td>1.283880</td>\n",
       "    </tr>\n",
       "    <tr>\n",
       "      <th>109</th>\n",
       "      <td>41</td>\n",
       "      <td>Croatia</td>\n",
       "      <td>45.1000</td>\n",
       "      <td>15.2000</td>\n",
       "      <td>2020-04-05</td>\n",
       "      <td>1182</td>\n",
       "      <td>15</td>\n",
       "      <td>125</td>\n",
       "      <td>(45.1, 15.2)</td>\n",
       "      <td>HRV</td>\n",
       "      <td>1.269036</td>\n",
       "    </tr>\n",
       "    <tr>\n",
       "      <th>111</th>\n",
       "      <td>124</td>\n",
       "      <td>Norway</td>\n",
       "      <td>60.4720</td>\n",
       "      <td>8.4689</td>\n",
       "      <td>2020-04-05</td>\n",
       "      <td>5687</td>\n",
       "      <td>71</td>\n",
       "      <td>32</td>\n",
       "      <td>(60.472, 8.4689)</td>\n",
       "      <td>NOR</td>\n",
       "      <td>1.248461</td>\n",
       "    </tr>\n",
       "    <tr>\n",
       "      <th>115</th>\n",
       "      <td>161</td>\n",
       "      <td>Thailand</td>\n",
       "      <td>15.0000</td>\n",
       "      <td>101.0000</td>\n",
       "      <td>2020-04-05</td>\n",
       "      <td>2169</td>\n",
       "      <td>23</td>\n",
       "      <td>793</td>\n",
       "      <td>(15.0, 101.0)</td>\n",
       "      <td>THA</td>\n",
       "      <td>1.060396</td>\n",
       "    </tr>\n",
       "    <tr>\n",
       "      <th>120</th>\n",
       "      <td>136</td>\n",
       "      <td>Russia</td>\n",
       "      <td>60.0000</td>\n",
       "      <td>90.0000</td>\n",
       "      <td>2020-04-05</td>\n",
       "      <td>5389</td>\n",
       "      <td>45</td>\n",
       "      <td>355</td>\n",
       "      <td>(60.0, 90.0)</td>\n",
       "      <td>Unknown code</td>\n",
       "      <td>0.835034</td>\n",
       "    </tr>\n",
       "    <tr>\n",
       "      <th>121</th>\n",
       "      <td>34</td>\n",
       "      <td>Chile</td>\n",
       "      <td>-35.6751</td>\n",
       "      <td>-71.5430</td>\n",
       "      <td>2020-04-05</td>\n",
       "      <td>4471</td>\n",
       "      <td>34</td>\n",
       "      <td>618</td>\n",
       "      <td>(-35.6751, -71.543)</td>\n",
       "      <td>CHL</td>\n",
       "      <td>0.760456</td>\n",
       "    </tr>\n",
       "    <tr>\n",
       "      <th>126</th>\n",
       "      <td>151</td>\n",
       "      <td>South Africa</td>\n",
       "      <td>-30.5595</td>\n",
       "      <td>22.9375</td>\n",
       "      <td>2020-04-05</td>\n",
       "      <td>1655</td>\n",
       "      <td>11</td>\n",
       "      <td>95</td>\n",
       "      <td>(-30.5595, 22.9375)</td>\n",
       "      <td>ZAF</td>\n",
       "      <td>0.664653</td>\n",
       "    </tr>\n",
       "    <tr>\n",
       "      <th>127</th>\n",
       "      <td>8</td>\n",
       "      <td>Australia</td>\n",
       "      <td>-12.4634</td>\n",
       "      <td>153.4000</td>\n",
       "      <td>2020-04-05</td>\n",
       "      <td>2580</td>\n",
       "      <td>16</td>\n",
       "      <td>573</td>\n",
       "      <td>(-12.4634, 130.8456)</td>\n",
       "      <td>AUS</td>\n",
       "      <td>0.620155</td>\n",
       "    </tr>\n",
       "    <tr>\n",
       "      <th>129</th>\n",
       "      <td>82</td>\n",
       "      <td>Israel</td>\n",
       "      <td>31.0000</td>\n",
       "      <td>35.0000</td>\n",
       "      <td>2020-04-05</td>\n",
       "      <td>8430</td>\n",
       "      <td>49</td>\n",
       "      <td>477</td>\n",
       "      <td>(31.0, 35.0)</td>\n",
       "      <td>ISR</td>\n",
       "      <td>0.581257</td>\n",
       "    </tr>\n",
       "    <tr>\n",
       "      <th>131</th>\n",
       "      <td>169</td>\n",
       "      <td>United Arab Emirates</td>\n",
       "      <td>24.0000</td>\n",
       "      <td>54.0000</td>\n",
       "      <td>2020-04-05</td>\n",
       "      <td>1799</td>\n",
       "      <td>10</td>\n",
       "      <td>144</td>\n",
       "      <td>(24.0, 54.0)</td>\n",
       "      <td>ARE</td>\n",
       "      <td>0.555864</td>\n",
       "    </tr>\n",
       "    <tr>\n",
       "      <th>132</th>\n",
       "      <td>147</td>\n",
       "      <td>Singapore</td>\n",
       "      <td>1.2833</td>\n",
       "      <td>103.8333</td>\n",
       "      <td>2020-04-05</td>\n",
       "      <td>1309</td>\n",
       "      <td>6</td>\n",
       "      <td>320</td>\n",
       "      <td>(1.2833, 103.8333)</td>\n",
       "      <td>SGP</td>\n",
       "      <td>0.458365</td>\n",
       "    </tr>\n",
       "    <tr>\n",
       "      <th>135</th>\n",
       "      <td>76</td>\n",
       "      <td>Iceland</td>\n",
       "      <td>64.9631</td>\n",
       "      <td>-19.0208</td>\n",
       "      <td>2020-04-05</td>\n",
       "      <td>1486</td>\n",
       "      <td>5</td>\n",
       "      <td>428</td>\n",
       "      <td>(64.9631, -19.0208)</td>\n",
       "      <td>ISL</td>\n",
       "      <td>0.336474</td>\n",
       "    </tr>\n",
       "    <tr>\n",
       "      <th>136</th>\n",
       "      <td>134</td>\n",
       "      <td>Qatar</td>\n",
       "      <td>25.3548</td>\n",
       "      <td>51.1839</td>\n",
       "      <td>2020-04-05</td>\n",
       "      <td>1604</td>\n",
       "      <td>4</td>\n",
       "      <td>123</td>\n",
       "      <td>(25.3548, 51.1839)</td>\n",
       "      <td>QAT</td>\n",
       "      <td>0.249377</td>\n",
       "    </tr>\n",
       "    <tr>\n",
       "      <th>140</th>\n",
       "      <td>119</td>\n",
       "      <td>New Zealand</td>\n",
       "      <td>-40.9006</td>\n",
       "      <td>174.8860</td>\n",
       "      <td>2020-04-05</td>\n",
       "      <td>1039</td>\n",
       "      <td>1</td>\n",
       "      <td>156</td>\n",
       "      <td>(-40.9006, 174.886)</td>\n",
       "      <td>NZL</td>\n",
       "      <td>0.096246</td>\n",
       "    </tr>\n",
       "  </tbody>\n",
       "</table>\n",
       "</div>"
      ],
      "text/plain": [
       "     index        Country/Region      Lat      Long       date  CumConfirmed  \\\n",
       "11      83                 Italy  43.0000   12.0000 2020-04-05        128948   \n",
       "14       2               Algeria  28.0339    1.6596 2020-04-05          1320   \n",
       "18     170        United Kingdom  55.3781   -2.3644 2020-04-05         47806   \n",
       "21     118           Netherlands  52.1326    5.2913 2020-04-05         17851   \n",
       "22     153                 Spain  40.0000   -4.0000 2020-04-05        131646   \n",
       "23      78             Indonesia  -0.7893  113.9213 2020-04-05          2273   \n",
       "24      60                France  46.8852  165.6180 2020-04-05         92839   \n",
       "26      16               Belgium  50.8333    4.0000 2020-04-05         19691   \n",
       "27     115               Morocco  31.7917   -7.0926 2020-04-05          1021   \n",
       "30      51                 Egypt  26.0000   30.0000 2020-04-05          1173   \n",
       "33      79                  Iran  32.0000   53.0000 2020-04-05         58226   \n",
       "34     157                Sweden  63.0000   16.0000 2020-04-05          6830   \n",
       "39      50               Ecuador  -1.8312  -78.1834 2020-04-05          3646   \n",
       "45      35                 China  47.8620  127.7615 2020-04-05         67803   \n",
       "46      49    Dominican Republic  18.7357  -70.1627 2020-04-05          1745   \n",
       "47     131           Philippines  13.0000  122.0000 2020-04-05          3246   \n",
       "52      23                Brazil -14.2350  -51.9253 2020-04-05         11130   \n",
       "53      66                Greece  39.0742   21.8243 2020-04-05          1735   \n",
       "54     110                Mexico  23.6345 -102.5528 2020-04-05          1890   \n",
       "55      45               Denmark  71.7069    9.5018 2020-04-05          4369   \n",
       "56     135               Romania  45.9432   24.9668 2020-04-05          3864   \n",
       "59     130                  Peru  -9.1900  -75.0152 2020-04-05          2281   \n",
       "63     158           Switzerland  46.8182    8.2275 2020-04-05         21100   \n",
       "66      81               Ireland  53.1424   -7.6921 2020-04-05          4994   \n",
       "68       6             Argentina -38.4161  -63.6167 2020-04-05          1451   \n",
       "70     166                    US  37.0902  -95.7129 2020-04-05        337072   \n",
       "72     168               Ukraine  48.3794   31.1656 2020-04-05          1308   \n",
       "75      77                 India  21.0000   78.0000 2020-04-05          3588   \n",
       "76     144                Serbia  44.0165   21.0059 2020-04-05          1908   \n",
       "77     133              Portugal  39.3999   -8.2245 2020-04-05         11278   \n",
       "79     127                Panama   8.5380  -80.7821 2020-04-05          1801   \n",
       "82      85                 Japan  36.0000  138.0000 2020-04-05          3139   \n",
       "83      36              Colombia   4.5709  -74.2973 2020-04-05          1485   \n",
       "85     132                Poland  51.9194   19.1451 2020-04-05          4102   \n",
       "87     165                Turkey  38.9637   35.2433 2020-04-05         27069   \n",
       "89      89          Korea, South  36.0000  128.0000 2020-04-05         10237   \n",
       "92       9               Austria  47.5162   14.5501 2020-04-05         12051   \n",
       "93     104              Malaysia   2.5000  112.5000 2020-04-05          3662   \n",
       "95      64               Germany  51.0000    9.0000 2020-04-05        100123   \n",
       "97     126              Pakistan  30.3753   69.3451 2020-04-05          3157   \n",
       "98      44               Czechia  49.8175   15.4730 2020-04-05          4587   \n",
       "99      59               Finland  64.0000   26.0000 2020-04-05          1927   \n",
       "102    142          Saudi Arabia  24.0000   45.0000 2020-04-05          2402   \n",
       "106     55               Estonia  58.5953   25.0136 2020-04-05          1097   \n",
       "108    100            Luxembourg  49.8153    6.1296 2020-04-05          2804   \n",
       "109     41               Croatia  45.1000   15.2000 2020-04-05          1182   \n",
       "111    124                Norway  60.4720    8.4689 2020-04-05          5687   \n",
       "115    161              Thailand  15.0000  101.0000 2020-04-05          2169   \n",
       "120    136                Russia  60.0000   90.0000 2020-04-05          5389   \n",
       "121     34                 Chile -35.6751  -71.5430 2020-04-05          4471   \n",
       "126    151          South Africa -30.5595   22.9375 2020-04-05          1655   \n",
       "127      8             Australia -12.4634  153.4000 2020-04-05          2580   \n",
       "129     82                Israel  31.0000   35.0000 2020-04-05          8430   \n",
       "131    169  United Arab Emirates  24.0000   54.0000 2020-04-05          1799   \n",
       "132    147             Singapore   1.2833  103.8333 2020-04-05          1309   \n",
       "135     76               Iceland  64.9631  -19.0208 2020-04-05          1486   \n",
       "136    134                 Qatar  25.3548   51.1839 2020-04-05          1604   \n",
       "140    119           New Zealand -40.9006  174.8860 2020-04-05          1039   \n",
       "\n",
       "     CumDeaths  CumRecovered                        location          code  \\\n",
       "11       15887         21815                    (43.0, 12.0)           ITA   \n",
       "14         152            90               (28.0339, 1.6596)           DZA   \n",
       "18        4934           135  (55.3781, -3.4360000000000004)           GBR   \n",
       "21        1766           250               (52.1326, 5.2913)           NLD   \n",
       "22       12641         38080                    (40.0, -4.0)           ESP   \n",
       "23         198           164             (-0.7893, 113.9213)           IDN   \n",
       "24        8078         16183             (46.8852, -56.3159)           FRA   \n",
       "26        1447          3751                  (50.8333, 4.0)           BEL   \n",
       "27          70            76              (31.7917, -7.0926)           MAR   \n",
       "30          78           247                    (26.0, 30.0)           EGY   \n",
       "33        3603         19736                    (32.0, 53.0)           IRN   \n",
       "34         401           205                    (63.0, 16.0)           TWN   \n",
       "39         180           100             (-1.8312, -78.1834)           ECU   \n",
       "45        3210         63945              (47.862, 127.7615)           CHN   \n",
       "46          82            17             (18.7357, -70.1627)           DOM   \n",
       "47         152            64                   (13.0, 122.0)           PHL   \n",
       "52         486           127             (-14.235, -51.9253)           BRA   \n",
       "53          73            78              (39.0742, 21.8243)           GRC   \n",
       "54          79           633            (23.6345, -102.5528)           MDA   \n",
       "55         179          1327             (71.7069, -42.6043)           DNK   \n",
       "56         151           374              (45.9432, 24.9668)           RUS   \n",
       "59          83           989               (-9.19, -75.0152)           PER   \n",
       "63         715          6415               (46.8182, 8.2275)           TZA   \n",
       "66         158            25              (53.1424, -7.6921)           IRL   \n",
       "68          44           280            (-38.4161, -63.6167)           ARG   \n",
       "70        9619         17448             (37.0902, -95.7129)  Unknown code   \n",
       "72          37            28              (48.3794, 31.1656)           UKR   \n",
       "75          99           229                    (21.0, 78.0)           IND   \n",
       "76          51            15              (44.0165, 21.0059)           SRB   \n",
       "77         295            75              (39.3999, -8.2245)           PRT   \n",
       "79          46            13               (8.538, -80.7821)           PAN   \n",
       "82          77           514                   (36.0, 138.0)           JPN   \n",
       "83          35            88              (4.5709, -74.2973)           COL   \n",
       "85          94           134              (51.9194, 19.1451)           POL   \n",
       "87         574          1042              (38.9637, 35.2433)           TUR   \n",
       "89         183          6463                   (36.0, 128.0)           KOR   \n",
       "92         204          2998              (47.5162, 14.5501)           AUT   \n",
       "93          61          1005                    (2.5, 112.5)           MYS   \n",
       "95        1584         28700                     (51.0, 9.0)           DEU   \n",
       "97          47           211              (30.3753, 69.3451)           PAK   \n",
       "98          67            96               (49.8175, 15.473)           CZE   \n",
       "99          28           300                    (64.0, 26.0)           FIN   \n",
       "102         34           488                    (24.0, 45.0)           SAU   \n",
       "106         15            62              (58.5953, 25.0136)           EST   \n",
       "108         36           500               (49.8153, 6.1296)           LUX   \n",
       "109         15           125                    (45.1, 15.2)           HRV   \n",
       "111         71            32                (60.472, 8.4689)           NOR   \n",
       "115         23           793                   (15.0, 101.0)           THA   \n",
       "120         45           355                    (60.0, 90.0)  Unknown code   \n",
       "121         34           618             (-35.6751, -71.543)           CHL   \n",
       "126         11            95             (-30.5595, 22.9375)           ZAF   \n",
       "127         16           573            (-12.4634, 130.8456)           AUS   \n",
       "129         49           477                    (31.0, 35.0)           ISR   \n",
       "131         10           144                    (24.0, 54.0)           ARE   \n",
       "132          6           320              (1.2833, 103.8333)           SGP   \n",
       "135          5           428             (64.9631, -19.0208)           ISL   \n",
       "136          4           123              (25.3548, 51.1839)           QAT   \n",
       "140          1           156             (-40.9006, 174.886)           NZL   \n",
       "\n",
       "     DeathRate  \n",
       "11   12.320470  \n",
       "14   11.515152  \n",
       "18   10.320880  \n",
       "21    9.893003  \n",
       "22    9.602267  \n",
       "23    8.710955  \n",
       "24    8.701085  \n",
       "26    7.348535  \n",
       "27    6.856024  \n",
       "30    6.649616  \n",
       "33    6.187957  \n",
       "34    5.871157  \n",
       "39    4.936917  \n",
       "45    4.734304  \n",
       "46    4.699140  \n",
       "47    4.682686  \n",
       "52    4.366577  \n",
       "53    4.207493  \n",
       "54    4.179894  \n",
       "55    4.097047  \n",
       "56    3.907867  \n",
       "59    3.638755  \n",
       "63    3.388626  \n",
       "66    3.163797  \n",
       "68    3.032391  \n",
       "70    2.853693  \n",
       "72    2.828746  \n",
       "75    2.759197  \n",
       "76    2.672956  \n",
       "77    2.615712  \n",
       "79    2.554137  \n",
       "82    2.453011  \n",
       "83    2.356902  \n",
       "85    2.291565  \n",
       "87    2.120507  \n",
       "89    1.787633  \n",
       "92    1.692806  \n",
       "93    1.665756  \n",
       "95    1.582054  \n",
       "97    1.488755  \n",
       "98    1.460650  \n",
       "99    1.453036  \n",
       "102   1.415487  \n",
       "106   1.367366  \n",
       "108   1.283880  \n",
       "109   1.269036  \n",
       "111   1.248461  \n",
       "115   1.060396  \n",
       "120   0.835034  \n",
       "121   0.760456  \n",
       "126   0.664653  \n",
       "127   0.620155  \n",
       "129   0.581257  \n",
       "131   0.555864  \n",
       "132   0.458365  \n",
       "135   0.336474  \n",
       "136   0.249377  \n",
       "140   0.096246  "
      ]
     },
     "execution_count": 60,
     "metadata": {},
     "output_type": "execute_result"
    }
   ],
   "source": [
    "more_than_100"
   ]
  },
  {
   "cell_type": "code",
   "execution_count": 61,
   "metadata": {},
   "outputs": [],
   "source": [
    "# import plotly.express as px\n",
    "# #df = px.data.gapminder()\n",
    "# fig = px.scatter_geo(all_data, lat='Lat', lon='Long', color=\"CumConfirmed\", size=\"CumConfirmed\",\n",
    "#                      animation_frame=\"date\",\n",
    "#                      projection=\"natural earth\")\n",
    "# fig.show()"
   ]
  },
  {
   "cell_type": "code",
   "execution_count": 62,
   "metadata": {},
   "outputs": [],
   "source": [
    "# Grouping by location\n"
   ]
  },
  {
   "cell_type": "code",
   "execution_count": 79,
   "metadata": {},
   "outputs": [
    {
     "data": {
      "application/vnd.plotly.v1+json": {
       "config": {
        "plotlyServerURL": "https://plot.ly"
       },
       "data": [
        {
         "marker": {
          "color": "crimson"
         },
         "showlegend": false,
         "type": "bar",
         "x": [
          "Italy",
          "Algeria",
          "United Kingdom",
          "Netherlands",
          "Spain",
          "Indonesia",
          "France",
          "Belgium",
          "Morocco",
          "Egypt",
          "Iran",
          "Sweden",
          "Ecuador",
          "China",
          "Dominican Republic",
          "Philippines",
          "Brazil",
          "Greece",
          "Mexico",
          "Denmark",
          "Romania",
          "Peru",
          "Switzerland",
          "Ireland",
          "Argentina",
          "US",
          "Ukraine",
          "India",
          "Serbia",
          "Portugal",
          "Panama",
          "Japan",
          "Colombia",
          "Poland",
          "Turkey",
          "Korea, South",
          "Austria",
          "Malaysia",
          "Germany",
          "Pakistan",
          "Czechia",
          "Finland",
          "Saudi Arabia",
          "Estonia",
          "Luxembourg",
          "Croatia",
          "Norway",
          "Thailand",
          "Russia",
          "Chile",
          "South Africa",
          "Australia",
          "Israel",
          "United Arab Emirates",
          "Singapore",
          "Iceland",
          "Qatar",
          "New Zealand"
         ],
         "xaxis": "x",
         "y": [
          12.320470267084406,
          11.515151515151516,
          10.320880224239636,
          9.893003193098426,
          9.602266684897376,
          8.710954685437748,
          8.701084673466971,
          7.348534863643288,
          6.8560235063663075,
          6.649616368286446,
          6.187957269948133,
          5.871156661786237,
          4.9369171695008225,
          4.7343037918676165,
          4.699140401146132,
          4.682686383240911,
          4.366576819407008,
          4.207492795389049,
          4.17989417989418,
          4.097047379262989,
          3.907867494824017,
          3.638754932047348,
          3.388625592417062,
          3.1637965558670404,
          3.0323914541695385,
          2.8536929795414627,
          2.8287461773700304,
          2.7591973244147154,
          2.6729559748427674,
          2.615712005674765,
          2.5541365907828983,
          2.453010512902198,
          2.356902356902357,
          2.2915650901999025,
          2.1205068528575124,
          1.7876330956334865,
          1.6928055763007221,
          1.6657564172583288,
          1.5820540734896078,
          1.4887551472917326,
          1.460649662088511,
          1.4530358069538143,
          1.4154870940882598,
          1.367365542388332,
          1.2838801711840229,
          1.2690355329949239,
          1.2484614032002814,
          1.0603964960811434,
          0.8350343291890889,
          0.7604562737642585,
          0.6646525679758308,
          0.6201550387596899,
          0.5812574139976275,
          0.5558643690939411,
          0.4583651642475172,
          0.3364737550471063,
          0.24937655860349126,
          0.0962463907603465
         ],
         "yaxis": "y"
        }
       ],
       "layout": {
        "annotations": [
         {
          "showarrow": false,
          "text": "Source: mjkjk",
          "x": 0,
          "xref": "paper",
          "y": 0,
          "yref": "paper"
         }
        ],
        "autosize": true,
        "coloraxis": {
         "showscale": false
        },
        "geo": {
         "domain": {
          "x": [
           0,
           0.54
          ],
          "y": [
           0,
           1
          ]
         }
        },
        "margin": {
         "b": 0,
         "l": 0,
         "r": 0,
         "t": 0
        },
        "scene": {
         "domain": {
          "x": [
           0.64,
           1
          ],
          "y": [
           0,
           0.34
          ]
         }
        },
        "showlegend": false,
        "template": {
         "data": {
          "bar": [
           {
            "error_x": {
             "color": "#f2f5fa"
            },
            "error_y": {
             "color": "#f2f5fa"
            },
            "marker": {
             "line": {
              "color": "rgb(17,17,17)",
              "width": 0.5
             }
            },
            "type": "bar"
           }
          ],
          "barpolar": [
           {
            "marker": {
             "line": {
              "color": "rgb(17,17,17)",
              "width": 0.5
             }
            },
            "type": "barpolar"
           }
          ],
          "carpet": [
           {
            "aaxis": {
             "endlinecolor": "#A2B1C6",
             "gridcolor": "#506784",
             "linecolor": "#506784",
             "minorgridcolor": "#506784",
             "startlinecolor": "#A2B1C6"
            },
            "baxis": {
             "endlinecolor": "#A2B1C6",
             "gridcolor": "#506784",
             "linecolor": "#506784",
             "minorgridcolor": "#506784",
             "startlinecolor": "#A2B1C6"
            },
            "type": "carpet"
           }
          ],
          "choropleth": [
           {
            "colorbar": {
             "outlinewidth": 0,
             "ticks": ""
            },
            "type": "choropleth"
           }
          ],
          "contour": [
           {
            "colorbar": {
             "outlinewidth": 0,
             "ticks": ""
            },
            "colorscale": [
             [
              0,
              "#0d0887"
             ],
             [
              0.1111111111111111,
              "#46039f"
             ],
             [
              0.2222222222222222,
              "#7201a8"
             ],
             [
              0.3333333333333333,
              "#9c179e"
             ],
             [
              0.4444444444444444,
              "#bd3786"
             ],
             [
              0.5555555555555556,
              "#d8576b"
             ],
             [
              0.6666666666666666,
              "#ed7953"
             ],
             [
              0.7777777777777778,
              "#fb9f3a"
             ],
             [
              0.8888888888888888,
              "#fdca26"
             ],
             [
              1,
              "#f0f921"
             ]
            ],
            "type": "contour"
           }
          ],
          "contourcarpet": [
           {
            "colorbar": {
             "outlinewidth": 0,
             "ticks": ""
            },
            "type": "contourcarpet"
           }
          ],
          "heatmap": [
           {
            "colorbar": {
             "outlinewidth": 0,
             "ticks": ""
            },
            "colorscale": [
             [
              0,
              "#0d0887"
             ],
             [
              0.1111111111111111,
              "#46039f"
             ],
             [
              0.2222222222222222,
              "#7201a8"
             ],
             [
              0.3333333333333333,
              "#9c179e"
             ],
             [
              0.4444444444444444,
              "#bd3786"
             ],
             [
              0.5555555555555556,
              "#d8576b"
             ],
             [
              0.6666666666666666,
              "#ed7953"
             ],
             [
              0.7777777777777778,
              "#fb9f3a"
             ],
             [
              0.8888888888888888,
              "#fdca26"
             ],
             [
              1,
              "#f0f921"
             ]
            ],
            "type": "heatmap"
           }
          ],
          "heatmapgl": [
           {
            "colorbar": {
             "outlinewidth": 0,
             "ticks": ""
            },
            "colorscale": [
             [
              0,
              "#0d0887"
             ],
             [
              0.1111111111111111,
              "#46039f"
             ],
             [
              0.2222222222222222,
              "#7201a8"
             ],
             [
              0.3333333333333333,
              "#9c179e"
             ],
             [
              0.4444444444444444,
              "#bd3786"
             ],
             [
              0.5555555555555556,
              "#d8576b"
             ],
             [
              0.6666666666666666,
              "#ed7953"
             ],
             [
              0.7777777777777778,
              "#fb9f3a"
             ],
             [
              0.8888888888888888,
              "#fdca26"
             ],
             [
              1,
              "#f0f921"
             ]
            ],
            "type": "heatmapgl"
           }
          ],
          "histogram": [
           {
            "marker": {
             "colorbar": {
              "outlinewidth": 0,
              "ticks": ""
             }
            },
            "type": "histogram"
           }
          ],
          "histogram2d": [
           {
            "colorbar": {
             "outlinewidth": 0,
             "ticks": ""
            },
            "colorscale": [
             [
              0,
              "#0d0887"
             ],
             [
              0.1111111111111111,
              "#46039f"
             ],
             [
              0.2222222222222222,
              "#7201a8"
             ],
             [
              0.3333333333333333,
              "#9c179e"
             ],
             [
              0.4444444444444444,
              "#bd3786"
             ],
             [
              0.5555555555555556,
              "#d8576b"
             ],
             [
              0.6666666666666666,
              "#ed7953"
             ],
             [
              0.7777777777777778,
              "#fb9f3a"
             ],
             [
              0.8888888888888888,
              "#fdca26"
             ],
             [
              1,
              "#f0f921"
             ]
            ],
            "type": "histogram2d"
           }
          ],
          "histogram2dcontour": [
           {
            "colorbar": {
             "outlinewidth": 0,
             "ticks": ""
            },
            "colorscale": [
             [
              0,
              "#0d0887"
             ],
             [
              0.1111111111111111,
              "#46039f"
             ],
             [
              0.2222222222222222,
              "#7201a8"
             ],
             [
              0.3333333333333333,
              "#9c179e"
             ],
             [
              0.4444444444444444,
              "#bd3786"
             ],
             [
              0.5555555555555556,
              "#d8576b"
             ],
             [
              0.6666666666666666,
              "#ed7953"
             ],
             [
              0.7777777777777778,
              "#fb9f3a"
             ],
             [
              0.8888888888888888,
              "#fdca26"
             ],
             [
              1,
              "#f0f921"
             ]
            ],
            "type": "histogram2dcontour"
           }
          ],
          "mesh3d": [
           {
            "colorbar": {
             "outlinewidth": 0,
             "ticks": ""
            },
            "type": "mesh3d"
           }
          ],
          "parcoords": [
           {
            "line": {
             "colorbar": {
              "outlinewidth": 0,
              "ticks": ""
             }
            },
            "type": "parcoords"
           }
          ],
          "pie": [
           {
            "automargin": true,
            "type": "pie"
           }
          ],
          "scatter": [
           {
            "marker": {
             "line": {
              "color": "#283442"
             }
            },
            "type": "scatter"
           }
          ],
          "scatter3d": [
           {
            "line": {
             "colorbar": {
              "outlinewidth": 0,
              "ticks": ""
             }
            },
            "marker": {
             "colorbar": {
              "outlinewidth": 0,
              "ticks": ""
             }
            },
            "type": "scatter3d"
           }
          ],
          "scattercarpet": [
           {
            "marker": {
             "colorbar": {
              "outlinewidth": 0,
              "ticks": ""
             }
            },
            "type": "scattercarpet"
           }
          ],
          "scattergeo": [
           {
            "marker": {
             "colorbar": {
              "outlinewidth": 0,
              "ticks": ""
             }
            },
            "type": "scattergeo"
           }
          ],
          "scattergl": [
           {
            "marker": {
             "line": {
              "color": "#283442"
             }
            },
            "type": "scattergl"
           }
          ],
          "scattermapbox": [
           {
            "marker": {
             "colorbar": {
              "outlinewidth": 0,
              "ticks": ""
             }
            },
            "type": "scattermapbox"
           }
          ],
          "scatterpolar": [
           {
            "marker": {
             "colorbar": {
              "outlinewidth": 0,
              "ticks": ""
             }
            },
            "type": "scatterpolar"
           }
          ],
          "scatterpolargl": [
           {
            "marker": {
             "colorbar": {
              "outlinewidth": 0,
              "ticks": ""
             }
            },
            "type": "scatterpolargl"
           }
          ],
          "scatterternary": [
           {
            "marker": {
             "colorbar": {
              "outlinewidth": 0,
              "ticks": ""
             }
            },
            "type": "scatterternary"
           }
          ],
          "surface": [
           {
            "colorbar": {
             "outlinewidth": 0,
             "ticks": ""
            },
            "colorscale": [
             [
              0,
              "#0d0887"
             ],
             [
              0.1111111111111111,
              "#46039f"
             ],
             [
              0.2222222222222222,
              "#7201a8"
             ],
             [
              0.3333333333333333,
              "#9c179e"
             ],
             [
              0.4444444444444444,
              "#bd3786"
             ],
             [
              0.5555555555555556,
              "#d8576b"
             ],
             [
              0.6666666666666666,
              "#ed7953"
             ],
             [
              0.7777777777777778,
              "#fb9f3a"
             ],
             [
              0.8888888888888888,
              "#fdca26"
             ],
             [
              1,
              "#f0f921"
             ]
            ],
            "type": "surface"
           }
          ],
          "table": [
           {
            "cells": {
             "fill": {
              "color": "#506784"
             },
             "line": {
              "color": "rgb(17,17,17)"
             }
            },
            "header": {
             "fill": {
              "color": "#2a3f5f"
             },
             "line": {
              "color": "rgb(17,17,17)"
             }
            },
            "type": "table"
           }
          ]
         },
         "layout": {
          "annotationdefaults": {
           "arrowcolor": "#f2f5fa",
           "arrowhead": 0,
           "arrowwidth": 1
          },
          "coloraxis": {
           "colorbar": {
            "outlinewidth": 0,
            "ticks": ""
           }
          },
          "colorscale": {
           "diverging": [
            [
             0,
             "#8e0152"
            ],
            [
             0.1,
             "#c51b7d"
            ],
            [
             0.2,
             "#de77ae"
            ],
            [
             0.3,
             "#f1b6da"
            ],
            [
             0.4,
             "#fde0ef"
            ],
            [
             0.5,
             "#f7f7f7"
            ],
            [
             0.6,
             "#e6f5d0"
            ],
            [
             0.7,
             "#b8e186"
            ],
            [
             0.8,
             "#7fbc41"
            ],
            [
             0.9,
             "#4d9221"
            ],
            [
             1,
             "#276419"
            ]
           ],
           "sequential": [
            [
             0,
             "#0d0887"
            ],
            [
             0.1111111111111111,
             "#46039f"
            ],
            [
             0.2222222222222222,
             "#7201a8"
            ],
            [
             0.3333333333333333,
             "#9c179e"
            ],
            [
             0.4444444444444444,
             "#bd3786"
            ],
            [
             0.5555555555555556,
             "#d8576b"
            ],
            [
             0.6666666666666666,
             "#ed7953"
            ],
            [
             0.7777777777777778,
             "#fb9f3a"
            ],
            [
             0.8888888888888888,
             "#fdca26"
            ],
            [
             1,
             "#f0f921"
            ]
           ],
           "sequentialminus": [
            [
             0,
             "#0d0887"
            ],
            [
             0.1111111111111111,
             "#46039f"
            ],
            [
             0.2222222222222222,
             "#7201a8"
            ],
            [
             0.3333333333333333,
             "#9c179e"
            ],
            [
             0.4444444444444444,
             "#bd3786"
            ],
            [
             0.5555555555555556,
             "#d8576b"
            ],
            [
             0.6666666666666666,
             "#ed7953"
            ],
            [
             0.7777777777777778,
             "#fb9f3a"
            ],
            [
             0.8888888888888888,
             "#fdca26"
            ],
            [
             1,
             "#f0f921"
            ]
           ]
          },
          "colorway": [
           "#636efa",
           "#EF553B",
           "#00cc96",
           "#ab63fa",
           "#FFA15A",
           "#19d3f3",
           "#FF6692",
           "#B6E880",
           "#FF97FF",
           "#FECB52"
          ],
          "font": {
           "color": "#f2f5fa"
          },
          "geo": {
           "bgcolor": "rgb(17,17,17)",
           "lakecolor": "rgb(17,17,17)",
           "landcolor": "rgb(17,17,17)",
           "showlakes": true,
           "showland": true,
           "subunitcolor": "#506784"
          },
          "hoverlabel": {
           "align": "left"
          },
          "hovermode": "closest",
          "mapbox": {
           "style": "dark"
          },
          "paper_bgcolor": "rgb(17,17,17)",
          "plot_bgcolor": "rgb(17,17,17)",
          "polar": {
           "angularaxis": {
            "gridcolor": "#506784",
            "linecolor": "#506784",
            "ticks": ""
           },
           "bgcolor": "rgb(17,17,17)",
           "radialaxis": {
            "gridcolor": "#506784",
            "linecolor": "#506784",
            "ticks": ""
           }
          },
          "scene": {
           "xaxis": {
            "backgroundcolor": "rgb(17,17,17)",
            "gridcolor": "#506784",
            "gridwidth": 2,
            "linecolor": "#506784",
            "showbackground": true,
            "ticks": "",
            "zerolinecolor": "#C8D4E3"
           },
           "yaxis": {
            "backgroundcolor": "rgb(17,17,17)",
            "gridcolor": "#506784",
            "gridwidth": 2,
            "linecolor": "#506784",
            "showbackground": true,
            "ticks": "",
            "zerolinecolor": "#C8D4E3"
           },
           "zaxis": {
            "backgroundcolor": "rgb(17,17,17)",
            "gridcolor": "#506784",
            "gridwidth": 2,
            "linecolor": "#506784",
            "showbackground": true,
            "ticks": "",
            "zerolinecolor": "#C8D4E3"
           }
          },
          "shapedefaults": {
           "line": {
            "color": "#f2f5fa"
           }
          },
          "sliderdefaults": {
           "bgcolor": "#C8D4E3",
           "bordercolor": "rgb(17,17,17)",
           "borderwidth": 1,
           "tickwidth": 0
          },
          "ternary": {
           "aaxis": {
            "gridcolor": "#506784",
            "linecolor": "#506784",
            "ticks": ""
           },
           "baxis": {
            "gridcolor": "#506784",
            "linecolor": "#506784",
            "ticks": ""
           },
           "bgcolor": "rgb(17,17,17)",
           "caxis": {
            "gridcolor": "#506784",
            "linecolor": "#506784",
            "ticks": ""
           }
          },
          "title": {
           "x": 0.05
          },
          "updatemenudefaults": {
           "bgcolor": "#506784",
           "borderwidth": 0
          },
          "xaxis": {
           "automargin": true,
           "gridcolor": "#283442",
           "linecolor": "#506784",
           "ticks": "",
           "title": {
            "standoff": 15
           },
           "zerolinecolor": "#283442",
           "zerolinewidth": 2
          },
          "yaxis": {
           "automargin": true,
           "gridcolor": "#283442",
           "linecolor": "#506784",
           "ticks": "",
           "title": {
            "standoff": 15
           },
           "zerolinecolor": "#283442",
           "zerolinewidth": 2
          }
         }
        },
        "xaxis": {
         "anchor": "y",
         "autorange": true,
         "categoryorder": "total descending",
         "domain": [
          0.64,
          1
         ],
         "range": [
          -0.5,
          57.5
         ],
         "type": "category"
        },
        "yaxis": {
         "anchor": "x",
         "autorange": true,
         "domain": [
          0.49,
          1
         ],
         "range": [
          0,
          12.968916070615165
         ],
         "type": "linear"
        }
       }
      },
      "image/png": "[encoded data removed]",
      "text/html": [
       "<div>\n",
       "        \n",
       "        \n",
       "            <div id=\"4b8e7cd3-2e8a-44ec-b048-5ba4ace3bb67\" class=\"plotly-graph-div\" style=\"height:525px; width:100%;\"></div>\n",
       "            <script type=\"text/javascript\">\n",
       "                require([\"plotly\"], function(Plotly) {\n",
       "                    window.PLOTLYENV=window.PLOTLYENV || {};\n",
       "                    \n",
       "                if (document.getElementById(\"4b8e7cd3-2e8a-44ec-b048-5ba4ace3bb67\")) {\n",
       "                    Plotly.newPlot(\n",
       "                        '4b8e7cd3-2e8a-44ec-b048-5ba4ace3bb67',\n",
       "                        [{\"marker\": {\"color\": \"crimson\"}, \"showlegend\": false, \"type\": \"bar\", \"x\": [\"Italy\", \"Algeria\", \"United Kingdom\", \"Netherlands\", \"Spain\", \"Indonesia\", \"France\", \"Belgium\", \"Morocco\", \"Egypt\", \"Iran\", \"Sweden\", \"Ecuador\", \"China\", \"Dominican Republic\", \"Philippines\", \"Brazil\", \"Greece\", \"Mexico\", \"Denmark\", \"Romania\", \"Peru\", \"Switzerland\", \"Ireland\", \"Argentina\", \"US\", \"Ukraine\", \"India\", \"Serbia\", \"Portugal\", \"Panama\", \"Japan\", \"Colombia\", \"Poland\", \"Turkey\", \"Korea, South\", \"Austria\", \"Malaysia\", \"Germany\", \"Pakistan\", \"Czechia\", \"Finland\", \"Saudi Arabia\", \"Estonia\", \"Luxembourg\", \"Croatia\", \"Norway\", \"Thailand\", \"Russia\", \"Chile\", \"South Africa\", \"Australia\", \"Israel\", \"United Arab Emirates\", \"Singapore\", \"Iceland\", \"Qatar\", \"New Zealand\"], \"xaxis\": \"x\", \"y\": [12.320470267084406, 11.515151515151516, 10.320880224239636, 9.893003193098426, 9.602266684897376, 8.710954685437748, 8.701084673466971, 7.348534863643288, 6.8560235063663075, 6.649616368286446, 6.187957269948133, 5.871156661786237, 4.9369171695008225, 4.7343037918676165, 4.699140401146132, 4.682686383240911, 4.366576819407008, 4.207492795389049, 4.17989417989418, 4.097047379262989, 3.907867494824017, 3.638754932047348, 3.388625592417062, 3.1637965558670404, 3.0323914541695385, 2.8536929795414627, 2.8287461773700304, 2.7591973244147154, 2.6729559748427674, 2.615712005674765, 2.5541365907828983, 2.453010512902198, 2.356902356902357, 2.2915650901999025, 2.1205068528575124, 1.7876330956334865, 1.6928055763007221, 1.6657564172583288, 1.5820540734896078, 1.4887551472917326, 1.460649662088511, 1.4530358069538143, 1.4154870940882598, 1.367365542388332, 1.2838801711840229, 1.2690355329949239, 1.2484614032002814, 1.0603964960811434, 0.8350343291890889, 0.7604562737642585, 0.6646525679758308, 0.6201550387596899, 0.5812574139976275, 0.5558643690939411, 0.4583651642475172, 0.3364737550471063, 0.24937655860349126, 0.0962463907603465], \"yaxis\": \"y\"}],\n",
       "                        {\"annotations\": [{\"showarrow\": false, \"text\": \"Source: mjkjk\", \"x\": 0, \"xref\": \"paper\", \"y\": 0, \"yref\": \"paper\"}], \"coloraxis\": {\"showscale\": false}, \"geo\": {\"domain\": {\"x\": [0.0, 0.54], \"y\": [0.0, 1.0]}}, \"margin\": {\"b\": 0, \"l\": 0, \"r\": 0, \"t\": 0}, \"scene\": {\"domain\": {\"x\": [0.64, 1.0], \"y\": [0.0, 0.34]}}, \"showlegend\": false, \"template\": {\"data\": {\"bar\": [{\"error_x\": {\"color\": \"#f2f5fa\"}, \"error_y\": {\"color\": \"#f2f5fa\"}, \"marker\": {\"line\": {\"color\": \"rgb(17,17,17)\", \"width\": 0.5}}, \"type\": \"bar\"}], \"barpolar\": [{\"marker\": {\"line\": {\"color\": \"rgb(17,17,17)\", \"width\": 0.5}}, \"type\": \"barpolar\"}], \"carpet\": [{\"aaxis\": {\"endlinecolor\": \"#A2B1C6\", \"gridcolor\": \"#506784\", \"linecolor\": \"#506784\", \"minorgridcolor\": \"#506784\", \"startlinecolor\": \"#A2B1C6\"}, \"baxis\": {\"endlinecolor\": \"#A2B1C6\", \"gridcolor\": \"#506784\", \"linecolor\": \"#506784\", \"minorgridcolor\": \"#506784\", \"startlinecolor\": \"#A2B1C6\"}, \"type\": \"carpet\"}], \"choropleth\": [{\"colorbar\": {\"outlinewidth\": 0, \"ticks\": \"\"}, \"type\": \"choropleth\"}], \"contour\": [{\"colorbar\": {\"outlinewidth\": 0, \"ticks\": \"\"}, \"colorscale\": [[0.0, \"#0d0887\"], [0.1111111111111111, \"#46039f\"], [0.2222222222222222, \"#7201a8\"], [0.3333333333333333, \"#9c179e\"], [0.4444444444444444, \"#bd3786\"], [0.5555555555555556, \"#d8576b\"], [0.6666666666666666, \"#ed7953\"], [0.7777777777777778, \"#fb9f3a\"], [0.8888888888888888, \"#fdca26\"], [1.0, \"#f0f921\"]], \"type\": \"contour\"}], \"contourcarpet\": [{\"colorbar\": {\"outlinewidth\": 0, \"ticks\": \"\"}, \"type\": \"contourcarpet\"}], \"heatmap\": [{\"colorbar\": {\"outlinewidth\": 0, \"ticks\": \"\"}, \"colorscale\": [[0.0, \"#0d0887\"], [0.1111111111111111, \"#46039f\"], [0.2222222222222222, \"#7201a8\"], [0.3333333333333333, \"#9c179e\"], [0.4444444444444444, \"#bd3786\"], [0.5555555555555556, \"#d8576b\"], [0.6666666666666666, \"#ed7953\"], [0.7777777777777778, \"#fb9f3a\"], [0.8888888888888888, \"#fdca26\"], [1.0, \"#f0f921\"]], \"type\": \"heatmap\"}], \"heatmapgl\": [{\"colorbar\": {\"outlinewidth\": 0, \"ticks\": \"\"}, \"colorscale\": [[0.0, \"#0d0887\"], [0.1111111111111111, \"#46039f\"], [0.2222222222222222, \"#7201a8\"], [0.3333333333333333, \"#9c179e\"], [0.4444444444444444, \"#bd3786\"], [0.5555555555555556, \"#d8576b\"], [0.6666666666666666, \"#ed7953\"], [0.7777777777777778, \"#fb9f3a\"], [0.8888888888888888, \"#fdca26\"], [1.0, \"#f0f921\"]], \"type\": \"heatmapgl\"}], \"histogram\": [{\"marker\": {\"colorbar\": {\"outlinewidth\": 0, \"ticks\": \"\"}}, \"type\": \"histogram\"}], \"histogram2d\": [{\"colorbar\": {\"outlinewidth\": 0, \"ticks\": \"\"}, \"colorscale\": [[0.0, \"#0d0887\"], [0.1111111111111111, \"#46039f\"], [0.2222222222222222, \"#7201a8\"], [0.3333333333333333, \"#9c179e\"], [0.4444444444444444, \"#bd3786\"], [0.5555555555555556, \"#d8576b\"], [0.6666666666666666, \"#ed7953\"], [0.7777777777777778, \"#fb9f3a\"], [0.8888888888888888, \"#fdca26\"], [1.0, \"#f0f921\"]], \"type\": \"histogram2d\"}], \"histogram2dcontour\": [{\"colorbar\": {\"outlinewidth\": 0, \"ticks\": \"\"}, \"colorscale\": [[0.0, \"#0d0887\"], [0.1111111111111111, \"#46039f\"], [0.2222222222222222, \"#7201a8\"], [0.3333333333333333, \"#9c179e\"], [0.4444444444444444, \"#bd3786\"], [0.5555555555555556, \"#d8576b\"], [0.6666666666666666, \"#ed7953\"], [0.7777777777777778, \"#fb9f3a\"], [0.8888888888888888, \"#fdca26\"], [1.0, \"#f0f921\"]], \"type\": \"histogram2dcontour\"}], \"mesh3d\": [{\"colorbar\": {\"outlinewidth\": 0, \"ticks\": \"\"}, \"type\": \"mesh3d\"}], \"parcoords\": [{\"line\": {\"colorbar\": {\"outlinewidth\": 0, \"ticks\": \"\"}}, \"type\": \"parcoords\"}], \"pie\": [{\"automargin\": true, \"type\": \"pie\"}], \"scatter\": [{\"marker\": {\"line\": {\"color\": \"#283442\"}}, \"type\": \"scatter\"}], \"scatter3d\": [{\"line\": {\"colorbar\": {\"outlinewidth\": 0, \"ticks\": \"\"}}, \"marker\": {\"colorbar\": {\"outlinewidth\": 0, \"ticks\": \"\"}}, \"type\": \"scatter3d\"}], \"scattercarpet\": [{\"marker\": {\"colorbar\": {\"outlinewidth\": 0, \"ticks\": \"\"}}, \"type\": \"scattercarpet\"}], \"scattergeo\": [{\"marker\": {\"colorbar\": {\"outlinewidth\": 0, \"ticks\": \"\"}}, \"type\": \"scattergeo\"}], \"scattergl\": [{\"marker\": {\"line\": {\"color\": \"#283442\"}}, \"type\": \"scattergl\"}], \"scattermapbox\": [{\"marker\": {\"colorbar\": {\"outlinewidth\": 0, \"ticks\": \"\"}}, \"type\": \"scattermapbox\"}], \"scatterpolar\": [{\"marker\": {\"colorbar\": {\"outlinewidth\": 0, \"ticks\": \"\"}}, \"type\": \"scatterpolar\"}], \"scatterpolargl\": [{\"marker\": {\"colorbar\": {\"outlinewidth\": 0, \"ticks\": \"\"}}, \"type\": \"scatterpolargl\"}], \"scatterternary\": [{\"marker\": {\"colorbar\": {\"outlinewidth\": 0, \"ticks\": \"\"}}, \"type\": \"scatterternary\"}], \"surface\": [{\"colorbar\": {\"outlinewidth\": 0, \"ticks\": \"\"}, \"colorscale\": [[0.0, \"#0d0887\"], [0.1111111111111111, \"#46039f\"], [0.2222222222222222, \"#7201a8\"], [0.3333333333333333, \"#9c179e\"], [0.4444444444444444, \"#bd3786\"], [0.5555555555555556, \"#d8576b\"], [0.6666666666666666, \"#ed7953\"], [0.7777777777777778, \"#fb9f3a\"], [0.8888888888888888, \"#fdca26\"], [1.0, \"#f0f921\"]], \"type\": \"surface\"}], \"table\": [{\"cells\": {\"fill\": {\"color\": \"#506784\"}, \"line\": {\"color\": \"rgb(17,17,17)\"}}, \"header\": {\"fill\": {\"color\": \"#2a3f5f\"}, \"line\": {\"color\": \"rgb(17,17,17)\"}}, \"type\": \"table\"}]}, \"layout\": {\"annotationdefaults\": {\"arrowcolor\": \"#f2f5fa\", \"arrowhead\": 0, \"arrowwidth\": 1}, \"coloraxis\": {\"colorbar\": {\"outlinewidth\": 0, \"ticks\": \"\"}}, \"colorscale\": {\"diverging\": [[0, \"#8e0152\"], [0.1, \"#c51b7d\"], [0.2, \"#de77ae\"], [0.3, \"#f1b6da\"], [0.4, \"#fde0ef\"], [0.5, \"#f7f7f7\"], [0.6, \"#e6f5d0\"], [0.7, \"#b8e186\"], [0.8, \"#7fbc41\"], [0.9, \"#4d9221\"], [1, \"#276419\"]], \"sequential\": [[0.0, \"#0d0887\"], [0.1111111111111111, \"#46039f\"], [0.2222222222222222, \"#7201a8\"], [0.3333333333333333, \"#9c179e\"], [0.4444444444444444, \"#bd3786\"], [0.5555555555555556, \"#d8576b\"], [0.6666666666666666, \"#ed7953\"], [0.7777777777777778, \"#fb9f3a\"], [0.8888888888888888, \"#fdca26\"], [1.0, \"#f0f921\"]], \"sequentialminus\": [[0.0, \"#0d0887\"], [0.1111111111111111, \"#46039f\"], [0.2222222222222222, \"#7201a8\"], [0.3333333333333333, \"#9c179e\"], [0.4444444444444444, \"#bd3786\"], [0.5555555555555556, \"#d8576b\"], [0.6666666666666666, \"#ed7953\"], [0.7777777777777778, \"#fb9f3a\"], [0.8888888888888888, \"#fdca26\"], [1.0, \"#f0f921\"]]}, \"colorway\": [\"#636efa\", \"#EF553B\", \"#00cc96\", \"#ab63fa\", \"#FFA15A\", \"#19d3f3\", \"#FF6692\", \"#B6E880\", \"#FF97FF\", \"#FECB52\"], \"font\": {\"color\": \"#f2f5fa\"}, \"geo\": {\"bgcolor\": \"rgb(17,17,17)\", \"lakecolor\": \"rgb(17,17,17)\", \"landcolor\": \"rgb(17,17,17)\", \"showlakes\": true, \"showland\": true, \"subunitcolor\": \"#506784\"}, \"hoverlabel\": {\"align\": \"left\"}, \"hovermode\": \"closest\", \"mapbox\": {\"style\": \"dark\"}, \"paper_bgcolor\": \"rgb(17,17,17)\", \"plot_bgcolor\": \"rgb(17,17,17)\", \"polar\": {\"angularaxis\": {\"gridcolor\": \"#506784\", \"linecolor\": \"#506784\", \"ticks\": \"\"}, \"bgcolor\": \"rgb(17,17,17)\", \"radialaxis\": {\"gridcolor\": \"#506784\", \"linecolor\": \"#506784\", \"ticks\": \"\"}}, \"scene\": {\"xaxis\": {\"backgroundcolor\": \"rgb(17,17,17)\", \"gridcolor\": \"#506784\", \"gridwidth\": 2, \"linecolor\": \"#506784\", \"showbackground\": true, \"ticks\": \"\", \"zerolinecolor\": \"#C8D4E3\"}, \"yaxis\": {\"backgroundcolor\": \"rgb(17,17,17)\", \"gridcolor\": \"#506784\", \"gridwidth\": 2, \"linecolor\": \"#506784\", \"showbackground\": true, \"ticks\": \"\", \"zerolinecolor\": \"#C8D4E3\"}, \"zaxis\": {\"backgroundcolor\": \"rgb(17,17,17)\", \"gridcolor\": \"#506784\", \"gridwidth\": 2, \"linecolor\": \"#506784\", \"showbackground\": true, \"ticks\": \"\", \"zerolinecolor\": \"#C8D4E3\"}}, \"shapedefaults\": {\"line\": {\"color\": \"#f2f5fa\"}}, \"sliderdefaults\": {\"bgcolor\": \"#C8D4E3\", \"bordercolor\": \"rgb(17,17,17)\", \"borderwidth\": 1, \"tickwidth\": 0}, \"ternary\": {\"aaxis\": {\"gridcolor\": \"#506784\", \"linecolor\": \"#506784\", \"ticks\": \"\"}, \"baxis\": {\"gridcolor\": \"#506784\", \"linecolor\": \"#506784\", \"ticks\": \"\"}, \"bgcolor\": \"rgb(17,17,17)\", \"caxis\": {\"gridcolor\": \"#506784\", \"linecolor\": \"#506784\", \"ticks\": \"\"}}, \"title\": {\"x\": 0.05}, \"updatemenudefaults\": {\"bgcolor\": \"#506784\", \"borderwidth\": 0}, \"xaxis\": {\"automargin\": true, \"gridcolor\": \"#283442\", \"linecolor\": \"#506784\", \"ticks\": \"\", \"title\": {\"standoff\": 15}, \"zerolinecolor\": \"#283442\", \"zerolinewidth\": 2}, \"yaxis\": {\"automargin\": true, \"gridcolor\": \"#283442\", \"linecolor\": \"#506784\", \"ticks\": \"\", \"title\": {\"standoff\": 15}, \"zerolinecolor\": \"#283442\", \"zerolinewidth\": 2}}}, \"xaxis\": {\"anchor\": \"y\", \"categoryorder\": \"total descending\", \"domain\": [0.64, 1.0]}, \"yaxis\": {\"anchor\": \"x\", \"domain\": [0.49, 1.0]}},\n",
       "                        {\"responsive\": true}\n",
       "                    ).then(function(){\n",
       "                            \n",
       "var gd = document.getElementById('4b8e7cd3-2e8a-44ec-b048-5ba4ace3bb67');\n",
       "var x = new MutationObserver(function (mutations, observer) {{\n",
       "        var display = window.getComputedStyle(gd).display;\n",
       "        if (!display || display === 'none') {{\n",
       "            console.log([gd, 'removed!']);\n",
       "            Plotly.purge(gd);\n",
       "            observer.disconnect();\n",
       "        }}\n",
       "}});\n",
       "\n",
       "// Listen for the removal of the full notebook cells\n",
       "var notebookContainer = gd.closest('#notebook-container');\n",
       "if (notebookContainer) {{\n",
       "    x.observe(notebookContainer, {childList: true});\n",
       "}}\n",
       "\n",
       "// Listen for the clearing of the current output cell\n",
       "var outputEl = gd.closest('.output');\n",
       "if (outputEl) {{\n",
       "    x.observe(outputEl, {childList: true});\n",
       "}}\n",
       "\n",
       "                        })\n",
       "                };\n",
       "                });\n",
       "            </script>\n",
       "        </div>"
      ]
     },
     "metadata": {},
     "output_type": "display_data"
    }
   ],
   "source": [
    "import plotly.graph_objects as go\n",
    "from plotly.subplots import make_subplots\n",
    "\n",
    "import pandas as pd\n",
    "\n",
    "# read in volcano database data\n",
    "\n",
    "\n",
    "# Country\n",
    "country = grouped_country['Country/Region']\n",
    "\n",
    "\n",
    "# Initialize figure with subplots\n",
    "fig = make_subplots(\n",
    "    rows=2, cols=2,\n",
    "    column_widths=[0.6, 0.4],\n",
    "    row_heights=[0.6, 0.4],\n",
    "    specs=[[{\"type\": \"choropleth\", \"rowspan\": 2}, {\"type\": \"bar\"}],\n",
    "           [            None                    , {\"type\": \"surface\"}]])\n",
    "\n",
    "# Add scattergeo globe map of volcano locations\n",
    "# fig.add_trace(\n",
    "#     go.Choropleth(\n",
    "#         locations = grouped_country['code'],\n",
    "#         z = grouped_country['CumConfirmed'],\n",
    "# #         text = grouped_countries['CumConfirmed'],\n",
    "#         colorscale = 'Reds',\n",
    "#         autocolorscale=False,\n",
    "#         reversescale=False,\n",
    "#         marker_line_color='darkgray',\n",
    "#         marker_line_width=0.5,\n",
    "#         colorbar_tickprefix = '',\n",
    "#         colorbar_title = '',\n",
    "#     )\n",
    "# )\n",
    "# fig.update_layout(margin={\n",
    "#         \"r\": 500,\n",
    "#         \"t\": 500,\n",
    "#         \"l\": 500,\n",
    "#         \"b\": 500\n",
    "#     }, coloraxis_showscale=False)\n",
    "\n",
    "\n",
    "\n",
    "#Add locations bar chart\n",
    "fig.add_trace(\n",
    "    go.Bar(x=more_than_100[\"Country/Region\"],y=more_than_100[\"DeathRate\"], marker=dict(color=\"crimson\"), showlegend=False),\n",
    "    row=1, col=2\n",
    ")\n",
    "\n",
    "# # Add 3d surface of volcano\n",
    "# fig.add_trace(\n",
    "#     go.Surface(z=df_v.values.tolist(), showscale=False),\n",
    "#     row=2, col=2\n",
    "# )\n",
    "\n",
    "# # Update geo subplot properties\n",
    "# fig.update_geos(\n",
    "#     projection_type=\"orthographic\",\n",
    "#     landcolor=\"white\",\n",
    "#     oceancolor=\"MidnightBlue\",\n",
    "#     showocean=True,\n",
    "#     lakecolor=\"LightBlue\"\n",
    "# )\n",
    "\n",
    "# # Rotate x-axis labels\n",
    "# fig.update_xaxes(tickangle=45)\n",
    "\n",
    "# Set theme, margin, and annotation in layout\n",
    "fig.update_layout(showlegend=False, xaxis={'categoryorder':'total descending'}, coloraxis_showscale=False,\n",
    "#             coloraxis_colorbar=dict(\n",
    "#     title=\"Number of Bills per Cell\",\n",
    "#     thicknessmode=\"pixels\", thickness=10,\n",
    "#     lenmode=\"pixels\", len=50,\n",
    "#     yanchor=\"top\", y=1,\n",
    "#     ticks=\"outside\", ticksuffix=\" bills\",\n",
    "#     dtick=5),      \n",
    "    template=\"plotly_dark\",\n",
    "    margin=dict(r=0, t=0, b=0, l=0),\n",
    "    annotations=[\n",
    "        dict(\n",
    "text=\"Source: mjkjk\",\n",
    "            showarrow=False,\n",
    "            xref=\"paper\",\n",
    "            yref=\"paper\",\n",
    "            x=0,\n",
    "            y=0)\n",
    "    ]\n",
    ")\n",
    "\n",
    "fig.update_layout(coloraxis_showscale=False)\n",
    "\n"
   ]
  },
  {
   "cell_type": "code",
   "execution_count": null,
   "metadata": {},
   "outputs": [],
   "source": []
  },
  {
   "cell_type": "code",
   "execution_count": null,
   "metadata": {},
   "outputs": [],
   "source": []
  }
 ],
 "metadata": {
  "kernelspec": {
   "display_name": "corona",
   "language": "python",
   "name": "corona"
  },
  "language_info": {
   "codemirror_mode": {
    "name": "ipython",
    "version": 3
   },
   "file_extension": ".py",
   "mimetype": "text/x-python",
   "name": "python",
   "nbconvert_exporter": "python",
   "pygments_lexer": "ipython3",
   "version": "3.8.1"
  }
 },
 "nbformat": 4,
 "nbformat_minor": 4
}
