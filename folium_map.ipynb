{
 "cells": [
  {
   "cell_type": "code",
   "execution_count": 38,
   "metadata": {},
   "outputs": [],
   "source": [
    "import pandas as pd\n",
    "from pandas import *\n",
    "import folium\n",
    "import plotly.graph_objects as go\n",
    "\n",
    "import pycountry # To convert country names to 3 letter code\n",
    "\n",
    "import webbrowser"
   ]
  },
  {
   "cell_type": "code",
   "execution_count": 16,
   "metadata": {},
   "outputs": [],
   "source": [
    "# Getting data\n",
    "base_url = \"https://raw.githubusercontent.com/CSSEGISandData/COVID-19/master/csse_covid_19_data/csse_covid_19_time_series/\"\n",
    "new_base_url = 'https://github.com/CSSEGISandData/COVID-19/tree/master/csse_covid_19_data/csse_covid_19_time_series'\n",
    "\n",
    "def loadData(fileName, columnName):\n",
    "    data = pd.read_csv(base_url + fileName) \\\n",
    "             .melt(id_vars=['Province/State', 'Country/Region', 'Lat', 'Long'], var_name='date', value_name=columnName) \\\n",
    "             .fillna('<all>')\n",
    "    data['date'] = data['date'].astype('datetime64[ns]')\n",
    "    return data"
   ]
  },
  {
   "cell_type": "code",
   "execution_count": 17,
   "metadata": {},
   "outputs": [],
   "source": [
    "all_data = loadData(\"time_series_covid19_confirmed_global.csv\", \"CumConfirmed\") \\\n",
    "    .merge(loadData(\"time_series_covid19_deaths_global.csv\", \"CumDeaths\"))"
   ]
  },
  {
   "cell_type": "code",
   "execution_count": 18,
   "metadata": {
    "scrolled": true
   },
   "outputs": [
    {
     "data": {
      "text/html": [
       "<div>\n",
       "<style scoped>\n",
       "    .dataframe tbody tr th:only-of-type {\n",
       "        vertical-align: middle;\n",
       "    }\n",
       "\n",
       "    .dataframe tbody tr th {\n",
       "        vertical-align: top;\n",
       "    }\n",
       "\n",
       "    .dataframe thead th {\n",
       "        text-align: right;\n",
       "    }\n",
       "</style>\n",
       "<table border=\"1\" class=\"dataframe\">\n",
       "  <thead>\n",
       "    <tr style=\"text-align: right;\">\n",
       "      <th></th>\n",
       "      <th>Province/State</th>\n",
       "      <th>Country/Region</th>\n",
       "      <th>Lat</th>\n",
       "      <th>Long</th>\n",
       "      <th>date</th>\n",
       "      <th>CumConfirmed</th>\n",
       "      <th>CumDeaths</th>\n",
       "    </tr>\n",
       "  </thead>\n",
       "  <tbody>\n",
       "    <tr>\n",
       "      <th>0</th>\n",
       "      <td>&lt;all&gt;</td>\n",
       "      <td>Afghanistan</td>\n",
       "      <td>33.0000</td>\n",
       "      <td>65.0000</td>\n",
       "      <td>2020-01-22</td>\n",
       "      <td>0</td>\n",
       "      <td>0</td>\n",
       "    </tr>\n",
       "    <tr>\n",
       "      <th>1</th>\n",
       "      <td>&lt;all&gt;</td>\n",
       "      <td>Albania</td>\n",
       "      <td>41.1533</td>\n",
       "      <td>20.1683</td>\n",
       "      <td>2020-01-22</td>\n",
       "      <td>0</td>\n",
       "      <td>0</td>\n",
       "    </tr>\n",
       "    <tr>\n",
       "      <th>2</th>\n",
       "      <td>&lt;all&gt;</td>\n",
       "      <td>Algeria</td>\n",
       "      <td>28.0339</td>\n",
       "      <td>1.6596</td>\n",
       "      <td>2020-01-22</td>\n",
       "      <td>0</td>\n",
       "      <td>0</td>\n",
       "    </tr>\n",
       "    <tr>\n",
       "      <th>3</th>\n",
       "      <td>&lt;all&gt;</td>\n",
       "      <td>Andorra</td>\n",
       "      <td>42.5063</td>\n",
       "      <td>1.5218</td>\n",
       "      <td>2020-01-22</td>\n",
       "      <td>0</td>\n",
       "      <td>0</td>\n",
       "    </tr>\n",
       "    <tr>\n",
       "      <th>4</th>\n",
       "      <td>&lt;all&gt;</td>\n",
       "      <td>Angola</td>\n",
       "      <td>-11.2027</td>\n",
       "      <td>17.8739</td>\n",
       "      <td>2020-01-22</td>\n",
       "      <td>0</td>\n",
       "      <td>0</td>\n",
       "    </tr>\n",
       "  </tbody>\n",
       "</table>\n",
       "</div>"
      ],
      "text/plain": [
       "  Province/State Country/Region      Lat     Long       date  CumConfirmed  \\\n",
       "0          <all>    Afghanistan  33.0000  65.0000 2020-01-22             0   \n",
       "1          <all>        Albania  41.1533  20.1683 2020-01-22             0   \n",
       "2          <all>        Algeria  28.0339   1.6596 2020-01-22             0   \n",
       "3          <all>        Andorra  42.5063   1.5218 2020-01-22             0   \n",
       "4          <all>         Angola -11.2027  17.8739 2020-01-22             0   \n",
       "\n",
       "   CumDeaths  \n",
       "0          0  \n",
       "1          0  \n",
       "2          0  \n",
       "3          0  \n",
       "4          0  "
      ]
     },
     "execution_count": 18,
     "metadata": {},
     "output_type": "execute_result"
    }
   ],
   "source": [
    "all_data.head()"
   ]
  },
  {
   "cell_type": "code",
   "execution_count": 19,
   "metadata": {},
   "outputs": [
    {
     "data": {
      "text/html": [
       "<div>\n",
       "<style scoped>\n",
       "    .dataframe tbody tr th:only-of-type {\n",
       "        vertical-align: middle;\n",
       "    }\n",
       "\n",
       "    .dataframe tbody tr th {\n",
       "        vertical-align: top;\n",
       "    }\n",
       "\n",
       "    .dataframe thead th {\n",
       "        text-align: right;\n",
       "    }\n",
       "</style>\n",
       "<table border=\"1\" class=\"dataframe\">\n",
       "  <thead>\n",
       "    <tr style=\"text-align: right;\">\n",
       "      <th></th>\n",
       "      <th>Country/Region</th>\n",
       "      <th>CumConfirmed</th>\n",
       "      <th>CumDeaths</th>\n",
       "    </tr>\n",
       "  </thead>\n",
       "  <tbody>\n",
       "    <tr>\n",
       "      <th>0</th>\n",
       "      <td>Afghanistan</td>\n",
       "      <td>281</td>\n",
       "      <td>6</td>\n",
       "    </tr>\n",
       "    <tr>\n",
       "      <th>1</th>\n",
       "      <td>Albania</td>\n",
       "      <td>304</td>\n",
       "      <td>17</td>\n",
       "    </tr>\n",
       "    <tr>\n",
       "      <th>2</th>\n",
       "      <td>Algeria</td>\n",
       "      <td>1171</td>\n",
       "      <td>105</td>\n",
       "    </tr>\n",
       "    <tr>\n",
       "      <th>3</th>\n",
       "      <td>Andorra</td>\n",
       "      <td>439</td>\n",
       "      <td>16</td>\n",
       "    </tr>\n",
       "    <tr>\n",
       "      <th>4</th>\n",
       "      <td>Angola</td>\n",
       "      <td>8</td>\n",
       "      <td>2</td>\n",
       "    </tr>\n",
       "  </tbody>\n",
       "</table>\n",
       "</div>"
      ],
      "text/plain": [
       "  Country/Region  CumConfirmed  CumDeaths\n",
       "0    Afghanistan           281          6\n",
       "1        Albania           304         17\n",
       "2        Algeria          1171        105\n",
       "3        Andorra           439         16\n",
       "4         Angola             8          2"
      ]
     },
     "execution_count": 19,
     "metadata": {},
     "output_type": "execute_result"
    }
   ],
   "source": [
    "grouped_countries = all_data.groupby('Country/Region').agg({'CumConfirmed': 'max', 'CumDeaths': 'max'}).reset_index()\n",
    "grouped_countries.head()"
   ]
  },
  {
   "cell_type": "code",
   "execution_count": 20,
   "metadata": {},
   "outputs": [
    {
     "data": {
      "text/html": [
       "<div>\n",
       "<style scoped>\n",
       "    .dataframe tbody tr th:only-of-type {\n",
       "        vertical-align: middle;\n",
       "    }\n",
       "\n",
       "    .dataframe tbody tr th {\n",
       "        vertical-align: top;\n",
       "    }\n",
       "\n",
       "    .dataframe thead th {\n",
       "        text-align: right;\n",
       "    }\n",
       "</style>\n",
       "<table border=\"1\" class=\"dataframe\">\n",
       "  <thead>\n",
       "    <tr style=\"text-align: right;\">\n",
       "      <th></th>\n",
       "      <th>Country/Region</th>\n",
       "      <th>CumConfirmed</th>\n",
       "      <th>CumDeaths</th>\n",
       "    </tr>\n",
       "  </thead>\n",
       "  <tbody>\n",
       "    <tr>\n",
       "      <th>32</th>\n",
       "      <td>Canada</td>\n",
       "      <td>6101</td>\n",
       "      <td>67</td>\n",
       "    </tr>\n",
       "  </tbody>\n",
       "</table>\n",
       "</div>"
      ],
      "text/plain": [
       "   Country/Region  CumConfirmed  CumDeaths\n",
       "32         Canada          6101         67"
      ]
     },
     "execution_count": 20,
     "metadata": {},
     "output_type": "execute_result"
    }
   ],
   "source": [
    "grouped_countries[grouped_countries['Country/Region'] == 'Canada']"
   ]
  },
  {
   "cell_type": "code",
   "execution_count": 21,
   "metadata": {},
   "outputs": [
    {
     "data": {
      "text/plain": [
       "array(['Afghanistan', 'Albania', 'Algeria', 'Andorra', 'Angola',\n",
       "       'Antigua and Barbuda', 'Argentina', 'Armenia', 'Australia',\n",
       "       'Austria', 'Azerbaijan', 'Bahamas', 'Bahrain', 'Bangladesh',\n",
       "       'Barbados', 'Belarus', 'Belgium', 'Belize', 'Benin', 'Bhutan',\n",
       "       'Bolivia', 'Bosnia and Herzegovina', 'Botswana', 'Brazil',\n",
       "       'Brunei', 'Bulgaria', 'Burkina Faso', 'Burma', 'Burundi',\n",
       "       'Cabo Verde', 'Cambodia', 'Cameroon', 'Canada',\n",
       "       'Central African Republic', 'Chad', 'Chile', 'China', 'Colombia',\n",
       "       'Congo (Brazzaville)', 'Congo (Kinshasa)', 'Costa Rica',\n",
       "       \"Cote d'Ivoire\", 'Croatia', 'Cuba', 'Cyprus', 'Czechia', 'Denmark',\n",
       "       'Diamond Princess', 'Djibouti', 'Dominica', 'Dominican Republic',\n",
       "       'Ecuador', 'Egypt', 'El Salvador', 'Equatorial Guinea', 'Eritrea',\n",
       "       'Estonia', 'Eswatini', 'Ethiopia', 'Fiji', 'Finland', 'France',\n",
       "       'Gabon', 'Gambia', 'Georgia', 'Germany', 'Ghana', 'Greece',\n",
       "       'Grenada', 'Guatemala', 'Guinea', 'Guinea-Bissau', 'Guyana',\n",
       "       'Haiti', 'Holy See', 'Honduras', 'Hungary', 'Iceland', 'India',\n",
       "       'Indonesia', 'Iran', 'Iraq', 'Ireland', 'Israel', 'Italy',\n",
       "       'Jamaica', 'Japan', 'Jordan', 'Kazakhstan', 'Kenya',\n",
       "       'Korea, South', 'Kosovo', 'Kuwait', 'Kyrgyzstan', 'Laos', 'Latvia',\n",
       "       'Lebanon', 'Liberia', 'Libya', 'Liechtenstein', 'Lithuania',\n",
       "       'Luxembourg', 'MS Zaandam', 'Madagascar', 'Malawi', 'Malaysia',\n",
       "       'Maldives', 'Mali', 'Malta', 'Mauritania', 'Mauritius', 'Mexico',\n",
       "       'Moldova', 'Monaco', 'Mongolia', 'Montenegro', 'Morocco',\n",
       "       'Mozambique', 'Namibia', 'Nepal', 'Netherlands', 'New Zealand',\n",
       "       'Nicaragua', 'Niger', 'Nigeria', 'North Macedonia', 'Norway',\n",
       "       'Oman', 'Pakistan', 'Panama', 'Papua New Guinea', 'Paraguay',\n",
       "       'Peru', 'Philippines', 'Poland', 'Portugal', 'Qatar', 'Romania',\n",
       "       'Russia', 'Rwanda', 'Saint Kitts and Nevis', 'Saint Lucia',\n",
       "       'Saint Vincent and the Grenadines', 'San Marino', 'Saudi Arabia',\n",
       "       'Senegal', 'Serbia', 'Seychelles', 'Sierra Leone', 'Singapore',\n",
       "       'Slovakia', 'Slovenia', 'Somalia', 'South Africa', 'Spain',\n",
       "       'Sri Lanka', 'Sudan', 'Suriname', 'Sweden', 'Switzerland', 'Syria',\n",
       "       'Taiwan*', 'Tanzania', 'Thailand', 'Timor-Leste', 'Togo',\n",
       "       'Trinidad and Tobago', 'Tunisia', 'Turkey', 'US', 'Uganda',\n",
       "       'Ukraine', 'United Arab Emirates', 'United Kingdom', 'Uruguay',\n",
       "       'Uzbekistan', 'Venezuela', 'Vietnam', 'West Bank and Gaza',\n",
       "       'Zambia', 'Zimbabwe'], dtype=object)"
      ]
     },
     "execution_count": 21,
     "metadata": {},
     "output_type": "execute_result"
    }
   ],
   "source": [
    "grouped_countries['Country/Region'].unique()"
   ]
  },
  {
   "cell_type": "code",
   "execution_count": 22,
   "metadata": {},
   "outputs": [
    {
     "data": {
      "text/plain": [
       "'Myanmar'"
      ]
     },
     "execution_count": 22,
     "metadata": {},
     "output_type": "execute_result"
    }
   ],
   "source": [
    "burma = pycountry.countries.get(alpha_3='MMR')\n",
    "\n",
    "# Country(alpha_2='DE', alpha_3='DEU', name='Germany', numeric='276', official_name='Federal Republic of Germany')\n",
    "# germany.alpha_2\n",
    "\n",
    "burma.name\n",
    "\n",
    "# germany.numeric\n",
    "\n",
    "# german\n"
   ]
  },
  {
   "cell_type": "code",
   "execution_count": 23,
   "metadata": {
    "scrolled": true
   },
   "outputs": [
    {
     "name": "stdout",
     "output_type": "stream",
     "text": [
      "['AFG', 'ALB', 'DZA', 'AND', 'AGO', 'ATG', 'ARG', 'ARM', 'AUS', 'AUT', 'AZE', 'BHS', 'BHR', 'BGD', 'BRB', 'BLR', 'BEL', 'BLZ', 'BEN', 'BTN', 'Unknown code', 'BIH', 'BWA', 'BRA', 'Unknown code', 'BGR', 'BFA', 'Unknown code', 'BDI', 'CPV', 'KHM', 'CMR', 'CAN', 'CAF', 'TCD', 'CHL', 'CHN', 'COL', 'Unknown code', 'Unknown code', 'CRI', 'Unknown code', 'HRV', 'CUB', 'CYP', 'CZE', 'DNK', 'Unknown code', 'DJI', 'DMA', 'DOM', 'ECU', 'EGY', 'SLV', 'GNQ', 'ERI', 'EST', 'SWZ', 'ETH', 'FJI', 'FIN', 'FRA', 'GAB', 'GMB', 'GEO', 'DEU', 'GHA', 'GRC', 'GRD', 'GTM', 'GIN', 'GNB', 'GUY', 'HTI', 'Unknown code', 'HND', 'HUN', 'ISL', 'IND', 'IDN', 'Unknown code', 'IRQ', 'IRL', 'ISR', 'ITA', 'JAM', 'JPN', 'JOR', 'KAZ', 'KEN', 'Unknown code', 'Unknown code', 'KWT', 'KGZ', 'Unknown code', 'LVA', 'LBN', 'LBR', 'LBY', 'LIE', 'LTU', 'LUX', 'Unknown code', 'MDG', 'MWI', 'MYS', 'MDV', 'MLI', 'MLT', 'MRT', 'MUS', 'MEX', 'Unknown code', 'MCO', 'MNG', 'MNE', 'MAR', 'MOZ', 'NAM', 'NPL', 'NLD', 'NZL', 'NIC', 'NER', 'NGA', 'MKD', 'NOR', 'OMN', 'PAK', 'PAN', 'PNG', 'PRY', 'PER', 'PHL', 'POL', 'PRT', 'QAT', 'ROU', 'Unknown code', 'RWA', 'KNA', 'LCA', 'VCT', 'SMR', 'SAU', 'SEN', 'SRB', 'SYC', 'SLE', 'SGP', 'SVK', 'SVN', 'SOM', 'ZAF', 'ESP', 'LKA', 'SDN', 'SUR', 'SWE', 'CHE', 'Unknown code', 'Unknown code', 'Unknown code', 'THA', 'TLS', 'TGO', 'TTO', 'TUN', 'TUR', 'Unknown code', 'UGA', 'UKR', 'ARE', 'GBR', 'URY', 'UZB', 'Unknown code', 'Unknown code', 'Unknown code', 'ZMB', 'ZWE']\n"
     ]
    }
   ],
   "source": [
    "input_countries = grouped_countries['Country/Region']\n",
    "\n",
    "countries = {}\n",
    "for country in pycountry.countries:\n",
    "    countries[country.name] = country.alpha_3\n",
    "\n",
    "codes = [countries.get(country, 'Unknown code') for country in input_countries]\n",
    "\n",
    "print(codes)\n",
    "grouped_countries['code'] = codes"
   ]
  },
  {
   "cell_type": "code",
   "execution_count": 24,
   "metadata": {},
   "outputs": [
    {
     "data": {
      "text/html": [
       "<div>\n",
       "<style scoped>\n",
       "    .dataframe tbody tr th:only-of-type {\n",
       "        vertical-align: middle;\n",
       "    }\n",
       "\n",
       "    .dataframe tbody tr th {\n",
       "        vertical-align: top;\n",
       "    }\n",
       "\n",
       "    .dataframe thead th {\n",
       "        text-align: right;\n",
       "    }\n",
       "</style>\n",
       "<table border=\"1\" class=\"dataframe\">\n",
       "  <thead>\n",
       "    <tr style=\"text-align: right;\">\n",
       "      <th></th>\n",
       "      <th>Country/Region</th>\n",
       "      <th>CumConfirmed</th>\n",
       "      <th>CumDeaths</th>\n",
       "      <th>code</th>\n",
       "    </tr>\n",
       "  </thead>\n",
       "  <tbody>\n",
       "    <tr>\n",
       "      <th>0</th>\n",
       "      <td>Afghanistan</td>\n",
       "      <td>281</td>\n",
       "      <td>6</td>\n",
       "      <td>AFG</td>\n",
       "    </tr>\n",
       "    <tr>\n",
       "      <th>1</th>\n",
       "      <td>Albania</td>\n",
       "      <td>304</td>\n",
       "      <td>17</td>\n",
       "      <td>ALB</td>\n",
       "    </tr>\n",
       "    <tr>\n",
       "      <th>2</th>\n",
       "      <td>Algeria</td>\n",
       "      <td>1171</td>\n",
       "      <td>105</td>\n",
       "      <td>DZA</td>\n",
       "    </tr>\n",
       "    <tr>\n",
       "      <th>3</th>\n",
       "      <td>Andorra</td>\n",
       "      <td>439</td>\n",
       "      <td>16</td>\n",
       "      <td>AND</td>\n",
       "    </tr>\n",
       "    <tr>\n",
       "      <th>4</th>\n",
       "      <td>Angola</td>\n",
       "      <td>8</td>\n",
       "      <td>2</td>\n",
       "      <td>AGO</td>\n",
       "    </tr>\n",
       "    <tr>\n",
       "      <th>5</th>\n",
       "      <td>Antigua and Barbuda</td>\n",
       "      <td>15</td>\n",
       "      <td>0</td>\n",
       "      <td>ATG</td>\n",
       "    </tr>\n",
       "    <tr>\n",
       "      <th>6</th>\n",
       "      <td>Argentina</td>\n",
       "      <td>1265</td>\n",
       "      <td>39</td>\n",
       "      <td>ARG</td>\n",
       "    </tr>\n",
       "    <tr>\n",
       "      <th>7</th>\n",
       "      <td>Armenia</td>\n",
       "      <td>736</td>\n",
       "      <td>7</td>\n",
       "      <td>ARM</td>\n",
       "    </tr>\n",
       "    <tr>\n",
       "      <th>8</th>\n",
       "      <td>Australia</td>\n",
       "      <td>2389</td>\n",
       "      <td>12</td>\n",
       "      <td>AUS</td>\n",
       "    </tr>\n",
       "    <tr>\n",
       "      <th>9</th>\n",
       "      <td>Austria</td>\n",
       "      <td>11524</td>\n",
       "      <td>168</td>\n",
       "      <td>AUT</td>\n",
       "    </tr>\n",
       "    <tr>\n",
       "      <th>10</th>\n",
       "      <td>Azerbaijan</td>\n",
       "      <td>443</td>\n",
       "      <td>5</td>\n",
       "      <td>AZE</td>\n",
       "    </tr>\n",
       "    <tr>\n",
       "      <th>11</th>\n",
       "      <td>Bahamas</td>\n",
       "      <td>24</td>\n",
       "      <td>1</td>\n",
       "      <td>BHS</td>\n",
       "    </tr>\n",
       "    <tr>\n",
       "      <th>12</th>\n",
       "      <td>Bahrain</td>\n",
       "      <td>672</td>\n",
       "      <td>4</td>\n",
       "      <td>BHR</td>\n",
       "    </tr>\n",
       "    <tr>\n",
       "      <th>13</th>\n",
       "      <td>Bangladesh</td>\n",
       "      <td>61</td>\n",
       "      <td>6</td>\n",
       "      <td>BGD</td>\n",
       "    </tr>\n",
       "    <tr>\n",
       "      <th>14</th>\n",
       "      <td>Barbados</td>\n",
       "      <td>51</td>\n",
       "      <td>0</td>\n",
       "      <td>BRB</td>\n",
       "    </tr>\n",
       "    <tr>\n",
       "      <th>15</th>\n",
       "      <td>Belarus</td>\n",
       "      <td>351</td>\n",
       "      <td>4</td>\n",
       "      <td>BLR</td>\n",
       "    </tr>\n",
       "    <tr>\n",
       "      <th>16</th>\n",
       "      <td>Belgium</td>\n",
       "      <td>16770</td>\n",
       "      <td>1143</td>\n",
       "      <td>BEL</td>\n",
       "    </tr>\n",
       "    <tr>\n",
       "      <th>17</th>\n",
       "      <td>Belize</td>\n",
       "      <td>4</td>\n",
       "      <td>0</td>\n",
       "      <td>BLZ</td>\n",
       "    </tr>\n",
       "    <tr>\n",
       "      <th>18</th>\n",
       "      <td>Benin</td>\n",
       "      <td>16</td>\n",
       "      <td>0</td>\n",
       "      <td>BEN</td>\n",
       "    </tr>\n",
       "    <tr>\n",
       "      <th>19</th>\n",
       "      <td>Bhutan</td>\n",
       "      <td>5</td>\n",
       "      <td>0</td>\n",
       "      <td>BTN</td>\n",
       "    </tr>\n",
       "    <tr>\n",
       "      <th>20</th>\n",
       "      <td>Bolivia</td>\n",
       "      <td>132</td>\n",
       "      <td>9</td>\n",
       "      <td>Unknown code</td>\n",
       "    </tr>\n",
       "    <tr>\n",
       "      <th>21</th>\n",
       "      <td>Bosnia and Herzegovina</td>\n",
       "      <td>579</td>\n",
       "      <td>17</td>\n",
       "      <td>BIH</td>\n",
       "    </tr>\n",
       "    <tr>\n",
       "      <th>22</th>\n",
       "      <td>Botswana</td>\n",
       "      <td>4</td>\n",
       "      <td>1</td>\n",
       "      <td>BWA</td>\n",
       "    </tr>\n",
       "    <tr>\n",
       "      <th>23</th>\n",
       "      <td>Brazil</td>\n",
       "      <td>9056</td>\n",
       "      <td>359</td>\n",
       "      <td>BRA</td>\n",
       "    </tr>\n",
       "    <tr>\n",
       "      <th>24</th>\n",
       "      <td>Brunei</td>\n",
       "      <td>134</td>\n",
       "      <td>1</td>\n",
       "      <td>Unknown code</td>\n",
       "    </tr>\n",
       "    <tr>\n",
       "      <th>25</th>\n",
       "      <td>Bulgaria</td>\n",
       "      <td>485</td>\n",
       "      <td>14</td>\n",
       "      <td>BGR</td>\n",
       "    </tr>\n",
       "    <tr>\n",
       "      <th>26</th>\n",
       "      <td>Burkina Faso</td>\n",
       "      <td>302</td>\n",
       "      <td>16</td>\n",
       "      <td>BFA</td>\n",
       "    </tr>\n",
       "    <tr>\n",
       "      <th>27</th>\n",
       "      <td>Burma</td>\n",
       "      <td>20</td>\n",
       "      <td>1</td>\n",
       "      <td>Unknown code</td>\n",
       "    </tr>\n",
       "    <tr>\n",
       "      <th>28</th>\n",
       "      <td>Burundi</td>\n",
       "      <td>3</td>\n",
       "      <td>0</td>\n",
       "      <td>BDI</td>\n",
       "    </tr>\n",
       "    <tr>\n",
       "      <th>29</th>\n",
       "      <td>Cabo Verde</td>\n",
       "      <td>6</td>\n",
       "      <td>1</td>\n",
       "      <td>CPV</td>\n",
       "    </tr>\n",
       "    <tr>\n",
       "      <th>30</th>\n",
       "      <td>Cambodia</td>\n",
       "      <td>114</td>\n",
       "      <td>0</td>\n",
       "      <td>KHM</td>\n",
       "    </tr>\n",
       "    <tr>\n",
       "      <th>31</th>\n",
       "      <td>Cameroon</td>\n",
       "      <td>509</td>\n",
       "      <td>8</td>\n",
       "      <td>CMR</td>\n",
       "    </tr>\n",
       "    <tr>\n",
       "      <th>32</th>\n",
       "      <td>Canada</td>\n",
       "      <td>6101</td>\n",
       "      <td>67</td>\n",
       "      <td>CAN</td>\n",
       "    </tr>\n",
       "    <tr>\n",
       "      <th>33</th>\n",
       "      <td>Central African Republic</td>\n",
       "      <td>8</td>\n",
       "      <td>0</td>\n",
       "      <td>CAF</td>\n",
       "    </tr>\n",
       "    <tr>\n",
       "      <th>34</th>\n",
       "      <td>Chad</td>\n",
       "      <td>8</td>\n",
       "      <td>0</td>\n",
       "      <td>TCD</td>\n",
       "    </tr>\n",
       "    <tr>\n",
       "      <th>35</th>\n",
       "      <td>Chile</td>\n",
       "      <td>3737</td>\n",
       "      <td>22</td>\n",
       "      <td>CHL</td>\n",
       "    </tr>\n",
       "    <tr>\n",
       "      <th>36</th>\n",
       "      <td>China</td>\n",
       "      <td>67802</td>\n",
       "      <td>3203</td>\n",
       "      <td>CHN</td>\n",
       "    </tr>\n",
       "    <tr>\n",
       "      <th>37</th>\n",
       "      <td>Colombia</td>\n",
       "      <td>1267</td>\n",
       "      <td>25</td>\n",
       "      <td>COL</td>\n",
       "    </tr>\n",
       "    <tr>\n",
       "      <th>38</th>\n",
       "      <td>Congo (Brazzaville)</td>\n",
       "      <td>22</td>\n",
       "      <td>2</td>\n",
       "      <td>Unknown code</td>\n",
       "    </tr>\n",
       "    <tr>\n",
       "      <th>39</th>\n",
       "      <td>Congo (Kinshasa)</td>\n",
       "      <td>134</td>\n",
       "      <td>13</td>\n",
       "      <td>Unknown code</td>\n",
       "    </tr>\n",
       "    <tr>\n",
       "      <th>40</th>\n",
       "      <td>Costa Rica</td>\n",
       "      <td>416</td>\n",
       "      <td>2</td>\n",
       "      <td>CRI</td>\n",
       "    </tr>\n",
       "    <tr>\n",
       "      <th>41</th>\n",
       "      <td>Cote d'Ivoire</td>\n",
       "      <td>218</td>\n",
       "      <td>1</td>\n",
       "      <td>Unknown code</td>\n",
       "    </tr>\n",
       "    <tr>\n",
       "      <th>42</th>\n",
       "      <td>Croatia</td>\n",
       "      <td>1079</td>\n",
       "      <td>8</td>\n",
       "      <td>HRV</td>\n",
       "    </tr>\n",
       "    <tr>\n",
       "      <th>43</th>\n",
       "      <td>Cuba</td>\n",
       "      <td>269</td>\n",
       "      <td>6</td>\n",
       "      <td>CUB</td>\n",
       "    </tr>\n",
       "    <tr>\n",
       "      <th>44</th>\n",
       "      <td>Cyprus</td>\n",
       "      <td>396</td>\n",
       "      <td>11</td>\n",
       "      <td>CYP</td>\n",
       "    </tr>\n",
       "    <tr>\n",
       "      <th>45</th>\n",
       "      <td>Czechia</td>\n",
       "      <td>4091</td>\n",
       "      <td>53</td>\n",
       "      <td>CZE</td>\n",
       "    </tr>\n",
       "    <tr>\n",
       "      <th>46</th>\n",
       "      <td>Denmark</td>\n",
       "      <td>3757</td>\n",
       "      <td>139</td>\n",
       "      <td>DNK</td>\n",
       "    </tr>\n",
       "    <tr>\n",
       "      <th>47</th>\n",
       "      <td>Diamond Princess</td>\n",
       "      <td>712</td>\n",
       "      <td>11</td>\n",
       "      <td>Unknown code</td>\n",
       "    </tr>\n",
       "    <tr>\n",
       "      <th>48</th>\n",
       "      <td>Djibouti</td>\n",
       "      <td>49</td>\n",
       "      <td>0</td>\n",
       "      <td>DJI</td>\n",
       "    </tr>\n",
       "    <tr>\n",
       "      <th>49</th>\n",
       "      <td>Dominica</td>\n",
       "      <td>12</td>\n",
       "      <td>0</td>\n",
       "      <td>DMA</td>\n",
       "    </tr>\n",
       "  </tbody>\n",
       "</table>\n",
       "</div>"
      ],
      "text/plain": [
       "              Country/Region  CumConfirmed  CumDeaths          code\n",
       "0                Afghanistan           281          6           AFG\n",
       "1                    Albania           304         17           ALB\n",
       "2                    Algeria          1171        105           DZA\n",
       "3                    Andorra           439         16           AND\n",
       "4                     Angola             8          2           AGO\n",
       "5        Antigua and Barbuda            15          0           ATG\n",
       "6                  Argentina          1265         39           ARG\n",
       "7                    Armenia           736          7           ARM\n",
       "8                  Australia          2389         12           AUS\n",
       "9                    Austria         11524        168           AUT\n",
       "10                Azerbaijan           443          5           AZE\n",
       "11                   Bahamas            24          1           BHS\n",
       "12                   Bahrain           672          4           BHR\n",
       "13                Bangladesh            61          6           BGD\n",
       "14                  Barbados            51          0           BRB\n",
       "15                   Belarus           351          4           BLR\n",
       "16                   Belgium         16770       1143           BEL\n",
       "17                    Belize             4          0           BLZ\n",
       "18                     Benin            16          0           BEN\n",
       "19                    Bhutan             5          0           BTN\n",
       "20                   Bolivia           132          9  Unknown code\n",
       "21    Bosnia and Herzegovina           579         17           BIH\n",
       "22                  Botswana             4          1           BWA\n",
       "23                    Brazil          9056        359           BRA\n",
       "24                    Brunei           134          1  Unknown code\n",
       "25                  Bulgaria           485         14           BGR\n",
       "26              Burkina Faso           302         16           BFA\n",
       "27                     Burma            20          1  Unknown code\n",
       "28                   Burundi             3          0           BDI\n",
       "29                Cabo Verde             6          1           CPV\n",
       "30                  Cambodia           114          0           KHM\n",
       "31                  Cameroon           509          8           CMR\n",
       "32                    Canada          6101         67           CAN\n",
       "33  Central African Republic             8          0           CAF\n",
       "34                      Chad             8          0           TCD\n",
       "35                     Chile          3737         22           CHL\n",
       "36                     China         67802       3203           CHN\n",
       "37                  Colombia          1267         25           COL\n",
       "38       Congo (Brazzaville)            22          2  Unknown code\n",
       "39          Congo (Kinshasa)           134         13  Unknown code\n",
       "40                Costa Rica           416          2           CRI\n",
       "41             Cote d'Ivoire           218          1  Unknown code\n",
       "42                   Croatia          1079          8           HRV\n",
       "43                      Cuba           269          6           CUB\n",
       "44                    Cyprus           396         11           CYP\n",
       "45                   Czechia          4091         53           CZE\n",
       "46                   Denmark          3757        139           DNK\n",
       "47          Diamond Princess           712         11  Unknown code\n",
       "48                  Djibouti            49          0           DJI\n",
       "49                  Dominica            12          0           DMA"
      ]
     },
     "execution_count": 24,
     "metadata": {},
     "output_type": "execute_result"
    }
   ],
   "source": [
    "grouped_countries.head(50)"
   ]
  },
  {
   "cell_type": "code",
   "execution_count": 25,
   "metadata": {},
   "outputs": [
    {
     "data": {
      "text/html": [
       "<div>\n",
       "<style scoped>\n",
       "    .dataframe tbody tr th:only-of-type {\n",
       "        vertical-align: middle;\n",
       "    }\n",
       "\n",
       "    .dataframe tbody tr th {\n",
       "        vertical-align: top;\n",
       "    }\n",
       "\n",
       "    .dataframe thead th {\n",
       "        text-align: right;\n",
       "    }\n",
       "</style>\n",
       "<table border=\"1\" class=\"dataframe\">\n",
       "  <thead>\n",
       "    <tr style=\"text-align: right;\">\n",
       "      <th></th>\n",
       "      <th>Country/Region</th>\n",
       "      <th>CumConfirmed</th>\n",
       "      <th>CumDeaths</th>\n",
       "      <th>code</th>\n",
       "    </tr>\n",
       "  </thead>\n",
       "  <tbody>\n",
       "    <tr>\n",
       "      <th>20</th>\n",
       "      <td>Bolivia</td>\n",
       "      <td>132</td>\n",
       "      <td>9</td>\n",
       "      <td>Unknown code</td>\n",
       "    </tr>\n",
       "    <tr>\n",
       "      <th>24</th>\n",
       "      <td>Brunei</td>\n",
       "      <td>134</td>\n",
       "      <td>1</td>\n",
       "      <td>Unknown code</td>\n",
       "    </tr>\n",
       "    <tr>\n",
       "      <th>27</th>\n",
       "      <td>Burma</td>\n",
       "      <td>20</td>\n",
       "      <td>1</td>\n",
       "      <td>Unknown code</td>\n",
       "    </tr>\n",
       "    <tr>\n",
       "      <th>38</th>\n",
       "      <td>Congo (Brazzaville)</td>\n",
       "      <td>22</td>\n",
       "      <td>2</td>\n",
       "      <td>Unknown code</td>\n",
       "    </tr>\n",
       "    <tr>\n",
       "      <th>39</th>\n",
       "      <td>Congo (Kinshasa)</td>\n",
       "      <td>134</td>\n",
       "      <td>13</td>\n",
       "      <td>Unknown code</td>\n",
       "    </tr>\n",
       "    <tr>\n",
       "      <th>41</th>\n",
       "      <td>Cote d'Ivoire</td>\n",
       "      <td>218</td>\n",
       "      <td>1</td>\n",
       "      <td>Unknown code</td>\n",
       "    </tr>\n",
       "    <tr>\n",
       "      <th>47</th>\n",
       "      <td>Diamond Princess</td>\n",
       "      <td>712</td>\n",
       "      <td>11</td>\n",
       "      <td>Unknown code</td>\n",
       "    </tr>\n",
       "    <tr>\n",
       "      <th>74</th>\n",
       "      <td>Holy See</td>\n",
       "      <td>7</td>\n",
       "      <td>0</td>\n",
       "      <td>Unknown code</td>\n",
       "    </tr>\n",
       "    <tr>\n",
       "      <th>80</th>\n",
       "      <td>Iran</td>\n",
       "      <td>53183</td>\n",
       "      <td>3294</td>\n",
       "      <td>Unknown code</td>\n",
       "    </tr>\n",
       "    <tr>\n",
       "      <th>90</th>\n",
       "      <td>Korea, South</td>\n",
       "      <td>10062</td>\n",
       "      <td>174</td>\n",
       "      <td>Unknown code</td>\n",
       "    </tr>\n",
       "    <tr>\n",
       "      <th>91</th>\n",
       "      <td>Kosovo</td>\n",
       "      <td>126</td>\n",
       "      <td>1</td>\n",
       "      <td>Unknown code</td>\n",
       "    </tr>\n",
       "    <tr>\n",
       "      <th>94</th>\n",
       "      <td>Laos</td>\n",
       "      <td>10</td>\n",
       "      <td>0</td>\n",
       "      <td>Unknown code</td>\n",
       "    </tr>\n",
       "    <tr>\n",
       "      <th>102</th>\n",
       "      <td>MS Zaandam</td>\n",
       "      <td>9</td>\n",
       "      <td>2</td>\n",
       "      <td>Unknown code</td>\n",
       "    </tr>\n",
       "    <tr>\n",
       "      <th>112</th>\n",
       "      <td>Moldova</td>\n",
       "      <td>591</td>\n",
       "      <td>8</td>\n",
       "      <td>Unknown code</td>\n",
       "    </tr>\n",
       "    <tr>\n",
       "      <th>138</th>\n",
       "      <td>Russia</td>\n",
       "      <td>4149</td>\n",
       "      <td>34</td>\n",
       "      <td>Unknown code</td>\n",
       "    </tr>\n",
       "    <tr>\n",
       "      <th>160</th>\n",
       "      <td>Syria</td>\n",
       "      <td>16</td>\n",
       "      <td>2</td>\n",
       "      <td>Unknown code</td>\n",
       "    </tr>\n",
       "    <tr>\n",
       "      <th>161</th>\n",
       "      <td>Taiwan*</td>\n",
       "      <td>348</td>\n",
       "      <td>5</td>\n",
       "      <td>Unknown code</td>\n",
       "    </tr>\n",
       "    <tr>\n",
       "      <th>162</th>\n",
       "      <td>Tanzania</td>\n",
       "      <td>20</td>\n",
       "      <td>1</td>\n",
       "      <td>Unknown code</td>\n",
       "    </tr>\n",
       "    <tr>\n",
       "      <th>169</th>\n",
       "      <td>US</td>\n",
       "      <td>275586</td>\n",
       "      <td>7087</td>\n",
       "      <td>Unknown code</td>\n",
       "    </tr>\n",
       "    <tr>\n",
       "      <th>176</th>\n",
       "      <td>Venezuela</td>\n",
       "      <td>153</td>\n",
       "      <td>7</td>\n",
       "      <td>Unknown code</td>\n",
       "    </tr>\n",
       "    <tr>\n",
       "      <th>177</th>\n",
       "      <td>Vietnam</td>\n",
       "      <td>237</td>\n",
       "      <td>0</td>\n",
       "      <td>Unknown code</td>\n",
       "    </tr>\n",
       "    <tr>\n",
       "      <th>178</th>\n",
       "      <td>West Bank and Gaza</td>\n",
       "      <td>194</td>\n",
       "      <td>1</td>\n",
       "      <td>Unknown code</td>\n",
       "    </tr>\n",
       "  </tbody>\n",
       "</table>\n",
       "</div>"
      ],
      "text/plain": [
       "          Country/Region  CumConfirmed  CumDeaths          code\n",
       "20               Bolivia           132          9  Unknown code\n",
       "24                Brunei           134          1  Unknown code\n",
       "27                 Burma            20          1  Unknown code\n",
       "38   Congo (Brazzaville)            22          2  Unknown code\n",
       "39      Congo (Kinshasa)           134         13  Unknown code\n",
       "41         Cote d'Ivoire           218          1  Unknown code\n",
       "47      Diamond Princess           712         11  Unknown code\n",
       "74              Holy See             7          0  Unknown code\n",
       "80                  Iran         53183       3294  Unknown code\n",
       "90          Korea, South         10062        174  Unknown code\n",
       "91                Kosovo           126          1  Unknown code\n",
       "94                  Laos            10          0  Unknown code\n",
       "102           MS Zaandam             9          2  Unknown code\n",
       "112              Moldova           591          8  Unknown code\n",
       "138               Russia          4149         34  Unknown code\n",
       "160                Syria            16          2  Unknown code\n",
       "161              Taiwan*           348          5  Unknown code\n",
       "162             Tanzania            20          1  Unknown code\n",
       "169                   US        275586       7087  Unknown code\n",
       "176            Venezuela           153          7  Unknown code\n",
       "177              Vietnam           237          0  Unknown code\n",
       "178   West Bank and Gaza           194          1  Unknown code"
      ]
     },
     "execution_count": 25,
     "metadata": {},
     "output_type": "execute_result"
    }
   ],
   "source": [
    "grouped_countries[grouped_countries.code == 'Unknown code']"
   ]
  },
  {
   "cell_type": "code",
   "execution_count": 26,
   "metadata": {
    "scrolled": true
   },
   "outputs": [
    {
     "data": {
      "text/plain": [
       "[(20, 'Afghanistan'),\n",
       " (24, 'Albania'),\n",
       " (27, 'Algeria'),\n",
       " (38, 'Andorra'),\n",
       " (39, 'Angola'),\n",
       " (41, 'Antigua and Barbuda'),\n",
       " (47, 'Argentina'),\n",
       " (74, 'Armenia'),\n",
       " (80, 'Australia'),\n",
       " (90, 'Austria'),\n",
       " (91, 'Azerbaijan'),\n",
       " (94, 'Bahamas'),\n",
       " (102, 'Bahrain'),\n",
       " (112, 'Bangladesh'),\n",
       " (138, 'Barbados'),\n",
       " (160, 'Belarus'),\n",
       " (161, 'Belgium'),\n",
       " (162, 'Belize'),\n",
       " (169, 'Benin'),\n",
       " (176, 'Bhutan'),\n",
       " (177, 'Bolivia'),\n",
       " (178, 'Bosnia and Herzegovina')]"
      ]
     },
     "execution_count": 26,
     "metadata": {},
     "output_type": "execute_result"
    }
   ],
   "source": [
    "unknown_codes = list(zip(grouped_countries[grouped_countries.code == 'Unknown code'].index, grouped_countries['Country/Region']))\n",
    "unknown_codes"
   ]
  },
  {
   "cell_type": "code",
   "execution_count": 27,
   "metadata": {},
   "outputs": [],
   "source": [
    "# codes_to_add = ['BOL', 'BWN', 'MMR', 'COG', 'COD', 'CIV', 'VAT', 'IRN', 'KOR', 'RKS', 'LAO', 'MDA', 'RUS', 'TWN', 'TZA', 'USA', 'VEN', 'VNM', 'PSE']                                 \n",
    "\n",
    "# for index, country in unknown_codes:\n",
    "    \n",
    "#     print(index)\n",
    "#     grouped_countries.loc[index, 'code'] = [codes_to_add[i] for i in range(len(codes_to_add))]\n",
    "    "
   ]
  },
  {
   "cell_type": "code",
   "execution_count": 30,
   "metadata": {},
   "outputs": [],
   "source": [
    "#[print(i) for i in range(len(codes_to_add))]"
   ]
  },
  {
   "cell_type": "code",
   "execution_count": 34,
   "metadata": {
    "scrolled": true
   },
   "outputs": [],
   "source": [
    "# Manually adding 3-letter codes\n",
    "grouped_countries.loc[20, 'code'] = 'BOL'\n",
    "grouped_countries.loc[24, 'code'] = 'BWN'\n",
    "grouped_countries.loc[27, 'code'] = 'MMR'\n",
    "grouped_countries.loc[38, 'code'] = 'COG'\n",
    "grouped_countries.loc[39, 'code'] = 'COD'\n",
    "grouped_countries.loc[41, 'code'] = 'CIV'\n",
    "grouped_countries.loc[74, 'code'] = 'VAT'\n",
    "grouped_countries.loc[80, 'code'] = 'IRN'\n",
    "grouped_countries.loc[90, 'code'] = 'KOR'\n",
    "grouped_countries.loc[91, 'code'] = 'RKS'\n",
    "grouped_countries.loc[94, 'code'] = 'LAO'\n",
    "grouped_countries.loc[112, 'code'] = 'MDA'\n",
    "grouped_countries.loc[138, 'code'] = 'RUS'\n",
    "grouped_countries.loc[160, 'code'] = 'SYR'\n",
    "grouped_countries.loc[161, 'code'] = 'TWN'\n",
    "grouped_countries.loc[162, 'code'] = 'TZA'\n",
    "grouped_countries.loc[169, 'code'] = 'USA'\n",
    "grouped_countries.loc[176, 'code'] = 'VEN'\n",
    "grouped_countries.loc[177, 'code'] = 'VNM'\n",
    "grouped_countries.loc[178, 'code'] = 'PSE'"
   ]
  },
  {
   "cell_type": "code",
   "execution_count": 35,
   "metadata": {},
   "outputs": [
    {
     "data": {
      "text/plain": [
       "Country/Region    United Arab Emirates\n",
       "CumConfirmed                      1264\n",
       "CumDeaths                            9\n",
       "code                               ARE\n",
       "Name: 172, dtype: object"
      ]
     },
     "execution_count": 35,
     "metadata": {},
     "output_type": "execute_result"
    }
   ],
   "source": [
    "grouped_countries.iloc[172]"
   ]
  },
  {
   "cell_type": "code",
   "execution_count": 36,
   "metadata": {},
   "outputs": [
    {
     "data": {
      "text/html": [
       "<div>\n",
       "<style scoped>\n",
       "    .dataframe tbody tr th:only-of-type {\n",
       "        vertical-align: middle;\n",
       "    }\n",
       "\n",
       "    .dataframe tbody tr th {\n",
       "        vertical-align: top;\n",
       "    }\n",
       "\n",
       "    .dataframe thead th {\n",
       "        text-align: right;\n",
       "    }\n",
       "</style>\n",
       "<table border=\"1\" class=\"dataframe\">\n",
       "  <thead>\n",
       "    <tr style=\"text-align: right;\">\n",
       "      <th></th>\n",
       "      <th>Country/Region</th>\n",
       "      <th>CumConfirmed</th>\n",
       "      <th>CumDeaths</th>\n",
       "      <th>code</th>\n",
       "    </tr>\n",
       "  </thead>\n",
       "  <tbody>\n",
       "    <tr>\n",
       "      <th>47</th>\n",
       "      <td>Diamond Princess</td>\n",
       "      <td>712</td>\n",
       "      <td>11</td>\n",
       "      <td>Unknown code</td>\n",
       "    </tr>\n",
       "    <tr>\n",
       "      <th>102</th>\n",
       "      <td>MS Zaandam</td>\n",
       "      <td>9</td>\n",
       "      <td>2</td>\n",
       "      <td>Unknown code</td>\n",
       "    </tr>\n",
       "  </tbody>\n",
       "</table>\n",
       "</div>"
      ],
      "text/plain": [
       "       Country/Region  CumConfirmed  CumDeaths          code\n",
       "47   Diamond Princess           712         11  Unknown code\n",
       "102        MS Zaandam             9          2  Unknown code"
      ]
     },
     "execution_count": 36,
     "metadata": {},
     "output_type": "execute_result"
    }
   ],
   "source": [
    "grouped_countries[grouped_countries.code == 'Unknown code']"
   ]
  },
  {
   "cell_type": "code",
   "execution_count": 19,
   "metadata": {},
   "outputs": [],
   "source": [
    "#colordict = {0: 'lightblue', 1: 'lightgreen', 2: 'orange', 3: 'red'}"
   ]
  },
  {
   "cell_type": "code",
   "execution_count": 20,
   "metadata": {},
   "outputs": [
    {
     "data": {
      "text/plain": [
       "0        33.000000\n",
       "1        41.153300\n",
       "2        28.033900\n",
       "3        42.506300\n",
       "4       -11.202700\n",
       "           ...    \n",
       "17275   -22.328500\n",
       "17276    -3.373100\n",
       "17277     8.460555\n",
       "17278    12.178400\n",
       "17279   -13.254308\n",
       "Name: Lat, Length: 17280, dtype: float64"
      ]
     },
     "execution_count": 20,
     "metadata": {},
     "output_type": "execute_result"
    }
   ],
   "source": [
    "all_data['Lat']"
   ]
  },
  {
   "cell_type": "code",
   "execution_count": 21,
   "metadata": {},
   "outputs": [
    {
     "data": {
      "text/plain": [
       "0        65.000000\n",
       "1        20.168300\n",
       "2         1.659600\n",
       "3         1.521800\n",
       "4        17.873900\n",
       "           ...    \n",
       "17275    24.684900\n",
       "17276    29.918900\n",
       "17277   -11.779889\n",
       "17278   -68.238500\n",
       "17279    34.301525\n",
       "Name: Long, Length: 17280, dtype: float64"
      ]
     },
     "execution_count": 21,
     "metadata": {},
     "output_type": "execute_result"
    }
   ],
   "source": [
    "all_data['Long']"
   ]
  },
  {
   "cell_type": "code",
   "execution_count": 22,
   "metadata": {},
   "outputs": [],
   "source": [
    "all_data['location'] = list(zip(all_data['Lat'], all_data['Long']))"
   ]
  },
  {
   "cell_type": "code",
   "execution_count": 23,
   "metadata": {},
   "outputs": [
    {
     "data": {
      "text/html": [
       "<div>\n",
       "<style scoped>\n",
       "    .dataframe tbody tr th:only-of-type {\n",
       "        vertical-align: middle;\n",
       "    }\n",
       "\n",
       "    .dataframe tbody tr th {\n",
       "        vertical-align: top;\n",
       "    }\n",
       "\n",
       "    .dataframe thead th {\n",
       "        text-align: right;\n",
       "    }\n",
       "</style>\n",
       "<table border=\"1\" class=\"dataframe\">\n",
       "  <thead>\n",
       "    <tr style=\"text-align: right;\">\n",
       "      <th></th>\n",
       "      <th>Province/State</th>\n",
       "      <th>Country/Region</th>\n",
       "      <th>Lat</th>\n",
       "      <th>Long</th>\n",
       "      <th>date</th>\n",
       "      <th>CumConfirmed</th>\n",
       "      <th>CumDeaths</th>\n",
       "      <th>CumRecovered</th>\n",
       "      <th>location</th>\n",
       "    </tr>\n",
       "  </thead>\n",
       "  <tbody>\n",
       "    <tr>\n",
       "      <th>0</th>\n",
       "      <td>&lt;all&gt;</td>\n",
       "      <td>Afghanistan</td>\n",
       "      <td>33.0000</td>\n",
       "      <td>65.0000</td>\n",
       "      <td>2020-01-22</td>\n",
       "      <td>0</td>\n",
       "      <td>0</td>\n",
       "      <td>0</td>\n",
       "      <td>(33.0, 65.0)</td>\n",
       "    </tr>\n",
       "    <tr>\n",
       "      <th>1</th>\n",
       "      <td>&lt;all&gt;</td>\n",
       "      <td>Albania</td>\n",
       "      <td>41.1533</td>\n",
       "      <td>20.1683</td>\n",
       "      <td>2020-01-22</td>\n",
       "      <td>0</td>\n",
       "      <td>0</td>\n",
       "      <td>0</td>\n",
       "      <td>(41.1533, 20.1683)</td>\n",
       "    </tr>\n",
       "    <tr>\n",
       "      <th>2</th>\n",
       "      <td>&lt;all&gt;</td>\n",
       "      <td>Algeria</td>\n",
       "      <td>28.0339</td>\n",
       "      <td>1.6596</td>\n",
       "      <td>2020-01-22</td>\n",
       "      <td>0</td>\n",
       "      <td>0</td>\n",
       "      <td>0</td>\n",
       "      <td>(28.0339, 1.6596)</td>\n",
       "    </tr>\n",
       "    <tr>\n",
       "      <th>3</th>\n",
       "      <td>&lt;all&gt;</td>\n",
       "      <td>Andorra</td>\n",
       "      <td>42.5063</td>\n",
       "      <td>1.5218</td>\n",
       "      <td>2020-01-22</td>\n",
       "      <td>0</td>\n",
       "      <td>0</td>\n",
       "      <td>0</td>\n",
       "      <td>(42.5063, 1.5218)</td>\n",
       "    </tr>\n",
       "    <tr>\n",
       "      <th>4</th>\n",
       "      <td>&lt;all&gt;</td>\n",
       "      <td>Angola</td>\n",
       "      <td>-11.2027</td>\n",
       "      <td>17.8739</td>\n",
       "      <td>2020-01-22</td>\n",
       "      <td>0</td>\n",
       "      <td>0</td>\n",
       "      <td>0</td>\n",
       "      <td>(-11.2027, 17.8739)</td>\n",
       "    </tr>\n",
       "  </tbody>\n",
       "</table>\n",
       "</div>"
      ],
      "text/plain": [
       "  Province/State Country/Region      Lat     Long       date  CumConfirmed  \\\n",
       "0          <all>    Afghanistan  33.0000  65.0000 2020-01-22             0   \n",
       "1          <all>        Albania  41.1533  20.1683 2020-01-22             0   \n",
       "2          <all>        Algeria  28.0339   1.6596 2020-01-22             0   \n",
       "3          <all>        Andorra  42.5063   1.5218 2020-01-22             0   \n",
       "4          <all>         Angola -11.2027  17.8739 2020-01-22             0   \n",
       "\n",
       "   CumDeaths  CumRecovered             location  \n",
       "0          0             0         (33.0, 65.0)  \n",
       "1          0             0   (41.1533, 20.1683)  \n",
       "2          0             0    (28.0339, 1.6596)  \n",
       "3          0             0    (42.5063, 1.5218)  \n",
       "4          0             0  (-11.2027, 17.8739)  "
      ]
     },
     "execution_count": 23,
     "metadata": {},
     "output_type": "execute_result"
    }
   ],
   "source": [
    "all_data.head()"
   ]
  },
  {
   "cell_type": "code",
   "execution_count": 24,
   "metadata": {},
   "outputs": [
    {
     "data": {
      "text/plain": [
       "0        0\n",
       "1        0\n",
       "2        0\n",
       "3        0\n",
       "4        0\n",
       "        ..\n",
       "17275    4\n",
       "17276    3\n",
       "17277    2\n",
       "17278    2\n",
       "17279    3\n",
       "Name: CumConfirmed, Length: 17280, dtype: int64"
      ]
     },
     "execution_count": 24,
     "metadata": {},
     "output_type": "execute_result"
    }
   ],
   "source": [
    "confirmed = all_data.CumConfirmed\n",
    "confirmed"
   ]
  },
  {
   "cell_type": "code",
   "execution_count": 25,
   "metadata": {},
   "outputs": [],
   "source": [
    "latitude = 37.0902\n",
    "longitude = -95.7129\n",
    "corona_map = folium.Map(location=[latitude, longitude], zoom_start=3)\n",
    "\n",
    "def map_locations():\n",
    "    locations = all_data['location']\n",
    "    confirmed_cases = all_data.CumConfirmed\n",
    "    deaths = all_data.CumDeaths\n",
    "    countries = all_data['Country/Region']\n",
    "\n",
    "    for location, confirmed, death, country in zip(locations, confirmed_cases, deaths, countries):\n",
    "        folium.CircleMarker(location, threshold_scale=[0,1000,20000,50000], color='#3186cc', weight=0.3,        \n",
    "            fill_color='#C23208',\n",
    "            fill=True,\n",
    "            fill_opacity=0.7, tooltip = ('<H6>' + country + '</H6>' + '<br>' \n",
    "                                               'Confirmed: ' + '<strong style=\"color:#C23208;\">' + str(confirmed) +'</strong>' + '<br>'\n",
    "                                               'Deaths: ' + '<strong style=\"color:#C23208;\">' + str(death) + '</strong>' + '<br>'\n",
    "                    )).add_to(corona_map)\n",
    "    return corona_map"
   ]
  },
  {
   "cell_type": "code",
   "execution_count": 26,
   "metadata": {},
   "outputs": [],
   "source": [
    "location_map = map_locations()\n",
    "location_map.save(outfile='location_map.html')"
   ]
  },
  {
   "cell_type": "code",
   "execution_count": 27,
   "metadata": {},
   "outputs": [],
   "source": [
    "# country_geo = 'world_countries.json'\n",
    "# m = folium.Map(location=[48, -102], zoom_start=3)\n",
    "\n",
    "# folium.Choropleth(\n",
    "#     geo_data=country_geo,\n",
    "#     data=all_data.CumConfirmed\n",
    "# ).add_to(m)\n",
    "\n",
    "# folium.LayerControl().add_to(m)\n",
    "\n",
    "#m"
   ]
  },
  {
   "cell_type": "code",
   "execution_count": 28,
   "metadata": {},
   "outputs": [],
   "source": [
    "# map2 = folium.Map(location=[38.9, -77.05], tiles='CartoDB dark_matter', zoom_start=11)\n",
    "\n",
    "# marker_cluster = folium.MarkerCluster().add_to(map2)\n",
    "\n",
    "# for point in range(0, len(locationlist)):\n",
    "#     folium.Marker(locationlist[point], popup=df_counters['Name'][point]).add_to(marker_cluster)\n",
    "# map2"
   ]
  },
  {
   "cell_type": "code",
   "execution_count": 29,
   "metadata": {},
   "outputs": [],
   "source": [
    "# for lat, lon, traffic_q, traffic, bike, city in zip(df['latitude'], df['longitude'], df['traffic_index_quartile'], df['traffic_index'], df['bike_score'], df['city']):\n",
    "#     folium.CircleMarker(\n",
    "#         [lat, lon],\n",
    "#         radius=.15*bike,\n",
    "#         popup = ('City: ' + str(city).capitalize() + '<br>'\n",
    "#                  'Bike score: ' + str(bike) + '<br>'\n",
    "#                  'Traffic level: ' + str(traffic) +'%'\n",
    "#                 ),\n",
    "#         color='b',\n",
    "#         key_on = traffic_q,\n",
    "#         threshold_scale=[0,1,2,3],\n",
    "#         fill_color=colordict[traffic_q],\n",
    "#         fill=True,\n",
    "#         fill_opacity=0.7\n",
    "#         ).add_to(traffic_map)\n",
    "# traffic_map"
   ]
  },
  {
   "cell_type": "code",
   "execution_count": 49,
   "metadata": {},
   "outputs": [
    {
     "data": {
      "text/html": [
       "<div>\n",
       "<style scoped>\n",
       "    .dataframe tbody tr th:only-of-type {\n",
       "        vertical-align: middle;\n",
       "    }\n",
       "\n",
       "    .dataframe tbody tr th {\n",
       "        vertical-align: top;\n",
       "    }\n",
       "\n",
       "    .dataframe thead th {\n",
       "        text-align: right;\n",
       "    }\n",
       "</style>\n",
       "<table border=\"1\" class=\"dataframe\">\n",
       "  <thead>\n",
       "    <tr style=\"text-align: right;\">\n",
       "      <th></th>\n",
       "      <th>Country/Region</th>\n",
       "      <th>CumConfirmed</th>\n",
       "      <th>CumDeaths</th>\n",
       "      <th>code</th>\n",
       "    </tr>\n",
       "  </thead>\n",
       "  <tbody>\n",
       "    <tr>\n",
       "      <th>0</th>\n",
       "      <td>Afghanistan</td>\n",
       "      <td>281</td>\n",
       "      <td>6</td>\n",
       "      <td>AFG</td>\n",
       "    </tr>\n",
       "    <tr>\n",
       "      <th>1</th>\n",
       "      <td>Albania</td>\n",
       "      <td>304</td>\n",
       "      <td>17</td>\n",
       "      <td>ALB</td>\n",
       "    </tr>\n",
       "    <tr>\n",
       "      <th>2</th>\n",
       "      <td>Algeria</td>\n",
       "      <td>1171</td>\n",
       "      <td>105</td>\n",
       "      <td>DZA</td>\n",
       "    </tr>\n",
       "    <tr>\n",
       "      <th>3</th>\n",
       "      <td>Andorra</td>\n",
       "      <td>439</td>\n",
       "      <td>16</td>\n",
       "      <td>AND</td>\n",
       "    </tr>\n",
       "    <tr>\n",
       "      <th>4</th>\n",
       "      <td>Angola</td>\n",
       "      <td>8</td>\n",
       "      <td>2</td>\n",
       "      <td>AGO</td>\n",
       "    </tr>\n",
       "  </tbody>\n",
       "</table>\n",
       "</div>"
      ],
      "text/plain": [
       "  Country/Region  CumConfirmed  CumDeaths code\n",
       "0    Afghanistan           281          6  AFG\n",
       "1        Albania           304         17  ALB\n",
       "2        Algeria          1171        105  DZA\n",
       "3        Andorra           439         16  AND\n",
       "4         Angola             8          2  AGO"
      ]
     },
     "execution_count": 49,
     "metadata": {},
     "output_type": "execute_result"
    }
   ],
   "source": [
    "grouped_countries.head()"
   ]
  },
  {
   "cell_type": "code",
   "execution_count": 50,
   "metadata": {},
   "outputs": [
    {
     "data": {
      "text/html": [
       "<div>\n",
       "<style scoped>\n",
       "    .dataframe tbody tr th:only-of-type {\n",
       "        vertical-align: middle;\n",
       "    }\n",
       "\n",
       "    .dataframe tbody tr th {\n",
       "        vertical-align: top;\n",
       "    }\n",
       "\n",
       "    .dataframe thead th {\n",
       "        text-align: right;\n",
       "    }\n",
       "</style>\n",
       "<table border=\"1\" class=\"dataframe\">\n",
       "  <thead>\n",
       "    <tr style=\"text-align: right;\">\n",
       "      <th></th>\n",
       "      <th>Country/Region</th>\n",
       "      <th>CumConfirmed</th>\n",
       "      <th>CumDeaths</th>\n",
       "      <th>code</th>\n",
       "    </tr>\n",
       "  </thead>\n",
       "  <tbody>\n",
       "    <tr>\n",
       "      <th>169</th>\n",
       "      <td>US</td>\n",
       "      <td>275586</td>\n",
       "      <td>7087</td>\n",
       "      <td>USA</td>\n",
       "    </tr>\n",
       "  </tbody>\n",
       "</table>\n",
       "</div>"
      ],
      "text/plain": [
       "    Country/Region  CumConfirmed  CumDeaths code\n",
       "169             US        275586       7087  USA"
      ]
     },
     "execution_count": 50,
     "metadata": {},
     "output_type": "execute_result"
    }
   ],
   "source": [
    "grouped_countries[grouped_countries['code'] == 'USA']"
   ]
  },
  {
   "cell_type": "code",
   "execution_count": 51,
   "metadata": {},
   "outputs": [],
   "source": [
    "import plotly.graph_objects as go\n",
    "import pandas as pd\n",
    "\n",
    "#df = pd.read_csv('https://raw.githubusercontent.com/plotly/datasets/master/2014_world_gdp_with_codes.csv')\n",
    "\n",
    "# def world_map():\n",
    "#     fig = go.Figure(data=go.Choropleth(\n",
    "#         locations = all_data['location'],\n",
    "#         z = all_data['CumConfirmed'],\n",
    "#         text = all_data['Country/Region'],\n",
    "#         colorscale = 'Blues',\n",
    "#         autocolorscale=False,\n",
    "#         reversescale=True,\n",
    "#         marker_line_color='darkgray',\n",
    "#         marker_line_width=0.5,\n",
    "#         colorbar_tickprefix = '$',\n",
    "#         colorbar_title = 'GDP<br>Billions US$',\n",
    "#     ))\n",
    "\n",
    "#     fig.update_layout(\n",
    "#         title_text='2014 Global GDP',\n",
    "#         geo=dict(\n",
    "#             showframe=False,\n",
    "#             showcoastlines=False,\n",
    "#             projection_type='equirectangular'\n",
    "#         ),\n",
    "#         annotations = [dict(\n",
    "#             x=0.55,\n",
    "#             y=0.1,\n",
    "#             xref='paper',\n",
    "#             yref='paper',\n",
    "#             text='Source: <a href=\"https://www.cia.gov/library/publications/the-world-factbook/fields/2195.html\">\\\n",
    "#                 CIA World Factbook</a>',\n",
    "#             showarrow = False\n",
    "#         )]\n",
    "#     )\n",
    "\n",
    "#     return fig"
   ]
  },
  {
   "cell_type": "code",
   "execution_count": 55,
   "metadata": {},
   "outputs": [
    {
     "data": {
      "application/vnd.plotly.v1+json": {
       "config": {
        "plotlyServerURL": "https://plot.ly"
       },
       "data": [
        {
         "autocolorscale": false,
         "colorbar": {
          "tickprefix": "",
          "title": {
           "text": ""
          }
         },
         "colorscale": [
          [
           0,
           "rgb(255,245,240)"
          ],
          [
           0.125,
           "rgb(254,224,210)"
          ],
          [
           0.25,
           "rgb(252,187,161)"
          ],
          [
           0.375,
           "rgb(252,146,114)"
          ],
          [
           0.5,
           "rgb(251,106,74)"
          ],
          [
           0.625,
           "rgb(239,59,44)"
          ],
          [
           0.75,
           "rgb(203,24,29)"
          ],
          [
           0.875,
           "rgb(165,15,21)"
          ],
          [
           1,
           "rgb(103,0,13)"
          ]
         ],
         "hovertemplate": [
          "<b>Afghanistan</b><br>Confirmed Cases: 281<br>Deaths: 6",
          "<b>Albania</b><br>Confirmed Cases: 304<br>Deaths: 17",
          "<b>Algeria</b><br>Confirmed Cases: 1171<br>Deaths: 105",
          "<b>Andorra</b><br>Confirmed Cases: 439<br>Deaths: 16",
          "<b>Angola</b><br>Confirmed Cases: 8<br>Deaths: 2",
          "<b>Antigua and Barbuda</b><br>Confirmed Cases: 15<br>Deaths: 0",
          "<b>Argentina</b><br>Confirmed Cases: 1265<br>Deaths: 39",
          "<b>Armenia</b><br>Confirmed Cases: 736<br>Deaths: 7",
          "<b>Australia</b><br>Confirmed Cases: 2389<br>Deaths: 12",
          "<b>Austria</b><br>Confirmed Cases: 11524<br>Deaths: 168",
          "<b>Azerbaijan</b><br>Confirmed Cases: 443<br>Deaths: 5",
          "<b>Bahamas</b><br>Confirmed Cases: 24<br>Deaths: 1",
          "<b>Bahrain</b><br>Confirmed Cases: 672<br>Deaths: 4",
          "<b>Bangladesh</b><br>Confirmed Cases: 61<br>Deaths: 6",
          "<b>Barbados</b><br>Confirmed Cases: 51<br>Deaths: 0",
          "<b>Belarus</b><br>Confirmed Cases: 351<br>Deaths: 4",
          "<b>Belgium</b><br>Confirmed Cases: 16770<br>Deaths: 1143",
          "<b>Belize</b><br>Confirmed Cases: 4<br>Deaths: 0",
          "<b>Benin</b><br>Confirmed Cases: 16<br>Deaths: 0",
          "<b>Bhutan</b><br>Confirmed Cases: 5<br>Deaths: 0",
          "<b>Bolivia</b><br>Confirmed Cases: 132<br>Deaths: 9",
          "<b>Bosnia and Herzegovina</b><br>Confirmed Cases: 579<br>Deaths: 17",
          "<b>Botswana</b><br>Confirmed Cases: 4<br>Deaths: 1",
          "<b>Brazil</b><br>Confirmed Cases: 9056<br>Deaths: 359",
          "<b>Brunei</b><br>Confirmed Cases: 134<br>Deaths: 1",
          "<b>Bulgaria</b><br>Confirmed Cases: 485<br>Deaths: 14",
          "<b>Burkina Faso</b><br>Confirmed Cases: 302<br>Deaths: 16",
          "<b>Burma</b><br>Confirmed Cases: 20<br>Deaths: 1",
          "<b>Burundi</b><br>Confirmed Cases: 3<br>Deaths: 0",
          "<b>Cabo Verde</b><br>Confirmed Cases: 6<br>Deaths: 1",
          "<b>Cambodia</b><br>Confirmed Cases: 114<br>Deaths: 0",
          "<b>Cameroon</b><br>Confirmed Cases: 509<br>Deaths: 8",
          "<b>Canada</b><br>Confirmed Cases: 6101<br>Deaths: 67",
          "<b>Central African Republic</b><br>Confirmed Cases: 8<br>Deaths: 0",
          "<b>Chad</b><br>Confirmed Cases: 8<br>Deaths: 0",
          "<b>Chile</b><br>Confirmed Cases: 3737<br>Deaths: 22",
          "<b>China</b><br>Confirmed Cases: 67802<br>Deaths: 3203",
          "<b>Colombia</b><br>Confirmed Cases: 1267<br>Deaths: 25",
          "<b>Congo (Brazzaville)</b><br>Confirmed Cases: 22<br>Deaths: 2",
          "<b>Congo (Kinshasa)</b><br>Confirmed Cases: 134<br>Deaths: 13",
          "<b>Costa Rica</b><br>Confirmed Cases: 416<br>Deaths: 2",
          "<b>Cote d'Ivoire</b><br>Confirmed Cases: 218<br>Deaths: 1",
          "<b>Croatia</b><br>Confirmed Cases: 1079<br>Deaths: 8",
          "<b>Cuba</b><br>Confirmed Cases: 269<br>Deaths: 6",
          "<b>Cyprus</b><br>Confirmed Cases: 396<br>Deaths: 11",
          "<b>Czechia</b><br>Confirmed Cases: 4091<br>Deaths: 53",
          "<b>Denmark</b><br>Confirmed Cases: 3757<br>Deaths: 139",
          "<b>Diamond Princess</b><br>Confirmed Cases: 712<br>Deaths: 11",
          "<b>Djibouti</b><br>Confirmed Cases: 49<br>Deaths: 0",
          "<b>Dominica</b><br>Confirmed Cases: 12<br>Deaths: 0",
          "<b>Dominican Republic</b><br>Confirmed Cases: 1488<br>Deaths: 68",
          "<b>Ecuador</b><br>Confirmed Cases: 3368<br>Deaths: 145",
          "<b>Egypt</b><br>Confirmed Cases: 985<br>Deaths: 66",
          "<b>El Salvador</b><br>Confirmed Cases: 46<br>Deaths: 2",
          "<b>Equatorial Guinea</b><br>Confirmed Cases: 16<br>Deaths: 0",
          "<b>Eritrea</b><br>Confirmed Cases: 22<br>Deaths: 0",
          "<b>Estonia</b><br>Confirmed Cases: 961<br>Deaths: 12",
          "<b>Eswatini</b><br>Confirmed Cases: 9<br>Deaths: 0",
          "<b>Ethiopia</b><br>Confirmed Cases: 35<br>Deaths: 0",
          "<b>Fiji</b><br>Confirmed Cases: 7<br>Deaths: 0",
          "<b>Finland</b><br>Confirmed Cases: 1615<br>Deaths: 20",
          "<b>France</b><br>Confirmed Cases: 64338<br>Deaths: 6507",
          "<b>Gabon</b><br>Confirmed Cases: 21<br>Deaths: 1",
          "<b>Gambia</b><br>Confirmed Cases: 4<br>Deaths: 1",
          "<b>Georgia</b><br>Confirmed Cases: 155<br>Deaths: 0",
          "<b>Germany</b><br>Confirmed Cases: 91159<br>Deaths: 1275",
          "<b>Ghana</b><br>Confirmed Cases: 205<br>Deaths: 5",
          "<b>Greece</b><br>Confirmed Cases: 1613<br>Deaths: 63",
          "<b>Grenada</b><br>Confirmed Cases: 12<br>Deaths: 0",
          "<b>Guatemala</b><br>Confirmed Cases: 50<br>Deaths: 1",
          "<b>Guinea</b><br>Confirmed Cases: 73<br>Deaths: 0",
          "<b>Guinea-Bissau</b><br>Confirmed Cases: 15<br>Deaths: 0",
          "<b>Guyana</b><br>Confirmed Cases: 23<br>Deaths: 4",
          "<b>Haiti</b><br>Confirmed Cases: 18<br>Deaths: 0",
          "<b>Holy See</b><br>Confirmed Cases: 7<br>Deaths: 0",
          "<b>Honduras</b><br>Confirmed Cases: 222<br>Deaths: 15",
          "<b>Hungary</b><br>Confirmed Cases: 623<br>Deaths: 26",
          "<b>Iceland</b><br>Confirmed Cases: 1364<br>Deaths: 5",
          "<b>India</b><br>Confirmed Cases: 2567<br>Deaths: 72",
          "<b>Indonesia</b><br>Confirmed Cases: 1986<br>Deaths: 181",
          "<b>Iran</b><br>Confirmed Cases: 53183<br>Deaths: 3294",
          "<b>Iraq</b><br>Confirmed Cases: 820<br>Deaths: 54",
          "<b>Ireland</b><br>Confirmed Cases: 4273<br>Deaths: 120",
          "<b>Israel</b><br>Confirmed Cases: 7428<br>Deaths: 40",
          "<b>Italy</b><br>Confirmed Cases: 119827<br>Deaths: 14681",
          "<b>Jamaica</b><br>Confirmed Cases: 47<br>Deaths: 3",
          "<b>Japan</b><br>Confirmed Cases: 2617<br>Deaths: 63",
          "<b>Jordan</b><br>Confirmed Cases: 310<br>Deaths: 5",
          "<b>Kazakhstan</b><br>Confirmed Cases: 464<br>Deaths: 6",
          "<b>Kenya</b><br>Confirmed Cases: 122<br>Deaths: 4",
          "<b>Korea, South</b><br>Confirmed Cases: 10062<br>Deaths: 174",
          "<b>Kosovo</b><br>Confirmed Cases: 126<br>Deaths: 1",
          "<b>Kuwait</b><br>Confirmed Cases: 417<br>Deaths: 0",
          "<b>Kyrgyzstan</b><br>Confirmed Cases: 130<br>Deaths: 1",
          "<b>Laos</b><br>Confirmed Cases: 10<br>Deaths: 0",
          "<b>Latvia</b><br>Confirmed Cases: 493<br>Deaths: 1",
          "<b>Lebanon</b><br>Confirmed Cases: 508<br>Deaths: 17",
          "<b>Liberia</b><br>Confirmed Cases: 7<br>Deaths: 0",
          "<b>Libya</b><br>Confirmed Cases: 11<br>Deaths: 1",
          "<b>Liechtenstein</b><br>Confirmed Cases: 75<br>Deaths: 0",
          "<b>Lithuania</b><br>Confirmed Cases: 696<br>Deaths: 9",
          "<b>Luxembourg</b><br>Confirmed Cases: 2612<br>Deaths: 31",
          "<b>MS Zaandam</b><br>Confirmed Cases: 9<br>Deaths: 2",
          "<b>Madagascar</b><br>Confirmed Cases: 70<br>Deaths: 0",
          "<b>Malawi</b><br>Confirmed Cases: 3<br>Deaths: 0",
          "<b>Malaysia</b><br>Confirmed Cases: 3333<br>Deaths: 53",
          "<b>Maldives</b><br>Confirmed Cases: 19<br>Deaths: 0",
          "<b>Mali</b><br>Confirmed Cases: 39<br>Deaths: 3",
          "<b>Malta</b><br>Confirmed Cases: 202<br>Deaths: 0",
          "<b>Mauritania</b><br>Confirmed Cases: 6<br>Deaths: 1",
          "<b>Mauritius</b><br>Confirmed Cases: 186<br>Deaths: 7",
          "<b>Mexico</b><br>Confirmed Cases: 1510<br>Deaths: 50",
          "<b>Moldova</b><br>Confirmed Cases: 591<br>Deaths: 8",
          "<b>Monaco</b><br>Confirmed Cases: 64<br>Deaths: 1",
          "<b>Mongolia</b><br>Confirmed Cases: 14<br>Deaths: 0",
          "<b>Montenegro</b><br>Confirmed Cases: 174<br>Deaths: 2",
          "<b>Morocco</b><br>Confirmed Cases: 791<br>Deaths: 48",
          "<b>Mozambique</b><br>Confirmed Cases: 10<br>Deaths: 0",
          "<b>Namibia</b><br>Confirmed Cases: 14<br>Deaths: 0",
          "<b>Nepal</b><br>Confirmed Cases: 6<br>Deaths: 0",
          "<b>Netherlands</b><br>Confirmed Cases: 15723<br>Deaths: 1487",
          "<b>New Zealand</b><br>Confirmed Cases: 868<br>Deaths: 1",
          "<b>Nicaragua</b><br>Confirmed Cases: 5<br>Deaths: 1",
          "<b>Niger</b><br>Confirmed Cases: 120<br>Deaths: 5",
          "<b>Nigeria</b><br>Confirmed Cases: 210<br>Deaths: 4",
          "<b>North Macedonia</b><br>Confirmed Cases: 430<br>Deaths: 12",
          "<b>Norway</b><br>Confirmed Cases: 5370<br>Deaths: 59",
          "<b>Oman</b><br>Confirmed Cases: 252<br>Deaths: 1",
          "<b>Pakistan</b><br>Confirmed Cases: 2686<br>Deaths: 40",
          "<b>Panama</b><br>Confirmed Cases: 1475<br>Deaths: 37",
          "<b>Papua New Guinea</b><br>Confirmed Cases: 1<br>Deaths: 0",
          "<b>Paraguay</b><br>Confirmed Cases: 92<br>Deaths: 3",
          "<b>Peru</b><br>Confirmed Cases: 1595<br>Deaths: 61",
          "<b>Philippines</b><br>Confirmed Cases: 3018<br>Deaths: 136",
          "<b>Poland</b><br>Confirmed Cases: 3383<br>Deaths: 71",
          "<b>Portugal</b><br>Confirmed Cases: 9886<br>Deaths: 246",
          "<b>Qatar</b><br>Confirmed Cases: 1075<br>Deaths: 3",
          "<b>Romania</b><br>Confirmed Cases: 3183<br>Deaths: 133",
          "<b>Russia</b><br>Confirmed Cases: 4149<br>Deaths: 34",
          "<b>Rwanda</b><br>Confirmed Cases: 89<br>Deaths: 0",
          "<b>Saint Kitts and Nevis</b><br>Confirmed Cases: 9<br>Deaths: 0",
          "<b>Saint Lucia</b><br>Confirmed Cases: 13<br>Deaths: 0",
          "<b>Saint Vincent and the Grenadines</b><br>Confirmed Cases: 3<br>Deaths: 0",
          "<b>San Marino</b><br>Confirmed Cases: 245<br>Deaths: 30",
          "<b>Saudi Arabia</b><br>Confirmed Cases: 2039<br>Deaths: 25",
          "<b>Senegal</b><br>Confirmed Cases: 207<br>Deaths: 1",
          "<b>Serbia</b><br>Confirmed Cases: 1476<br>Deaths: 39",
          "<b>Seychelles</b><br>Confirmed Cases: 10<br>Deaths: 0",
          "<b>Sierra Leone</b><br>Confirmed Cases: 2<br>Deaths: 0",
          "<b>Singapore</b><br>Confirmed Cases: 1114<br>Deaths: 5",
          "<b>Slovakia</b><br>Confirmed Cases: 450<br>Deaths: 1",
          "<b>Slovenia</b><br>Confirmed Cases: 934<br>Deaths: 20",
          "<b>Somalia</b><br>Confirmed Cases: 7<br>Deaths: 0",
          "<b>South Africa</b><br>Confirmed Cases: 1505<br>Deaths: 9",
          "<b>Spain</b><br>Confirmed Cases: 119199<br>Deaths: 11198",
          "<b>Sri Lanka</b><br>Confirmed Cases: 159<br>Deaths: 4",
          "<b>Sudan</b><br>Confirmed Cases: 10<br>Deaths: 2",
          "<b>Suriname</b><br>Confirmed Cases: 10<br>Deaths: 1",
          "<b>Sweden</b><br>Confirmed Cases: 6131<br>Deaths: 358",
          "<b>Switzerland</b><br>Confirmed Cases: 19606<br>Deaths: 591",
          "<b>Syria</b><br>Confirmed Cases: 16<br>Deaths: 2",
          "<b>Taiwan*</b><br>Confirmed Cases: 348<br>Deaths: 5",
          "<b>Tanzania</b><br>Confirmed Cases: 20<br>Deaths: 1",
          "<b>Thailand</b><br>Confirmed Cases: 1978<br>Deaths: 19",
          "<b>Timor-Leste</b><br>Confirmed Cases: 1<br>Deaths: 0",
          "<b>Togo</b><br>Confirmed Cases: 40<br>Deaths: 3",
          "<b>Trinidad and Tobago</b><br>Confirmed Cases: 98<br>Deaths: 6",
          "<b>Tunisia</b><br>Confirmed Cases: 495<br>Deaths: 18",
          "<b>Turkey</b><br>Confirmed Cases: 20921<br>Deaths: 425",
          "<b>US</b><br>Confirmed Cases: 275586<br>Deaths: 7087",
          "<b>Uganda</b><br>Confirmed Cases: 48<br>Deaths: 0",
          "<b>Ukraine</b><br>Confirmed Cases: 1072<br>Deaths: 27",
          "<b>United Arab Emirates</b><br>Confirmed Cases: 1264<br>Deaths: 9",
          "<b>United Kingdom</b><br>Confirmed Cases: 38168<br>Deaths: 3605",
          "<b>Uruguay</b><br>Confirmed Cases: 369<br>Deaths: 4",
          "<b>Uzbekistan</b><br>Confirmed Cases: 227<br>Deaths: 2",
          "<b>Venezuela</b><br>Confirmed Cases: 153<br>Deaths: 7",
          "<b>Vietnam</b><br>Confirmed Cases: 237<br>Deaths: 0",
          "<b>West Bank and Gaza</b><br>Confirmed Cases: 194<br>Deaths: 1",
          "<b>Zambia</b><br>Confirmed Cases: 39<br>Deaths: 1",
          "<b>Zimbabwe</b><br>Confirmed Cases: 9<br>Deaths: 1"
         ],
         "locations": [
          "AFG",
          "ALB",
          "DZA",
          "AND",
          "AGO",
          "ATG",
          "ARG",
          "ARM",
          "AUS",
          "AUT",
          "AZE",
          "BHS",
          "BHR",
          "BGD",
          "BRB",
          "BLR",
          "BEL",
          "BLZ",
          "BEN",
          "BTN",
          "BOL",
          "BIH",
          "BWA",
          "BRA",
          "BWN",
          "BGR",
          "BFA",
          "MMR",
          "BDI",
          "CPV",
          "KHM",
          "CMR",
          "CAN",
          "CAF",
          "TCD",
          "CHL",
          "CHN",
          "COL",
          "COG",
          "COD",
          "CRI",
          "CIV",
          "HRV",
          "CUB",
          "CYP",
          "CZE",
          "DNK",
          "Unknown code",
          "DJI",
          "DMA",
          "DOM",
          "ECU",
          "EGY",
          "SLV",
          "GNQ",
          "ERI",
          "EST",
          "SWZ",
          "ETH",
          "FJI",
          "FIN",
          "FRA",
          "GAB",
          "GMB",
          "GEO",
          "DEU",
          "GHA",
          "GRC",
          "GRD",
          "GTM",
          "GIN",
          "GNB",
          "GUY",
          "HTI",
          "VAT",
          "HND",
          "HUN",
          "ISL",
          "IND",
          "IDN",
          "IRN",
          "IRQ",
          "IRL",
          "ISR",
          "ITA",
          "JAM",
          "JPN",
          "JOR",
          "KAZ",
          "KEN",
          "KOR",
          "RKS",
          "KWT",
          "KGZ",
          "LAO",
          "LVA",
          "LBN",
          "LBR",
          "LBY",
          "LIE",
          "LTU",
          "LUX",
          "Unknown code",
          "MDG",
          "MWI",
          "MYS",
          "MDV",
          "MLI",
          "MLT",
          "MRT",
          "MUS",
          "MEX",
          "MDA",
          "MCO",
          "MNG",
          "MNE",
          "MAR",
          "MOZ",
          "NAM",
          "NPL",
          "NLD",
          "NZL",
          "NIC",
          "NER",
          "NGA",
          "MKD",
          "NOR",
          "OMN",
          "PAK",
          "PAN",
          "PNG",
          "PRY",
          "PER",
          "PHL",
          "POL",
          "PRT",
          "QAT",
          "ROU",
          "RUS",
          "RWA",
          "KNA",
          "LCA",
          "VCT",
          "SMR",
          "SAU",
          "SEN",
          "SRB",
          "SYC",
          "SLE",
          "SGP",
          "SVK",
          "SVN",
          "SOM",
          "ZAF",
          "ESP",
          "LKA",
          "SDN",
          "SUR",
          "SWE",
          "CHE",
          "SYR",
          "TWN",
          "TZA",
          "THA",
          "TLS",
          "TGO",
          "TTO",
          "TUN",
          "TUR",
          "USA",
          "UGA",
          "UKR",
          "ARE",
          "GBR",
          "URY",
          "UZB",
          "VEN",
          "VNM",
          "PSE",
          "ZMB",
          "ZWE"
         ],
         "marker": {
          "line": {
           "color": "darkgray",
           "width": 0.5
          }
         },
         "reversescale": false,
         "type": "choropleth",
         "z": [
          281,
          304,
          1171,
          439,
          8,
          15,
          1265,
          736,
          2389,
          11524,
          443,
          24,
          672,
          61,
          51,
          351,
          16770,
          4,
          16,
          5,
          132,
          579,
          4,
          9056,
          134,
          485,
          302,
          20,
          3,
          6,
          114,
          509,
          6101,
          8,
          8,
          3737,
          67802,
          1267,
          22,
          134,
          416,
          218,
          1079,
          269,
          396,
          4091,
          3757,
          712,
          49,
          12,
          1488,
          3368,
          985,
          46,
          16,
          22,
          961,
          9,
          35,
          7,
          1615,
          64338,
          21,
          4,
          155,
          91159,
          205,
          1613,
          12,
          50,
          73,
          15,
          23,
          18,
          7,
          222,
          623,
          1364,
          2567,
          1986,
          53183,
          820,
          4273,
          7428,
          119827,
          47,
          2617,
          310,
          464,
          122,
          10062,
          126,
          417,
          130,
          10,
          493,
          508,
          7,
          11,
          75,
          696,
          2612,
          9,
          70,
          3,
          3333,
          19,
          39,
          202,
          6,
          186,
          1510,
          591,
          64,
          14,
          174,
          791,
          10,
          14,
          6,
          15723,
          868,
          5,
          120,
          210,
          430,
          5370,
          252,
          2686,
          1475,
          1,
          92,
          1595,
          3018,
          3383,
          9886,
          1075,
          3183,
          4149,
          89,
          9,
          13,
          3,
          245,
          2039,
          207,
          1476,
          10,
          2,
          1114,
          450,
          934,
          7,
          1505,
          119199,
          159,
          10,
          10,
          6131,
          19606,
          16,
          348,
          20,
          1978,
          1,
          40,
          98,
          495,
          20921,
          275586,
          48,
          1072,
          1264,
          38168,
          369,
          227,
          153,
          237,
          194,
          39,
          9
         ]
        }
       ],
       "layout": {
        "autosize": true,
        "geo": {
         "projection": {
          "type": "equirectangular"
         },
         "showcoastlines": false,
         "showframe": false
        },
        "margin": {
         "b": 0,
         "l": 0,
         "r": 0,
         "t": 0
        },
        "template": {
         "data": {
          "bar": [
           {
            "error_x": {
             "color": "#2a3f5f"
            },
            "error_y": {
             "color": "#2a3f5f"
            },
            "marker": {
             "line": {
              "color": "#E5ECF6",
              "width": 0.5
             }
            },
            "type": "bar"
           }
          ],
          "barpolar": [
           {
            "marker": {
             "line": {
              "color": "#E5ECF6",
              "width": 0.5
             }
            },
            "type": "barpolar"
           }
          ],
          "carpet": [
           {
            "aaxis": {
             "endlinecolor": "#2a3f5f",
             "gridcolor": "white",
             "linecolor": "white",
             "minorgridcolor": "white",
             "startlinecolor": "#2a3f5f"
            },
            "baxis": {
             "endlinecolor": "#2a3f5f",
             "gridcolor": "white",
             "linecolor": "white",
             "minorgridcolor": "white",
             "startlinecolor": "#2a3f5f"
            },
            "type": "carpet"
           }
          ],
          "choropleth": [
           {
            "colorbar": {
             "outlinewidth": 0,
             "ticks": ""
            },
            "type": "choropleth"
           }
          ],
          "contour": [
           {
            "colorbar": {
             "outlinewidth": 0,
             "ticks": ""
            },
            "colorscale": [
             [
              0,
              "#0d0887"
             ],
             [
              0.1111111111111111,
              "#46039f"
             ],
             [
              0.2222222222222222,
              "#7201a8"
             ],
             [
              0.3333333333333333,
              "#9c179e"
             ],
             [
              0.4444444444444444,
              "#bd3786"
             ],
             [
              0.5555555555555556,
              "#d8576b"
             ],
             [
              0.6666666666666666,
              "#ed7953"
             ],
             [
              0.7777777777777778,
              "#fb9f3a"
             ],
             [
              0.8888888888888888,
              "#fdca26"
             ],
             [
              1,
              "#f0f921"
             ]
            ],
            "type": "contour"
           }
          ],
          "contourcarpet": [
           {
            "colorbar": {
             "outlinewidth": 0,
             "ticks": ""
            },
            "type": "contourcarpet"
           }
          ],
          "heatmap": [
           {
            "colorbar": {
             "outlinewidth": 0,
             "ticks": ""
            },
            "colorscale": [
             [
              0,
              "#0d0887"
             ],
             [
              0.1111111111111111,
              "#46039f"
             ],
             [
              0.2222222222222222,
              "#7201a8"
             ],
             [
              0.3333333333333333,
              "#9c179e"
             ],
             [
              0.4444444444444444,
              "#bd3786"
             ],
             [
              0.5555555555555556,
              "#d8576b"
             ],
             [
              0.6666666666666666,
              "#ed7953"
             ],
             [
              0.7777777777777778,
              "#fb9f3a"
             ],
             [
              0.8888888888888888,
              "#fdca26"
             ],
             [
              1,
              "#f0f921"
             ]
            ],
            "type": "heatmap"
           }
          ],
          "heatmapgl": [
           {
            "colorbar": {
             "outlinewidth": 0,
             "ticks": ""
            },
            "colorscale": [
             [
              0,
              "#0d0887"
             ],
             [
              0.1111111111111111,
              "#46039f"
             ],
             [
              0.2222222222222222,
              "#7201a8"
             ],
             [
              0.3333333333333333,
              "#9c179e"
             ],
             [
              0.4444444444444444,
              "#bd3786"
             ],
             [
              0.5555555555555556,
              "#d8576b"
             ],
             [
              0.6666666666666666,
              "#ed7953"
             ],
             [
              0.7777777777777778,
              "#fb9f3a"
             ],
             [
              0.8888888888888888,
              "#fdca26"
             ],
             [
              1,
              "#f0f921"
             ]
            ],
            "type": "heatmapgl"
           }
          ],
          "histogram": [
           {
            "marker": {
             "colorbar": {
              "outlinewidth": 0,
              "ticks": ""
             }
            },
            "type": "histogram"
           }
          ],
          "histogram2d": [
           {
            "colorbar": {
             "outlinewidth": 0,
             "ticks": ""
            },
            "colorscale": [
             [
              0,
              "#0d0887"
             ],
             [
              0.1111111111111111,
              "#46039f"
             ],
             [
              0.2222222222222222,
              "#7201a8"
             ],
             [
              0.3333333333333333,
              "#9c179e"
             ],
             [
              0.4444444444444444,
              "#bd3786"
             ],
             [
              0.5555555555555556,
              "#d8576b"
             ],
             [
              0.6666666666666666,
              "#ed7953"
             ],
             [
              0.7777777777777778,
              "#fb9f3a"
             ],
             [
              0.8888888888888888,
              "#fdca26"
             ],
             [
              1,
              "#f0f921"
             ]
            ],
            "type": "histogram2d"
           }
          ],
          "histogram2dcontour": [
           {
            "colorbar": {
             "outlinewidth": 0,
             "ticks": ""
            },
            "colorscale": [
             [
              0,
              "#0d0887"
             ],
             [
              0.1111111111111111,
              "#46039f"
             ],
             [
              0.2222222222222222,
              "#7201a8"
             ],
             [
              0.3333333333333333,
              "#9c179e"
             ],
             [
              0.4444444444444444,
              "#bd3786"
             ],
             [
              0.5555555555555556,
              "#d8576b"
             ],
             [
              0.6666666666666666,
              "#ed7953"
             ],
             [
              0.7777777777777778,
              "#fb9f3a"
             ],
             [
              0.8888888888888888,
              "#fdca26"
             ],
             [
              1,
              "#f0f921"
             ]
            ],
            "type": "histogram2dcontour"
           }
          ],
          "mesh3d": [
           {
            "colorbar": {
             "outlinewidth": 0,
             "ticks": ""
            },
            "type": "mesh3d"
           }
          ],
          "parcoords": [
           {
            "line": {
             "colorbar": {
              "outlinewidth": 0,
              "ticks": ""
             }
            },
            "type": "parcoords"
           }
          ],
          "pie": [
           {
            "automargin": true,
            "type": "pie"
           }
          ],
          "scatter": [
           {
            "marker": {
             "colorbar": {
              "outlinewidth": 0,
              "ticks": ""
             }
            },
            "type": "scatter"
           }
          ],
          "scatter3d": [
           {
            "line": {
             "colorbar": {
              "outlinewidth": 0,
              "ticks": ""
             }
            },
            "marker": {
             "colorbar": {
              "outlinewidth": 0,
              "ticks": ""
             }
            },
            "type": "scatter3d"
           }
          ],
          "scattercarpet": [
           {
            "marker": {
             "colorbar": {
              "outlinewidth": 0,
              "ticks": ""
             }
            },
            "type": "scattercarpet"
           }
          ],
          "scattergeo": [
           {
            "marker": {
             "colorbar": {
              "outlinewidth": 0,
              "ticks": ""
             }
            },
            "type": "scattergeo"
           }
          ],
          "scattergl": [
           {
            "marker": {
             "colorbar": {
              "outlinewidth": 0,
              "ticks": ""
             }
            },
            "type": "scattergl"
           }
          ],
          "scattermapbox": [
           {
            "marker": {
             "colorbar": {
              "outlinewidth": 0,
              "ticks": ""
             }
            },
            "type": "scattermapbox"
           }
          ],
          "scatterpolar": [
           {
            "marker": {
             "colorbar": {
              "outlinewidth": 0,
              "ticks": ""
             }
            },
            "type": "scatterpolar"
           }
          ],
          "scatterpolargl": [
           {
            "marker": {
             "colorbar": {
              "outlinewidth": 0,
              "ticks": ""
             }
            },
            "type": "scatterpolargl"
           }
          ],
          "scatterternary": [
           {
            "marker": {
             "colorbar": {
              "outlinewidth": 0,
              "ticks": ""
             }
            },
            "type": "scatterternary"
           }
          ],
          "surface": [
           {
            "colorbar": {
             "outlinewidth": 0,
             "ticks": ""
            },
            "colorscale": [
             [
              0,
              "#0d0887"
             ],
             [
              0.1111111111111111,
              "#46039f"
             ],
             [
              0.2222222222222222,
              "#7201a8"
             ],
             [
              0.3333333333333333,
              "#9c179e"
             ],
             [
              0.4444444444444444,
              "#bd3786"
             ],
             [
              0.5555555555555556,
              "#d8576b"
             ],
             [
              0.6666666666666666,
              "#ed7953"
             ],
             [
              0.7777777777777778,
              "#fb9f3a"
             ],
             [
              0.8888888888888888,
              "#fdca26"
             ],
             [
              1,
              "#f0f921"
             ]
            ],
            "type": "surface"
           }
          ],
          "table": [
           {
            "cells": {
             "fill": {
              "color": "#EBF0F8"
             },
             "line": {
              "color": "white"
             }
            },
            "header": {
             "fill": {
              "color": "#C8D4E3"
             },
             "line": {
              "color": "white"
             }
            },
            "type": "table"
           }
          ]
         },
         "layout": {
          "annotationdefaults": {
           "arrowcolor": "#2a3f5f",
           "arrowhead": 0,
           "arrowwidth": 1
          },
          "coloraxis": {
           "colorbar": {
            "outlinewidth": 0,
            "ticks": ""
           }
          },
          "colorscale": {
           "diverging": [
            [
             0,
             "#8e0152"
            ],
            [
             0.1,
             "#c51b7d"
            ],
            [
             0.2,
             "#de77ae"
            ],
            [
             0.3,
             "#f1b6da"
            ],
            [
             0.4,
             "#fde0ef"
            ],
            [
             0.5,
             "#f7f7f7"
            ],
            [
             0.6,
             "#e6f5d0"
            ],
            [
             0.7,
             "#b8e186"
            ],
            [
             0.8,
             "#7fbc41"
            ],
            [
             0.9,
             "#4d9221"
            ],
            [
             1,
             "#276419"
            ]
           ],
           "sequential": [
            [
             0,
             "#0d0887"
            ],
            [
             0.1111111111111111,
             "#46039f"
            ],
            [
             0.2222222222222222,
             "#7201a8"
            ],
            [
             0.3333333333333333,
             "#9c179e"
            ],
            [
             0.4444444444444444,
             "#bd3786"
            ],
            [
             0.5555555555555556,
             "#d8576b"
            ],
            [
             0.6666666666666666,
             "#ed7953"
            ],
            [
             0.7777777777777778,
             "#fb9f3a"
            ],
            [
             0.8888888888888888,
             "#fdca26"
            ],
            [
             1,
             "#f0f921"
            ]
           ],
           "sequentialminus": [
            [
             0,
             "#0d0887"
            ],
            [
             0.1111111111111111,
             "#46039f"
            ],
            [
             0.2222222222222222,
             "#7201a8"
            ],
            [
             0.3333333333333333,
             "#9c179e"
            ],
            [
             0.4444444444444444,
             "#bd3786"
            ],
            [
             0.5555555555555556,
             "#d8576b"
            ],
            [
             0.6666666666666666,
             "#ed7953"
            ],
            [
             0.7777777777777778,
             "#fb9f3a"
            ],
            [
             0.8888888888888888,
             "#fdca26"
            ],
            [
             1,
             "#f0f921"
            ]
           ]
          },
          "colorway": [
           "#636efa",
           "#EF553B",
           "#00cc96",
           "#ab63fa",
           "#FFA15A",
           "#19d3f3",
           "#FF6692",
           "#B6E880",
           "#FF97FF",
           "#FECB52"
          ],
          "font": {
           "color": "#2a3f5f"
          },
          "geo": {
           "bgcolor": "white",
           "lakecolor": "white",
           "landcolor": "#E5ECF6",
           "showlakes": true,
           "showland": true,
           "subunitcolor": "white"
          },
          "hoverlabel": {
           "align": "left"
          },
          "hovermode": "closest",
          "mapbox": {
           "style": "light"
          },
          "paper_bgcolor": "white",
          "plot_bgcolor": "#E5ECF6",
          "polar": {
           "angularaxis": {
            "gridcolor": "white",
            "linecolor": "white",
            "ticks": ""
           },
           "bgcolor": "#E5ECF6",
           "radialaxis": {
            "gridcolor": "white",
            "linecolor": "white",
            "ticks": ""
           }
          },
          "scene": {
           "xaxis": {
            "backgroundcolor": "#E5ECF6",
            "gridcolor": "white",
            "gridwidth": 2,
            "linecolor": "white",
            "showbackground": true,
            "ticks": "",
            "zerolinecolor": "white"
           },
           "yaxis": {
            "backgroundcolor": "#E5ECF6",
            "gridcolor": "white",
            "gridwidth": 2,
            "linecolor": "white",
            "showbackground": true,
            "ticks": "",
            "zerolinecolor": "white"
           },
           "zaxis": {
            "backgroundcolor": "#E5ECF6",
            "gridcolor": "white",
            "gridwidth": 2,
            "linecolor": "white",
            "showbackground": true,
            "ticks": "",
            "zerolinecolor": "white"
           }
          },
          "shapedefaults": {
           "line": {
            "color": "#2a3f5f"
           }
          },
          "ternary": {
           "aaxis": {
            "gridcolor": "white",
            "linecolor": "white",
            "ticks": ""
           },
           "baxis": {
            "gridcolor": "white",
            "linecolor": "white",
            "ticks": ""
           },
           "bgcolor": "#E5ECF6",
           "caxis": {
            "gridcolor": "white",
            "linecolor": "white",
            "ticks": ""
           }
          },
          "title": {
           "x": 0.05
          },
          "xaxis": {
           "automargin": true,
           "gridcolor": "white",
           "linecolor": "white",
           "ticks": "",
           "title": {
            "standoff": 15
           },
           "zerolinecolor": "white",
           "zerolinewidth": 2
          },
          "yaxis": {
           "automargin": true,
           "gridcolor": "white",
           "linecolor": "white",
           "ticks": "",
           "title": {
            "standoff": 15
           },
           "zerolinecolor": "white",
           "zerolinewidth": 2
          }
         }
        },
        "title": {
         "text": ""
        }
       }
      },
      "image/png": "[encoded data removed]",
      "text/html": [
       "<div>\n",
       "        \n",
       "        \n",
       "            <div id=\"e9084588-49d3-4ccd-9af3-e8c06770ba5b\" class=\"plotly-graph-div\" style=\"height:525px; width:100%;\"></div>\n",
       "            <script type=\"text/javascript\">\n",
       "                require([\"plotly\"], function(Plotly) {\n",
       "                    window.PLOTLYENV=window.PLOTLYENV || {};\n",
       "                    \n",
       "                if (document.getElementById(\"e9084588-49d3-4ccd-9af3-e8c06770ba5b\")) {\n",
       "                    Plotly.newPlot(\n",
       "                        'e9084588-49d3-4ccd-9af3-e8c06770ba5b',\n",
       "                        [{\"autocolorscale\": false, \"colorbar\": {\"tickprefix\": \"\", \"title\": {\"text\": \"\"}}, \"colorscale\": [[0.0, \"rgb(255,245,240)\"], [0.125, \"rgb(254,224,210)\"], [0.25, \"rgb(252,187,161)\"], [0.375, \"rgb(252,146,114)\"], [0.5, \"rgb(251,106,74)\"], [0.625, \"rgb(239,59,44)\"], [0.75, \"rgb(203,24,29)\"], [0.875, \"rgb(165,15,21)\"], [1.0, \"rgb(103,0,13)\"]], \"hovertemplate\": [\"<b>Afghanistan</b><br>Confirmed Cases: 281<br>Deaths: 6\", \"<b>Albania</b><br>Confirmed Cases: 304<br>Deaths: 17\", \"<b>Algeria</b><br>Confirmed Cases: 1171<br>Deaths: 105\", \"<b>Andorra</b><br>Confirmed Cases: 439<br>Deaths: 16\", \"<b>Angola</b><br>Confirmed Cases: 8<br>Deaths: 2\", \"<b>Antigua and Barbuda</b><br>Confirmed Cases: 15<br>Deaths: 0\", \"<b>Argentina</b><br>Confirmed Cases: 1265<br>Deaths: 39\", \"<b>Armenia</b><br>Confirmed Cases: 736<br>Deaths: 7\", \"<b>Australia</b><br>Confirmed Cases: 2389<br>Deaths: 12\", \"<b>Austria</b><br>Confirmed Cases: 11524<br>Deaths: 168\", \"<b>Azerbaijan</b><br>Confirmed Cases: 443<br>Deaths: 5\", \"<b>Bahamas</b><br>Confirmed Cases: 24<br>Deaths: 1\", \"<b>Bahrain</b><br>Confirmed Cases: 672<br>Deaths: 4\", \"<b>Bangladesh</b><br>Confirmed Cases: 61<br>Deaths: 6\", \"<b>Barbados</b><br>Confirmed Cases: 51<br>Deaths: 0\", \"<b>Belarus</b><br>Confirmed Cases: 351<br>Deaths: 4\", \"<b>Belgium</b><br>Confirmed Cases: 16770<br>Deaths: 1143\", \"<b>Belize</b><br>Confirmed Cases: 4<br>Deaths: 0\", \"<b>Benin</b><br>Confirmed Cases: 16<br>Deaths: 0\", \"<b>Bhutan</b><br>Confirmed Cases: 5<br>Deaths: 0\", \"<b>Bolivia</b><br>Confirmed Cases: 132<br>Deaths: 9\", \"<b>Bosnia and Herzegovina</b><br>Confirmed Cases: 579<br>Deaths: 17\", \"<b>Botswana</b><br>Confirmed Cases: 4<br>Deaths: 1\", \"<b>Brazil</b><br>Confirmed Cases: 9056<br>Deaths: 359\", \"<b>Brunei</b><br>Confirmed Cases: 134<br>Deaths: 1\", \"<b>Bulgaria</b><br>Confirmed Cases: 485<br>Deaths: 14\", \"<b>Burkina Faso</b><br>Confirmed Cases: 302<br>Deaths: 16\", \"<b>Burma</b><br>Confirmed Cases: 20<br>Deaths: 1\", \"<b>Burundi</b><br>Confirmed Cases: 3<br>Deaths: 0\", \"<b>Cabo Verde</b><br>Confirmed Cases: 6<br>Deaths: 1\", \"<b>Cambodia</b><br>Confirmed Cases: 114<br>Deaths: 0\", \"<b>Cameroon</b><br>Confirmed Cases: 509<br>Deaths: 8\", \"<b>Canada</b><br>Confirmed Cases: 6101<br>Deaths: 67\", \"<b>Central African Republic</b><br>Confirmed Cases: 8<br>Deaths: 0\", \"<b>Chad</b><br>Confirmed Cases: 8<br>Deaths: 0\", \"<b>Chile</b><br>Confirmed Cases: 3737<br>Deaths: 22\", \"<b>China</b><br>Confirmed Cases: 67802<br>Deaths: 3203\", \"<b>Colombia</b><br>Confirmed Cases: 1267<br>Deaths: 25\", \"<b>Congo (Brazzaville)</b><br>Confirmed Cases: 22<br>Deaths: 2\", \"<b>Congo (Kinshasa)</b><br>Confirmed Cases: 134<br>Deaths: 13\", \"<b>Costa Rica</b><br>Confirmed Cases: 416<br>Deaths: 2\", \"<b>Cote d'Ivoire</b><br>Confirmed Cases: 218<br>Deaths: 1\", \"<b>Croatia</b><br>Confirmed Cases: 1079<br>Deaths: 8\", \"<b>Cuba</b><br>Confirmed Cases: 269<br>Deaths: 6\", \"<b>Cyprus</b><br>Confirmed Cases: 396<br>Deaths: 11\", \"<b>Czechia</b><br>Confirmed Cases: 4091<br>Deaths: 53\", \"<b>Denmark</b><br>Confirmed Cases: 3757<br>Deaths: 139\", \"<b>Diamond Princess</b><br>Confirmed Cases: 712<br>Deaths: 11\", \"<b>Djibouti</b><br>Confirmed Cases: 49<br>Deaths: 0\", \"<b>Dominica</b><br>Confirmed Cases: 12<br>Deaths: 0\", \"<b>Dominican Republic</b><br>Confirmed Cases: 1488<br>Deaths: 68\", \"<b>Ecuador</b><br>Confirmed Cases: 3368<br>Deaths: 145\", \"<b>Egypt</b><br>Confirmed Cases: 985<br>Deaths: 66\", \"<b>El Salvador</b><br>Confirmed Cases: 46<br>Deaths: 2\", \"<b>Equatorial Guinea</b><br>Confirmed Cases: 16<br>Deaths: 0\", \"<b>Eritrea</b><br>Confirmed Cases: 22<br>Deaths: 0\", \"<b>Estonia</b><br>Confirmed Cases: 961<br>Deaths: 12\", \"<b>Eswatini</b><br>Confirmed Cases: 9<br>Deaths: 0\", \"<b>Ethiopia</b><br>Confirmed Cases: 35<br>Deaths: 0\", \"<b>Fiji</b><br>Confirmed Cases: 7<br>Deaths: 0\", \"<b>Finland</b><br>Confirmed Cases: 1615<br>Deaths: 20\", \"<b>France</b><br>Confirmed Cases: 64338<br>Deaths: 6507\", \"<b>Gabon</b><br>Confirmed Cases: 21<br>Deaths: 1\", \"<b>Gambia</b><br>Confirmed Cases: 4<br>Deaths: 1\", \"<b>Georgia</b><br>Confirmed Cases: 155<br>Deaths: 0\", \"<b>Germany</b><br>Confirmed Cases: 91159<br>Deaths: 1275\", \"<b>Ghana</b><br>Confirmed Cases: 205<br>Deaths: 5\", \"<b>Greece</b><br>Confirmed Cases: 1613<br>Deaths: 63\", \"<b>Grenada</b><br>Confirmed Cases: 12<br>Deaths: 0\", \"<b>Guatemala</b><br>Confirmed Cases: 50<br>Deaths: 1\", \"<b>Guinea</b><br>Confirmed Cases: 73<br>Deaths: 0\", \"<b>Guinea-Bissau</b><br>Confirmed Cases: 15<br>Deaths: 0\", \"<b>Guyana</b><br>Confirmed Cases: 23<br>Deaths: 4\", \"<b>Haiti</b><br>Confirmed Cases: 18<br>Deaths: 0\", \"<b>Holy See</b><br>Confirmed Cases: 7<br>Deaths: 0\", \"<b>Honduras</b><br>Confirmed Cases: 222<br>Deaths: 15\", \"<b>Hungary</b><br>Confirmed Cases: 623<br>Deaths: 26\", \"<b>Iceland</b><br>Confirmed Cases: 1364<br>Deaths: 5\", \"<b>India</b><br>Confirmed Cases: 2567<br>Deaths: 72\", \"<b>Indonesia</b><br>Confirmed Cases: 1986<br>Deaths: 181\", \"<b>Iran</b><br>Confirmed Cases: 53183<br>Deaths: 3294\", \"<b>Iraq</b><br>Confirmed Cases: 820<br>Deaths: 54\", \"<b>Ireland</b><br>Confirmed Cases: 4273<br>Deaths: 120\", \"<b>Israel</b><br>Confirmed Cases: 7428<br>Deaths: 40\", \"<b>Italy</b><br>Confirmed Cases: 119827<br>Deaths: 14681\", \"<b>Jamaica</b><br>Confirmed Cases: 47<br>Deaths: 3\", \"<b>Japan</b><br>Confirmed Cases: 2617<br>Deaths: 63\", \"<b>Jordan</b><br>Confirmed Cases: 310<br>Deaths: 5\", \"<b>Kazakhstan</b><br>Confirmed Cases: 464<br>Deaths: 6\", \"<b>Kenya</b><br>Confirmed Cases: 122<br>Deaths: 4\", \"<b>Korea, South</b><br>Confirmed Cases: 10062<br>Deaths: 174\", \"<b>Kosovo</b><br>Confirmed Cases: 126<br>Deaths: 1\", \"<b>Kuwait</b><br>Confirmed Cases: 417<br>Deaths: 0\", \"<b>Kyrgyzstan</b><br>Confirmed Cases: 130<br>Deaths: 1\", \"<b>Laos</b><br>Confirmed Cases: 10<br>Deaths: 0\", \"<b>Latvia</b><br>Confirmed Cases: 493<br>Deaths: 1\", \"<b>Lebanon</b><br>Confirmed Cases: 508<br>Deaths: 17\", \"<b>Liberia</b><br>Confirmed Cases: 7<br>Deaths: 0\", \"<b>Libya</b><br>Confirmed Cases: 11<br>Deaths: 1\", \"<b>Liechtenstein</b><br>Confirmed Cases: 75<br>Deaths: 0\", \"<b>Lithuania</b><br>Confirmed Cases: 696<br>Deaths: 9\", \"<b>Luxembourg</b><br>Confirmed Cases: 2612<br>Deaths: 31\", \"<b>MS Zaandam</b><br>Confirmed Cases: 9<br>Deaths: 2\", \"<b>Madagascar</b><br>Confirmed Cases: 70<br>Deaths: 0\", \"<b>Malawi</b><br>Confirmed Cases: 3<br>Deaths: 0\", \"<b>Malaysia</b><br>Confirmed Cases: 3333<br>Deaths: 53\", \"<b>Maldives</b><br>Confirmed Cases: 19<br>Deaths: 0\", \"<b>Mali</b><br>Confirmed Cases: 39<br>Deaths: 3\", \"<b>Malta</b><br>Confirmed Cases: 202<br>Deaths: 0\", \"<b>Mauritania</b><br>Confirmed Cases: 6<br>Deaths: 1\", \"<b>Mauritius</b><br>Confirmed Cases: 186<br>Deaths: 7\", \"<b>Mexico</b><br>Confirmed Cases: 1510<br>Deaths: 50\", \"<b>Moldova</b><br>Confirmed Cases: 591<br>Deaths: 8\", \"<b>Monaco</b><br>Confirmed Cases: 64<br>Deaths: 1\", \"<b>Mongolia</b><br>Confirmed Cases: 14<br>Deaths: 0\", \"<b>Montenegro</b><br>Confirmed Cases: 174<br>Deaths: 2\", \"<b>Morocco</b><br>Confirmed Cases: 791<br>Deaths: 48\", \"<b>Mozambique</b><br>Confirmed Cases: 10<br>Deaths: 0\", \"<b>Namibia</b><br>Confirmed Cases: 14<br>Deaths: 0\", \"<b>Nepal</b><br>Confirmed Cases: 6<br>Deaths: 0\", \"<b>Netherlands</b><br>Confirmed Cases: 15723<br>Deaths: 1487\", \"<b>New Zealand</b><br>Confirmed Cases: 868<br>Deaths: 1\", \"<b>Nicaragua</b><br>Confirmed Cases: 5<br>Deaths: 1\", \"<b>Niger</b><br>Confirmed Cases: 120<br>Deaths: 5\", \"<b>Nigeria</b><br>Confirmed Cases: 210<br>Deaths: 4\", \"<b>North Macedonia</b><br>Confirmed Cases: 430<br>Deaths: 12\", \"<b>Norway</b><br>Confirmed Cases: 5370<br>Deaths: 59\", \"<b>Oman</b><br>Confirmed Cases: 252<br>Deaths: 1\", \"<b>Pakistan</b><br>Confirmed Cases: 2686<br>Deaths: 40\", \"<b>Panama</b><br>Confirmed Cases: 1475<br>Deaths: 37\", \"<b>Papua New Guinea</b><br>Confirmed Cases: 1<br>Deaths: 0\", \"<b>Paraguay</b><br>Confirmed Cases: 92<br>Deaths: 3\", \"<b>Peru</b><br>Confirmed Cases: 1595<br>Deaths: 61\", \"<b>Philippines</b><br>Confirmed Cases: 3018<br>Deaths: 136\", \"<b>Poland</b><br>Confirmed Cases: 3383<br>Deaths: 71\", \"<b>Portugal</b><br>Confirmed Cases: 9886<br>Deaths: 246\", \"<b>Qatar</b><br>Confirmed Cases: 1075<br>Deaths: 3\", \"<b>Romania</b><br>Confirmed Cases: 3183<br>Deaths: 133\", \"<b>Russia</b><br>Confirmed Cases: 4149<br>Deaths: 34\", \"<b>Rwanda</b><br>Confirmed Cases: 89<br>Deaths: 0\", \"<b>Saint Kitts and Nevis</b><br>Confirmed Cases: 9<br>Deaths: 0\", \"<b>Saint Lucia</b><br>Confirmed Cases: 13<br>Deaths: 0\", \"<b>Saint Vincent and the Grenadines</b><br>Confirmed Cases: 3<br>Deaths: 0\", \"<b>San Marino</b><br>Confirmed Cases: 245<br>Deaths: 30\", \"<b>Saudi Arabia</b><br>Confirmed Cases: 2039<br>Deaths: 25\", \"<b>Senegal</b><br>Confirmed Cases: 207<br>Deaths: 1\", \"<b>Serbia</b><br>Confirmed Cases: 1476<br>Deaths: 39\", \"<b>Seychelles</b><br>Confirmed Cases: 10<br>Deaths: 0\", \"<b>Sierra Leone</b><br>Confirmed Cases: 2<br>Deaths: 0\", \"<b>Singapore</b><br>Confirmed Cases: 1114<br>Deaths: 5\", \"<b>Slovakia</b><br>Confirmed Cases: 450<br>Deaths: 1\", \"<b>Slovenia</b><br>Confirmed Cases: 934<br>Deaths: 20\", \"<b>Somalia</b><br>Confirmed Cases: 7<br>Deaths: 0\", \"<b>South Africa</b><br>Confirmed Cases: 1505<br>Deaths: 9\", \"<b>Spain</b><br>Confirmed Cases: 119199<br>Deaths: 11198\", \"<b>Sri Lanka</b><br>Confirmed Cases: 159<br>Deaths: 4\", \"<b>Sudan</b><br>Confirmed Cases: 10<br>Deaths: 2\", \"<b>Suriname</b><br>Confirmed Cases: 10<br>Deaths: 1\", \"<b>Sweden</b><br>Confirmed Cases: 6131<br>Deaths: 358\", \"<b>Switzerland</b><br>Confirmed Cases: 19606<br>Deaths: 591\", \"<b>Syria</b><br>Confirmed Cases: 16<br>Deaths: 2\", \"<b>Taiwan*</b><br>Confirmed Cases: 348<br>Deaths: 5\", \"<b>Tanzania</b><br>Confirmed Cases: 20<br>Deaths: 1\", \"<b>Thailand</b><br>Confirmed Cases: 1978<br>Deaths: 19\", \"<b>Timor-Leste</b><br>Confirmed Cases: 1<br>Deaths: 0\", \"<b>Togo</b><br>Confirmed Cases: 40<br>Deaths: 3\", \"<b>Trinidad and Tobago</b><br>Confirmed Cases: 98<br>Deaths: 6\", \"<b>Tunisia</b><br>Confirmed Cases: 495<br>Deaths: 18\", \"<b>Turkey</b><br>Confirmed Cases: 20921<br>Deaths: 425\", \"<b>US</b><br>Confirmed Cases: 275586<br>Deaths: 7087\", \"<b>Uganda</b><br>Confirmed Cases: 48<br>Deaths: 0\", \"<b>Ukraine</b><br>Confirmed Cases: 1072<br>Deaths: 27\", \"<b>United Arab Emirates</b><br>Confirmed Cases: 1264<br>Deaths: 9\", \"<b>United Kingdom</b><br>Confirmed Cases: 38168<br>Deaths: 3605\", \"<b>Uruguay</b><br>Confirmed Cases: 369<br>Deaths: 4\", \"<b>Uzbekistan</b><br>Confirmed Cases: 227<br>Deaths: 2\", \"<b>Venezuela</b><br>Confirmed Cases: 153<br>Deaths: 7\", \"<b>Vietnam</b><br>Confirmed Cases: 237<br>Deaths: 0\", \"<b>West Bank and Gaza</b><br>Confirmed Cases: 194<br>Deaths: 1\", \"<b>Zambia</b><br>Confirmed Cases: 39<br>Deaths: 1\", \"<b>Zimbabwe</b><br>Confirmed Cases: 9<br>Deaths: 1\"], \"locations\": [\"AFG\", \"ALB\", \"DZA\", \"AND\", \"AGO\", \"ATG\", \"ARG\", \"ARM\", \"AUS\", \"AUT\", \"AZE\", \"BHS\", \"BHR\", \"BGD\", \"BRB\", \"BLR\", \"BEL\", \"BLZ\", \"BEN\", \"BTN\", \"BOL\", \"BIH\", \"BWA\", \"BRA\", \"BWN\", \"BGR\", \"BFA\", \"MMR\", \"BDI\", \"CPV\", \"KHM\", \"CMR\", \"CAN\", \"CAF\", \"TCD\", \"CHL\", \"CHN\", \"COL\", \"COG\", \"COD\", \"CRI\", \"CIV\", \"HRV\", \"CUB\", \"CYP\", \"CZE\", \"DNK\", \"Unknown code\", \"DJI\", \"DMA\", \"DOM\", \"ECU\", \"EGY\", \"SLV\", \"GNQ\", \"ERI\", \"EST\", \"SWZ\", \"ETH\", \"FJI\", \"FIN\", \"FRA\", \"GAB\", \"GMB\", \"GEO\", \"DEU\", \"GHA\", \"GRC\", \"GRD\", \"GTM\", \"GIN\", \"GNB\", \"GUY\", \"HTI\", \"VAT\", \"HND\", \"HUN\", \"ISL\", \"IND\", \"IDN\", \"IRN\", \"IRQ\", \"IRL\", \"ISR\", \"ITA\", \"JAM\", \"JPN\", \"JOR\", \"KAZ\", \"KEN\", \"KOR\", \"RKS\", \"KWT\", \"KGZ\", \"LAO\", \"LVA\", \"LBN\", \"LBR\", \"LBY\", \"LIE\", \"LTU\", \"LUX\", \"Unknown code\", \"MDG\", \"MWI\", \"MYS\", \"MDV\", \"MLI\", \"MLT\", \"MRT\", \"MUS\", \"MEX\", \"MDA\", \"MCO\", \"MNG\", \"MNE\", \"MAR\", \"MOZ\", \"NAM\", \"NPL\", \"NLD\", \"NZL\", \"NIC\", \"NER\", \"NGA\", \"MKD\", \"NOR\", \"OMN\", \"PAK\", \"PAN\", \"PNG\", \"PRY\", \"PER\", \"PHL\", \"POL\", \"PRT\", \"QAT\", \"ROU\", \"RUS\", \"RWA\", \"KNA\", \"LCA\", \"VCT\", \"SMR\", \"SAU\", \"SEN\", \"SRB\", \"SYC\", \"SLE\", \"SGP\", \"SVK\", \"SVN\", \"SOM\", \"ZAF\", \"ESP\", \"LKA\", \"SDN\", \"SUR\", \"SWE\", \"CHE\", \"SYR\", \"TWN\", \"TZA\", \"THA\", \"TLS\", \"TGO\", \"TTO\", \"TUN\", \"TUR\", \"USA\", \"UGA\", \"UKR\", \"ARE\", \"GBR\", \"URY\", \"UZB\", \"VEN\", \"VNM\", \"PSE\", \"ZMB\", \"ZWE\"], \"marker\": {\"line\": {\"color\": \"darkgray\", \"width\": 0.5}}, \"reversescale\": false, \"type\": \"choropleth\", \"z\": [281, 304, 1171, 439, 8, 15, 1265, 736, 2389, 11524, 443, 24, 672, 61, 51, 351, 16770, 4, 16, 5, 132, 579, 4, 9056, 134, 485, 302, 20, 3, 6, 114, 509, 6101, 8, 8, 3737, 67802, 1267, 22, 134, 416, 218, 1079, 269, 396, 4091, 3757, 712, 49, 12, 1488, 3368, 985, 46, 16, 22, 961, 9, 35, 7, 1615, 64338, 21, 4, 155, 91159, 205, 1613, 12, 50, 73, 15, 23, 18, 7, 222, 623, 1364, 2567, 1986, 53183, 820, 4273, 7428, 119827, 47, 2617, 310, 464, 122, 10062, 126, 417, 130, 10, 493, 508, 7, 11, 75, 696, 2612, 9, 70, 3, 3333, 19, 39, 202, 6, 186, 1510, 591, 64, 14, 174, 791, 10, 14, 6, 15723, 868, 5, 120, 210, 430, 5370, 252, 2686, 1475, 1, 92, 1595, 3018, 3383, 9886, 1075, 3183, 4149, 89, 9, 13, 3, 245, 2039, 207, 1476, 10, 2, 1114, 450, 934, 7, 1505, 119199, 159, 10, 10, 6131, 19606, 16, 348, 20, 1978, 1, 40, 98, 495, 20921, 275586, 48, 1072, 1264, 38168, 369, 227, 153, 237, 194, 39, 9]}],\n",
       "                        {\"geo\": {\"projection\": {\"type\": \"equirectangular\"}, \"showcoastlines\": false, \"showframe\": false}, \"margin\": {\"b\": 0, \"l\": 0, \"r\": 0, \"t\": 0}, \"template\": {\"data\": {\"bar\": [{\"error_x\": {\"color\": \"#2a3f5f\"}, \"error_y\": {\"color\": \"#2a3f5f\"}, \"marker\": {\"line\": {\"color\": \"#E5ECF6\", \"width\": 0.5}}, \"type\": \"bar\"}], \"barpolar\": [{\"marker\": {\"line\": {\"color\": \"#E5ECF6\", \"width\": 0.5}}, \"type\": \"barpolar\"}], \"carpet\": [{\"aaxis\": {\"endlinecolor\": \"#2a3f5f\", \"gridcolor\": \"white\", \"linecolor\": \"white\", \"minorgridcolor\": \"white\", \"startlinecolor\": \"#2a3f5f\"}, \"baxis\": {\"endlinecolor\": \"#2a3f5f\", \"gridcolor\": \"white\", \"linecolor\": \"white\", \"minorgridcolor\": \"white\", \"startlinecolor\": \"#2a3f5f\"}, \"type\": \"carpet\"}], \"choropleth\": [{\"colorbar\": {\"outlinewidth\": 0, \"ticks\": \"\"}, \"type\": \"choropleth\"}], \"contour\": [{\"colorbar\": {\"outlinewidth\": 0, \"ticks\": \"\"}, \"colorscale\": [[0.0, \"#0d0887\"], [0.1111111111111111, \"#46039f\"], [0.2222222222222222, \"#7201a8\"], [0.3333333333333333, \"#9c179e\"], [0.4444444444444444, \"#bd3786\"], [0.5555555555555556, \"#d8576b\"], [0.6666666666666666, \"#ed7953\"], [0.7777777777777778, \"#fb9f3a\"], [0.8888888888888888, \"#fdca26\"], [1.0, \"#f0f921\"]], \"type\": \"contour\"}], \"contourcarpet\": [{\"colorbar\": {\"outlinewidth\": 0, \"ticks\": \"\"}, \"type\": \"contourcarpet\"}], \"heatmap\": [{\"colorbar\": {\"outlinewidth\": 0, \"ticks\": \"\"}, \"colorscale\": [[0.0, \"#0d0887\"], [0.1111111111111111, \"#46039f\"], [0.2222222222222222, \"#7201a8\"], [0.3333333333333333, \"#9c179e\"], [0.4444444444444444, \"#bd3786\"], [0.5555555555555556, \"#d8576b\"], [0.6666666666666666, \"#ed7953\"], [0.7777777777777778, \"#fb9f3a\"], [0.8888888888888888, \"#fdca26\"], [1.0, \"#f0f921\"]], \"type\": \"heatmap\"}], \"heatmapgl\": [{\"colorbar\": {\"outlinewidth\": 0, \"ticks\": \"\"}, \"colorscale\": [[0.0, \"#0d0887\"], [0.1111111111111111, \"#46039f\"], [0.2222222222222222, \"#7201a8\"], [0.3333333333333333, \"#9c179e\"], [0.4444444444444444, \"#bd3786\"], [0.5555555555555556, \"#d8576b\"], [0.6666666666666666, \"#ed7953\"], [0.7777777777777778, \"#fb9f3a\"], [0.8888888888888888, \"#fdca26\"], [1.0, \"#f0f921\"]], \"type\": \"heatmapgl\"}], \"histogram\": [{\"marker\": {\"colorbar\": {\"outlinewidth\": 0, \"ticks\": \"\"}}, \"type\": \"histogram\"}], \"histogram2d\": [{\"colorbar\": {\"outlinewidth\": 0, \"ticks\": \"\"}, \"colorscale\": [[0.0, \"#0d0887\"], [0.1111111111111111, \"#46039f\"], [0.2222222222222222, \"#7201a8\"], [0.3333333333333333, \"#9c179e\"], [0.4444444444444444, \"#bd3786\"], [0.5555555555555556, \"#d8576b\"], [0.6666666666666666, \"#ed7953\"], [0.7777777777777778, \"#fb9f3a\"], [0.8888888888888888, \"#fdca26\"], [1.0, \"#f0f921\"]], \"type\": \"histogram2d\"}], \"histogram2dcontour\": [{\"colorbar\": {\"outlinewidth\": 0, \"ticks\": \"\"}, \"colorscale\": [[0.0, \"#0d0887\"], [0.1111111111111111, \"#46039f\"], [0.2222222222222222, \"#7201a8\"], [0.3333333333333333, \"#9c179e\"], [0.4444444444444444, \"#bd3786\"], [0.5555555555555556, \"#d8576b\"], [0.6666666666666666, \"#ed7953\"], [0.7777777777777778, \"#fb9f3a\"], [0.8888888888888888, \"#fdca26\"], [1.0, \"#f0f921\"]], \"type\": \"histogram2dcontour\"}], \"mesh3d\": [{\"colorbar\": {\"outlinewidth\": 0, \"ticks\": \"\"}, \"type\": \"mesh3d\"}], \"parcoords\": [{\"line\": {\"colorbar\": {\"outlinewidth\": 0, \"ticks\": \"\"}}, \"type\": \"parcoords\"}], \"pie\": [{\"automargin\": true, \"type\": \"pie\"}], \"scatter\": [{\"marker\": {\"colorbar\": {\"outlinewidth\": 0, \"ticks\": \"\"}}, \"type\": \"scatter\"}], \"scatter3d\": [{\"line\": {\"colorbar\": {\"outlinewidth\": 0, \"ticks\": \"\"}}, \"marker\": {\"colorbar\": {\"outlinewidth\": 0, \"ticks\": \"\"}}, \"type\": \"scatter3d\"}], \"scattercarpet\": [{\"marker\": {\"colorbar\": {\"outlinewidth\": 0, \"ticks\": \"\"}}, \"type\": \"scattercarpet\"}], \"scattergeo\": [{\"marker\": {\"colorbar\": {\"outlinewidth\": 0, \"ticks\": \"\"}}, \"type\": \"scattergeo\"}], \"scattergl\": [{\"marker\": {\"colorbar\": {\"outlinewidth\": 0, \"ticks\": \"\"}}, \"type\": \"scattergl\"}], \"scattermapbox\": [{\"marker\": {\"colorbar\": {\"outlinewidth\": 0, \"ticks\": \"\"}}, \"type\": \"scattermapbox\"}], \"scatterpolar\": [{\"marker\": {\"colorbar\": {\"outlinewidth\": 0, \"ticks\": \"\"}}, \"type\": \"scatterpolar\"}], \"scatterpolargl\": [{\"marker\": {\"colorbar\": {\"outlinewidth\": 0, \"ticks\": \"\"}}, \"type\": \"scatterpolargl\"}], \"scatterternary\": [{\"marker\": {\"colorbar\": {\"outlinewidth\": 0, \"ticks\": \"\"}}, \"type\": \"scatterternary\"}], \"surface\": [{\"colorbar\": {\"outlinewidth\": 0, \"ticks\": \"\"}, \"colorscale\": [[0.0, \"#0d0887\"], [0.1111111111111111, \"#46039f\"], [0.2222222222222222, \"#7201a8\"], [0.3333333333333333, \"#9c179e\"], [0.4444444444444444, \"#bd3786\"], [0.5555555555555556, \"#d8576b\"], [0.6666666666666666, \"#ed7953\"], [0.7777777777777778, \"#fb9f3a\"], [0.8888888888888888, \"#fdca26\"], [1.0, \"#f0f921\"]], \"type\": \"surface\"}], \"table\": [{\"cells\": {\"fill\": {\"color\": \"#EBF0F8\"}, \"line\": {\"color\": \"white\"}}, \"header\": {\"fill\": {\"color\": \"#C8D4E3\"}, \"line\": {\"color\": \"white\"}}, \"type\": \"table\"}]}, \"layout\": {\"annotationdefaults\": {\"arrowcolor\": \"#2a3f5f\", \"arrowhead\": 0, \"arrowwidth\": 1}, \"coloraxis\": {\"colorbar\": {\"outlinewidth\": 0, \"ticks\": \"\"}}, \"colorscale\": {\"diverging\": [[0, \"#8e0152\"], [0.1, \"#c51b7d\"], [0.2, \"#de77ae\"], [0.3, \"#f1b6da\"], [0.4, \"#fde0ef\"], [0.5, \"#f7f7f7\"], [0.6, \"#e6f5d0\"], [0.7, \"#b8e186\"], [0.8, \"#7fbc41\"], [0.9, \"#4d9221\"], [1, \"#276419\"]], \"sequential\": [[0.0, \"#0d0887\"], [0.1111111111111111, \"#46039f\"], [0.2222222222222222, \"#7201a8\"], [0.3333333333333333, \"#9c179e\"], [0.4444444444444444, \"#bd3786\"], [0.5555555555555556, \"#d8576b\"], [0.6666666666666666, \"#ed7953\"], [0.7777777777777778, \"#fb9f3a\"], [0.8888888888888888, \"#fdca26\"], [1.0, \"#f0f921\"]], \"sequentialminus\": [[0.0, \"#0d0887\"], [0.1111111111111111, \"#46039f\"], [0.2222222222222222, \"#7201a8\"], [0.3333333333333333, \"#9c179e\"], [0.4444444444444444, \"#bd3786\"], [0.5555555555555556, \"#d8576b\"], [0.6666666666666666, \"#ed7953\"], [0.7777777777777778, \"#fb9f3a\"], [0.8888888888888888, \"#fdca26\"], [1.0, \"#f0f921\"]]}, \"colorway\": [\"#636efa\", \"#EF553B\", \"#00cc96\", \"#ab63fa\", \"#FFA15A\", \"#19d3f3\", \"#FF6692\", \"#B6E880\", \"#FF97FF\", \"#FECB52\"], \"font\": {\"color\": \"#2a3f5f\"}, \"geo\": {\"bgcolor\": \"white\", \"lakecolor\": \"white\", \"landcolor\": \"#E5ECF6\", \"showlakes\": true, \"showland\": true, \"subunitcolor\": \"white\"}, \"hoverlabel\": {\"align\": \"left\"}, \"hovermode\": \"closest\", \"mapbox\": {\"style\": \"light\"}, \"paper_bgcolor\": \"white\", \"plot_bgcolor\": \"#E5ECF6\", \"polar\": {\"angularaxis\": {\"gridcolor\": \"white\", \"linecolor\": \"white\", \"ticks\": \"\"}, \"bgcolor\": \"#E5ECF6\", \"radialaxis\": {\"gridcolor\": \"white\", \"linecolor\": \"white\", \"ticks\": \"\"}}, \"scene\": {\"xaxis\": {\"backgroundcolor\": \"#E5ECF6\", \"gridcolor\": \"white\", \"gridwidth\": 2, \"linecolor\": \"white\", \"showbackground\": true, \"ticks\": \"\", \"zerolinecolor\": \"white\"}, \"yaxis\": {\"backgroundcolor\": \"#E5ECF6\", \"gridcolor\": \"white\", \"gridwidth\": 2, \"linecolor\": \"white\", \"showbackground\": true, \"ticks\": \"\", \"zerolinecolor\": \"white\"}, \"zaxis\": {\"backgroundcolor\": \"#E5ECF6\", \"gridcolor\": \"white\", \"gridwidth\": 2, \"linecolor\": \"white\", \"showbackground\": true, \"ticks\": \"\", \"zerolinecolor\": \"white\"}}, \"shapedefaults\": {\"line\": {\"color\": \"#2a3f5f\"}}, \"ternary\": {\"aaxis\": {\"gridcolor\": \"white\", \"linecolor\": \"white\", \"ticks\": \"\"}, \"baxis\": {\"gridcolor\": \"white\", \"linecolor\": \"white\", \"ticks\": \"\"}, \"bgcolor\": \"#E5ECF6\", \"caxis\": {\"gridcolor\": \"white\", \"linecolor\": \"white\", \"ticks\": \"\"}}, \"title\": {\"x\": 0.05}, \"xaxis\": {\"automargin\": true, \"gridcolor\": \"white\", \"linecolor\": \"white\", \"ticks\": \"\", \"title\": {\"standoff\": 15}, \"zerolinecolor\": \"white\", \"zerolinewidth\": 2}, \"yaxis\": {\"automargin\": true, \"gridcolor\": \"white\", \"linecolor\": \"white\", \"ticks\": \"\", \"title\": {\"standoff\": 15}, \"zerolinecolor\": \"white\", \"zerolinewidth\": 2}}}, \"title\": {\"text\": \"\"}},\n",
       "                        {\"responsive\": true}\n",
       "                    ).then(function(){\n",
       "                            \n",
       "var gd = document.getElementById('e9084588-49d3-4ccd-9af3-e8c06770ba5b');\n",
       "var x = new MutationObserver(function (mutations, observer) {{\n",
       "        var display = window.getComputedStyle(gd).display;\n",
       "        if (!display || display === 'none') {{\n",
       "            console.log([gd, 'removed!']);\n",
       "            Plotly.purge(gd);\n",
       "            observer.disconnect();\n",
       "        }}\n",
       "}});\n",
       "\n",
       "// Listen for the removal of the full notebook cells\n",
       "var notebookContainer = gd.closest('#notebook-container');\n",
       "if (notebookContainer) {{\n",
       "    x.observe(notebookContainer, {childList: true});\n",
       "}}\n",
       "\n",
       "// Listen for the clearing of the current output cell\n",
       "var outputEl = gd.closest('.output');\n",
       "if (outputEl) {{\n",
       "    x.observe(outputEl, {childList: true});\n",
       "}}\n",
       "\n",
       "                        })\n",
       "                };\n",
       "                });\n",
       "            </script>\n",
       "        </div>"
      ]
     },
     "metadata": {},
     "output_type": "display_data"
    }
   ],
   "source": [
    "fig = go.Figure(data=go.Choropleth(\n",
    "        locations = grouped_countries['code'],\n",
    "        z = grouped_countries['CumConfirmed'],\n",
    "#         text = grouped_countries['CumConfirmed'],\n",
    "        colorscale = 'Reds',\n",
    "        autocolorscale=False,\n",
    "        reversescale=False,\n",
    "        marker_line_color='darkgray',\n",
    "        marker_line_width=0.5,\n",
    "        colorbar_tickprefix = '',\n",
    "        colorbar_title = '',\n",
    "    ))\n",
    "\n",
    "fig.update_layout(margin={\"r\":0,\"t\":0,\"l\":0,\"b\":0},\n",
    "        title_text='',\n",
    "        geo=dict(\n",
    "            showframe=False,\n",
    "            showcoastlines=False,\n",
    "            projection_type='equirectangular'\n",
    "        )\n",
    "    )\n",
    "fig.update_traces(hovertemplate='<b>' + grouped_countries['Country/Region'] +\n",
    "                      '</b>' + '<br>' + 'Confirmed Cases: ' +\n",
    "                      grouped_countries['CumConfirmed'].astype(str) + '<br>' +\n",
    "                      'Deaths: ' + grouped_countries['CumDeaths'].astype(str))\n",
    "\n",
    "fig.show()"
   ]
  },
  {
   "cell_type": "code",
   "execution_count": 34,
   "metadata": {},
   "outputs": [],
   "source": [
    "# import dash\n",
    "# import dash_core_components as dcc\n",
    "# import dash_html_components as html\n",
    "# import plotly.graph_objects as go\n",
    "# from dash.dependencies import Input, Output\n",
    "# import dash_bootstrap_components as dbc\n",
    "\n",
    "# external_stylesheets = ['https://codepen.io/chriddyp/pen/bWLwgP.css']\n",
    "# app = dash.Dash(__name__, external_stylesheets=external_stylesheets)\n",
    "# app.layout = html.Div(children=[\n",
    "#     html.H1(children=''),\n",
    "# dcc.Graph(\n",
    "#         id='example-graph-1',\n",
    "#         figure=fig\n",
    "#     ),\n",
    "# ])\n",
    "# if __name__ == '__main__':\n",
    "#     app.run_server(debug=True)"
   ]
  },
  {
   "cell_type": "code",
   "execution_count": 43,
   "metadata": {},
   "outputs": [
    {
     "data": {
      "application/vnd.plotly.v1+json": {
       "config": {
        "plotlyServerURL": "https://plot.ly"
       },
       "data": [
        {
         "coloraxis": "coloraxis",
         "customdata": [
          [
           281,
           6
          ],
          [
           304,
           17
          ],
          [
           1171,
           105
          ],
          [
           439,
           16
          ],
          [
           8,
           2
          ],
          [
           15,
           0
          ],
          [
           1265,
           39
          ],
          [
           736,
           7
          ],
          [
           2389,
           12
          ],
          [
           11524,
           168
          ],
          [
           443,
           5
          ],
          [
           24,
           1
          ],
          [
           672,
           4
          ],
          [
           61,
           6
          ],
          [
           51,
           0
          ],
          [
           351,
           4
          ],
          [
           16770,
           1143
          ],
          [
           4,
           0
          ],
          [
           16,
           0
          ],
          [
           5,
           0
          ],
          [
           132,
           9
          ],
          [
           579,
           17
          ],
          [
           4,
           1
          ],
          [
           9056,
           359
          ],
          [
           134,
           1
          ],
          [
           485,
           14
          ],
          [
           302,
           16
          ],
          [
           20,
           1
          ],
          [
           3,
           0
          ],
          [
           6,
           1
          ],
          [
           114,
           0
          ],
          [
           509,
           8
          ],
          [
           6101,
           67
          ],
          [
           8,
           0
          ],
          [
           8,
           0
          ],
          [
           3737,
           22
          ],
          [
           67802,
           3203
          ],
          [
           1267,
           25
          ],
          [
           22,
           2
          ],
          [
           134,
           13
          ],
          [
           416,
           2
          ],
          [
           218,
           1
          ],
          [
           1079,
           8
          ],
          [
           269,
           6
          ],
          [
           396,
           11
          ],
          [
           4091,
           53
          ],
          [
           3757,
           139
          ],
          [
           712,
           11
          ],
          [
           49,
           0
          ],
          [
           12,
           0
          ],
          [
           1488,
           68
          ],
          [
           3368,
           145
          ],
          [
           985,
           66
          ],
          [
           46,
           2
          ],
          [
           16,
           0
          ],
          [
           22,
           0
          ],
          [
           961,
           12
          ],
          [
           9,
           0
          ],
          [
           35,
           0
          ],
          [
           7,
           0
          ],
          [
           1615,
           20
          ],
          [
           64338,
           6507
          ],
          [
           21,
           1
          ],
          [
           4,
           1
          ],
          [
           155,
           0
          ],
          [
           91159,
           1275
          ],
          [
           205,
           5
          ],
          [
           1613,
           63
          ],
          [
           12,
           0
          ],
          [
           50,
           1
          ],
          [
           73,
           0
          ],
          [
           15,
           0
          ],
          [
           23,
           4
          ],
          [
           18,
           0
          ],
          [
           7,
           0
          ],
          [
           222,
           15
          ],
          [
           623,
           26
          ],
          [
           1364,
           5
          ],
          [
           2567,
           72
          ],
          [
           1986,
           181
          ],
          [
           53183,
           3294
          ],
          [
           820,
           54
          ],
          [
           4273,
           120
          ],
          [
           7428,
           40
          ],
          [
           119827,
           14681
          ],
          [
           47,
           3
          ],
          [
           2617,
           63
          ],
          [
           310,
           5
          ],
          [
           464,
           6
          ],
          [
           122,
           4
          ],
          [
           10062,
           174
          ],
          [
           126,
           1
          ],
          [
           417,
           0
          ],
          [
           130,
           1
          ],
          [
           10,
           0
          ],
          [
           493,
           1
          ],
          [
           508,
           17
          ],
          [
           7,
           0
          ],
          [
           11,
           1
          ],
          [
           75,
           0
          ],
          [
           696,
           9
          ],
          [
           2612,
           31
          ],
          [
           9,
           2
          ],
          [
           70,
           0
          ],
          [
           3,
           0
          ],
          [
           3333,
           53
          ],
          [
           19,
           0
          ],
          [
           39,
           3
          ],
          [
           202,
           0
          ],
          [
           6,
           1
          ],
          [
           186,
           7
          ],
          [
           1510,
           50
          ],
          [
           591,
           8
          ],
          [
           64,
           1
          ],
          [
           14,
           0
          ],
          [
           174,
           2
          ],
          [
           791,
           48
          ],
          [
           10,
           0
          ],
          [
           14,
           0
          ],
          [
           6,
           0
          ],
          [
           15723,
           1487
          ],
          [
           868,
           1
          ],
          [
           5,
           1
          ],
          [
           120,
           5
          ],
          [
           210,
           4
          ],
          [
           430,
           12
          ],
          [
           5370,
           59
          ],
          [
           252,
           1
          ],
          [
           2686,
           40
          ],
          [
           1475,
           37
          ],
          [
           1,
           0
          ],
          [
           92,
           3
          ],
          [
           1595,
           61
          ],
          [
           3018,
           136
          ],
          [
           3383,
           71
          ],
          [
           9886,
           246
          ],
          [
           1075,
           3
          ],
          [
           3183,
           133
          ],
          [
           4149,
           34
          ],
          [
           89,
           0
          ],
          [
           9,
           0
          ],
          [
           13,
           0
          ],
          [
           3,
           0
          ],
          [
           245,
           30
          ],
          [
           2039,
           25
          ],
          [
           207,
           1
          ],
          [
           1476,
           39
          ],
          [
           10,
           0
          ],
          [
           2,
           0
          ],
          [
           1114,
           5
          ],
          [
           450,
           1
          ],
          [
           934,
           20
          ],
          [
           7,
           0
          ],
          [
           1505,
           9
          ],
          [
           119199,
           11198
          ],
          [
           159,
           4
          ],
          [
           10,
           2
          ],
          [
           10,
           1
          ],
          [
           6131,
           358
          ],
          [
           19606,
           591
          ],
          [
           16,
           2
          ],
          [
           348,
           5
          ],
          [
           20,
           1
          ],
          [
           1978,
           19
          ],
          [
           1,
           0
          ],
          [
           40,
           3
          ],
          [
           98,
           6
          ],
          [
           495,
           18
          ],
          [
           20921,
           425
          ],
          [
           275586,
           7087
          ],
          [
           48,
           0
          ],
          [
           1072,
           27
          ],
          [
           1264,
           9
          ],
          [
           38168,
           3605
          ],
          [
           369,
           4
          ],
          [
           227,
           2
          ],
          [
           153,
           7
          ],
          [
           237,
           0
          ],
          [
           194,
           1
          ],
          [
           39,
           1
          ],
          [
           9,
           1
          ]
         ],
         "featureidkey": "grouped_countries.CumDeaths",
         "geo": "geo",
         "hoverlabel": {
          "namelength": 0
         },
         "hovertemplate": "Confirmed Cases (x10)=%{z}<br>Deaths=%{customdata[1]}<br>code=%{location}",
         "locations": [
          "AFG",
          "ALB",
          "DZA",
          "AND",
          "AGO",
          "ATG",
          "ARG",
          "ARM",
          "AUS",
          "AUT",
          "AZE",
          "BHS",
          "BHR",
          "BGD",
          "BRB",
          "BLR",
          "BEL",
          "BLZ",
          "BEN",
          "BTN",
          "BOL",
          "BIH",
          "BWA",
          "BRA",
          "BWN",
          "BGR",
          "BFA",
          "MMR",
          "BDI",
          "CPV",
          "KHM",
          "CMR",
          "CAN",
          "CAF",
          "TCD",
          "CHL",
          "CHN",
          "COL",
          "COG",
          "COD",
          "CRI",
          "CIV",
          "HRV",
          "CUB",
          "CYP",
          "CZE",
          "DNK",
          "Unknown code",
          "DJI",
          "DMA",
          "DOM",
          "ECU",
          "EGY",
          "SLV",
          "GNQ",
          "ERI",
          "EST",
          "SWZ",
          "ETH",
          "FJI",
          "FIN",
          "FRA",
          "GAB",
          "GMB",
          "GEO",
          "DEU",
          "GHA",
          "GRC",
          "GRD",
          "GTM",
          "GIN",
          "GNB",
          "GUY",
          "HTI",
          "VAT",
          "HND",
          "HUN",
          "ISL",
          "IND",
          "IDN",
          "IRN",
          "IRQ",
          "IRL",
          "ISR",
          "ITA",
          "JAM",
          "JPN",
          "JOR",
          "KAZ",
          "KEN",
          "KOR",
          "RKS",
          "KWT",
          "KGZ",
          "LAO",
          "LVA",
          "LBN",
          "LBR",
          "LBY",
          "LIE",
          "LTU",
          "LUX",
          "Unknown code",
          "MDG",
          "MWI",
          "MYS",
          "MDV",
          "MLI",
          "MLT",
          "MRT",
          "MUS",
          "MEX",
          "MDA",
          "MCO",
          "MNG",
          "MNE",
          "MAR",
          "MOZ",
          "NAM",
          "NPL",
          "NLD",
          "NZL",
          "NIC",
          "NER",
          "NGA",
          "MKD",
          "NOR",
          "OMN",
          "PAK",
          "PAN",
          "PNG",
          "PRY",
          "PER",
          "PHL",
          "POL",
          "PRT",
          "QAT",
          "ROU",
          "RUS",
          "RWA",
          "KNA",
          "LCA",
          "VCT",
          "SMR",
          "SAU",
          "SEN",
          "SRB",
          "SYC",
          "SLE",
          "SGP",
          "SVK",
          "SVN",
          "SOM",
          "ZAF",
          "ESP",
          "LKA",
          "SDN",
          "SUR",
          "SWE",
          "CHE",
          "SYR",
          "TWN",
          "TZA",
          "THA",
          "TLS",
          "TGO",
          "TTO",
          "TUN",
          "TUR",
          "USA",
          "UGA",
          "UKR",
          "ARE",
          "GBR",
          "URY",
          "UZB",
          "VEN",
          "VNM",
          "PSE",
          "ZMB",
          "ZWE"
         ],
         "name": "",
         "type": "choropleth",
         "z": [
          281,
          304,
          1171,
          439,
          8,
          15,
          1265,
          736,
          2389,
          11524,
          443,
          24,
          672,
          61,
          51,
          351,
          16770,
          4,
          16,
          5,
          132,
          579,
          4,
          9056,
          134,
          485,
          302,
          20,
          3,
          6,
          114,
          509,
          6101,
          8,
          8,
          3737,
          67802,
          1267,
          22,
          134,
          416,
          218,
          1079,
          269,
          396,
          4091,
          3757,
          712,
          49,
          12,
          1488,
          3368,
          985,
          46,
          16,
          22,
          961,
          9,
          35,
          7,
          1615,
          64338,
          21,
          4,
          155,
          91159,
          205,
          1613,
          12,
          50,
          73,
          15,
          23,
          18,
          7,
          222,
          623,
          1364,
          2567,
          1986,
          53183,
          820,
          4273,
          7428,
          119827,
          47,
          2617,
          310,
          464,
          122,
          10062,
          126,
          417,
          130,
          10,
          493,
          508,
          7,
          11,
          75,
          696,
          2612,
          9,
          70,
          3,
          3333,
          19,
          39,
          202,
          6,
          186,
          1510,
          591,
          64,
          14,
          174,
          791,
          10,
          14,
          6,
          15723,
          868,
          5,
          120,
          210,
          430,
          5370,
          252,
          2686,
          1475,
          1,
          92,
          1595,
          3018,
          3383,
          9886,
          1075,
          3183,
          4149,
          89,
          9,
          13,
          3,
          245,
          2039,
          207,
          1476,
          10,
          2,
          1114,
          450,
          934,
          7,
          1505,
          119199,
          159,
          10,
          10,
          6131,
          19606,
          16,
          348,
          20,
          1978,
          1,
          40,
          98,
          495,
          20921,
          275586,
          48,
          1072,
          1264,
          38168,
          369,
          227,
          153,
          237,
          194,
          39,
          9
         ]
        }
       ],
       "layout": {
        "coloraxis": {
         "cmax": 25000,
         "cmin": 0,
         "colorbar": {
          "title": {
           "text": "Confirmed Cases (x10)"
          }
         },
         "colorscale": [
          [
           0,
           "rgb(255,247,236)"
          ],
          [
           0.125,
           "rgb(254,232,200)"
          ],
          [
           0.25,
           "rgb(253,212,158)"
          ],
          [
           0.375,
           "rgb(253,187,132)"
          ],
          [
           0.5,
           "rgb(252,141,89)"
          ],
          [
           0.625,
           "rgb(239,101,72)"
          ],
          [
           0.75,
           "rgb(215,48,31)"
          ],
          [
           0.875,
           "rgb(179,0,0)"
          ],
          [
           1,
           "rgb(127,0,0)"
          ]
         ]
        },
        "geo": {
         "center": {},
         "domain": {
          "x": [
           0,
           1
          ],
          "y": [
           0,
           1
          ]
         },
         "projection": {
          "type": "equirectangular"
         },
         "scope": "world",
         "showcoastlines": false,
         "showframe": false
        },
        "height": 500,
        "legend": {
         "tracegroupgap": 0
        },
        "margin": {
         "t": 60
        },
        "template": {
         "data": {
          "bar": [
           {
            "error_x": {
             "color": "#2a3f5f"
            },
            "error_y": {
             "color": "#2a3f5f"
            },
            "marker": {
             "line": {
              "color": "#E5ECF6",
              "width": 0.5
             }
            },
            "type": "bar"
           }
          ],
          "barpolar": [
           {
            "marker": {
             "line": {
              "color": "#E5ECF6",
              "width": 0.5
             }
            },
            "type": "barpolar"
           }
          ],
          "carpet": [
           {
            "aaxis": {
             "endlinecolor": "#2a3f5f",
             "gridcolor": "white",
             "linecolor": "white",
             "minorgridcolor": "white",
             "startlinecolor": "#2a3f5f"
            },
            "baxis": {
             "endlinecolor": "#2a3f5f",
             "gridcolor": "white",
             "linecolor": "white",
             "minorgridcolor": "white",
             "startlinecolor": "#2a3f5f"
            },
            "type": "carpet"
           }
          ],
          "choropleth": [
           {
            "colorbar": {
             "outlinewidth": 0,
             "ticks": ""
            },
            "type": "choropleth"
           }
          ],
          "contour": [
           {
            "colorbar": {
             "outlinewidth": 0,
             "ticks": ""
            },
            "colorscale": [
             [
              0,
              "#0d0887"
             ],
             [
              0.1111111111111111,
              "#46039f"
             ],
             [
              0.2222222222222222,
              "#7201a8"
             ],
             [
              0.3333333333333333,
              "#9c179e"
             ],
             [
              0.4444444444444444,
              "#bd3786"
             ],
             [
              0.5555555555555556,
              "#d8576b"
             ],
             [
              0.6666666666666666,
              "#ed7953"
             ],
             [
              0.7777777777777778,
              "#fb9f3a"
             ],
             [
              0.8888888888888888,
              "#fdca26"
             ],
             [
              1,
              "#f0f921"
             ]
            ],
            "type": "contour"
           }
          ],
          "contourcarpet": [
           {
            "colorbar": {
             "outlinewidth": 0,
             "ticks": ""
            },
            "type": "contourcarpet"
           }
          ],
          "heatmap": [
           {
            "colorbar": {
             "outlinewidth": 0,
             "ticks": ""
            },
            "colorscale": [
             [
              0,
              "#0d0887"
             ],
             [
              0.1111111111111111,
              "#46039f"
             ],
             [
              0.2222222222222222,
              "#7201a8"
             ],
             [
              0.3333333333333333,
              "#9c179e"
             ],
             [
              0.4444444444444444,
              "#bd3786"
             ],
             [
              0.5555555555555556,
              "#d8576b"
             ],
             [
              0.6666666666666666,
              "#ed7953"
             ],
             [
              0.7777777777777778,
              "#fb9f3a"
             ],
             [
              0.8888888888888888,
              "#fdca26"
             ],
             [
              1,
              "#f0f921"
             ]
            ],
            "type": "heatmap"
           }
          ],
          "heatmapgl": [
           {
            "colorbar": {
             "outlinewidth": 0,
             "ticks": ""
            },
            "colorscale": [
             [
              0,
              "#0d0887"
             ],
             [
              0.1111111111111111,
              "#46039f"
             ],
             [
              0.2222222222222222,
              "#7201a8"
             ],
             [
              0.3333333333333333,
              "#9c179e"
             ],
             [
              0.4444444444444444,
              "#bd3786"
             ],
             [
              0.5555555555555556,
              "#d8576b"
             ],
             [
              0.6666666666666666,
              "#ed7953"
             ],
             [
              0.7777777777777778,
              "#fb9f3a"
             ],
             [
              0.8888888888888888,
              "#fdca26"
             ],
             [
              1,
              "#f0f921"
             ]
            ],
            "type": "heatmapgl"
           }
          ],
          "histogram": [
           {
            "marker": {
             "colorbar": {
              "outlinewidth": 0,
              "ticks": ""
             }
            },
            "type": "histogram"
           }
          ],
          "histogram2d": [
           {
            "colorbar": {
             "outlinewidth": 0,
             "ticks": ""
            },
            "colorscale": [
             [
              0,
              "#0d0887"
             ],
             [
              0.1111111111111111,
              "#46039f"
             ],
             [
              0.2222222222222222,
              "#7201a8"
             ],
             [
              0.3333333333333333,
              "#9c179e"
             ],
             [
              0.4444444444444444,
              "#bd3786"
             ],
             [
              0.5555555555555556,
              "#d8576b"
             ],
             [
              0.6666666666666666,
              "#ed7953"
             ],
             [
              0.7777777777777778,
              "#fb9f3a"
             ],
             [
              0.8888888888888888,
              "#fdca26"
             ],
             [
              1,
              "#f0f921"
             ]
            ],
            "type": "histogram2d"
           }
          ],
          "histogram2dcontour": [
           {
            "colorbar": {
             "outlinewidth": 0,
             "ticks": ""
            },
            "colorscale": [
             [
              0,
              "#0d0887"
             ],
             [
              0.1111111111111111,
              "#46039f"
             ],
             [
              0.2222222222222222,
              "#7201a8"
             ],
             [
              0.3333333333333333,
              "#9c179e"
             ],
             [
              0.4444444444444444,
              "#bd3786"
             ],
             [
              0.5555555555555556,
              "#d8576b"
             ],
             [
              0.6666666666666666,
              "#ed7953"
             ],
             [
              0.7777777777777778,
              "#fb9f3a"
             ],
             [
              0.8888888888888888,
              "#fdca26"
             ],
             [
              1,
              "#f0f921"
             ]
            ],
            "type": "histogram2dcontour"
           }
          ],
          "mesh3d": [
           {
            "colorbar": {
             "outlinewidth": 0,
             "ticks": ""
            },
            "type": "mesh3d"
           }
          ],
          "parcoords": [
           {
            "line": {
             "colorbar": {
              "outlinewidth": 0,
              "ticks": ""
             }
            },
            "type": "parcoords"
           }
          ],
          "pie": [
           {
            "automargin": true,
            "type": "pie"
           }
          ],
          "scatter": [
           {
            "marker": {
             "colorbar": {
              "outlinewidth": 0,
              "ticks": ""
             }
            },
            "type": "scatter"
           }
          ],
          "scatter3d": [
           {
            "line": {
             "colorbar": {
              "outlinewidth": 0,
              "ticks": ""
             }
            },
            "marker": {
             "colorbar": {
              "outlinewidth": 0,
              "ticks": ""
             }
            },
            "type": "scatter3d"
           }
          ],
          "scattercarpet": [
           {
            "marker": {
             "colorbar": {
              "outlinewidth": 0,
              "ticks": ""
             }
            },
            "type": "scattercarpet"
           }
          ],
          "scattergeo": [
           {
            "marker": {
             "colorbar": {
              "outlinewidth": 0,
              "ticks": ""
             }
            },
            "type": "scattergeo"
           }
          ],
          "scattergl": [
           {
            "marker": {
             "colorbar": {
              "outlinewidth": 0,
              "ticks": ""
             }
            },
            "type": "scattergl"
           }
          ],
          "scattermapbox": [
           {
            "marker": {
             "colorbar": {
              "outlinewidth": 0,
              "ticks": ""
             }
            },
            "type": "scattermapbox"
           }
          ],
          "scatterpolar": [
           {
            "marker": {
             "colorbar": {
              "outlinewidth": 0,
              "ticks": ""
             }
            },
            "type": "scatterpolar"
           }
          ],
          "scatterpolargl": [
           {
            "marker": {
             "colorbar": {
              "outlinewidth": 0,
              "ticks": ""
             }
            },
            "type": "scatterpolargl"
           }
          ],
          "scatterternary": [
           {
            "marker": {
             "colorbar": {
              "outlinewidth": 0,
              "ticks": ""
             }
            },
            "type": "scatterternary"
           }
          ],
          "surface": [
           {
            "colorbar": {
             "outlinewidth": 0,
             "ticks": ""
            },
            "colorscale": [
             [
              0,
              "#0d0887"
             ],
             [
              0.1111111111111111,
              "#46039f"
             ],
             [
              0.2222222222222222,
              "#7201a8"
             ],
             [
              0.3333333333333333,
              "#9c179e"
             ],
             [
              0.4444444444444444,
              "#bd3786"
             ],
             [
              0.5555555555555556,
              "#d8576b"
             ],
             [
              0.6666666666666666,
              "#ed7953"
             ],
             [
              0.7777777777777778,
              "#fb9f3a"
             ],
             [
              0.8888888888888888,
              "#fdca26"
             ],
             [
              1,
              "#f0f921"
             ]
            ],
            "type": "surface"
           }
          ],
          "table": [
           {
            "cells": {
             "fill": {
              "color": "#EBF0F8"
             },
             "line": {
              "color": "white"
             }
            },
            "header": {
             "fill": {
              "color": "#C8D4E3"
             },
             "line": {
              "color": "white"
             }
            },
            "type": "table"
           }
          ]
         },
         "layout": {
          "annotationdefaults": {
           "arrowcolor": "#2a3f5f",
           "arrowhead": 0,
           "arrowwidth": 1
          },
          "coloraxis": {
           "colorbar": {
            "outlinewidth": 0,
            "ticks": ""
           }
          },
          "colorscale": {
           "diverging": [
            [
             0,
             "#8e0152"
            ],
            [
             0.1,
             "#c51b7d"
            ],
            [
             0.2,
             "#de77ae"
            ],
            [
             0.3,
             "#f1b6da"
            ],
            [
             0.4,
             "#fde0ef"
            ],
            [
             0.5,
             "#f7f7f7"
            ],
            [
             0.6,
             "#e6f5d0"
            ],
            [
             0.7,
             "#b8e186"
            ],
            [
             0.8,
             "#7fbc41"
            ],
            [
             0.9,
             "#4d9221"
            ],
            [
             1,
             "#276419"
            ]
           ],
           "sequential": [
            [
             0,
             "#0d0887"
            ],
            [
             0.1111111111111111,
             "#46039f"
            ],
            [
             0.2222222222222222,
             "#7201a8"
            ],
            [
             0.3333333333333333,
             "#9c179e"
            ],
            [
             0.4444444444444444,
             "#bd3786"
            ],
            [
             0.5555555555555556,
             "#d8576b"
            ],
            [
             0.6666666666666666,
             "#ed7953"
            ],
            [
             0.7777777777777778,
             "#fb9f3a"
            ],
            [
             0.8888888888888888,
             "#fdca26"
            ],
            [
             1,
             "#f0f921"
            ]
           ],
           "sequentialminus": [
            [
             0,
             "#0d0887"
            ],
            [
             0.1111111111111111,
             "#46039f"
            ],
            [
             0.2222222222222222,
             "#7201a8"
            ],
            [
             0.3333333333333333,
             "#9c179e"
            ],
            [
             0.4444444444444444,
             "#bd3786"
            ],
            [
             0.5555555555555556,
             "#d8576b"
            ],
            [
             0.6666666666666666,
             "#ed7953"
            ],
            [
             0.7777777777777778,
             "#fb9f3a"
            ],
            [
             0.8888888888888888,
             "#fdca26"
            ],
            [
             1,
             "#f0f921"
            ]
           ]
          },
          "colorway": [
           "#636efa",
           "#EF553B",
           "#00cc96",
           "#ab63fa",
           "#FFA15A",
           "#19d3f3",
           "#FF6692",
           "#B6E880",
           "#FF97FF",
           "#FECB52"
          ],
          "font": {
           "color": "#2a3f5f"
          },
          "geo": {
           "bgcolor": "white",
           "lakecolor": "white",
           "landcolor": "#E5ECF6",
           "showlakes": true,
           "showland": true,
           "subunitcolor": "white"
          },
          "hoverlabel": {
           "align": "left"
          },
          "hovermode": "closest",
          "mapbox": {
           "style": "light"
          },
          "paper_bgcolor": "white",
          "plot_bgcolor": "#E5ECF6",
          "polar": {
           "angularaxis": {
            "gridcolor": "white",
            "linecolor": "white",
            "ticks": ""
           },
           "bgcolor": "#E5ECF6",
           "radialaxis": {
            "gridcolor": "white",
            "linecolor": "white",
            "ticks": ""
           }
          },
          "scene": {
           "xaxis": {
            "backgroundcolor": "#E5ECF6",
            "gridcolor": "white",
            "gridwidth": 2,
            "linecolor": "white",
            "showbackground": true,
            "ticks": "",
            "zerolinecolor": "white"
           },
           "yaxis": {
            "backgroundcolor": "#E5ECF6",
            "gridcolor": "white",
            "gridwidth": 2,
            "linecolor": "white",
            "showbackground": true,
            "ticks": "",
            "zerolinecolor": "white"
           },
           "zaxis": {
            "backgroundcolor": "#E5ECF6",
            "gridcolor": "white",
            "gridwidth": 2,
            "linecolor": "white",
            "showbackground": true,
            "ticks": "",
            "zerolinecolor": "white"
           }
          },
          "shapedefaults": {
           "line": {
            "color": "#2a3f5f"
           }
          },
          "ternary": {
           "aaxis": {
            "gridcolor": "white",
            "linecolor": "white",
            "ticks": ""
           },
           "baxis": {
            "gridcolor": "white",
            "linecolor": "white",
            "ticks": ""
           },
           "bgcolor": "#E5ECF6",
           "caxis": {
            "gridcolor": "white",
            "linecolor": "white",
            "ticks": ""
           }
          },
          "title": {
           "x": 0.05
          },
          "xaxis": {
           "automargin": true,
           "gridcolor": "white",
           "linecolor": "white",
           "ticks": "",
           "title": {
            "standoff": 15
           },
           "zerolinecolor": "white",
           "zerolinewidth": 2
          },
          "yaxis": {
           "automargin": true,
           "gridcolor": "white",
           "linecolor": "white",
           "ticks": "",
           "title": {
            "standoff": 15
           },
           "zerolinecolor": "white",
           "zerolinewidth": 2
          }
         }
        },
        "width": 1000
       }
      },
      "image/png": "[encoded data removed]",
      "text/html": [
       "<div>\n",
       "        \n",
       "        \n",
       "            <div id=\"40991947-a8ee-443e-a58e-fc9758c16238\" class=\"plotly-graph-div\" style=\"height:500px; width:1000px;\"></div>\n",
       "            <script type=\"text/javascript\">\n",
       "                require([\"plotly\"], function(Plotly) {\n",
       "                    window.PLOTLYENV=window.PLOTLYENV || {};\n",
       "                    \n",
       "                if (document.getElementById(\"40991947-a8ee-443e-a58e-fc9758c16238\")) {\n",
       "                    Plotly.newPlot(\n",
       "                        '40991947-a8ee-443e-a58e-fc9758c16238',\n",
       "                        [{\"coloraxis\": \"coloraxis\", \"customdata\": [[281, 6], [304, 17], [1171, 105], [439, 16], [8, 2], [15, 0], [1265, 39], [736, 7], [2389, 12], [11524, 168], [443, 5], [24, 1], [672, 4], [61, 6], [51, 0], [351, 4], [16770, 1143], [4, 0], [16, 0], [5, 0], [132, 9], [579, 17], [4, 1], [9056, 359], [134, 1], [485, 14], [302, 16], [20, 1], [3, 0], [6, 1], [114, 0], [509, 8], [6101, 67], [8, 0], [8, 0], [3737, 22], [67802, 3203], [1267, 25], [22, 2], [134, 13], [416, 2], [218, 1], [1079, 8], [269, 6], [396, 11], [4091, 53], [3757, 139], [712, 11], [49, 0], [12, 0], [1488, 68], [3368, 145], [985, 66], [46, 2], [16, 0], [22, 0], [961, 12], [9, 0], [35, 0], [7, 0], [1615, 20], [64338, 6507], [21, 1], [4, 1], [155, 0], [91159, 1275], [205, 5], [1613, 63], [12, 0], [50, 1], [73, 0], [15, 0], [23, 4], [18, 0], [7, 0], [222, 15], [623, 26], [1364, 5], [2567, 72], [1986, 181], [53183, 3294], [820, 54], [4273, 120], [7428, 40], [119827, 14681], [47, 3], [2617, 63], [310, 5], [464, 6], [122, 4], [10062, 174], [126, 1], [417, 0], [130, 1], [10, 0], [493, 1], [508, 17], [7, 0], [11, 1], [75, 0], [696, 9], [2612, 31], [9, 2], [70, 0], [3, 0], [3333, 53], [19, 0], [39, 3], [202, 0], [6, 1], [186, 7], [1510, 50], [591, 8], [64, 1], [14, 0], [174, 2], [791, 48], [10, 0], [14, 0], [6, 0], [15723, 1487], [868, 1], [5, 1], [120, 5], [210, 4], [430, 12], [5370, 59], [252, 1], [2686, 40], [1475, 37], [1, 0], [92, 3], [1595, 61], [3018, 136], [3383, 71], [9886, 246], [1075, 3], [3183, 133], [4149, 34], [89, 0], [9, 0], [13, 0], [3, 0], [245, 30], [2039, 25], [207, 1], [1476, 39], [10, 0], [2, 0], [1114, 5], [450, 1], [934, 20], [7, 0], [1505, 9], [119199, 11198], [159, 4], [10, 2], [10, 1], [6131, 358], [19606, 591], [16, 2], [348, 5], [20, 1], [1978, 19], [1, 0], [40, 3], [98, 6], [495, 18], [20921, 425], [275586, 7087], [48, 0], [1072, 27], [1264, 9], [38168, 3605], [369, 4], [227, 2], [153, 7], [237, 0], [194, 1], [39, 1], [9, 1]], \"featureidkey\": \"grouped_countries.CumDeaths\", \"geo\": \"geo\", \"hoverlabel\": {\"namelength\": 0}, \"hovertemplate\": \"Confirmed Cases (x10)=%{z}<br>Deaths=%{customdata[1]}<br>code=%{location}\", \"locations\": [\"AFG\", \"ALB\", \"DZA\", \"AND\", \"AGO\", \"ATG\", \"ARG\", \"ARM\", \"AUS\", \"AUT\", \"AZE\", \"BHS\", \"BHR\", \"BGD\", \"BRB\", \"BLR\", \"BEL\", \"BLZ\", \"BEN\", \"BTN\", \"BOL\", \"BIH\", \"BWA\", \"BRA\", \"BWN\", \"BGR\", \"BFA\", \"MMR\", \"BDI\", \"CPV\", \"KHM\", \"CMR\", \"CAN\", \"CAF\", \"TCD\", \"CHL\", \"CHN\", \"COL\", \"COG\", \"COD\", \"CRI\", \"CIV\", \"HRV\", \"CUB\", \"CYP\", \"CZE\", \"DNK\", \"Unknown code\", \"DJI\", \"DMA\", \"DOM\", \"ECU\", \"EGY\", \"SLV\", \"GNQ\", \"ERI\", \"EST\", \"SWZ\", \"ETH\", \"FJI\", \"FIN\", \"FRA\", \"GAB\", \"GMB\", \"GEO\", \"DEU\", \"GHA\", \"GRC\", \"GRD\", \"GTM\", \"GIN\", \"GNB\", \"GUY\", \"HTI\", \"VAT\", \"HND\", \"HUN\", \"ISL\", \"IND\", \"IDN\", \"IRN\", \"IRQ\", \"IRL\", \"ISR\", \"ITA\", \"JAM\", \"JPN\", \"JOR\", \"KAZ\", \"KEN\", \"KOR\", \"RKS\", \"KWT\", \"KGZ\", \"LAO\", \"LVA\", \"LBN\", \"LBR\", \"LBY\", \"LIE\", \"LTU\", \"LUX\", \"Unknown code\", \"MDG\", \"MWI\", \"MYS\", \"MDV\", \"MLI\", \"MLT\", \"MRT\", \"MUS\", \"MEX\", \"MDA\", \"MCO\", \"MNG\", \"MNE\", \"MAR\", \"MOZ\", \"NAM\", \"NPL\", \"NLD\", \"NZL\", \"NIC\", \"NER\", \"NGA\", \"MKD\", \"NOR\", \"OMN\", \"PAK\", \"PAN\", \"PNG\", \"PRY\", \"PER\", \"PHL\", \"POL\", \"PRT\", \"QAT\", \"ROU\", \"RUS\", \"RWA\", \"KNA\", \"LCA\", \"VCT\", \"SMR\", \"SAU\", \"SEN\", \"SRB\", \"SYC\", \"SLE\", \"SGP\", \"SVK\", \"SVN\", \"SOM\", \"ZAF\", \"ESP\", \"LKA\", \"SDN\", \"SUR\", \"SWE\", \"CHE\", \"SYR\", \"TWN\", \"TZA\", \"THA\", \"TLS\", \"TGO\", \"TTO\", \"TUN\", \"TUR\", \"USA\", \"UGA\", \"UKR\", \"ARE\", \"GBR\", \"URY\", \"UZB\", \"VEN\", \"VNM\", \"PSE\", \"ZMB\", \"ZWE\"], \"name\": \"\", \"type\": \"choropleth\", \"z\": [281, 304, 1171, 439, 8, 15, 1265, 736, 2389, 11524, 443, 24, 672, 61, 51, 351, 16770, 4, 16, 5, 132, 579, 4, 9056, 134, 485, 302, 20, 3, 6, 114, 509, 6101, 8, 8, 3737, 67802, 1267, 22, 134, 416, 218, 1079, 269, 396, 4091, 3757, 712, 49, 12, 1488, 3368, 985, 46, 16, 22, 961, 9, 35, 7, 1615, 64338, 21, 4, 155, 91159, 205, 1613, 12, 50, 73, 15, 23, 18, 7, 222, 623, 1364, 2567, 1986, 53183, 820, 4273, 7428, 119827, 47, 2617, 310, 464, 122, 10062, 126, 417, 130, 10, 493, 508, 7, 11, 75, 696, 2612, 9, 70, 3, 3333, 19, 39, 202, 6, 186, 1510, 591, 64, 14, 174, 791, 10, 14, 6, 15723, 868, 5, 120, 210, 430, 5370, 252, 2686, 1475, 1, 92, 1595, 3018, 3383, 9886, 1075, 3183, 4149, 89, 9, 13, 3, 245, 2039, 207, 1476, 10, 2, 1114, 450, 934, 7, 1505, 119199, 159, 10, 10, 6131, 19606, 16, 348, 20, 1978, 1, 40, 98, 495, 20921, 275586, 48, 1072, 1264, 38168, 369, 227, 153, 237, 194, 39, 9]}],\n",
       "                        {\"coloraxis\": {\"cmax\": 25000, \"cmin\": 0, \"colorbar\": {\"title\": {\"text\": \"Confirmed Cases (x10)\"}}, \"colorscale\": [[0.0, \"rgb(255,247,236)\"], [0.125, \"rgb(254,232,200)\"], [0.25, \"rgb(253,212,158)\"], [0.375, \"rgb(253,187,132)\"], [0.5, \"rgb(252,141,89)\"], [0.625, \"rgb(239,101,72)\"], [0.75, \"rgb(215,48,31)\"], [0.875, \"rgb(179,0,0)\"], [1.0, \"rgb(127,0,0)\"]]}, \"geo\": {\"center\": {}, \"domain\": {\"x\": [0.0, 1.0], \"y\": [0.0, 1.0]}, \"projection\": {\"type\": \"equirectangular\"}, \"scope\": \"world\", \"showcoastlines\": false, \"showframe\": false}, \"height\": 500, \"legend\": {\"tracegroupgap\": 0}, \"margin\": {\"t\": 60}, \"template\": {\"data\": {\"bar\": [{\"error_x\": {\"color\": \"#2a3f5f\"}, \"error_y\": {\"color\": \"#2a3f5f\"}, \"marker\": {\"line\": {\"color\": \"#E5ECF6\", \"width\": 0.5}}, \"type\": \"bar\"}], \"barpolar\": [{\"marker\": {\"line\": {\"color\": \"#E5ECF6\", \"width\": 0.5}}, \"type\": \"barpolar\"}], \"carpet\": [{\"aaxis\": {\"endlinecolor\": \"#2a3f5f\", \"gridcolor\": \"white\", \"linecolor\": \"white\", \"minorgridcolor\": \"white\", \"startlinecolor\": \"#2a3f5f\"}, \"baxis\": {\"endlinecolor\": \"#2a3f5f\", \"gridcolor\": \"white\", \"linecolor\": \"white\", \"minorgridcolor\": \"white\", \"startlinecolor\": \"#2a3f5f\"}, \"type\": \"carpet\"}], \"choropleth\": [{\"colorbar\": {\"outlinewidth\": 0, \"ticks\": \"\"}, \"type\": \"choropleth\"}], \"contour\": [{\"colorbar\": {\"outlinewidth\": 0, \"ticks\": \"\"}, \"colorscale\": [[0.0, \"#0d0887\"], [0.1111111111111111, \"#46039f\"], [0.2222222222222222, \"#7201a8\"], [0.3333333333333333, \"#9c179e\"], [0.4444444444444444, \"#bd3786\"], [0.5555555555555556, \"#d8576b\"], [0.6666666666666666, \"#ed7953\"], [0.7777777777777778, \"#fb9f3a\"], [0.8888888888888888, \"#fdca26\"], [1.0, \"#f0f921\"]], \"type\": \"contour\"}], \"contourcarpet\": [{\"colorbar\": {\"outlinewidth\": 0, \"ticks\": \"\"}, \"type\": \"contourcarpet\"}], \"heatmap\": [{\"colorbar\": {\"outlinewidth\": 0, \"ticks\": \"\"}, \"colorscale\": [[0.0, \"#0d0887\"], [0.1111111111111111, \"#46039f\"], [0.2222222222222222, \"#7201a8\"], [0.3333333333333333, \"#9c179e\"], [0.4444444444444444, \"#bd3786\"], [0.5555555555555556, \"#d8576b\"], [0.6666666666666666, \"#ed7953\"], [0.7777777777777778, \"#fb9f3a\"], [0.8888888888888888, \"#fdca26\"], [1.0, \"#f0f921\"]], \"type\": \"heatmap\"}], \"heatmapgl\": [{\"colorbar\": {\"outlinewidth\": 0, \"ticks\": \"\"}, \"colorscale\": [[0.0, \"#0d0887\"], [0.1111111111111111, \"#46039f\"], [0.2222222222222222, \"#7201a8\"], [0.3333333333333333, \"#9c179e\"], [0.4444444444444444, \"#bd3786\"], [0.5555555555555556, \"#d8576b\"], [0.6666666666666666, \"#ed7953\"], [0.7777777777777778, \"#fb9f3a\"], [0.8888888888888888, \"#fdca26\"], [1.0, \"#f0f921\"]], \"type\": \"heatmapgl\"}], \"histogram\": [{\"marker\": {\"colorbar\": {\"outlinewidth\": 0, \"ticks\": \"\"}}, \"type\": \"histogram\"}], \"histogram2d\": [{\"colorbar\": {\"outlinewidth\": 0, \"ticks\": \"\"}, \"colorscale\": [[0.0, \"#0d0887\"], [0.1111111111111111, \"#46039f\"], [0.2222222222222222, \"#7201a8\"], [0.3333333333333333, \"#9c179e\"], [0.4444444444444444, \"#bd3786\"], [0.5555555555555556, \"#d8576b\"], [0.6666666666666666, \"#ed7953\"], [0.7777777777777778, \"#fb9f3a\"], [0.8888888888888888, \"#fdca26\"], [1.0, \"#f0f921\"]], \"type\": \"histogram2d\"}], \"histogram2dcontour\": [{\"colorbar\": {\"outlinewidth\": 0, \"ticks\": \"\"}, \"colorscale\": [[0.0, \"#0d0887\"], [0.1111111111111111, \"#46039f\"], [0.2222222222222222, \"#7201a8\"], [0.3333333333333333, \"#9c179e\"], [0.4444444444444444, \"#bd3786\"], [0.5555555555555556, \"#d8576b\"], [0.6666666666666666, \"#ed7953\"], [0.7777777777777778, \"#fb9f3a\"], [0.8888888888888888, \"#fdca26\"], [1.0, \"#f0f921\"]], \"type\": \"histogram2dcontour\"}], \"mesh3d\": [{\"colorbar\": {\"outlinewidth\": 0, \"ticks\": \"\"}, \"type\": \"mesh3d\"}], \"parcoords\": [{\"line\": {\"colorbar\": {\"outlinewidth\": 0, \"ticks\": \"\"}}, \"type\": \"parcoords\"}], \"pie\": [{\"automargin\": true, \"type\": \"pie\"}], \"scatter\": [{\"marker\": {\"colorbar\": {\"outlinewidth\": 0, \"ticks\": \"\"}}, \"type\": \"scatter\"}], \"scatter3d\": [{\"line\": {\"colorbar\": {\"outlinewidth\": 0, \"ticks\": \"\"}}, \"marker\": {\"colorbar\": {\"outlinewidth\": 0, \"ticks\": \"\"}}, \"type\": \"scatter3d\"}], \"scattercarpet\": [{\"marker\": {\"colorbar\": {\"outlinewidth\": 0, \"ticks\": \"\"}}, \"type\": \"scattercarpet\"}], \"scattergeo\": [{\"marker\": {\"colorbar\": {\"outlinewidth\": 0, \"ticks\": \"\"}}, \"type\": \"scattergeo\"}], \"scattergl\": [{\"marker\": {\"colorbar\": {\"outlinewidth\": 0, \"ticks\": \"\"}}, \"type\": \"scattergl\"}], \"scattermapbox\": [{\"marker\": {\"colorbar\": {\"outlinewidth\": 0, \"ticks\": \"\"}}, \"type\": \"scattermapbox\"}], \"scatterpolar\": [{\"marker\": {\"colorbar\": {\"outlinewidth\": 0, \"ticks\": \"\"}}, \"type\": \"scatterpolar\"}], \"scatterpolargl\": [{\"marker\": {\"colorbar\": {\"outlinewidth\": 0, \"ticks\": \"\"}}, \"type\": \"scatterpolargl\"}], \"scatterternary\": [{\"marker\": {\"colorbar\": {\"outlinewidth\": 0, \"ticks\": \"\"}}, \"type\": \"scatterternary\"}], \"surface\": [{\"colorbar\": {\"outlinewidth\": 0, \"ticks\": \"\"}, \"colorscale\": [[0.0, \"#0d0887\"], [0.1111111111111111, \"#46039f\"], [0.2222222222222222, \"#7201a8\"], [0.3333333333333333, \"#9c179e\"], [0.4444444444444444, \"#bd3786\"], [0.5555555555555556, \"#d8576b\"], [0.6666666666666666, \"#ed7953\"], [0.7777777777777778, \"#fb9f3a\"], [0.8888888888888888, \"#fdca26\"], [1.0, \"#f0f921\"]], \"type\": \"surface\"}], \"table\": [{\"cells\": {\"fill\": {\"color\": \"#EBF0F8\"}, \"line\": {\"color\": \"white\"}}, \"header\": {\"fill\": {\"color\": \"#C8D4E3\"}, \"line\": {\"color\": \"white\"}}, \"type\": \"table\"}]}, \"layout\": {\"annotationdefaults\": {\"arrowcolor\": \"#2a3f5f\", \"arrowhead\": 0, \"arrowwidth\": 1}, \"coloraxis\": {\"colorbar\": {\"outlinewidth\": 0, \"ticks\": \"\"}}, \"colorscale\": {\"diverging\": [[0, \"#8e0152\"], [0.1, \"#c51b7d\"], [0.2, \"#de77ae\"], [0.3, \"#f1b6da\"], [0.4, \"#fde0ef\"], [0.5, \"#f7f7f7\"], [0.6, \"#e6f5d0\"], [0.7, \"#b8e186\"], [0.8, \"#7fbc41\"], [0.9, \"#4d9221\"], [1, \"#276419\"]], \"sequential\": [[0.0, \"#0d0887\"], [0.1111111111111111, \"#46039f\"], [0.2222222222222222, \"#7201a8\"], [0.3333333333333333, \"#9c179e\"], [0.4444444444444444, \"#bd3786\"], [0.5555555555555556, \"#d8576b\"], [0.6666666666666666, \"#ed7953\"], [0.7777777777777778, \"#fb9f3a\"], [0.8888888888888888, \"#fdca26\"], [1.0, \"#f0f921\"]], \"sequentialminus\": [[0.0, \"#0d0887\"], [0.1111111111111111, \"#46039f\"], [0.2222222222222222, \"#7201a8\"], [0.3333333333333333, \"#9c179e\"], [0.4444444444444444, \"#bd3786\"], [0.5555555555555556, \"#d8576b\"], [0.6666666666666666, \"#ed7953\"], [0.7777777777777778, \"#fb9f3a\"], [0.8888888888888888, \"#fdca26\"], [1.0, \"#f0f921\"]]}, \"colorway\": [\"#636efa\", \"#EF553B\", \"#00cc96\", \"#ab63fa\", \"#FFA15A\", \"#19d3f3\", \"#FF6692\", \"#B6E880\", \"#FF97FF\", \"#FECB52\"], \"font\": {\"color\": \"#2a3f5f\"}, \"geo\": {\"bgcolor\": \"white\", \"lakecolor\": \"white\", \"landcolor\": \"#E5ECF6\", \"showlakes\": true, \"showland\": true, \"subunitcolor\": \"white\"}, \"hoverlabel\": {\"align\": \"left\"}, \"hovermode\": \"closest\", \"mapbox\": {\"style\": \"light\"}, \"paper_bgcolor\": \"white\", \"plot_bgcolor\": \"#E5ECF6\", \"polar\": {\"angularaxis\": {\"gridcolor\": \"white\", \"linecolor\": \"white\", \"ticks\": \"\"}, \"bgcolor\": \"#E5ECF6\", \"radialaxis\": {\"gridcolor\": \"white\", \"linecolor\": \"white\", \"ticks\": \"\"}}, \"scene\": {\"xaxis\": {\"backgroundcolor\": \"#E5ECF6\", \"gridcolor\": \"white\", \"gridwidth\": 2, \"linecolor\": \"white\", \"showbackground\": true, \"ticks\": \"\", \"zerolinecolor\": \"white\"}, \"yaxis\": {\"backgroundcolor\": \"#E5ECF6\", \"gridcolor\": \"white\", \"gridwidth\": 2, \"linecolor\": \"white\", \"showbackground\": true, \"ticks\": \"\", \"zerolinecolor\": \"white\"}, \"zaxis\": {\"backgroundcolor\": \"#E5ECF6\", \"gridcolor\": \"white\", \"gridwidth\": 2, \"linecolor\": \"white\", \"showbackground\": true, \"ticks\": \"\", \"zerolinecolor\": \"white\"}}, \"shapedefaults\": {\"line\": {\"color\": \"#2a3f5f\"}}, \"ternary\": {\"aaxis\": {\"gridcolor\": \"white\", \"linecolor\": \"white\", \"ticks\": \"\"}, \"baxis\": {\"gridcolor\": \"white\", \"linecolor\": \"white\", \"ticks\": \"\"}, \"bgcolor\": \"#E5ECF6\", \"caxis\": {\"gridcolor\": \"white\", \"linecolor\": \"white\", \"ticks\": \"\"}}, \"title\": {\"x\": 0.05}, \"xaxis\": {\"automargin\": true, \"gridcolor\": \"white\", \"linecolor\": \"white\", \"ticks\": \"\", \"title\": {\"standoff\": 15}, \"zerolinecolor\": \"white\", \"zerolinewidth\": 2}, \"yaxis\": {\"automargin\": true, \"gridcolor\": \"white\", \"linecolor\": \"white\", \"ticks\": \"\", \"title\": {\"standoff\": 15}, \"zerolinecolor\": \"white\", \"zerolinewidth\": 2}}}, \"width\": 1000},\n",
       "                        {\"responsive\": true}\n",
       "                    ).then(function(){\n",
       "                            \n",
       "var gd = document.getElementById('40991947-a8ee-443e-a58e-fc9758c16238');\n",
       "var x = new MutationObserver(function (mutations, observer) {{\n",
       "        var display = window.getComputedStyle(gd).display;\n",
       "        if (!display || display === 'none') {{\n",
       "            console.log([gd, 'removed!']);\n",
       "            Plotly.purge(gd);\n",
       "            observer.disconnect();\n",
       "        }}\n",
       "}});\n",
       "\n",
       "// Listen for the removal of the full notebook cells\n",
       "var notebookContainer = gd.closest('#notebook-container');\n",
       "if (notebookContainer) {{\n",
       "    x.observe(notebookContainer, {childList: true});\n",
       "}}\n",
       "\n",
       "// Listen for the clearing of the current output cell\n",
       "var outputEl = gd.closest('.output');\n",
       "if (outputEl) {{\n",
       "    x.observe(outputEl, {childList: true});\n",
       "}}\n",
       "\n",
       "                        })\n",
       "                };\n",
       "                });\n",
       "            </script>\n",
       "        </div>"
      ]
     },
     "metadata": {},
     "output_type": "display_data"
    }
   ],
   "source": [
    "import plotly.express as px\n",
    "import numpy as np\n",
    "\n",
    "colorscale = [\"#f7fbff\", \"#ebf3fb\", \"#deebf7\", \"#d2e3f3\", \"#c6dbef\", \"#b3d2e9\", \"#9ecae1\",\n",
    "    \"#85bcdb\", \"#6baed6\", \"#57a0ce\", \"#4292c6\", \"#3082be\", \"#2171b5\", \"#1361a9\",\n",
    "    \"#08519c\", \"#0b4083\", \"#08306b\"]\n",
    "\n",
    "endpts = list(np.linspace(1, 12, len(colorscale) - 1))\n",
    "\n",
    "fig = px.choropleth(grouped_countries, locations='code',\n",
    "                    hover_data=[\"CumConfirmed\", \"CumDeaths\"],\n",
    "                    color='CumConfirmed',\n",
    "                    range_color=(0, 25000),\n",
    "                    color_continuous_scale='orrd', \n",
    "                    labels={'CumConfirmed': 'Confirmed Cases (x10)', 'CumDeaths': 'Deaths'}, \n",
    "                    featureidkey=\"grouped_countries.CumDeaths\",\n",
    "\n",
    "                    scope='world', height=500, width=1000)\n",
    "fig.update_layout(\n",
    "        geo=dict(\n",
    "            showframe=False,\n",
    "            showcoastlines=False,\n",
    "            projection_type='equirectangular'\n",
    "        )\n",
    "    )\n",
    "\n",
    "fig.show()"
   ]
  },
  {
   "cell_type": "code",
   "execution_count": 36,
   "metadata": {},
   "outputs": [
    {
     "data": {
      "text/plain": [
       "0      2.436163\n",
       "1      2.442480\n",
       "2      2.993877\n",
       "3      2.631444\n",
       "4      0.903090\n",
       "         ...   \n",
       "172    2.164353\n",
       "173    2.367356\n",
       "174    2.206826\n",
       "175    1.591065\n",
       "176    0.954243\n",
       "Name: CumConfirmed, Length: 177, dtype: float64"
      ]
     },
     "execution_count": 36,
     "metadata": {},
     "output_type": "execute_result"
    }
   ],
   "source": [
    "np.log10(grouped_countries['CumConfirmed'])"
   ]
  },
  {
   "cell_type": "code",
   "execution_count": 37,
   "metadata": {},
   "outputs": [],
   "source": [
    "def world_map():\n",
    "    fig = px.choropleth(grouped_countries, locations='code',\n",
    "                    color='CumConfirmed',\n",
    "                    color_continuous_scale='Reds', \n",
    "                    labels={'Confirmed Cases': 'CumConfirmed', 'Deaths': 'CumDeaths'}, \n",
    "                    featureidkey=\"grouped_countries.CumDeaths\",\n",
    "                    scope='world')\n",
    "    fig.update_layout(\n",
    "            title_text='Global Cases',\n",
    "            geo=dict(\n",
    "                showframe=False,\n",
    "                showcoastlines=False,\n",
    "                projection_type='equirectangular'\n",
    "            )\n",
    "        )\n",
    "\n",
    "    return fig"
   ]
  },
  {
   "cell_type": "code",
   "execution_count": 38,
   "metadata": {
    "scrolled": true
   },
   "outputs": [
    {
     "data": {
      "text/html": [
       "<div>\n",
       "<style scoped>\n",
       "    .dataframe tbody tr th:only-of-type {\n",
       "        vertical-align: middle;\n",
       "    }\n",
       "\n",
       "    .dataframe tbody tr th {\n",
       "        vertical-align: top;\n",
       "    }\n",
       "\n",
       "    .dataframe thead th {\n",
       "        text-align: right;\n",
       "    }\n",
       "</style>\n",
       "<table border=\"1\" class=\"dataframe\">\n",
       "  <thead>\n",
       "    <tr style=\"text-align: right;\">\n",
       "      <th></th>\n",
       "      <th>Country/Region</th>\n",
       "      <th>Lat</th>\n",
       "      <th>Long</th>\n",
       "      <th>date</th>\n",
       "      <th>CumConfirmed</th>\n",
       "      <th>CumDeaths</th>\n",
       "      <th>CumRecovered</th>\n",
       "      <th>location</th>\n",
       "      <th>code</th>\n",
       "    </tr>\n",
       "  </thead>\n",
       "  <tbody>\n",
       "    <tr>\n",
       "      <th>0</th>\n",
       "      <td>Afghanistan</td>\n",
       "      <td>33.0000</td>\n",
       "      <td>65.0000</td>\n",
       "      <td>2020-04-02</td>\n",
       "      <td>273</td>\n",
       "      <td>6</td>\n",
       "      <td>10</td>\n",
       "      <td>(33.0, 65.0)</td>\n",
       "      <td>AFG</td>\n",
       "    </tr>\n",
       "    <tr>\n",
       "      <th>1</th>\n",
       "      <td>Albania</td>\n",
       "      <td>41.1533</td>\n",
       "      <td>20.1683</td>\n",
       "      <td>2020-04-02</td>\n",
       "      <td>277</td>\n",
       "      <td>16</td>\n",
       "      <td>76</td>\n",
       "      <td>(41.1533, 20.1683)</td>\n",
       "      <td>ALB</td>\n",
       "    </tr>\n",
       "    <tr>\n",
       "      <th>2</th>\n",
       "      <td>Algeria</td>\n",
       "      <td>28.0339</td>\n",
       "      <td>1.6596</td>\n",
       "      <td>2020-04-02</td>\n",
       "      <td>986</td>\n",
       "      <td>86</td>\n",
       "      <td>65</td>\n",
       "      <td>(28.0339, 1.6596)</td>\n",
       "      <td>DZA</td>\n",
       "    </tr>\n",
       "    <tr>\n",
       "      <th>3</th>\n",
       "      <td>Andorra</td>\n",
       "      <td>42.5063</td>\n",
       "      <td>1.5218</td>\n",
       "      <td>2020-04-02</td>\n",
       "      <td>428</td>\n",
       "      <td>15</td>\n",
       "      <td>10</td>\n",
       "      <td>(42.5063, 1.5218)</td>\n",
       "      <td>AND</td>\n",
       "    </tr>\n",
       "    <tr>\n",
       "      <th>4</th>\n",
       "      <td>Angola</td>\n",
       "      <td>-11.2027</td>\n",
       "      <td>17.8739</td>\n",
       "      <td>2020-04-02</td>\n",
       "      <td>8</td>\n",
       "      <td>2</td>\n",
       "      <td>1</td>\n",
       "      <td>(-11.2027, 17.8739)</td>\n",
       "      <td>AGO</td>\n",
       "    </tr>\n",
       "  </tbody>\n",
       "</table>\n",
       "</div>"
      ],
      "text/plain": [
       "  Country/Region      Lat     Long       date  CumConfirmed  CumDeaths  \\\n",
       "0    Afghanistan  33.0000  65.0000 2020-04-02           273          6   \n",
       "1        Albania  41.1533  20.1683 2020-04-02           277         16   \n",
       "2        Algeria  28.0339   1.6596 2020-04-02           986         86   \n",
       "3        Andorra  42.5063   1.5218 2020-04-02           428         15   \n",
       "4         Angola -11.2027  17.8739 2020-04-02             8          2   \n",
       "\n",
       "   CumRecovered             location code  \n",
       "0            10         (33.0, 65.0)  AFG  \n",
       "1            76   (41.1533, 20.1683)  ALB  \n",
       "2            65    (28.0339, 1.6596)  DZA  \n",
       "3            10    (42.5063, 1.5218)  AND  \n",
       "4             1  (-11.2027, 17.8739)  AGO  "
      ]
     },
     "execution_count": 38,
     "metadata": {},
     "output_type": "execute_result"
    }
   ],
   "source": [
    "base_url = \"https://raw.githubusercontent.com/CSSEGISandData/COVID-19/master/csse_covid_19_data/csse_covid_19_time_series/\"\n",
    "\n",
    "tick_font = {\n",
    "    'size': 12,\n",
    "    'color': \"rgb(30,30,30)\",\n",
    "    'family': \"Helvetica, sans-serif\"\n",
    "}\n",
    "\n",
    "colors = {'background': '#111111', 'text': '#7FDBFF'}\n",
    "\n",
    "\n",
    "def loadData(fileName, columnName):\n",
    "    data = pd.read_csv(base_url + fileName) \\\n",
    "             .melt(id_vars=['Province/State', 'Country/Region', 'Lat', 'Long'], var_name='date', value_name=columnName) \\\n",
    "             .fillna('<all>')\n",
    "    data['date'] = data['date'].astype('datetime64[ns]')\n",
    "    return data\n",
    "\n",
    "\n",
    "all_data = loadData(\"time_series_covid19_confirmed_global.csv\", \"CumConfirmed\") \\\n",
    "    .merge(loadData(\"time_series_covid19_deaths_global.csv\", \"CumDeaths\")) \\\n",
    "    .merge(loadData(\"time_series_covid19_recovered_global.csv\", \"CumRecovered\"))\n",
    "\n",
    "all_data['location'] = list(zip(all_data['Lat'], all_data['Long']))\n",
    "\n",
    "countries = sorted(all_data['Country/Region'].unique())\n",
    "\n",
    "# Grouping data by country\n",
    "grouped_country = all_data.groupby('Country/Region').max().reset_index()\n",
    "grouped_country.drop('Province/State', axis=1, inplace=True)\n",
    "total_confirmed = grouped_country['CumConfirmed'].sum().astype(str)\n",
    "total_deaths = grouped_country['CumDeaths'].sum().astype(str)\n",
    "#print(total_confirmed)\n",
    "#print(total_deaths)\n",
    "\n",
    "# Adding 3-letter country codes\n",
    "input_countries = grouped_country['Country/Region']\n",
    "\n",
    "countries = {}\n",
    "for country in pycountry.countries:\n",
    "    countries[country.name] = country.alpha_3\n",
    "\n",
    "codes = [countries.get(country, 'Unknown code') for country in input_countries]\n",
    "\n",
    "#print(codes)\n",
    "grouped_country['code'] = codes\n",
    "\n",
    "# Manually updating some 3-letter codes\n",
    "grouped_country.loc[20, 'code'] = 'BOL'\n",
    "grouped_country.loc[24, 'code'] = 'BWN'\n",
    "grouped_country.loc[27, 'code'] = 'MMR'\n",
    "grouped_country.loc[37, 'code'] = 'COG'\n",
    "grouped_country.loc[38, 'code'] = 'COD'\n",
    "grouped_country.loc[40, 'code'] = 'CIV'\n",
    "grouped_country.loc[73, 'code'] = 'VAT'\n",
    "grouped_country.loc[79, 'code'] = 'IRN'\n",
    "grouped_country.loc[89, 'code'] = 'KOR'\n",
    "grouped_country.loc[90, 'code'] = 'RKS'\n",
    "grouped_country.loc[93, 'code'] = 'LAO'\n",
    "grouped_country.loc[110, 'code'] = 'MDA'\n",
    "grouped_country.loc[135, 'code'] = 'RUS'\n",
    "grouped_country.loc[157, 'code'] = 'TWN'\n",
    "grouped_country.loc[158, 'code'] = 'TZA'\n",
    "grouped_country.loc[164, 'code'] = 'USA'\n",
    "grouped_country.loc[171, 'code'] = 'VEN'\n",
    "grouped_country.loc[172, 'code'] = 'VNM'\n",
    "grouped_country.loc[173, 'code'] = 'PSE'\n",
    "\n",
    "grouped_country.head()"
   ]
  },
  {
   "cell_type": "code",
   "execution_count": 45,
   "metadata": {},
   "outputs": [
    {
     "data": {
      "text/html": [
       "<div>\n",
       "<style scoped>\n",
       "    .dataframe tbody tr th:only-of-type {\n",
       "        vertical-align: middle;\n",
       "    }\n",
       "\n",
       "    .dataframe tbody tr th {\n",
       "        vertical-align: top;\n",
       "    }\n",
       "\n",
       "    .dataframe thead th {\n",
       "        text-align: right;\n",
       "    }\n",
       "</style>\n",
       "<table border=\"1\" class=\"dataframe\">\n",
       "  <thead>\n",
       "    <tr style=\"text-align: right;\">\n",
       "      <th></th>\n",
       "      <th>Province/State</th>\n",
       "      <th>Country/Region</th>\n",
       "      <th>Lat</th>\n",
       "      <th>Long</th>\n",
       "      <th>date</th>\n",
       "      <th>CumConfirmed</th>\n",
       "      <th>CumDeaths</th>\n",
       "      <th>CumRecovered</th>\n",
       "      <th>location</th>\n",
       "    </tr>\n",
       "  </thead>\n",
       "  <tbody>\n",
       "    <tr>\n",
       "      <th>0</th>\n",
       "      <td>&lt;all&gt;</td>\n",
       "      <td>Afghanistan</td>\n",
       "      <td>33.000000</td>\n",
       "      <td>65.000000</td>\n",
       "      <td>2020-01-22</td>\n",
       "      <td>0</td>\n",
       "      <td>0</td>\n",
       "      <td>0</td>\n",
       "      <td>(33.0, 65.0)</td>\n",
       "    </tr>\n",
       "    <tr>\n",
       "      <th>1</th>\n",
       "      <td>&lt;all&gt;</td>\n",
       "      <td>Albania</td>\n",
       "      <td>41.153300</td>\n",
       "      <td>20.168300</td>\n",
       "      <td>2020-01-22</td>\n",
       "      <td>0</td>\n",
       "      <td>0</td>\n",
       "      <td>0</td>\n",
       "      <td>(41.1533, 20.1683)</td>\n",
       "    </tr>\n",
       "    <tr>\n",
       "      <th>2</th>\n",
       "      <td>&lt;all&gt;</td>\n",
       "      <td>Algeria</td>\n",
       "      <td>28.033900</td>\n",
       "      <td>1.659600</td>\n",
       "      <td>2020-01-22</td>\n",
       "      <td>0</td>\n",
       "      <td>0</td>\n",
       "      <td>0</td>\n",
       "      <td>(28.0339, 1.6596)</td>\n",
       "    </tr>\n",
       "    <tr>\n",
       "      <th>3</th>\n",
       "      <td>&lt;all&gt;</td>\n",
       "      <td>Andorra</td>\n",
       "      <td>42.506300</td>\n",
       "      <td>1.521800</td>\n",
       "      <td>2020-01-22</td>\n",
       "      <td>0</td>\n",
       "      <td>0</td>\n",
       "      <td>0</td>\n",
       "      <td>(42.5063, 1.5218)</td>\n",
       "    </tr>\n",
       "    <tr>\n",
       "      <th>4</th>\n",
       "      <td>&lt;all&gt;</td>\n",
       "      <td>Angola</td>\n",
       "      <td>-11.202700</td>\n",
       "      <td>17.873900</td>\n",
       "      <td>2020-01-22</td>\n",
       "      <td>0</td>\n",
       "      <td>0</td>\n",
       "      <td>0</td>\n",
       "      <td>(-11.2027, 17.8739)</td>\n",
       "    </tr>\n",
       "    <tr>\n",
       "      <th>...</th>\n",
       "      <td>...</td>\n",
       "      <td>...</td>\n",
       "      <td>...</td>\n",
       "      <td>...</td>\n",
       "      <td>...</td>\n",
       "      <td>...</td>\n",
       "      <td>...</td>\n",
       "      <td>...</td>\n",
       "      <td>...</td>\n",
       "    </tr>\n",
       "    <tr>\n",
       "      <th>17275</th>\n",
       "      <td>&lt;all&gt;</td>\n",
       "      <td>Botswana</td>\n",
       "      <td>-22.328500</td>\n",
       "      <td>24.684900</td>\n",
       "      <td>2020-04-02</td>\n",
       "      <td>4</td>\n",
       "      <td>1</td>\n",
       "      <td>0</td>\n",
       "      <td>(-22.3285, 24.6849)</td>\n",
       "    </tr>\n",
       "    <tr>\n",
       "      <th>17276</th>\n",
       "      <td>&lt;all&gt;</td>\n",
       "      <td>Burundi</td>\n",
       "      <td>-3.373100</td>\n",
       "      <td>29.918900</td>\n",
       "      <td>2020-04-02</td>\n",
       "      <td>3</td>\n",
       "      <td>0</td>\n",
       "      <td>0</td>\n",
       "      <td>(-3.3731, 29.9189)</td>\n",
       "    </tr>\n",
       "    <tr>\n",
       "      <th>17277</th>\n",
       "      <td>&lt;all&gt;</td>\n",
       "      <td>Sierra Leone</td>\n",
       "      <td>8.460555</td>\n",
       "      <td>-11.779889</td>\n",
       "      <td>2020-04-02</td>\n",
       "      <td>2</td>\n",
       "      <td>0</td>\n",
       "      <td>0</td>\n",
       "      <td>(8.460555000000001, -11.779889)</td>\n",
       "    </tr>\n",
       "    <tr>\n",
       "      <th>17278</th>\n",
       "      <td>Bonaire, Sint Eustatius and Saba</td>\n",
       "      <td>Netherlands</td>\n",
       "      <td>12.178400</td>\n",
       "      <td>-68.238500</td>\n",
       "      <td>2020-04-02</td>\n",
       "      <td>2</td>\n",
       "      <td>0</td>\n",
       "      <td>0</td>\n",
       "      <td>(12.1784, -68.2385)</td>\n",
       "    </tr>\n",
       "    <tr>\n",
       "      <th>17279</th>\n",
       "      <td>&lt;all&gt;</td>\n",
       "      <td>Malawi</td>\n",
       "      <td>-13.254308</td>\n",
       "      <td>34.301525</td>\n",
       "      <td>2020-04-02</td>\n",
       "      <td>3</td>\n",
       "      <td>0</td>\n",
       "      <td>0</td>\n",
       "      <td>(-13.254307999999998, 34.301525)</td>\n",
       "    </tr>\n",
       "  </tbody>\n",
       "</table>\n",
       "<p>17280 rows × 9 columns</p>\n",
       "</div>"
      ],
      "text/plain": [
       "                         Province/State Country/Region        Lat       Long  \\\n",
       "0                                 <all>    Afghanistan  33.000000  65.000000   \n",
       "1                                 <all>        Albania  41.153300  20.168300   \n",
       "2                                 <all>        Algeria  28.033900   1.659600   \n",
       "3                                 <all>        Andorra  42.506300   1.521800   \n",
       "4                                 <all>         Angola -11.202700  17.873900   \n",
       "...                                 ...            ...        ...        ...   \n",
       "17275                             <all>       Botswana -22.328500  24.684900   \n",
       "17276                             <all>        Burundi  -3.373100  29.918900   \n",
       "17277                             <all>   Sierra Leone   8.460555 -11.779889   \n",
       "17278  Bonaire, Sint Eustatius and Saba    Netherlands  12.178400 -68.238500   \n",
       "17279                             <all>         Malawi -13.254308  34.301525   \n",
       "\n",
       "            date  CumConfirmed  CumDeaths  CumRecovered  \\\n",
       "0     2020-01-22             0          0             0   \n",
       "1     2020-01-22             0          0             0   \n",
       "2     2020-01-22             0          0             0   \n",
       "3     2020-01-22             0          0             0   \n",
       "4     2020-01-22             0          0             0   \n",
       "...          ...           ...        ...           ...   \n",
       "17275 2020-04-02             4          1             0   \n",
       "17276 2020-04-02             3          0             0   \n",
       "17277 2020-04-02             2          0             0   \n",
       "17278 2020-04-02             2          0             0   \n",
       "17279 2020-04-02             3          0             0   \n",
       "\n",
       "                               location  \n",
       "0                          (33.0, 65.0)  \n",
       "1                    (41.1533, 20.1683)  \n",
       "2                     (28.0339, 1.6596)  \n",
       "3                     (42.5063, 1.5218)  \n",
       "4                   (-11.2027, 17.8739)  \n",
       "...                                 ...  \n",
       "17275               (-22.3285, 24.6849)  \n",
       "17276                (-3.3731, 29.9189)  \n",
       "17277   (8.460555000000001, -11.779889)  \n",
       "17278               (12.1784, -68.2385)  \n",
       "17279  (-13.254307999999998, 34.301525)  \n",
       "\n",
       "[17280 rows x 9 columns]"
      ]
     },
     "execution_count": 45,
     "metadata": {},
     "output_type": "execute_result"
    }
   ],
   "source": [
    "all_data"
   ]
  },
  {
   "cell_type": "code",
   "execution_count": 48,
   "metadata": {},
   "outputs": [],
   "source": [
    "# import plotly.express as px\n",
    "# #df = px.data.gapminder()\n",
    "# fig = px.scatter_geo(all_data, lat='Lat', lon='Long', color=\"CumConfirmed\", size=\"CumConfirmed\",\n",
    "#                      animation_frame=\"date\",\n",
    "#                      projection=\"natural earth\")\n",
    "# fig.show()"
   ]
  },
  {
   "cell_type": "code",
   "execution_count": null,
   "metadata": {},
   "outputs": [],
   "source": [
    "# Grouping by location\n"
   ]
  }
 ],
 "metadata": {
  "kernelspec": {
   "display_name": "corona",
   "language": "python",
   "name": "corona"
  },
  "language_info": {
   "codemirror_mode": {
    "name": "ipython",
    "version": 3
   },
   "file_extension": ".py",
   "mimetype": "text/x-python",
   "name": "python",
   "nbconvert_exporter": "python",
   "pygments_lexer": "ipython3",
   "version": "3.8.1"
  }
 },
 "nbformat": 4,
 "nbformat_minor": 4
}
