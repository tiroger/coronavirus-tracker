{
 "cells": [
  {
   "cell_type": "code",
   "execution_count": 18,
   "metadata": {},
   "outputs": [],
   "source": [
    "import pandas as pd\n",
    "import matplotlib.pyplot as plt\n",
    "import seaborn as sns\n",
    "import plotly.graph_objects as go\n",
    "\n",
    "import pickle"
   ]
  },
  {
   "cell_type": "code",
   "execution_count": 19,
   "metadata": {},
   "outputs": [],
   "source": [
    "base_url = \"https://raw.githubusercontent.com/CSSEGISandData/COVID-19/master/csse_covid_19_data/csse_covid_19_time_series/\"\n",
    "new_base_url = 'https://raw.githubusercontent.com/CSSEGISandData/COVID-19/master/csse_covid_19_data/csse_covid_19_time_series/'\n",
    "#'https://github.com/CSSEGISandData/COVID-19/blob/master/csse_covid_19_data/csse_covid_19_time_series/'\n",
    "\n",
    "def loadData(fileName, columnName):\n",
    "    data = pd.read_csv(base_url + fileName) \\\n",
    "             .melt(id_vars=['Province/State', 'Country/Region', 'Lat', 'Long'], var_name='date', value_name=columnName) \\\n",
    "             .fillna('<all>')\n",
    "    data['date'] = data['date'].astype('datetime64[ns]')\n",
    "    return data"
   ]
  },
  {
   "cell_type": "code",
   "execution_count": 20,
   "metadata": {},
   "outputs": [],
   "source": [
    "# Getting data\n",
    "all_data = loadData(\"time_series_covid19_confirmed_global.csv\", \"CumConfirmed\") \\\n",
    "    .merge(loadData(\"time_series_covid19_deaths_global.csv\", \"CumDeaths\"))"
   ]
  },
  {
   "cell_type": "code",
   "execution_count": 21,
   "metadata": {},
   "outputs": [
    {
     "data": {
      "text/html": [
       "<div>\n",
       "<style scoped>\n",
       "    .dataframe tbody tr th:only-of-type {\n",
       "        vertical-align: middle;\n",
       "    }\n",
       "\n",
       "    .dataframe tbody tr th {\n",
       "        vertical-align: top;\n",
       "    }\n",
       "\n",
       "    .dataframe thead th {\n",
       "        text-align: right;\n",
       "    }\n",
       "</style>\n",
       "<table border=\"1\" class=\"dataframe\">\n",
       "  <thead>\n",
       "    <tr style=\"text-align: right;\">\n",
       "      <th></th>\n",
       "      <th>Province/State</th>\n",
       "      <th>Country/Region</th>\n",
       "      <th>Lat</th>\n",
       "      <th>Long</th>\n",
       "      <th>date</th>\n",
       "      <th>CumConfirmed</th>\n",
       "      <th>CumDeaths</th>\n",
       "    </tr>\n",
       "  </thead>\n",
       "  <tbody>\n",
       "    <tr>\n",
       "      <th>0</th>\n",
       "      <td>&lt;all&gt;</td>\n",
       "      <td>Afghanistan</td>\n",
       "      <td>33.0000</td>\n",
       "      <td>65.0000</td>\n",
       "      <td>2020-01-22</td>\n",
       "      <td>0</td>\n",
       "      <td>0</td>\n",
       "    </tr>\n",
       "    <tr>\n",
       "      <th>1</th>\n",
       "      <td>&lt;all&gt;</td>\n",
       "      <td>Albania</td>\n",
       "      <td>41.1533</td>\n",
       "      <td>20.1683</td>\n",
       "      <td>2020-01-22</td>\n",
       "      <td>0</td>\n",
       "      <td>0</td>\n",
       "    </tr>\n",
       "    <tr>\n",
       "      <th>2</th>\n",
       "      <td>&lt;all&gt;</td>\n",
       "      <td>Algeria</td>\n",
       "      <td>28.0339</td>\n",
       "      <td>1.6596</td>\n",
       "      <td>2020-01-22</td>\n",
       "      <td>0</td>\n",
       "      <td>0</td>\n",
       "    </tr>\n",
       "    <tr>\n",
       "      <th>3</th>\n",
       "      <td>&lt;all&gt;</td>\n",
       "      <td>Andorra</td>\n",
       "      <td>42.5063</td>\n",
       "      <td>1.5218</td>\n",
       "      <td>2020-01-22</td>\n",
       "      <td>0</td>\n",
       "      <td>0</td>\n",
       "    </tr>\n",
       "    <tr>\n",
       "      <th>4</th>\n",
       "      <td>&lt;all&gt;</td>\n",
       "      <td>Angola</td>\n",
       "      <td>-11.2027</td>\n",
       "      <td>17.8739</td>\n",
       "      <td>2020-01-22</td>\n",
       "      <td>0</td>\n",
       "      <td>0</td>\n",
       "    </tr>\n",
       "  </tbody>\n",
       "</table>\n",
       "</div>"
      ],
      "text/plain": [
       "  Province/State Country/Region      Lat     Long       date  CumConfirmed  \\\n",
       "0          <all>    Afghanistan  33.0000  65.0000 2020-01-22             0   \n",
       "1          <all>        Albania  41.1533  20.1683 2020-01-22             0   \n",
       "2          <all>        Algeria  28.0339   1.6596 2020-01-22             0   \n",
       "3          <all>        Andorra  42.5063   1.5218 2020-01-22             0   \n",
       "4          <all>         Angola -11.2027  17.8739 2020-01-22             0   \n",
       "\n",
       "   CumDeaths  \n",
       "0          0  \n",
       "1          0  \n",
       "2          0  \n",
       "3          0  \n",
       "4          0  "
      ]
     },
     "execution_count": 21,
     "metadata": {},
     "output_type": "execute_result"
    }
   ],
   "source": [
    "all_data.head()"
   ]
  },
  {
   "cell_type": "code",
   "execution_count": 22,
   "metadata": {},
   "outputs": [
    {
     "data": {
      "text/plain": [
       "20251"
      ]
     },
     "execution_count": 22,
     "metadata": {},
     "output_type": "execute_result"
    }
   ],
   "source": [
    "len(all_data)"
   ]
  },
  {
   "cell_type": "code",
   "execution_count": 23,
   "metadata": {},
   "outputs": [
    {
     "data": {
      "text/plain": [
       "array(['Afghanistan', 'Albania', 'Algeria', 'Andorra', 'Angola',\n",
       "       'Antigua and Barbuda', 'Argentina', 'Armenia', 'Australia',\n",
       "       'Austria', 'Azerbaijan', 'Bahamas', 'Bahrain', 'Bangladesh',\n",
       "       'Barbados', 'Belarus', 'Belgium', 'Benin', 'Bhutan', 'Bolivia',\n",
       "       'Bosnia and Herzegovina', 'Brazil', 'Brunei', 'Bulgaria',\n",
       "       'Burkina Faso', 'Cabo Verde', 'Cambodia', 'Cameroon', 'Canada',\n",
       "       'Central African Republic', 'Chad', 'Chile', 'China', 'Colombia',\n",
       "       'Congo (Brazzaville)', 'Congo (Kinshasa)', 'Costa Rica',\n",
       "       \"Cote d'Ivoire\", 'Croatia', 'Diamond Princess', 'Cuba', 'Cyprus',\n",
       "       'Czechia', 'Denmark', 'Djibouti', 'Dominican Republic', 'Ecuador',\n",
       "       'Egypt', 'El Salvador', 'Equatorial Guinea', 'Eritrea', 'Estonia',\n",
       "       'Eswatini', 'Ethiopia', 'Fiji', 'Finland', 'France', 'Gabon',\n",
       "       'Gambia', 'Georgia', 'Germany', 'Ghana', 'Greece', 'Guatemala',\n",
       "       'Guinea', 'Guyana', 'Haiti', 'Holy See', 'Honduras', 'Hungary',\n",
       "       'Iceland', 'India', 'Indonesia', 'Iran', 'Iraq', 'Ireland',\n",
       "       'Israel', 'Italy', 'Jamaica', 'Japan', 'Jordan', 'Kazakhstan',\n",
       "       'Kenya', 'Korea, South', 'Kuwait', 'Kyrgyzstan', 'Latvia',\n",
       "       'Lebanon', 'Liberia', 'Liechtenstein', 'Lithuania', 'Luxembourg',\n",
       "       'Madagascar', 'Malaysia', 'Maldives', 'Malta', 'Mauritania',\n",
       "       'Mauritius', 'Mexico', 'Moldova', 'Monaco', 'Mongolia',\n",
       "       'Montenegro', 'Morocco', 'Namibia', 'Nepal', 'Netherlands',\n",
       "       'New Zealand', 'Nicaragua', 'Niger', 'Nigeria', 'North Macedonia',\n",
       "       'Norway', 'Oman', 'Pakistan', 'Panama', 'Papua New Guinea',\n",
       "       'Paraguay', 'Peru', 'Philippines', 'Poland', 'Portugal', 'Qatar',\n",
       "       'Romania', 'Russia', 'Rwanda', 'Saint Lucia',\n",
       "       'Saint Vincent and the Grenadines', 'San Marino', 'Saudi Arabia',\n",
       "       'Senegal', 'Serbia', 'Seychelles', 'Singapore', 'Slovakia',\n",
       "       'Slovenia', 'Somalia', 'South Africa', 'Spain', 'Sri Lanka',\n",
       "       'Sudan', 'Suriname', 'Sweden', 'Switzerland', 'Taiwan*',\n",
       "       'Tanzania', 'Thailand', 'Togo', 'Trinidad and Tobago', 'Tunisia',\n",
       "       'Turkey', 'Uganda', 'Ukraine', 'United Arab Emirates',\n",
       "       'United Kingdom', 'Uruguay', 'US', 'Uzbekistan', 'Venezuela',\n",
       "       'Vietnam', 'Zambia', 'Zimbabwe', 'Dominica', 'Grenada',\n",
       "       'Mozambique', 'Syria', 'Timor-Leste', 'Belize', 'Laos', 'Libya',\n",
       "       'West Bank and Gaza', 'Guinea-Bissau', 'Mali',\n",
       "       'Saint Kitts and Nevis', 'Kosovo', 'Burma', 'MS Zaandam',\n",
       "       'Botswana', 'Burundi', 'Sierra Leone', 'Malawi', 'South Sudan',\n",
       "       'Western Sahara', 'Sao Tome and Principe'], dtype=object)"
      ]
     },
     "execution_count": 23,
     "metadata": {},
     "output_type": "execute_result"
    }
   ],
   "source": [
    "all_data['Country/Region'].unique()"
   ]
  },
  {
   "cell_type": "code",
   "execution_count": 24,
   "metadata": {},
   "outputs": [
    {
     "data": {
      "text/html": [
       "<div>\n",
       "<style scoped>\n",
       "    .dataframe tbody tr th:only-of-type {\n",
       "        vertical-align: middle;\n",
       "    }\n",
       "\n",
       "    .dataframe tbody tr th {\n",
       "        vertical-align: top;\n",
       "    }\n",
       "\n",
       "    .dataframe thead th {\n",
       "        text-align: right;\n",
       "    }\n",
       "</style>\n",
       "<table border=\"1\" class=\"dataframe\">\n",
       "  <thead>\n",
       "    <tr style=\"text-align: right;\">\n",
       "      <th></th>\n",
       "      <th>name</th>\n",
       "      <th>humanDevelopmentIndex</th>\n",
       "      <th>pop2020</th>\n",
       "    </tr>\n",
       "  </thead>\n",
       "  <tbody>\n",
       "    <tr>\n",
       "      <th>0</th>\n",
       "      <td>Norway</td>\n",
       "      <td>0.953</td>\n",
       "      <td>5421.241</td>\n",
       "    </tr>\n",
       "    <tr>\n",
       "      <th>1</th>\n",
       "      <td>Switzerland</td>\n",
       "      <td>0.944</td>\n",
       "      <td>8654.622</td>\n",
       "    </tr>\n",
       "    <tr>\n",
       "      <th>2</th>\n",
       "      <td>Australia</td>\n",
       "      <td>0.939</td>\n",
       "      <td>25499.884</td>\n",
       "    </tr>\n",
       "    <tr>\n",
       "      <th>3</th>\n",
       "      <td>Ireland</td>\n",
       "      <td>0.938</td>\n",
       "      <td>4937.786</td>\n",
       "    </tr>\n",
       "    <tr>\n",
       "      <th>4</th>\n",
       "      <td>Germany</td>\n",
       "      <td>0.936</td>\n",
       "      <td>83783.942</td>\n",
       "    </tr>\n",
       "  </tbody>\n",
       "</table>\n",
       "</div>"
      ],
      "text/plain": [
       "          name  humanDevelopmentIndex    pop2020\n",
       "0       Norway                  0.953   5421.241\n",
       "1  Switzerland                  0.944   8654.622\n",
       "2    Australia                  0.939  25499.884\n",
       "3      Ireland                  0.938   4937.786\n",
       "4      Germany                  0.936  83783.942"
      ]
     },
     "execution_count": 24,
     "metadata": {},
     "output_type": "execute_result"
    }
   ],
   "source": [
    "# Opening csv with human development index\n",
    "dev_index = pd.read_csv('developed_countries.csv')\n",
    "dev_index.head()"
   ]
  },
  {
   "cell_type": "code",
   "execution_count": 25,
   "metadata": {},
   "outputs": [
    {
     "data": {
      "text/html": [
       "<div>\n",
       "<style scoped>\n",
       "    .dataframe tbody tr th:only-of-type {\n",
       "        vertical-align: middle;\n",
       "    }\n",
       "\n",
       "    .dataframe tbody tr th {\n",
       "        vertical-align: top;\n",
       "    }\n",
       "\n",
       "    .dataframe thead th {\n",
       "        text-align: right;\n",
       "    }\n",
       "</style>\n",
       "<table border=\"1\" class=\"dataframe\">\n",
       "  <thead>\n",
       "    <tr style=\"text-align: right;\">\n",
       "      <th></th>\n",
       "      <th>Country Name</th>\n",
       "      <th>2018</th>\n",
       "    </tr>\n",
       "  </thead>\n",
       "  <tbody>\n",
       "    <tr>\n",
       "      <th>0</th>\n",
       "      <td>Aruba</td>\n",
       "      <td>13.550947</td>\n",
       "    </tr>\n",
       "    <tr>\n",
       "      <th>1</th>\n",
       "      <td>Afghanistan</td>\n",
       "      <td>2.584927</td>\n",
       "    </tr>\n",
       "    <tr>\n",
       "      <th>2</th>\n",
       "      <td>Angola</td>\n",
       "      <td>2.216374</td>\n",
       "    </tr>\n",
       "    <tr>\n",
       "      <th>3</th>\n",
       "      <td>Albania</td>\n",
       "      <td>13.744736</td>\n",
       "    </tr>\n",
       "    <tr>\n",
       "      <th>4</th>\n",
       "      <td>Andorra</td>\n",
       "      <td>NaN</td>\n",
       "    </tr>\n",
       "  </tbody>\n",
       "</table>\n",
       "</div>"
      ],
      "text/plain": [
       "  Country Name       2018\n",
       "0        Aruba  13.550947\n",
       "1  Afghanistan   2.584927\n",
       "2       Angola   2.216374\n",
       "3      Albania  13.744736\n",
       "4      Andorra        NaN"
      ]
     },
     "execution_count": 25,
     "metadata": {},
     "output_type": "execute_result"
    }
   ],
   "source": [
    "# Opening csv with country data\n",
    "over_65 = pd.read_csv('country_data.csv', usecols=[0,62])\n",
    "over_65.head()"
   ]
  },
  {
   "cell_type": "code",
   "execution_count": 26,
   "metadata": {},
   "outputs": [
    {
     "data": {
      "text/html": [
       "<div>\n",
       "<style scoped>\n",
       "    .dataframe tbody tr th:only-of-type {\n",
       "        vertical-align: middle;\n",
       "    }\n",
       "\n",
       "    .dataframe tbody tr th {\n",
       "        vertical-align: top;\n",
       "    }\n",
       "\n",
       "    .dataframe thead th {\n",
       "        text-align: right;\n",
       "    }\n",
       "</style>\n",
       "<table border=\"1\" class=\"dataframe\">\n",
       "  <thead>\n",
       "    <tr style=\"text-align: right;\">\n",
       "      <th></th>\n",
       "      <th>Country Name</th>\n",
       "      <th>2018</th>\n",
       "    </tr>\n",
       "  </thead>\n",
       "  <tbody>\n",
       "    <tr>\n",
       "      <th>4</th>\n",
       "      <td>Andorra</td>\n",
       "      <td>NaN</td>\n",
       "    </tr>\n",
       "    <tr>\n",
       "      <th>9</th>\n",
       "      <td>American Samoa</td>\n",
       "      <td>NaN</td>\n",
       "    </tr>\n",
       "    <tr>\n",
       "      <th>25</th>\n",
       "      <td>Bermuda</td>\n",
       "      <td>NaN</td>\n",
       "    </tr>\n",
       "    <tr>\n",
       "      <th>50</th>\n",
       "      <td>Cayman Islands</td>\n",
       "      <td>NaN</td>\n",
       "    </tr>\n",
       "    <tr>\n",
       "      <th>55</th>\n",
       "      <td>Dominica</td>\n",
       "      <td>NaN</td>\n",
       "    </tr>\n",
       "    <tr>\n",
       "      <th>67</th>\n",
       "      <td>Eritrea</td>\n",
       "      <td>NaN</td>\n",
       "    </tr>\n",
       "    <tr>\n",
       "      <th>76</th>\n",
       "      <td>Faroe Islands</td>\n",
       "      <td>NaN</td>\n",
       "    </tr>\n",
       "    <tr>\n",
       "      <th>82</th>\n",
       "      <td>Gibraltar</td>\n",
       "      <td>NaN</td>\n",
       "    </tr>\n",
       "    <tr>\n",
       "      <th>89</th>\n",
       "      <td>Greenland</td>\n",
       "      <td>NaN</td>\n",
       "    </tr>\n",
       "    <tr>\n",
       "      <th>106</th>\n",
       "      <td>Isle of Man</td>\n",
       "      <td>NaN</td>\n",
       "    </tr>\n",
       "    <tr>\n",
       "      <th>108</th>\n",
       "      <td>Not classified</td>\n",
       "      <td>NaN</td>\n",
       "    </tr>\n",
       "    <tr>\n",
       "      <th>123</th>\n",
       "      <td>St. Kitts and Nevis</td>\n",
       "      <td>NaN</td>\n",
       "    </tr>\n",
       "    <tr>\n",
       "      <th>135</th>\n",
       "      <td>Liechtenstein</td>\n",
       "      <td>NaN</td>\n",
       "    </tr>\n",
       "    <tr>\n",
       "      <th>145</th>\n",
       "      <td>St. Martin (French part)</td>\n",
       "      <td>NaN</td>\n",
       "    </tr>\n",
       "    <tr>\n",
       "      <th>147</th>\n",
       "      <td>Monaco</td>\n",
       "      <td>NaN</td>\n",
       "    </tr>\n",
       "    <tr>\n",
       "      <th>153</th>\n",
       "      <td>Marshall Islands</td>\n",
       "      <td>NaN</td>\n",
       "    </tr>\n",
       "    <tr>\n",
       "      <th>162</th>\n",
       "      <td>Northern Mariana Islands</td>\n",
       "      <td>NaN</td>\n",
       "    </tr>\n",
       "    <tr>\n",
       "      <th>177</th>\n",
       "      <td>Nauru</td>\n",
       "      <td>NaN</td>\n",
       "    </tr>\n",
       "    <tr>\n",
       "      <th>186</th>\n",
       "      <td>Palau</td>\n",
       "      <td>NaN</td>\n",
       "    </tr>\n",
       "    <tr>\n",
       "      <th>210</th>\n",
       "      <td>San Marino</td>\n",
       "      <td>NaN</td>\n",
       "    </tr>\n",
       "    <tr>\n",
       "      <th>223</th>\n",
       "      <td>Sint Maarten (Dutch part)</td>\n",
       "      <td>NaN</td>\n",
       "    </tr>\n",
       "    <tr>\n",
       "      <th>226</th>\n",
       "      <td>Turks and Caicos Islands</td>\n",
       "      <td>NaN</td>\n",
       "    </tr>\n",
       "    <tr>\n",
       "      <th>243</th>\n",
       "      <td>Tuvalu</td>\n",
       "      <td>NaN</td>\n",
       "    </tr>\n",
       "    <tr>\n",
       "      <th>253</th>\n",
       "      <td>British Virgin Islands</td>\n",
       "      <td>NaN</td>\n",
       "    </tr>\n",
       "    <tr>\n",
       "      <th>259</th>\n",
       "      <td>Kosovo</td>\n",
       "      <td>NaN</td>\n",
       "    </tr>\n",
       "  </tbody>\n",
       "</table>\n",
       "</div>"
      ],
      "text/plain": [
       "                  Country Name  2018\n",
       "4                      Andorra   NaN\n",
       "9               American Samoa   NaN\n",
       "25                     Bermuda   NaN\n",
       "50              Cayman Islands   NaN\n",
       "55                    Dominica   NaN\n",
       "67                     Eritrea   NaN\n",
       "76               Faroe Islands   NaN\n",
       "82                   Gibraltar   NaN\n",
       "89                   Greenland   NaN\n",
       "106                Isle of Man   NaN\n",
       "108             Not classified   NaN\n",
       "123        St. Kitts and Nevis   NaN\n",
       "135              Liechtenstein   NaN\n",
       "145   St. Martin (French part)   NaN\n",
       "147                     Monaco   NaN\n",
       "153           Marshall Islands   NaN\n",
       "162   Northern Mariana Islands   NaN\n",
       "177                      Nauru   NaN\n",
       "186                      Palau   NaN\n",
       "210                 San Marino   NaN\n",
       "223  Sint Maarten (Dutch part)   NaN\n",
       "226   Turks and Caicos Islands   NaN\n",
       "243                     Tuvalu   NaN\n",
       "253     British Virgin Islands   NaN\n",
       "259                     Kosovo   NaN"
      ]
     },
     "execution_count": 26,
     "metadata": {},
     "output_type": "execute_result"
    }
   ],
   "source": [
    "over_65[over_65['2018'].isna()]"
   ]
  },
  {
   "cell_type": "code",
   "execution_count": 27,
   "metadata": {},
   "outputs": [],
   "source": [
    "# Manually adding missing values\n",
    "over_65.loc[over_65['Country Name'] == 'Andorra', '2018'] = 16.18\n",
    "over_65.loc[over_65['Country Name'] == 'American Samoa', '2018'] = 6.24\n",
    "over_65.loc[over_65['Country Name'] == 'Bermuda', '2018'] = 18.53\n",
    "over_65.loc[over_65['Country Name'] == 'Cayman Islands', '2018'] = 13.13\n",
    "over_65.loc[over_65['Country Name'] == 'Dominica', '2018'] = 11.43\n",
    "over_65.loc[over_65['Country Name'] == 'Eritrea', '2018'] = 3.95\n",
    "over_65.loc[over_65['Country Name'] == 'Faroe Islands', '2018'] = 16.98\n",
    "over_65.loc[over_65['Country Name'] == 'Gibraltar', '2018'] = 16.28\n",
    "over_65.loc[over_65['Country Name'] == 'Greenland', '2018'] = 9.57\n",
    "over_65.loc[over_65['Country Name'] == 'Isle of Man', '2018'] = 20.6\n",
    "over_65.loc[over_65['Country Name'] == 'St. Kitts and Nevis', '2018'] = 9.03\n",
    "over_65.loc[over_65['Country Name'] == 'Liechtenstein', '2018'] = 17.91\n",
    "over_65.loc[over_65['Country Name'] == 'St. Martin', '2018'] = 8.38\n",
    "over_65.loc[over_65['Country Name'] == 'Monaco', '2018'] = 33.15\n",
    "over_65.loc[over_65['Country Name'] == 'Marshall Islands', '2018'] = 4.24\n",
    "over_65.loc[over_65['Country Name'] == 'Nauru', '2018'] = 2.86\n",
    "over_65.loc[over_65['Country Name'] == 'Palau', '2018'] = 8.5\n",
    "over_65.loc[over_65['Country Name'] == 'San Marino', '2018'] = 19.8\n",
    "over_65.loc[over_65['Country Name'] == 'Turks and Caicos Islands', '2018'] = 4.76\n",
    "over_65.loc[over_65['Country Name'] == 'Tuvalu', '2018'] = 6.28\n",
    "over_65.loc[over_65['Country Name'] == 'British Virgin Islands', '2018'] = 9.32\n",
    "over_65.loc[over_65['Country Name'] == 'Kosovo', '2018'] = 7.43"
   ]
  },
  {
   "cell_type": "code",
   "execution_count": 28,
   "metadata": {},
   "outputs": [
    {
     "data": {
      "text/html": [
       "<div>\n",
       "<style scoped>\n",
       "    .dataframe tbody tr th:only-of-type {\n",
       "        vertical-align: middle;\n",
       "    }\n",
       "\n",
       "    .dataframe tbody tr th {\n",
       "        vertical-align: top;\n",
       "    }\n",
       "\n",
       "    .dataframe thead th {\n",
       "        text-align: right;\n",
       "    }\n",
       "</style>\n",
       "<table border=\"1\" class=\"dataframe\">\n",
       "  <thead>\n",
       "    <tr style=\"text-align: right;\">\n",
       "      <th></th>\n",
       "      <th>Country Name</th>\n",
       "      <th>2018</th>\n",
       "    </tr>\n",
       "  </thead>\n",
       "  <tbody>\n",
       "    <tr>\n",
       "      <th>108</th>\n",
       "      <td>Not classified</td>\n",
       "      <td>NaN</td>\n",
       "    </tr>\n",
       "    <tr>\n",
       "      <th>145</th>\n",
       "      <td>St. Martin (French part)</td>\n",
       "      <td>NaN</td>\n",
       "    </tr>\n",
       "    <tr>\n",
       "      <th>162</th>\n",
       "      <td>Northern Mariana Islands</td>\n",
       "      <td>NaN</td>\n",
       "    </tr>\n",
       "    <tr>\n",
       "      <th>223</th>\n",
       "      <td>Sint Maarten (Dutch part)</td>\n",
       "      <td>NaN</td>\n",
       "    </tr>\n",
       "  </tbody>\n",
       "</table>\n",
       "</div>"
      ],
      "text/plain": [
       "                  Country Name  2018\n",
       "108             Not classified   NaN\n",
       "145   St. Martin (French part)   NaN\n",
       "162   Northern Mariana Islands   NaN\n",
       "223  Sint Maarten (Dutch part)   NaN"
      ]
     },
     "execution_count": 28,
     "metadata": {},
     "output_type": "execute_result"
    }
   ],
   "source": [
    "over_65[over_65['2018'].isna()]"
   ]
  },
  {
   "cell_type": "code",
   "execution_count": 29,
   "metadata": {},
   "outputs": [
    {
     "data": {
      "text/plain": [
       "{'Aruba': 13.5509471396854,\n",
       " 'Afghanistan': 2.58492693988024,\n",
       " 'Angola': 2.21637364776329,\n",
       " 'Albania': 13.7447359109736,\n",
       " 'Andorra': 16.18,\n",
       " 'Arab World': 4.55787642361103,\n",
       " 'United Arab Emirates': 1.0850009848448101,\n",
       " 'Argentina': 11.1177888760774,\n",
       " 'Armenia': 11.2538176570131,\n",
       " 'American Samoa': 6.24,\n",
       " 'Antigua and Barbuda': 8.79982551980558,\n",
       " 'Australia': 15.656475227559099,\n",
       " 'Austria': 19.0015664595899,\n",
       " 'Azerbaijan': 6.195182750714929,\n",
       " 'Burundi': 2.24694046033717,\n",
       " 'Belgium': 18.7887437383395,\n",
       " 'Benin': 3.25360529746338,\n",
       " 'Burkina Faso': 2.4069808286635497,\n",
       " 'Bangladesh': 5.15839063962068,\n",
       " 'Bulgaria': 21.021914434268,\n",
       " 'Bahrain': 2.42633387832394,\n",
       " 'Bahamas, The': 7.25760235662035,\n",
       " 'Bosnia and Herzegovina': 16.4703174710621,\n",
       " 'Belarus': 14.8451481743098,\n",
       " 'Belize': 4.736458776571441,\n",
       " 'Bermuda': 18.53,\n",
       " 'Bolivia': 7.19194739218447,\n",
       " 'Brazil': 8.92283783244003,\n",
       " 'Barbados': 15.802693962133802,\n",
       " 'Brunei Darussalam': 4.8731475675058205,\n",
       " 'Bhutan': 6.003011712805611,\n",
       " 'Botswana': 4.22387434629301,\n",
       " 'Central African Republic': 2.82577370666008,\n",
       " 'Canada': 17.232006678865098,\n",
       " 'Central Europe and the Baltics': 18.4601184961471,\n",
       " 'Switzerland': 18.6232165647717,\n",
       " 'Channel Islands': 17.297462155203302,\n",
       " 'Chile': 11.529801656881599,\n",
       " 'China': 10.9208835350654,\n",
       " \"Cote d'Ivoire\": 2.85894301500285,\n",
       " 'Cameroon': 2.7288773552405696,\n",
       " 'Congo, Dem. Rep.': 3.0178406215980296,\n",
       " 'Congo, Rep.': 2.68171953903232,\n",
       " 'Colombia': 8.47804701986958,\n",
       " 'Comoros': 3.00700930649436,\n",
       " 'Cabo Verde': 4.60932715666821,\n",
       " 'Costa Rica': 9.54984767296984,\n",
       " 'Caribbean small states': 8.79665874897365,\n",
       " 'Cuba': 15.1862114171521,\n",
       " 'Curacao': 16.6848948092804,\n",
       " 'Cayman Islands': 13.13,\n",
       " 'Cyprus': 13.719061773448301,\n",
       " 'Czech Republic': 19.4208768932343,\n",
       " 'Germany': 21.4619619953309,\n",
       " 'Djibouti': 4.52757937811482,\n",
       " 'Dominica': 11.43,\n",
       " 'Denmark': 19.8129526369902,\n",
       " 'Dominican Republic': 7.08281747649721,\n",
       " 'Algeria': 6.3624965449798605,\n",
       " 'East Asia & Pacific (excluding high income)': 9.49623787364322,\n",
       " 'Early-demographic dividend': 5.8178056840413,\n",
       " 'East Asia & Pacific': 10.7443580041224,\n",
       " 'Europe & Central Asia (excluding high income)': 12.0469773953365,\n",
       " 'Europe & Central Asia': 16.3488906043948,\n",
       " 'Ecuador': 7.15728972666108,\n",
       " 'Egypt, Arab Rep.': 5.229779346209231,\n",
       " 'Euro area': 20.600287593910302,\n",
       " 'Eritrea': 3.95,\n",
       " 'Spain': 19.3785075224995,\n",
       " 'Estonia': 19.626356846974897,\n",
       " 'Ethiopia': 3.5011329976098597,\n",
       " 'European Union': 19.9345216836279,\n",
       " 'Fragile and conflict affected situations': 3.45084801162229,\n",
       " 'Finland': 21.7207875455222,\n",
       " 'Fiji': 5.449680412639519,\n",
       " 'France': 20.0346247469881,\n",
       " 'Faroe Islands': 16.98,\n",
       " 'Micronesia, Fed. Sts.': 3.9968039772727297,\n",
       " 'Gabon': 3.5639074683559198,\n",
       " 'United Kingdom': 18.395865674146602,\n",
       " 'Georgia': 14.865491431052499,\n",
       " 'Ghana': 3.0688980069339595,\n",
       " 'Gibraltar': 16.28,\n",
       " 'Guinea': 2.9260224484793502,\n",
       " 'Gambia, The': 2.5899809393823197,\n",
       " 'Guinea-Bissau': 2.8237163361526902,\n",
       " 'Equatorial Guinea': 2.4578773467789703,\n",
       " 'Greece': 21.6552720778435,\n",
       " 'Grenada': 9.62190679562869,\n",
       " 'Greenland': 9.57,\n",
       " 'Guatemala': 4.81207250828785,\n",
       " 'Guam': 9.849910718594659,\n",
       " 'Guyana': 6.45027124309697,\n",
       " 'High income': 17.932043932972697,\n",
       " 'Hong Kong SAR, China': 16.8750483265122,\n",
       " 'Honduras': 4.69061765907812,\n",
       " 'Heavily indebted poor countries (HIPC)': 3.0284092379332597,\n",
       " 'Croatia': 20.445433012423,\n",
       " 'Haiti': 4.94940384843253,\n",
       " 'Hungary': 19.1577253832321,\n",
       " 'IBRD only': 8.48378013902042,\n",
       " 'IDA & IBRD total': 7.224820740849791,\n",
       " 'IDA total': 3.55749115143391,\n",
       " 'IDA blend': 3.4988603827318,\n",
       " 'Indonesia': 5.857165612728631,\n",
       " 'IDA only': 3.58759259082614,\n",
       " 'Isle of Man': 20.6,\n",
       " 'India': 6.1799556494714905,\n",
       " 'Not classified': nan,\n",
       " 'Ireland': 13.8658017012923,\n",
       " 'Iran, Islamic Rep.': 6.18457380562499,\n",
       " 'Iraq': 3.3235996627950497,\n",
       " 'Iceland': 14.795092556568902,\n",
       " 'Israel': 11.9769860249625,\n",
       " 'Italy': 22.7516796025077,\n",
       " 'Jamaica': 8.79664255070196,\n",
       " 'Jordan': 3.8464903979983402,\n",
       " 'Japan': 27.576369910355,\n",
       " 'Kazakhstan': 7.39184627103032,\n",
       " 'Kenya': 2.33918661191556,\n",
       " 'Kyrgyz Republic': 4.494727975596559,\n",
       " 'Cambodia': 4.56868001756576,\n",
       " 'Kiribati': 3.95262717204589,\n",
       " 'St. Kitts and Nevis': 9.03,\n",
       " 'Korea, Rep.': 14.418555832396901,\n",
       " 'Kuwait': 2.55047238400198,\n",
       " 'Latin America & Caribbean (excluding high income)': 8.24270282039559,\n",
       " 'Lao PDR': 4.075149964448101,\n",
       " 'Lebanon': 7.002368134392941,\n",
       " 'Liberia': 3.25343179968014,\n",
       " 'Libya': 4.39204025898401,\n",
       " 'St. Lucia': 9.806530356426169,\n",
       " 'Latin America & Caribbean': 8.43830607177221,\n",
       " 'Least developed countries: UN classification': 3.5402491059174,\n",
       " 'Low income': 3.29117165297115,\n",
       " 'Liechtenstein': 17.91,\n",
       " 'Sri Lanka': 10.4732197537841,\n",
       " 'Lower middle income': 5.52941547318043,\n",
       " 'Low & middle income': 7.156651230573031,\n",
       " 'Lesotho': 4.9010874968221305,\n",
       " 'Late-demographic dividend': 10.7232529863456,\n",
       " 'Lithuania': 19.7050331564608,\n",
       " 'Luxembourg': 14.183154184147199,\n",
       " 'Latvia': 20.0436203206809,\n",
       " 'Macao SAR, China': 10.4842029270023,\n",
       " 'St. Martin (French part)': nan,\n",
       " 'Morocco': 7.0129048211122,\n",
       " 'Monaco': 33.15,\n",
       " 'Moldova': 11.469556341351199,\n",
       " 'Madagascar': 2.98671712579162,\n",
       " 'Maldives': 3.70334460612454,\n",
       " 'Middle East & North Africa': 5.1821613559713295,\n",
       " 'Mexico': 7.2236849808719805,\n",
       " 'Marshall Islands': 4.24,\n",
       " 'Middle income': 7.63701466475014,\n",
       " 'North Macedonia': 13.6701813815648,\n",
       " 'Mali': 2.50722975755683,\n",
       " 'Malta': 20.3493242997122,\n",
       " 'Myanmar': 5.7846419325720895,\n",
       " 'Middle East & North Africa (excluding high income)': 5.37543637508798,\n",
       " 'Montenegro': 14.9749366447439,\n",
       " 'Mongolia': 4.083538787262451,\n",
       " 'Northern Mariana Islands': nan,\n",
       " 'Mozambique': 2.8907644574499,\n",
       " 'Mauritania': 3.14111215805009,\n",
       " 'Mauritius': 11.474173068652199,\n",
       " 'Malawi': 2.64543493031032,\n",
       " 'Malaysia': 6.67175462547886,\n",
       " 'North America': 15.952577363469802,\n",
       " 'Namibia': 3.6360316807451403,\n",
       " 'New Caledonia': 9.174157925376711,\n",
       " 'Niger': 2.5950078826985297,\n",
       " 'Nigeria': 2.7473770053274302,\n",
       " 'Nicaragua': 5.24749744838026,\n",
       " 'Netherlands': 19.1961926333387,\n",
       " 'Norway': 17.0492221563211,\n",
       " 'Nepal': 5.72767077569198,\n",
       " 'Nauru': 2.86,\n",
       " 'New Zealand': 15.652424527174098,\n",
       " 'OECD members': 17.1186184107216,\n",
       " 'Oman': 2.39278695625796,\n",
       " 'Other small states': 5.49246578300642,\n",
       " 'Pakistan': 4.312774311337559,\n",
       " 'Panama': 8.104731079667571,\n",
       " 'Peru': 8.08839279183076,\n",
       " 'Philippines': 5.12256876829946,\n",
       " 'Palau': 8.5,\n",
       " 'Papua New Guinea': 3.4452692514561702,\n",
       " 'Poland': 17.5178167625452,\n",
       " 'Pre-demographic dividend': 2.75381363776434,\n",
       " 'Puerto Rico': 18.674850210356897,\n",
       " 'Korea, Dem. People’s Rep.': 9.334520409787961,\n",
       " 'Portugal': 21.9538575375873,\n",
       " 'Paraguay': 6.4302150094608095,\n",
       " 'West Bank and Gaza': 3.13330573708009,\n",
       " 'Pacific island small states': 4.53731737663538,\n",
       " 'Post-demographic dividend': 18.954516967322398,\n",
       " 'French Polynesia': 8.29050810468202,\n",
       " 'Qatar': 1.3700703387375,\n",
       " 'Romania': 18.338701393829602,\n",
       " 'Russian Federation': 14.6747083203719,\n",
       " 'Rwanda': 2.9381960775388,\n",
       " 'South Asia': 5.840560481776191,\n",
       " 'Saudi Arabia': 3.31408802294981,\n",
       " 'Sudan': 3.58116052825144,\n",
       " 'Senegal': 3.08682370101833,\n",
       " 'Singapore': 11.4633801933791,\n",
       " 'Solomon Islands': 3.5989504592889396,\n",
       " 'Sierra Leone': 2.96655621131612,\n",
       " 'El Salvador': 8.28709000480629,\n",
       " 'San Marino': 19.8,\n",
       " 'Somalia': 2.8733109429455603,\n",
       " 'Serbia': 18.3457926916963,\n",
       " 'Sub-Saharan Africa (excluding high income)': 2.98729217395572,\n",
       " 'South Sudan': 3.39848287985152,\n",
       " 'Sub-Saharan Africa': 2.9877056065448397,\n",
       " 'Small states': 6.02956944874001,\n",
       " 'Sao Tome and Principe': 2.9256781090661,\n",
       " 'Suriname': 6.90636990225525,\n",
       " 'Slovak Republic': 15.629246504777,\n",
       " 'Slovenia': 19.6068796541788,\n",
       " 'Sweden': 20.0955249278002,\n",
       " 'Eswatini': 4.01458794083506,\n",
       " 'Sint Maarten (Dutch part)': nan,\n",
       " 'Seychelles': 7.5945456043503405,\n",
       " 'Syrian Arab Republic': 4.50312442147583,\n",
       " 'Turks and Caicos Islands': 4.76,\n",
       " 'Chad': 2.4805189443490097,\n",
       " 'East Asia & Pacific (IDA & IBRD countries)': 9.49824756454622,\n",
       " 'Europe & Central Asia (IDA & IBRD countries)': 12.5755989186922,\n",
       " 'Togo': 2.8694680110882205,\n",
       " 'Thailand': 11.9008931395893,\n",
       " 'Tajikistan': 3.02188755207627,\n",
       " 'Turkmenistan': 4.426634461940139,\n",
       " 'Latin America & the Caribbean (IDA & IBRD countries)': 8.25620923692216,\n",
       " 'Timor-Leste': 4.31649229400603,\n",
       " 'Middle East & North Africa (IDA & IBRD countries)': 5.40251473043988,\n",
       " 'Tonga': 5.95366144364662,\n",
       " 'South Asia (IDA & IBRD)': 5.840560481776191,\n",
       " 'Sub-Saharan Africa (IDA & IBRD countries)': 2.9877056065448397,\n",
       " 'Trinidad and Tobago': 10.7349535163324,\n",
       " 'Tunisia': 8.315679078988769,\n",
       " 'Turkey': 8.4832129399716,\n",
       " 'Tuvalu': 6.28,\n",
       " 'Tanzania': 2.60129917835952,\n",
       " 'Uganda': 1.9409869204631698,\n",
       " 'Ukraine': 16.434686439201602,\n",
       " 'Upper middle income': 10.037948799058801,\n",
       " 'Uruguay': 14.8145195308593,\n",
       " 'United States': 15.8076540556035,\n",
       " 'Uzbekistan': 4.419137878136401,\n",
       " 'St. Vincent and the Grenadines': 9.58978686338024,\n",
       " 'Venezuela, RB': 7.266986620125969,\n",
       " 'British Virgin Islands': 9.32,\n",
       " 'Virgin Islands (U.S.)': 19.288307222009898,\n",
       " 'Vietnam': 7.2749782978793,\n",
       " 'Vanuatu': 3.6401530681973497,\n",
       " 'World': 8.87344224397751,\n",
       " 'Samoa': 4.80041197375197,\n",
       " 'Kosovo': 7.43,\n",
       " 'Yemen, Rep.': 2.87626975604452,\n",
       " 'South Africa': 5.31800500542302,\n",
       " 'Zambia': 2.09967802593266,\n",
       " 'Zimbabwe': 2.9395236530011295}"
      ]
     },
     "execution_count": 29,
     "metadata": {},
     "output_type": "execute_result"
    }
   ],
   "source": [
    "# Creating and pickling age dictionary\n",
    "over_65_dict = dict(zip(over_65['Country Name'], over_65['2018']))\n",
    "\n",
    "with open('./pickled_files/age_dict.pkl', 'wb') as f:\n",
    "    pickle.dump(over_65_dict, f)\n",
    "over_65_dict"
   ]
  },
  {
   "cell_type": "code",
   "execution_count": 30,
   "metadata": {},
   "outputs": [
    {
     "data": {
      "text/plain": [
       "{'Norway': 5421.241,\n",
       " 'Switzerland': 8654.622,\n",
       " 'Australia': 25499.884,\n",
       " 'Ireland': 4937.786,\n",
       " 'Germany': 83783.942,\n",
       " 'Iceland': 341.243,\n",
       " 'Sweden': 10099.265,\n",
       " 'Hong Kong': 7496.981,\n",
       " 'Singapore': 5850.342,\n",
       " 'Netherlands': 17134.872,\n",
       " 'Denmark': 5792.202,\n",
       " 'Canada': 37742.154,\n",
       " 'United States': 331002.651,\n",
       " 'United Kingdom': 67886.011,\n",
       " 'Finland': 5540.72,\n",
       " 'New Zealand': 4822.233,\n",
       " 'Belgium': 11589.623,\n",
       " 'Liechtenstein': 38.128,\n",
       " 'Japan': 126476.461,\n",
       " 'Austria': 9006.398,\n",
       " 'Luxembourg': 625.978,\n",
       " 'South Korea': 51269.185,\n",
       " 'Israel': 8655.535,\n",
       " 'France': 65273.511,\n",
       " 'Slovenia': 2078.938,\n",
       " 'Spain': 46754.778,\n",
       " 'Czech Republic': 10708.981,\n",
       " 'Italy': 60461.826,\n",
       " 'Malta': 441.543,\n",
       " 'Estonia': 1326.535,\n",
       " 'Greece': 10423.054,\n",
       " 'Cyprus': 1207.359,\n",
       " 'Poland': 37846.611,\n",
       " 'United Arab Emirates': 9890.402,\n",
       " 'Lithuania': 2722.289,\n",
       " 'Andorra': 77.265,\n",
       " 'Qatar': 2881.053,\n",
       " 'Slovakia': 5459.642,\n",
       " 'Brunei': 437.479,\n",
       " 'Saudi Arabia': 34813.871,\n",
       " 'Portugal': 10196.709,\n",
       " 'Latvia': 1886.198,\n",
       " 'Bahrain': 1701.575,\n",
       " 'Chile': 19116.201,\n",
       " 'Hungary': 9660.351,\n",
       " 'Croatia': 4105.267,\n",
       " 'Argentina': 45195.774,\n",
       " 'Oman': 5106.626,\n",
       " 'Russia': 145934.462,\n",
       " 'Montenegro': 628.066,\n",
       " 'Bulgaria': 6948.445,\n",
       " 'Romania': 19237.691,\n",
       " 'Belarus': 9449.323,\n",
       " 'Bahamas': 393.244,\n",
       " 'Uruguay': 3473.73,\n",
       " 'Kuwait': 4270.571,\n",
       " 'Malaysia': 32365.999,\n",
       " 'Barbados': 287.375,\n",
       " 'Kazakhstan': 18776.707,\n",
       " 'Palau': 18.094,\n",
       " 'Iran': 83992.949,\n",
       " 'Seychelles': 98.347,\n",
       " 'Costa Rica': 5094.118,\n",
       " 'Turkey': 84339.067,\n",
       " 'Mauritius': 1271.768,\n",
       " 'Panama': 4314.767,\n",
       " 'Serbia': 8737.371,\n",
       " 'Albania': 2877.797,\n",
       " 'Trinidad and Tobago': 1399.488,\n",
       " 'Antigua and Barbuda': 97.929,\n",
       " 'Georgia': 3989.167,\n",
       " 'Saint Kitts and Nevis': 53.199,\n",
       " 'Cuba': 11326.616,\n",
       " 'Mexico': 128932.753,\n",
       " 'Grenada': 112.523,\n",
       " 'Sri Lanka': 21413.249,\n",
       " 'Bosnia and Herzegovina': 3280.819,\n",
       " 'Venezuela': 28435.94,\n",
       " 'Brazil': 212559.417,\n",
       " 'Lebanon': 6825.445,\n",
       " 'Azerbaijan': 10139.177,\n",
       " 'Thailand': 69799.978,\n",
       " 'Armenia': 2963.243,\n",
       " 'Algeria': 43851.044,\n",
       " 'Ecuador': 17643.054,\n",
       " 'China': 1439323.776,\n",
       " 'Ukraine': 43733.762,\n",
       " 'Peru': 32971.854,\n",
       " 'Saint Lucia': 183.627,\n",
       " 'Colombia': 50882.891,\n",
       " 'Mongolia': 3278.29,\n",
       " 'Fiji': 896.445,\n",
       " 'Dominican Republic': 10847.91,\n",
       " 'Tunisia': 11818.619,\n",
       " 'Jordan': 10203.134,\n",
       " 'Jamaica': 2961.167,\n",
       " 'Tonga': 105.695,\n",
       " 'Saint Vincent and the Grenadines': 110.94,\n",
       " 'Suriname': 586.632,\n",
       " 'Botswana': 2351.627,\n",
       " 'Maldives': 540.544,\n",
       " 'Dominica': 71.986,\n",
       " 'Samoa': 198.414,\n",
       " 'Uzbekistan': 33469.203,\n",
       " 'Belize': 397.628,\n",
       " 'Marshall Islands': 59.19,\n",
       " 'Turkmenistan': 6031.2,\n",
       " 'Libya': 6871.292,\n",
       " 'Paraguay': 7132.538,\n",
       " 'Gabon': 2225.734,\n",
       " 'Moldova': 4033.963,\n",
       " 'South Africa': 59308.69,\n",
       " 'Philippines': 109581.078,\n",
       " 'Egypt': 102334.404,\n",
       " 'Vietnam': 97338.579,\n",
       " 'Indonesia': 273523.615,\n",
       " 'Bolivia': 11673.021,\n",
       " 'Palestine': 5101.414,\n",
       " 'Iraq': 40222.493,\n",
       " 'El Salvador': 6486.205,\n",
       " 'Kyrgyzstan': 6524.195,\n",
       " 'Morocco': 36910.56,\n",
       " 'Nicaragua': 6624.554,\n",
       " 'Guyana': 786.552,\n",
       " 'Cape Verde': 555.987,\n",
       " 'Tajikistan': 9537.645,\n",
       " 'Guatemala': 17915.568,\n",
       " 'Namibia': 2540.905,\n",
       " 'India': 1380004.385,\n",
       " 'Micronesia': 115.023,\n",
       " 'Timor-Leste': 1318.445,\n",
       " 'Honduras': 9904.607,\n",
       " 'Bhutan': 771.608,\n",
       " 'Kiribati': 119.449,\n",
       " 'Bangladesh': 164689.383,\n",
       " 'Republic of the Congo': 5518.087,\n",
       " 'Vanuatu': 307.145,\n",
       " 'Laos': 7275.56,\n",
       " 'Ghana': 31072.94,\n",
       " 'Equatorial Guinea': 1402.985,\n",
       " 'Kenya': 53771.296,\n",
       " 'Sao Tome and Principe': 219.159,\n",
       " 'Zambia': 18383.955,\n",
       " 'Cambodia': 16718.965,\n",
       " 'Angola': 32866.272,\n",
       " 'Myanmar': 54409.8,\n",
       " 'Nepal': 29136.808,\n",
       " 'Pakistan': 220892.34,\n",
       " 'Cameroon': 26545.863,\n",
       " 'Solomon Islands': 686.884,\n",
       " 'Papua New Guinea': 8947.024,\n",
       " 'Tanzania': 59734.218,\n",
       " 'Zimbabwe': 14862.924,\n",
       " 'Nigeria': 206139.589,\n",
       " 'Rwanda': 12952.218,\n",
       " 'Mauritania': 4649.658,\n",
       " 'Lesotho': 2142.249,\n",
       " 'Madagascar': 27691.018,\n",
       " 'Uganda': 45741.007,\n",
       " 'Benin': 12123.2,\n",
       " 'Senegal': 16743.927,\n",
       " 'Togo': 8278.724,\n",
       " 'Comoros': 869.601,\n",
       " 'Sudan': 43849.26,\n",
       " 'Afghanistan': 38928.346,\n",
       " 'Haiti': 11402.528,\n",
       " 'Ivory Coast': 26378.274,\n",
       " 'Malawi': 19129.952,\n",
       " 'Djibouti': 988.0,\n",
       " 'Ethiopia': 114963.588,\n",
       " 'Gambia': 2416.668,\n",
       " 'Guinea': 13132.795,\n",
       " 'DR Congo': 89561.403,\n",
       " 'Guinea-Bissau': 1968.001,\n",
       " 'Yemen': 29825.964,\n",
       " 'Eritrea': 3546.421,\n",
       " 'Mozambique': 31255.435,\n",
       " 'Liberia': 5057.681,\n",
       " 'Mali': 20250.833,\n",
       " 'Burkina Faso': 20903.273,\n",
       " 'Sierra Leone': 7976.983,\n",
       " 'Burundi': 11890.784,\n",
       " 'Chad': 16425.864,\n",
       " 'South Sudan': 11193.725,\n",
       " 'Central African Republic': 4829.767,\n",
       " 'Niger': 24206.644,\n",
       " 'Tuvalu': 11.792,\n",
       " 'Somalia': 15893.222}"
      ]
     },
     "execution_count": 30,
     "metadata": {},
     "output_type": "execute_result"
    }
   ],
   "source": [
    "# Creating and pickling population dictionary\n",
    "pop_dict = dict(zip(dev_index.name, dev_index.pop2020))\n",
    "\n",
    "with open('./pickled_files/population_dict.pkl', 'wb') as f:\n",
    "    pickle.dump(pop_dict, f)\n",
    "pop_dict"
   ]
  },
  {
   "cell_type": "code",
   "execution_count": 31,
   "metadata": {
    "scrolled": true
   },
   "outputs": [
    {
     "data": {
      "text/plain": [
       "{'Norway': 0.953,\n",
       " 'Switzerland': 0.944,\n",
       " 'Australia': 0.939,\n",
       " 'Ireland': 0.938,\n",
       " 'Germany': 0.936,\n",
       " 'Iceland': 0.935,\n",
       " 'Sweden': 0.933,\n",
       " 'Hong Kong': 0.933,\n",
       " 'Singapore': 0.932,\n",
       " 'Netherlands': 0.931,\n",
       " 'Denmark': 0.929,\n",
       " 'Canada': 0.926,\n",
       " 'United States': 0.924,\n",
       " 'United Kingdom': 0.922,\n",
       " 'Finland': 0.92,\n",
       " 'New Zealand': 0.917,\n",
       " 'Belgium': 0.916,\n",
       " 'Liechtenstein': 0.916,\n",
       " 'Japan': 0.909,\n",
       " 'Austria': 0.908,\n",
       " 'Luxembourg': 0.904,\n",
       " 'South Korea': 0.903,\n",
       " 'Israel': 0.903,\n",
       " 'France': 0.901,\n",
       " 'Slovenia': 0.896,\n",
       " 'Spain': 0.891,\n",
       " 'Czech Republic': 0.888,\n",
       " 'Italy': 0.88,\n",
       " 'Malta': 0.878,\n",
       " 'Estonia': 0.871,\n",
       " 'Greece': 0.87,\n",
       " 'Cyprus': 0.869,\n",
       " 'Poland': 0.865,\n",
       " 'United Arab Emirates': 0.863,\n",
       " 'Lithuania': 0.858,\n",
       " 'Andorra': 0.858,\n",
       " 'Qatar': 0.856,\n",
       " 'Slovakia': 0.855,\n",
       " 'Brunei': 0.853,\n",
       " 'Saudi Arabia': 0.853,\n",
       " 'Portugal': 0.847,\n",
       " 'Latvia': 0.847,\n",
       " 'Bahrain': 0.846,\n",
       " 'Chile': 0.843,\n",
       " 'Hungary': 0.838,\n",
       " 'Croatia': 0.831,\n",
       " 'Argentina': 0.825,\n",
       " 'Oman': 0.821,\n",
       " 'Russia': 0.816,\n",
       " 'Montenegro': 0.814,\n",
       " 'Bulgaria': 0.813,\n",
       " 'Romania': 0.811,\n",
       " 'Belarus': 0.808,\n",
       " 'Bahamas': 0.807,\n",
       " 'Uruguay': 0.804,\n",
       " 'Kuwait': 0.803,\n",
       " 'Malaysia': 0.802,\n",
       " 'Barbados': 0.8,\n",
       " 'Kazakhstan': 0.8,\n",
       " 'Palau': 0.798,\n",
       " 'Iran': 0.798,\n",
       " 'Seychelles': 0.797,\n",
       " 'Costa Rica': 0.794,\n",
       " 'Turkey': 0.791,\n",
       " 'Mauritius': 0.79,\n",
       " 'Panama': 0.789,\n",
       " 'Serbia': 0.787,\n",
       " 'Albania': 0.785,\n",
       " 'Trinidad and Tobago': 0.784,\n",
       " 'Antigua and Barbuda': 0.78,\n",
       " 'Georgia': 0.78,\n",
       " 'Saint Kitts and Nevis': 0.778,\n",
       " 'Cuba': 0.777,\n",
       " 'Mexico': 0.774,\n",
       " 'Grenada': 0.772,\n",
       " 'Sri Lanka': 0.77,\n",
       " 'Bosnia and Herzegovina': 0.768,\n",
       " 'Venezuela': 0.761,\n",
       " 'Brazil': 0.759,\n",
       " 'Lebanon': 0.757,\n",
       " 'Azerbaijan': 0.757,\n",
       " 'Thailand': 0.755,\n",
       " 'Armenia': 0.755,\n",
       " 'Algeria': 0.754,\n",
       " 'Ecuador': 0.752,\n",
       " 'China': 0.752,\n",
       " 'Ukraine': 0.751,\n",
       " 'Peru': 0.75,\n",
       " 'Saint Lucia': 0.747,\n",
       " 'Colombia': 0.747,\n",
       " 'Mongolia': 0.741,\n",
       " 'Fiji': 0.741,\n",
       " 'Dominican Republic': 0.736,\n",
       " 'Tunisia': 0.735,\n",
       " 'Jordan': 0.735,\n",
       " 'Jamaica': 0.732,\n",
       " 'Tonga': 0.726,\n",
       " 'Saint Vincent and the Grenadines': 0.723,\n",
       " 'Suriname': 0.72,\n",
       " 'Botswana': 0.717,\n",
       " 'Maldives': 0.717,\n",
       " 'Dominica': 0.715,\n",
       " 'Samoa': 0.713,\n",
       " 'Uzbekistan': 0.71,\n",
       " 'Belize': 0.708,\n",
       " 'Marshall Islands': 0.708,\n",
       " 'Turkmenistan': 0.706,\n",
       " 'Libya': 0.706,\n",
       " 'Paraguay': 0.702,\n",
       " 'Gabon': 0.702,\n",
       " 'Moldova': 0.7,\n",
       " 'South Africa': 0.699,\n",
       " 'Philippines': 0.699,\n",
       " 'Egypt': 0.696,\n",
       " 'Vietnam': 0.694,\n",
       " 'Indonesia': 0.694,\n",
       " 'Bolivia': 0.693,\n",
       " 'Palestine': 0.686,\n",
       " 'Iraq': 0.685,\n",
       " 'El Salvador': 0.674,\n",
       " 'Kyrgyzstan': 0.672,\n",
       " 'Morocco': 0.667,\n",
       " 'Nicaragua': 0.658,\n",
       " 'Guyana': 0.654,\n",
       " 'Cape Verde': 0.654,\n",
       " 'Tajikistan': 0.65,\n",
       " 'Guatemala': 0.65,\n",
       " 'Namibia': 0.647,\n",
       " 'India': 0.64,\n",
       " 'Micronesia': 0.627,\n",
       " 'Timor-Leste': 0.625,\n",
       " 'Honduras': 0.617,\n",
       " 'Bhutan': 0.612,\n",
       " 'Kiribati': 0.612,\n",
       " 'Bangladesh': 0.608,\n",
       " 'Republic of the Congo': 0.606,\n",
       " 'Vanuatu': 0.603,\n",
       " 'Laos': 0.601,\n",
       " 'Ghana': 0.592,\n",
       " 'Equatorial Guinea': 0.591,\n",
       " 'Kenya': 0.59,\n",
       " 'Sao Tome and Principe': 0.589,\n",
       " 'Zambia': 0.588,\n",
       " 'Cambodia': 0.582,\n",
       " 'Angola': 0.581,\n",
       " 'Myanmar': 0.578,\n",
       " 'Nepal': 0.574,\n",
       " 'Pakistan': 0.562,\n",
       " 'Cameroon': 0.556,\n",
       " 'Solomon Islands': 0.546,\n",
       " 'Papua New Guinea': 0.544,\n",
       " 'Tanzania': 0.538,\n",
       " 'Zimbabwe': 0.535,\n",
       " 'Nigeria': 0.532,\n",
       " 'Rwanda': 0.524,\n",
       " 'Mauritania': 0.52,\n",
       " 'Lesotho': 0.52,\n",
       " 'Madagascar': 0.519,\n",
       " 'Uganda': 0.516,\n",
       " 'Benin': 0.515,\n",
       " 'Senegal': 0.505,\n",
       " 'Togo': 0.503,\n",
       " 'Comoros': 0.503,\n",
       " 'Sudan': 0.502,\n",
       " 'Afghanistan': 0.498,\n",
       " 'Haiti': 0.498,\n",
       " 'Ivory Coast': 0.492,\n",
       " 'Malawi': 0.477,\n",
       " 'Djibouti': 0.476,\n",
       " 'Ethiopia': 0.463,\n",
       " 'Gambia': 0.46,\n",
       " 'Guinea': 0.459,\n",
       " 'DR Congo': 0.457,\n",
       " 'Guinea-Bissau': 0.455,\n",
       " 'Yemen': 0.452,\n",
       " 'Eritrea': 0.44,\n",
       " 'Mozambique': 0.437,\n",
       " 'Liberia': 0.435,\n",
       " 'Mali': 0.427,\n",
       " 'Burkina Faso': 0.423,\n",
       " 'Sierra Leone': 0.419,\n",
       " 'Burundi': 0.417,\n",
       " 'Chad': 0.404,\n",
       " 'South Sudan': 0.388,\n",
       " 'Central African Republic': 0.367,\n",
       " 'Niger': 0.354,\n",
       " 'Tuvalu': 0.0,\n",
       " 'Somalia': 0.0}"
      ]
     },
     "execution_count": 31,
     "metadata": {},
     "output_type": "execute_result"
    }
   ],
   "source": [
    "# Creating and pickling index dictionary\n",
    "index_dict = dict(zip(dev_index.name, dev_index.humanDevelopmentIndex))\n",
    "with open('./pickled_files/dev_index_dict.pkl',  'wb') as f:\n",
    "    pickle.dump(index_dict, f)\n",
    "index_dict"
   ]
  },
  {
   "cell_type": "code",
   "execution_count": 32,
   "metadata": {},
   "outputs": [
    {
     "data": {
      "text/html": [
       "<div>\n",
       "<style scoped>\n",
       "    .dataframe tbody tr th:only-of-type {\n",
       "        vertical-align: middle;\n",
       "    }\n",
       "\n",
       "    .dataframe tbody tr th {\n",
       "        vertical-align: top;\n",
       "    }\n",
       "\n",
       "    .dataframe thead th {\n",
       "        text-align: right;\n",
       "    }\n",
       "</style>\n",
       "<table border=\"1\" class=\"dataframe\">\n",
       "  <thead>\n",
       "    <tr style=\"text-align: right;\">\n",
       "      <th></th>\n",
       "      <th>Province/State</th>\n",
       "      <th>Country/Region</th>\n",
       "      <th>Lat</th>\n",
       "      <th>Long</th>\n",
       "      <th>date</th>\n",
       "      <th>CumConfirmed</th>\n",
       "      <th>CumDeaths</th>\n",
       "    </tr>\n",
       "  </thead>\n",
       "  <tbody>\n",
       "    <tr>\n",
       "      <th>0</th>\n",
       "      <td>&lt;all&gt;</td>\n",
       "      <td>Afghanistan</td>\n",
       "      <td>33.0000</td>\n",
       "      <td>65.0000</td>\n",
       "      <td>2020-01-22</td>\n",
       "      <td>0</td>\n",
       "      <td>0</td>\n",
       "    </tr>\n",
       "    <tr>\n",
       "      <th>1</th>\n",
       "      <td>&lt;all&gt;</td>\n",
       "      <td>Albania</td>\n",
       "      <td>41.1533</td>\n",
       "      <td>20.1683</td>\n",
       "      <td>2020-01-22</td>\n",
       "      <td>0</td>\n",
       "      <td>0</td>\n",
       "    </tr>\n",
       "    <tr>\n",
       "      <th>2</th>\n",
       "      <td>&lt;all&gt;</td>\n",
       "      <td>Algeria</td>\n",
       "      <td>28.0339</td>\n",
       "      <td>1.6596</td>\n",
       "      <td>2020-01-22</td>\n",
       "      <td>0</td>\n",
       "      <td>0</td>\n",
       "    </tr>\n",
       "    <tr>\n",
       "      <th>3</th>\n",
       "      <td>&lt;all&gt;</td>\n",
       "      <td>Andorra</td>\n",
       "      <td>42.5063</td>\n",
       "      <td>1.5218</td>\n",
       "      <td>2020-01-22</td>\n",
       "      <td>0</td>\n",
       "      <td>0</td>\n",
       "    </tr>\n",
       "    <tr>\n",
       "      <th>4</th>\n",
       "      <td>&lt;all&gt;</td>\n",
       "      <td>Angola</td>\n",
       "      <td>-11.2027</td>\n",
       "      <td>17.8739</td>\n",
       "      <td>2020-01-22</td>\n",
       "      <td>0</td>\n",
       "      <td>0</td>\n",
       "    </tr>\n",
       "  </tbody>\n",
       "</table>\n",
       "</div>"
      ],
      "text/plain": [
       "  Province/State Country/Region      Lat     Long       date  CumConfirmed  \\\n",
       "0          <all>    Afghanistan  33.0000  65.0000 2020-01-22             0   \n",
       "1          <all>        Albania  41.1533  20.1683 2020-01-22             0   \n",
       "2          <all>        Algeria  28.0339   1.6596 2020-01-22             0   \n",
       "3          <all>        Andorra  42.5063   1.5218 2020-01-22             0   \n",
       "4          <all>         Angola -11.2027  17.8739 2020-01-22             0   \n",
       "\n",
       "   CumDeaths  \n",
       "0          0  \n",
       "1          0  \n",
       "2          0  \n",
       "3          0  \n",
       "4          0  "
      ]
     },
     "execution_count": 32,
     "metadata": {},
     "output_type": "execute_result"
    }
   ],
   "source": [
    "all_data.head()"
   ]
  },
  {
   "cell_type": "code",
   "execution_count": 33,
   "metadata": {
    "scrolled": true
   },
   "outputs": [
    {
     "data": {
      "text/plain": [
       "Province/State            object\n",
       "Country/Region            object\n",
       "Lat                      float64\n",
       "Long                     float64\n",
       "date              datetime64[ns]\n",
       "CumConfirmed               int64\n",
       "CumDeaths                  int64\n",
       "dtype: object"
      ]
     },
     "execution_count": 33,
     "metadata": {},
     "output_type": "execute_result"
    }
   ],
   "source": [
    "all_data.dtypes"
   ]
  },
  {
   "cell_type": "code",
   "execution_count": 34,
   "metadata": {},
   "outputs": [],
   "source": [
    "# def to_float(series):\n",
    "#     series.astype(float)\n",
    "#     return series"
   ]
  },
  {
   "cell_type": "code",
   "execution_count": 35,
   "metadata": {},
   "outputs": [
    {
     "data": {
      "text/html": [
       "<div>\n",
       "<style scoped>\n",
       "    .dataframe tbody tr th:only-of-type {\n",
       "        vertical-align: middle;\n",
       "    }\n",
       "\n",
       "    .dataframe tbody tr th {\n",
       "        vertical-align: top;\n",
       "    }\n",
       "\n",
       "    .dataframe thead th {\n",
       "        text-align: right;\n",
       "    }\n",
       "</style>\n",
       "<table border=\"1\" class=\"dataframe\">\n",
       "  <thead>\n",
       "    <tr style=\"text-align: right;\">\n",
       "      <th></th>\n",
       "      <th>Country/Region</th>\n",
       "      <th>Province/State</th>\n",
       "      <th>Lat</th>\n",
       "      <th>Long</th>\n",
       "      <th>date</th>\n",
       "      <th>CumConfirmed</th>\n",
       "      <th>CumDeaths</th>\n",
       "    </tr>\n",
       "  </thead>\n",
       "  <tbody>\n",
       "    <tr>\n",
       "      <th>0</th>\n",
       "      <td>Afghanistan</td>\n",
       "      <td>&lt;all&gt;</td>\n",
       "      <td>33.0000</td>\n",
       "      <td>65.0000</td>\n",
       "      <td>2020-04-07</td>\n",
       "      <td>423</td>\n",
       "      <td>14</td>\n",
       "    </tr>\n",
       "    <tr>\n",
       "      <th>1</th>\n",
       "      <td>Albania</td>\n",
       "      <td>&lt;all&gt;</td>\n",
       "      <td>41.1533</td>\n",
       "      <td>20.1683</td>\n",
       "      <td>2020-04-07</td>\n",
       "      <td>383</td>\n",
       "      <td>22</td>\n",
       "    </tr>\n",
       "    <tr>\n",
       "      <th>2</th>\n",
       "      <td>Algeria</td>\n",
       "      <td>&lt;all&gt;</td>\n",
       "      <td>28.0339</td>\n",
       "      <td>1.6596</td>\n",
       "      <td>2020-04-07</td>\n",
       "      <td>1468</td>\n",
       "      <td>193</td>\n",
       "    </tr>\n",
       "    <tr>\n",
       "      <th>3</th>\n",
       "      <td>Andorra</td>\n",
       "      <td>&lt;all&gt;</td>\n",
       "      <td>42.5063</td>\n",
       "      <td>1.5218</td>\n",
       "      <td>2020-04-07</td>\n",
       "      <td>545</td>\n",
       "      <td>22</td>\n",
       "    </tr>\n",
       "    <tr>\n",
       "      <th>4</th>\n",
       "      <td>Angola</td>\n",
       "      <td>&lt;all&gt;</td>\n",
       "      <td>-11.2027</td>\n",
       "      <td>17.8739</td>\n",
       "      <td>2020-04-07</td>\n",
       "      <td>17</td>\n",
       "      <td>2</td>\n",
       "    </tr>\n",
       "  </tbody>\n",
       "</table>\n",
       "</div>"
      ],
      "text/plain": [
       "  Country/Region Province/State      Lat     Long       date  CumConfirmed  \\\n",
       "0    Afghanistan          <all>  33.0000  65.0000 2020-04-07           423   \n",
       "1        Albania          <all>  41.1533  20.1683 2020-04-07           383   \n",
       "2        Algeria          <all>  28.0339   1.6596 2020-04-07          1468   \n",
       "3        Andorra          <all>  42.5063   1.5218 2020-04-07           545   \n",
       "4         Angola          <all> -11.2027  17.8739 2020-04-07            17   \n",
       "\n",
       "   CumDeaths  \n",
       "0         14  \n",
       "1         22  \n",
       "2        193  \n",
       "3         22  \n",
       "4          2  "
      ]
     },
     "execution_count": 35,
     "metadata": {},
     "output_type": "execute_result"
    }
   ],
   "source": [
    "grouped_country = all_data.groupby('Country/Region').max().reset_index()\n",
    "grouped_country.head()"
   ]
  },
  {
   "cell_type": "code",
   "execution_count": 36,
   "metadata": {},
   "outputs": [],
   "source": [
    "# Grouping data by country\n",
    "grouped_country.drop('Province/State', axis=1, inplace=True)\n"
   ]
  },
  {
   "cell_type": "code",
   "execution_count": 37,
   "metadata": {},
   "outputs": [
    {
     "data": {
      "text/html": [
       "<div>\n",
       "<style scoped>\n",
       "    .dataframe tbody tr th:only-of-type {\n",
       "        vertical-align: middle;\n",
       "    }\n",
       "\n",
       "    .dataframe tbody tr th {\n",
       "        vertical-align: top;\n",
       "    }\n",
       "\n",
       "    .dataframe thead th {\n",
       "        text-align: right;\n",
       "    }\n",
       "</style>\n",
       "<table border=\"1\" class=\"dataframe\">\n",
       "  <thead>\n",
       "    <tr style=\"text-align: right;\">\n",
       "      <th></th>\n",
       "      <th>Country/Region</th>\n",
       "      <th>Lat</th>\n",
       "      <th>Long</th>\n",
       "      <th>date</th>\n",
       "      <th>CumConfirmed</th>\n",
       "      <th>CumDeaths</th>\n",
       "    </tr>\n",
       "  </thead>\n",
       "  <tbody>\n",
       "    <tr>\n",
       "      <th>0</th>\n",
       "      <td>Afghanistan</td>\n",
       "      <td>33.0000</td>\n",
       "      <td>65.0000</td>\n",
       "      <td>2020-04-07</td>\n",
       "      <td>423</td>\n",
       "      <td>14</td>\n",
       "    </tr>\n",
       "    <tr>\n",
       "      <th>1</th>\n",
       "      <td>Albania</td>\n",
       "      <td>41.1533</td>\n",
       "      <td>20.1683</td>\n",
       "      <td>2020-04-07</td>\n",
       "      <td>383</td>\n",
       "      <td>22</td>\n",
       "    </tr>\n",
       "    <tr>\n",
       "      <th>2</th>\n",
       "      <td>Algeria</td>\n",
       "      <td>28.0339</td>\n",
       "      <td>1.6596</td>\n",
       "      <td>2020-04-07</td>\n",
       "      <td>1468</td>\n",
       "      <td>193</td>\n",
       "    </tr>\n",
       "    <tr>\n",
       "      <th>3</th>\n",
       "      <td>Andorra</td>\n",
       "      <td>42.5063</td>\n",
       "      <td>1.5218</td>\n",
       "      <td>2020-04-07</td>\n",
       "      <td>545</td>\n",
       "      <td>22</td>\n",
       "    </tr>\n",
       "    <tr>\n",
       "      <th>4</th>\n",
       "      <td>Angola</td>\n",
       "      <td>-11.2027</td>\n",
       "      <td>17.8739</td>\n",
       "      <td>2020-04-07</td>\n",
       "      <td>17</td>\n",
       "      <td>2</td>\n",
       "    </tr>\n",
       "  </tbody>\n",
       "</table>\n",
       "</div>"
      ],
      "text/plain": [
       "  Country/Region      Lat     Long       date  CumConfirmed  CumDeaths\n",
       "0    Afghanistan  33.0000  65.0000 2020-04-07           423         14\n",
       "1        Albania  41.1533  20.1683 2020-04-07           383         22\n",
       "2        Algeria  28.0339   1.6596 2020-04-07          1468        193\n",
       "3        Andorra  42.5063   1.5218 2020-04-07           545         22\n",
       "4         Angola -11.2027  17.8739 2020-04-07            17          2"
      ]
     },
     "execution_count": 37,
     "metadata": {},
     "output_type": "execute_result"
    }
   ],
   "source": [
    "grouped_country.head()\n"
   ]
  },
  {
   "cell_type": "code",
   "execution_count": null,
   "metadata": {},
   "outputs": [],
   "source": []
  },
  {
   "cell_type": "code",
   "execution_count": 38,
   "metadata": {},
   "outputs": [
    {
     "data": {
      "text/html": [
       "<div>\n",
       "<style scoped>\n",
       "    .dataframe tbody tr th:only-of-type {\n",
       "        vertical-align: middle;\n",
       "    }\n",
       "\n",
       "    .dataframe tbody tr th {\n",
       "        vertical-align: top;\n",
       "    }\n",
       "\n",
       "    .dataframe thead th {\n",
       "        text-align: right;\n",
       "    }\n",
       "</style>\n",
       "<table border=\"1\" class=\"dataframe\">\n",
       "  <thead>\n",
       "    <tr style=\"text-align: right;\">\n",
       "      <th></th>\n",
       "      <th>Lat</th>\n",
       "      <th>Long</th>\n",
       "      <th>date</th>\n",
       "      <th>CumConfirmed</th>\n",
       "      <th>CumDeaths</th>\n",
       "      <th>dev_index</th>\n",
       "      <th>population</th>\n",
       "      <th>perc_65</th>\n",
       "    </tr>\n",
       "    <tr>\n",
       "      <th>Country/Region</th>\n",
       "      <th></th>\n",
       "      <th></th>\n",
       "      <th></th>\n",
       "      <th></th>\n",
       "      <th></th>\n",
       "      <th></th>\n",
       "      <th></th>\n",
       "      <th></th>\n",
       "    </tr>\n",
       "  </thead>\n",
       "  <tbody>\n",
       "    <tr>\n",
       "      <th>Afghanistan</th>\n",
       "      <td>33.0000</td>\n",
       "      <td>65.0000</td>\n",
       "      <td>2020-04-07</td>\n",
       "      <td>423</td>\n",
       "      <td>14</td>\n",
       "      <td>0.498</td>\n",
       "      <td>38928.346</td>\n",
       "      <td>2.584927</td>\n",
       "    </tr>\n",
       "    <tr>\n",
       "      <th>Albania</th>\n",
       "      <td>41.1533</td>\n",
       "      <td>20.1683</td>\n",
       "      <td>2020-04-07</td>\n",
       "      <td>383</td>\n",
       "      <td>22</td>\n",
       "      <td>0.785</td>\n",
       "      <td>2877.797</td>\n",
       "      <td>13.744736</td>\n",
       "    </tr>\n",
       "    <tr>\n",
       "      <th>Algeria</th>\n",
       "      <td>28.0339</td>\n",
       "      <td>1.6596</td>\n",
       "      <td>2020-04-07</td>\n",
       "      <td>1468</td>\n",
       "      <td>193</td>\n",
       "      <td>0.754</td>\n",
       "      <td>43851.044</td>\n",
       "      <td>6.362497</td>\n",
       "    </tr>\n",
       "    <tr>\n",
       "      <th>Andorra</th>\n",
       "      <td>42.5063</td>\n",
       "      <td>1.5218</td>\n",
       "      <td>2020-04-07</td>\n",
       "      <td>545</td>\n",
       "      <td>22</td>\n",
       "      <td>0.858</td>\n",
       "      <td>77.265</td>\n",
       "      <td>16.180000</td>\n",
       "    </tr>\n",
       "    <tr>\n",
       "      <th>Angola</th>\n",
       "      <td>-11.2027</td>\n",
       "      <td>17.8739</td>\n",
       "      <td>2020-04-07</td>\n",
       "      <td>17</td>\n",
       "      <td>2</td>\n",
       "      <td>0.581</td>\n",
       "      <td>32866.272</td>\n",
       "      <td>2.216374</td>\n",
       "    </tr>\n",
       "  </tbody>\n",
       "</table>\n",
       "</div>"
      ],
      "text/plain": [
       "                    Lat     Long       date  CumConfirmed  CumDeaths  \\\n",
       "Country/Region                                                         \n",
       "Afghanistan     33.0000  65.0000 2020-04-07           423         14   \n",
       "Albania         41.1533  20.1683 2020-04-07           383         22   \n",
       "Algeria         28.0339   1.6596 2020-04-07          1468        193   \n",
       "Andorra         42.5063   1.5218 2020-04-07           545         22   \n",
       "Angola         -11.2027  17.8739 2020-04-07            17          2   \n",
       "\n",
       "                dev_index  population    perc_65  \n",
       "Country/Region                                    \n",
       "Afghanistan         0.498   38928.346   2.584927  \n",
       "Albania             0.785    2877.797  13.744736  \n",
       "Algeria             0.754   43851.044   6.362497  \n",
       "Andorra             0.858      77.265  16.180000  \n",
       "Angola              0.581   32866.272   2.216374  "
      ]
     },
     "execution_count": 38,
     "metadata": {},
     "output_type": "execute_result"
    }
   ],
   "source": [
    "grouped_country['dev_index'] = grouped_country['Country/Region'].map(index_dict)\n",
    "grouped_country['population'] = grouped_country['Country/Region'].map(pop_dict)\n",
    "grouped_country['perc_65'] = grouped_country['Country/Region'].map(over_65_dict)\n",
    "grouped_country.set_index('Country/Region', inplace=True)\n",
    "grouped_country.head()"
   ]
  },
  {
   "cell_type": "code",
   "execution_count": 40,
   "metadata": {},
   "outputs": [
    {
     "data": {
      "text/plain": [
       "Lat                         37.0902\n",
       "Long                       -95.7129\n",
       "date            2020-04-07 00:00:00\n",
       "CumConfirmed                 396223\n",
       "CumDeaths                     12722\n",
       "dev_index                       NaN\n",
       "population                      NaN\n",
       "perc_65                         NaN\n",
       "Name: US, dtype: object"
      ]
     },
     "execution_count": 40,
     "metadata": {},
     "output_type": "execute_result"
    }
   ],
   "source": [
    "grouped_country.loc['US']"
   ]
  },
  {
   "cell_type": "code",
   "execution_count": 198,
   "metadata": {},
   "outputs": [
    {
     "data": {
      "text/html": [
       "<div>\n",
       "<style scoped>\n",
       "    .dataframe tbody tr th:only-of-type {\n",
       "        vertical-align: middle;\n",
       "    }\n",
       "\n",
       "    .dataframe tbody tr th {\n",
       "        vertical-align: top;\n",
       "    }\n",
       "\n",
       "    .dataframe thead th {\n",
       "        text-align: right;\n",
       "    }\n",
       "</style>\n",
       "<table border=\"1\" class=\"dataframe\">\n",
       "  <thead>\n",
       "    <tr style=\"text-align: right;\">\n",
       "      <th></th>\n",
       "      <th>Lat</th>\n",
       "      <th>Long</th>\n",
       "      <th>date</th>\n",
       "      <th>CumConfirmed</th>\n",
       "      <th>CumDeaths</th>\n",
       "      <th>dev_index</th>\n",
       "      <th>population</th>\n",
       "      <th>perc_65</th>\n",
       "    </tr>\n",
       "    <tr>\n",
       "      <th>Country/Region</th>\n",
       "      <th></th>\n",
       "      <th></th>\n",
       "      <th></th>\n",
       "      <th></th>\n",
       "      <th></th>\n",
       "      <th></th>\n",
       "      <th></th>\n",
       "      <th></th>\n",
       "    </tr>\n",
       "  </thead>\n",
       "  <tbody>\n",
       "    <tr>\n",
       "      <th>Afghanistan</th>\n",
       "      <td>33.0000</td>\n",
       "      <td>65.0000</td>\n",
       "      <td>2020-04-03</td>\n",
       "      <td>281</td>\n",
       "      <td>6</td>\n",
       "      <td>0.498</td>\n",
       "      <td>38928.346</td>\n",
       "      <td>2.584927</td>\n",
       "    </tr>\n",
       "    <tr>\n",
       "      <th>Albania</th>\n",
       "      <td>41.1533</td>\n",
       "      <td>20.1683</td>\n",
       "      <td>2020-04-03</td>\n",
       "      <td>304</td>\n",
       "      <td>17</td>\n",
       "      <td>0.785</td>\n",
       "      <td>2877.797</td>\n",
       "      <td>13.744736</td>\n",
       "    </tr>\n",
       "    <tr>\n",
       "      <th>Algeria</th>\n",
       "      <td>28.0339</td>\n",
       "      <td>1.6596</td>\n",
       "      <td>2020-04-03</td>\n",
       "      <td>1171</td>\n",
       "      <td>105</td>\n",
       "      <td>0.754</td>\n",
       "      <td>43851.044</td>\n",
       "      <td>6.362497</td>\n",
       "    </tr>\n",
       "    <tr>\n",
       "      <th>Andorra</th>\n",
       "      <td>42.5063</td>\n",
       "      <td>1.5218</td>\n",
       "      <td>2020-04-03</td>\n",
       "      <td>439</td>\n",
       "      <td>16</td>\n",
       "      <td>0.858</td>\n",
       "      <td>77.265</td>\n",
       "      <td>16.180000</td>\n",
       "    </tr>\n",
       "    <tr>\n",
       "      <th>Angola</th>\n",
       "      <td>-11.2027</td>\n",
       "      <td>17.8739</td>\n",
       "      <td>2020-04-03</td>\n",
       "      <td>8</td>\n",
       "      <td>2</td>\n",
       "      <td>0.581</td>\n",
       "      <td>32866.272</td>\n",
       "      <td>2.216374</td>\n",
       "    </tr>\n",
       "    <tr>\n",
       "      <th>...</th>\n",
       "      <td>...</td>\n",
       "      <td>...</td>\n",
       "      <td>...</td>\n",
       "      <td>...</td>\n",
       "      <td>...</td>\n",
       "      <td>...</td>\n",
       "      <td>...</td>\n",
       "      <td>...</td>\n",
       "    </tr>\n",
       "    <tr>\n",
       "      <th>Venezuela</th>\n",
       "      <td>6.4238</td>\n",
       "      <td>-66.5897</td>\n",
       "      <td>2020-04-03</td>\n",
       "      <td>153</td>\n",
       "      <td>7</td>\n",
       "      <td>0.761</td>\n",
       "      <td>28435.940</td>\n",
       "      <td>NaN</td>\n",
       "    </tr>\n",
       "    <tr>\n",
       "      <th>Vietnam</th>\n",
       "      <td>16.0000</td>\n",
       "      <td>108.0000</td>\n",
       "      <td>2020-04-03</td>\n",
       "      <td>237</td>\n",
       "      <td>0</td>\n",
       "      <td>0.694</td>\n",
       "      <td>97338.579</td>\n",
       "      <td>7.274978</td>\n",
       "    </tr>\n",
       "    <tr>\n",
       "      <th>West Bank and Gaza</th>\n",
       "      <td>31.9522</td>\n",
       "      <td>35.2332</td>\n",
       "      <td>2020-04-03</td>\n",
       "      <td>194</td>\n",
       "      <td>1</td>\n",
       "      <td>NaN</td>\n",
       "      <td>NaN</td>\n",
       "      <td>3.133306</td>\n",
       "    </tr>\n",
       "    <tr>\n",
       "      <th>Zambia</th>\n",
       "      <td>-15.4167</td>\n",
       "      <td>28.2833</td>\n",
       "      <td>2020-04-03</td>\n",
       "      <td>39</td>\n",
       "      <td>1</td>\n",
       "      <td>0.588</td>\n",
       "      <td>18383.955</td>\n",
       "      <td>2.099678</td>\n",
       "    </tr>\n",
       "    <tr>\n",
       "      <th>Zimbabwe</th>\n",
       "      <td>-20.0000</td>\n",
       "      <td>30.0000</td>\n",
       "      <td>2020-04-03</td>\n",
       "      <td>9</td>\n",
       "      <td>1</td>\n",
       "      <td>0.535</td>\n",
       "      <td>14862.924</td>\n",
       "      <td>2.939524</td>\n",
       "    </tr>\n",
       "  </tbody>\n",
       "</table>\n",
       "<p>181 rows × 8 columns</p>\n",
       "</div>"
      ],
      "text/plain": [
       "                        Lat      Long       date  CumConfirmed  CumDeaths  \\\n",
       "Country/Region                                                              \n",
       "Afghanistan         33.0000   65.0000 2020-04-03           281          6   \n",
       "Albania             41.1533   20.1683 2020-04-03           304         17   \n",
       "Algeria             28.0339    1.6596 2020-04-03          1171        105   \n",
       "Andorra             42.5063    1.5218 2020-04-03           439         16   \n",
       "Angola             -11.2027   17.8739 2020-04-03             8          2   \n",
       "...                     ...       ...        ...           ...        ...   \n",
       "Venezuela            6.4238  -66.5897 2020-04-03           153          7   \n",
       "Vietnam             16.0000  108.0000 2020-04-03           237          0   \n",
       "West Bank and Gaza  31.9522   35.2332 2020-04-03           194          1   \n",
       "Zambia             -15.4167   28.2833 2020-04-03            39          1   \n",
       "Zimbabwe           -20.0000   30.0000 2020-04-03             9          1   \n",
       "\n",
       "                    dev_index  population    perc_65  \n",
       "Country/Region                                        \n",
       "Afghanistan             0.498   38928.346   2.584927  \n",
       "Albania                 0.785    2877.797  13.744736  \n",
       "Algeria                 0.754   43851.044   6.362497  \n",
       "Andorra                 0.858      77.265  16.180000  \n",
       "Angola                  0.581   32866.272   2.216374  \n",
       "...                       ...         ...        ...  \n",
       "Venezuela               0.761   28435.940        NaN  \n",
       "Vietnam                 0.694   97338.579   7.274978  \n",
       "West Bank and Gaza        NaN         NaN   3.133306  \n",
       "Zambia                  0.588   18383.955   2.099678  \n",
       "Zimbabwe                0.535   14862.924   2.939524  \n",
       "\n",
       "[181 rows x 8 columns]"
      ]
     },
     "execution_count": 198,
     "metadata": {},
     "output_type": "execute_result"
    }
   ],
   "source": [
    "# Adding missing values\n",
    "\n",
    "grouped_country.loc['US', 'dev_index'] = 0.924\n",
    "grouped_country.loc['Korea, South', 'dev_index'] = 0.903\n",
    "\n",
    "\n",
    "grouped_country.loc['US', 'population'] = 331002.651\n",
    "grouped_country.loc['Korea, South', 'population'] = 51269.185\n",
    "\n",
    "\n",
    "grouped_country.loc['US', 'population'] = 331002.651\n",
    "grouped_country.loc['Korea, South', 'population'] = 51269.185\n",
    "grouped_country.loc['Iran', 'perc_65'] = 5.48\n",
    "grouped_country.loc['US', 'perc_65'] = 15.8076540556035\n",
    "\n",
    "grouped_country"
   ]
  },
  {
   "cell_type": "code",
   "execution_count": 199,
   "metadata": {},
   "outputs": [
    {
     "data": {
      "text/html": [
       "<div>\n",
       "<style scoped>\n",
       "    .dataframe tbody tr th:only-of-type {\n",
       "        vertical-align: middle;\n",
       "    }\n",
       "\n",
       "    .dataframe tbody tr th {\n",
       "        vertical-align: top;\n",
       "    }\n",
       "\n",
       "    .dataframe thead th {\n",
       "        text-align: right;\n",
       "    }\n",
       "</style>\n",
       "<table border=\"1\" class=\"dataframe\">\n",
       "  <thead>\n",
       "    <tr style=\"text-align: right;\">\n",
       "      <th></th>\n",
       "      <th>Lat</th>\n",
       "      <th>Long</th>\n",
       "      <th>date</th>\n",
       "      <th>CumConfirmed</th>\n",
       "      <th>CumDeaths</th>\n",
       "      <th>dev_index</th>\n",
       "      <th>population</th>\n",
       "      <th>perc_65</th>\n",
       "      <th>DeathRate</th>\n",
       "    </tr>\n",
       "    <tr>\n",
       "      <th>Country/Region</th>\n",
       "      <th></th>\n",
       "      <th></th>\n",
       "      <th></th>\n",
       "      <th></th>\n",
       "      <th></th>\n",
       "      <th></th>\n",
       "      <th></th>\n",
       "      <th></th>\n",
       "      <th></th>\n",
       "    </tr>\n",
       "  </thead>\n",
       "  <tbody>\n",
       "    <tr>\n",
       "      <th>Afghanistan</th>\n",
       "      <td>33.0000</td>\n",
       "      <td>65.0000</td>\n",
       "      <td>2020-04-03</td>\n",
       "      <td>281</td>\n",
       "      <td>6</td>\n",
       "      <td>0.498</td>\n",
       "      <td>38928.346</td>\n",
       "      <td>2.584927</td>\n",
       "      <td>2.135231</td>\n",
       "    </tr>\n",
       "    <tr>\n",
       "      <th>Albania</th>\n",
       "      <td>41.1533</td>\n",
       "      <td>20.1683</td>\n",
       "      <td>2020-04-03</td>\n",
       "      <td>304</td>\n",
       "      <td>17</td>\n",
       "      <td>0.785</td>\n",
       "      <td>2877.797</td>\n",
       "      <td>13.744736</td>\n",
       "      <td>5.592105</td>\n",
       "    </tr>\n",
       "    <tr>\n",
       "      <th>Algeria</th>\n",
       "      <td>28.0339</td>\n",
       "      <td>1.6596</td>\n",
       "      <td>2020-04-03</td>\n",
       "      <td>1171</td>\n",
       "      <td>105</td>\n",
       "      <td>0.754</td>\n",
       "      <td>43851.044</td>\n",
       "      <td>6.362497</td>\n",
       "      <td>8.966695</td>\n",
       "    </tr>\n",
       "    <tr>\n",
       "      <th>Andorra</th>\n",
       "      <td>42.5063</td>\n",
       "      <td>1.5218</td>\n",
       "      <td>2020-04-03</td>\n",
       "      <td>439</td>\n",
       "      <td>16</td>\n",
       "      <td>0.858</td>\n",
       "      <td>77.265</td>\n",
       "      <td>16.180000</td>\n",
       "      <td>3.644647</td>\n",
       "    </tr>\n",
       "    <tr>\n",
       "      <th>Angola</th>\n",
       "      <td>-11.2027</td>\n",
       "      <td>17.8739</td>\n",
       "      <td>2020-04-03</td>\n",
       "      <td>8</td>\n",
       "      <td>2</td>\n",
       "      <td>0.581</td>\n",
       "      <td>32866.272</td>\n",
       "      <td>2.216374</td>\n",
       "      <td>25.000000</td>\n",
       "    </tr>\n",
       "  </tbody>\n",
       "</table>\n",
       "</div>"
      ],
      "text/plain": [
       "                    Lat     Long       date  CumConfirmed  CumDeaths  \\\n",
       "Country/Region                                                         \n",
       "Afghanistan     33.0000  65.0000 2020-04-03           281          6   \n",
       "Albania         41.1533  20.1683 2020-04-03           304         17   \n",
       "Algeria         28.0339   1.6596 2020-04-03          1171        105   \n",
       "Andorra         42.5063   1.5218 2020-04-03           439         16   \n",
       "Angola         -11.2027  17.8739 2020-04-03             8          2   \n",
       "\n",
       "                dev_index  population    perc_65  DeathRate  \n",
       "Country/Region                                               \n",
       "Afghanistan         0.498   38928.346   2.584927   2.135231  \n",
       "Albania             0.785    2877.797  13.744736   5.592105  \n",
       "Algeria             0.754   43851.044   6.362497   8.966695  \n",
       "Andorra             0.858      77.265  16.180000   3.644647  \n",
       "Angola              0.581   32866.272   2.216374  25.000000  "
      ]
     },
     "execution_count": 199,
     "metadata": {},
     "output_type": "execute_result"
    }
   ],
   "source": [
    "grouped_country['DeathRate'] = (grouped_country.CumDeaths/grouped_country.CumConfirmed)*100\n",
    "grouped_country.head()"
   ]
  },
  {
   "cell_type": "code",
   "execution_count": 211,
   "metadata": {},
   "outputs": [
    {
     "data": {
      "text/html": [
       "<div>\n",
       "<style scoped>\n",
       "    .dataframe tbody tr th:only-of-type {\n",
       "        vertical-align: middle;\n",
       "    }\n",
       "\n",
       "    .dataframe tbody tr th {\n",
       "        vertical-align: top;\n",
       "    }\n",
       "\n",
       "    .dataframe thead th {\n",
       "        text-align: right;\n",
       "    }\n",
       "</style>\n",
       "<table border=\"1\" class=\"dataframe\">\n",
       "  <thead>\n",
       "    <tr style=\"text-align: right;\">\n",
       "      <th></th>\n",
       "      <th>Country/Region</th>\n",
       "      <th>Lat</th>\n",
       "      <th>Long</th>\n",
       "      <th>date</th>\n",
       "      <th>CumConfirmed</th>\n",
       "      <th>CumDeaths</th>\n",
       "      <th>dev_index</th>\n",
       "      <th>population</th>\n",
       "      <th>perc_65</th>\n",
       "      <th>DeathRate</th>\n",
       "    </tr>\n",
       "  </thead>\n",
       "  <tbody>\n",
       "    <tr>\n",
       "      <th>0</th>\n",
       "      <td>Gambia</td>\n",
       "      <td>13.4432</td>\n",
       "      <td>-15.3101</td>\n",
       "      <td>2020-04-03</td>\n",
       "      <td>4</td>\n",
       "      <td>1</td>\n",
       "      <td>0.460</td>\n",
       "      <td>2416.668</td>\n",
       "      <td>NaN</td>\n",
       "      <td>25.000000</td>\n",
       "    </tr>\n",
       "    <tr>\n",
       "      <th>1</th>\n",
       "      <td>Angola</td>\n",
       "      <td>-11.2027</td>\n",
       "      <td>17.8739</td>\n",
       "      <td>2020-04-03</td>\n",
       "      <td>8</td>\n",
       "      <td>2</td>\n",
       "      <td>0.581</td>\n",
       "      <td>32866.272</td>\n",
       "      <td>2.216374</td>\n",
       "      <td>25.000000</td>\n",
       "    </tr>\n",
       "    <tr>\n",
       "      <th>2</th>\n",
       "      <td>Botswana</td>\n",
       "      <td>-22.3285</td>\n",
       "      <td>24.6849</td>\n",
       "      <td>2020-04-03</td>\n",
       "      <td>4</td>\n",
       "      <td>1</td>\n",
       "      <td>0.717</td>\n",
       "      <td>2351.627</td>\n",
       "      <td>4.223874</td>\n",
       "      <td>25.000000</td>\n",
       "    </tr>\n",
       "    <tr>\n",
       "      <th>3</th>\n",
       "      <td>MS Zaandam</td>\n",
       "      <td>0.0000</td>\n",
       "      <td>0.0000</td>\n",
       "      <td>2020-04-03</td>\n",
       "      <td>9</td>\n",
       "      <td>2</td>\n",
       "      <td>NaN</td>\n",
       "      <td>NaN</td>\n",
       "      <td>NaN</td>\n",
       "      <td>22.222222</td>\n",
       "    </tr>\n",
       "    <tr>\n",
       "      <th>4</th>\n",
       "      <td>Sudan</td>\n",
       "      <td>12.8628</td>\n",
       "      <td>30.2176</td>\n",
       "      <td>2020-04-03</td>\n",
       "      <td>10</td>\n",
       "      <td>2</td>\n",
       "      <td>0.502</td>\n",
       "      <td>43849.260</td>\n",
       "      <td>3.581161</td>\n",
       "      <td>20.000000</td>\n",
       "    </tr>\n",
       "  </tbody>\n",
       "</table>\n",
       "</div>"
      ],
      "text/plain": [
       "  Country/Region      Lat     Long       date  CumConfirmed  CumDeaths  \\\n",
       "0         Gambia  13.4432 -15.3101 2020-04-03             4          1   \n",
       "1         Angola -11.2027  17.8739 2020-04-03             8          2   \n",
       "2       Botswana -22.3285  24.6849 2020-04-03             4          1   \n",
       "3     MS Zaandam   0.0000   0.0000 2020-04-03             9          2   \n",
       "4          Sudan  12.8628  30.2176 2020-04-03            10          2   \n",
       "\n",
       "   dev_index  population   perc_65  DeathRate  \n",
       "0      0.460    2416.668       NaN  25.000000  \n",
       "1      0.581   32866.272  2.216374  25.000000  \n",
       "2      0.717    2351.627  4.223874  25.000000  \n",
       "3        NaN         NaN       NaN  22.222222  \n",
       "4      0.502   43849.260  3.581161  20.000000  "
      ]
     },
     "execution_count": 211,
     "metadata": {},
     "output_type": "execute_result"
    }
   ],
   "source": [
    "# sort df by Count column\n",
    "grouped_country = grouped_country.sort_values(['DeathRate'], ascending=False).reset_index()\n",
    "grouped_country.head()"
   ]
  },
  {
   "cell_type": "code",
   "execution_count": 212,
   "metadata": {},
   "outputs": [
    {
     "data": {
      "image/png": "[encoded data removed]",
      "text/plain": [
       "<Figure size 1728x432 with 1 Axes>"
      ]
     },
     "metadata": {},
     "output_type": "display_data"
    }
   ],
   "source": [
    "greater_one = grouped_country[grouped_country['DeathRate'] > 0]\n",
    "\n",
    "more_than_100 = greater_one[greater_one.CumConfirmed > 100]\n",
    "\n",
    "mean = more_than_100.DeathRate.mean()\n",
    "\n",
    "\n",
    "fig, ax = plt.subplots(figsize=(24, 6))\n",
    "ax = sns.barplot(x=more_than_100['Country/Region'], y=more_than_100.DeathRate, data=more_than_100, color=\"salmon\")\n",
    "ax.axhline(mean, label='Mean')\n",
    "ax.set_title('Current Death Rates for Countries with >100 confirmed cases')\n",
    "plt.xticks(rotation=90)\n",
    "ax.set(xlabel='Country (More than 100 cases)', ylabel='Death Rate')\n",
    "plt.tight_layout()\n",
    "plt.legend()\n",
    "plt.savefig('current_death_rates.png', dpi=600)"
   ]
  },
  {
   "cell_type": "code",
   "execution_count": null,
   "metadata": {},
   "outputs": [],
   "source": []
  },
  {
   "cell_type": "code",
   "execution_count": 225,
   "metadata": {},
   "outputs": [
    {
     "data": {
      "application/vnd.plotly.v1+json": {
       "config": {
        "plotlyServerURL": "https://plot.ly"
       },
       "data": [
        {
         "alignmentgroup": "True",
         "hoverlabel": {
          "namelength": 0
         },
         "hovertemplate": "Country/Region=%{x}<br>DeathRate=%{y}<br>CumDeaths=%{text}",
         "legendgroup": "",
         "marker": {
          "color": "#636efa"
         },
         "name": "",
         "offsetgroup": "",
         "orientation": "v",
         "showlegend": false,
         "text": [
          14681,
          30,
          6507,
          13,
          1487,
          3605,
          11198,
          181,
          105,
          9,
          1143,
          15,
          66,
          54,
          3294,
          48,
          358,
          17,
          16,
          3203,
          7,
          68,
          136,
          145,
          133,
          26,
          5,
          359,
          63,
          61,
          7,
          139,
          16,
          18,
          17,
          50,
          4,
          39,
          591,
          17,
          14,
          120,
          72,
          12,
          11,
          39,
          7087,
          27,
          4,
          37,
          246,
          5,
          63,
          6,
          20,
          6,
          71,
          425,
          25,
          4,
          174,
          5,
          53,
          8,
          11,
          40,
          168,
          5,
          1275,
          8,
          53,
          9,
          6,
          12,
          20,
          25,
          31,
          2,
          4,
          5,
          59,
          67,
          4,
          19,
          7,
          2,
          34,
          1,
          1,
          1,
          8,
          9,
          9,
          4,
          22,
          40,
          1,
          12,
          1,
          2,
          1,
          5,
          1,
          5,
          3,
          1,
          1,
          1
         ],
         "textposition": "outside",
         "texttemplate": "%{text:.2s}",
         "type": "bar",
         "x": [
          "Italy",
          "San Marino",
          "France",
          "Congo (Kinshasa)",
          "Netherlands",
          "United Kingdom",
          "Spain",
          "Indonesia",
          "Algeria",
          "Bolivia",
          "Belgium",
          "Honduras",
          "Egypt",
          "Iraq",
          "Iran",
          "Morocco",
          "Sweden",
          "Albania",
          "Burkina Faso",
          "China",
          "Venezuela",
          "Dominican Republic",
          "Philippines",
          "Ecuador",
          "Romania",
          "Hungary",
          "Niger",
          "Brazil",
          "Greece",
          "Peru",
          "Mauritius",
          "Denmark",
          "Andorra",
          "Tunisia",
          "Lebanon",
          "Mexico",
          "Kenya",
          "Argentina",
          "Switzerland",
          "Bosnia and Herzegovina",
          "Bulgaria",
          "Ireland",
          "India",
          "North Macedonia",
          "Cyprus",
          "Serbia",
          "US",
          "Ukraine",
          "Sri Lanka",
          "Panama",
          "Portugal",
          "Ghana",
          "Japan",
          "Cuba",
          "Slovenia",
          "Afghanistan",
          "Poland",
          "Turkey",
          "Colombia",
          "Nigeria",
          "Korea, South",
          "Jordan",
          "Malaysia",
          "Cameroon",
          "Diamond Princess",
          "Pakistan",
          "Austria",
          "Taiwan*",
          "Germany",
          "Moldova",
          "Czechia",
          "Lithuania",
          "Kazakhstan",
          "Estonia",
          "Finland",
          "Saudi Arabia",
          "Luxembourg",
          "Montenegro",
          "Belarus",
          "Azerbaijan",
          "Norway",
          "Canada",
          "Uruguay",
          "Thailand",
          "Armenia",
          "Uzbekistan",
          "Russia",
          "Kosovo",
          "Kyrgyzstan",
          "Brunei",
          "Croatia",
          "United Arab Emirates",
          "South Africa",
          "Bahrain",
          "Chile",
          "Israel",
          "West Bank and Gaza",
          "Australia",
          "Senegal",
          "Costa Rica",
          "Cote d'Ivoire",
          "Singapore",
          "Oman",
          "Iceland",
          "Qatar",
          "Slovakia",
          "Latvia",
          "New Zealand"
         ],
         "xaxis": "x",
         "y": [
          12.25182972118137,
          12.244897959183673,
          10.113774130373962,
          9.701492537313433,
          9.457482668701902,
          9.445084887864178,
          9.394374113876793,
          9.113796576032225,
          8.9666951323655,
          6.8181818181818175,
          6.815742397137746,
          6.756756756756757,
          6.7005076142131985,
          6.585365853658537,
          6.193708515879134,
          6.06826801517067,
          5.839177948132441,
          5.592105263157895,
          5.298013245033113,
          4.724049438069673,
          4.57516339869281,
          4.56989247311828,
          4.506295559973492,
          4.305225653206651,
          4.178448005026705,
          4.173354735152488,
          4.166666666666666,
          3.964222614840989,
          3.9057656540607564,
          3.8244514106583067,
          3.763440860215054,
          3.6997604471652914,
          3.644646924829157,
          3.6363636363636362,
          3.346456692913386,
          3.3112582781456954,
          3.278688524590164,
          3.08300395256917,
          3.0143833520350913,
          2.936096718480138,
          2.88659793814433,
          2.808331383103206,
          2.8048305414881183,
          2.7906976744186047,
          2.7777777777777777,
          2.642276422764228,
          2.571611039748028,
          2.5186567164179103,
          2.515723270440252,
          2.5084745762711864,
          2.488367388225774,
          2.4390243902439024,
          2.407336645013374,
          2.2304832713754648,
          2.141327623126338,
          2.135231316725979,
          2.0987289388117056,
          2.0314516514506957,
          1.973164956590371,
          1.9047619047619049,
          1.7292784734645201,
          1.6129032258064515,
          1.5901590159015901,
          1.5717092337917484,
          1.544943820224719,
          1.4892032762472078,
          1.4578271433530026,
          1.4367816091954022,
          1.3986550971379677,
          1.353637901861252,
          1.295526766071865,
          1.293103448275862,
          1.293103448275862,
          1.2486992715920915,
          1.238390092879257,
          1.2260912211868562,
          1.1868300153139357,
          1.1494252873563218,
          1.1396011396011396,
          1.1286681715575622,
          1.0986964618249535,
          1.0981806261268645,
          1.084010840108401,
          0.9605662285136503,
          0.9510869565217392,
          0.881057268722467,
          0.8194745721860689,
          0.7936507936507936,
          0.7692307692307693,
          0.7462686567164178,
          0.7414272474513438,
          0.7120253164556962,
          0.5980066445182725,
          0.5952380952380952,
          0.5887075194005887,
          0.5385029617662896,
          0.5154639175257731,
          0.5023022185014651,
          0.4830917874396135,
          0.4807692307692308,
          0.45871559633027525,
          0.4488330341113106,
          0.3968253968253968,
          0.36656891495601174,
          0.27906976744186046,
          0.2222222222222222,
          0.2028397565922921,
          0.1152073732718894
         ],
         "yaxis": "y"
        },
        {
         "mode": "lines+markers",
         "name": "lines+markers",
         "type": "scatter",
         "x": [
          0,
          1,
          2,
          3,
          4,
          5,
          6,
          7,
          8,
          9,
          10,
          11,
          12,
          13,
          14,
          15,
          16,
          17,
          18,
          19,
          20,
          21,
          22,
          23,
          24,
          25,
          26,
          27,
          28,
          29,
          30,
          31,
          32,
          33,
          34,
          35,
          36,
          37,
          38,
          39,
          40,
          41,
          42,
          43,
          44,
          45,
          46,
          47,
          48,
          49,
          50,
          51,
          52,
          53,
          54,
          55,
          56,
          57,
          58,
          59,
          60,
          61,
          62,
          63,
          64,
          65,
          66,
          67,
          68,
          69,
          70,
          71,
          72,
          73,
          74,
          75,
          76,
          77,
          78,
          79,
          80,
          81,
          82,
          83,
          84,
          85,
          86,
          87,
          88,
          89,
          90,
          91,
          92,
          93,
          94,
          95,
          96,
          97,
          98,
          99,
          100,
          101,
          102,
          103,
          104,
          105,
          106,
          107
         ],
         "y": [
          3.032151142698162,
          3.032151142698162,
          3.032151142698162,
          3.032151142698162,
          3.032151142698162,
          3.032151142698162,
          3.032151142698162,
          3.032151142698162,
          3.032151142698162,
          3.032151142698162,
          3.032151142698162,
          3.032151142698162,
          3.032151142698162,
          3.032151142698162,
          3.032151142698162,
          3.032151142698162,
          3.032151142698162,
          3.032151142698162,
          3.032151142698162,
          3.032151142698162,
          3.032151142698162,
          3.032151142698162,
          3.032151142698162,
          3.032151142698162,
          3.032151142698162,
          3.032151142698162,
          3.032151142698162,
          3.032151142698162,
          3.032151142698162,
          3.032151142698162,
          3.032151142698162,
          3.032151142698162,
          3.032151142698162,
          3.032151142698162,
          3.032151142698162,
          3.032151142698162,
          3.032151142698162,
          3.032151142698162,
          3.032151142698162,
          3.032151142698162,
          3.032151142698162,
          3.032151142698162,
          3.032151142698162,
          3.032151142698162,
          3.032151142698162,
          3.032151142698162,
          3.032151142698162,
          3.032151142698162,
          3.032151142698162,
          3.032151142698162,
          3.032151142698162,
          3.032151142698162,
          3.032151142698162,
          3.032151142698162,
          3.032151142698162,
          3.032151142698162,
          3.032151142698162,
          3.032151142698162,
          3.032151142698162,
          3.032151142698162,
          3.032151142698162,
          3.032151142698162,
          3.032151142698162,
          3.032151142698162,
          3.032151142698162,
          3.032151142698162,
          3.032151142698162,
          3.032151142698162,
          3.032151142698162,
          3.032151142698162,
          3.032151142698162,
          3.032151142698162,
          3.032151142698162,
          3.032151142698162,
          3.032151142698162,
          3.032151142698162,
          3.032151142698162,
          3.032151142698162,
          3.032151142698162,
          3.032151142698162,
          3.032151142698162,
          3.032151142698162,
          3.032151142698162,
          3.032151142698162,
          3.032151142698162,
          3.032151142698162,
          3.032151142698162,
          3.032151142698162,
          3.032151142698162,
          3.032151142698162,
          3.032151142698162,
          3.032151142698162,
          3.032151142698162,
          3.032151142698162,
          3.032151142698162,
          3.032151142698162,
          3.032151142698162,
          3.032151142698162,
          3.032151142698162,
          3.032151142698162,
          3.032151142698162,
          3.032151142698162,
          3.032151142698162,
          3.032151142698162,
          3.032151142698162,
          3.032151142698162,
          3.032151142698162,
          3.032151142698162
         ]
        }
       ],
       "layout": {
        "autosize": true,
        "barmode": "relative",
        "legend": {
         "tracegroupgap": 0
        },
        "margin": {
         "t": 60
        },
        "template": {
         "data": {
          "bar": [
           {
            "error_x": {
             "color": "#2a3f5f"
            },
            "error_y": {
             "color": "#2a3f5f"
            },
            "marker": {
             "line": {
              "color": "#E5ECF6",
              "width": 0.5
             }
            },
            "type": "bar"
           }
          ],
          "barpolar": [
           {
            "marker": {
             "line": {
              "color": "#E5ECF6",
              "width": 0.5
             }
            },
            "type": "barpolar"
           }
          ],
          "carpet": [
           {
            "aaxis": {
             "endlinecolor": "#2a3f5f",
             "gridcolor": "white",
             "linecolor": "white",
             "minorgridcolor": "white",
             "startlinecolor": "#2a3f5f"
            },
            "baxis": {
             "endlinecolor": "#2a3f5f",
             "gridcolor": "white",
             "linecolor": "white",
             "minorgridcolor": "white",
             "startlinecolor": "#2a3f5f"
            },
            "type": "carpet"
           }
          ],
          "choropleth": [
           {
            "colorbar": {
             "outlinewidth": 0,
             "ticks": ""
            },
            "type": "choropleth"
           }
          ],
          "contour": [
           {
            "colorbar": {
             "outlinewidth": 0,
             "ticks": ""
            },
            "colorscale": [
             [
              0,
              "#0d0887"
             ],
             [
              0.1111111111111111,
              "#46039f"
             ],
             [
              0.2222222222222222,
              "#7201a8"
             ],
             [
              0.3333333333333333,
              "#9c179e"
             ],
             [
              0.4444444444444444,
              "#bd3786"
             ],
             [
              0.5555555555555556,
              "#d8576b"
             ],
             [
              0.6666666666666666,
              "#ed7953"
             ],
             [
              0.7777777777777778,
              "#fb9f3a"
             ],
             [
              0.8888888888888888,
              "#fdca26"
             ],
             [
              1,
              "#f0f921"
             ]
            ],
            "type": "contour"
           }
          ],
          "contourcarpet": [
           {
            "colorbar": {
             "outlinewidth": 0,
             "ticks": ""
            },
            "type": "contourcarpet"
           }
          ],
          "heatmap": [
           {
            "colorbar": {
             "outlinewidth": 0,
             "ticks": ""
            },
            "colorscale": [
             [
              0,
              "#0d0887"
             ],
             [
              0.1111111111111111,
              "#46039f"
             ],
             [
              0.2222222222222222,
              "#7201a8"
             ],
             [
              0.3333333333333333,
              "#9c179e"
             ],
             [
              0.4444444444444444,
              "#bd3786"
             ],
             [
              0.5555555555555556,
              "#d8576b"
             ],
             [
              0.6666666666666666,
              "#ed7953"
             ],
             [
              0.7777777777777778,
              "#fb9f3a"
             ],
             [
              0.8888888888888888,
              "#fdca26"
             ],
             [
              1,
              "#f0f921"
             ]
            ],
            "type": "heatmap"
           }
          ],
          "heatmapgl": [
           {
            "colorbar": {
             "outlinewidth": 0,
             "ticks": ""
            },
            "colorscale": [
             [
              0,
              "#0d0887"
             ],
             [
              0.1111111111111111,
              "#46039f"
             ],
             [
              0.2222222222222222,
              "#7201a8"
             ],
             [
              0.3333333333333333,
              "#9c179e"
             ],
             [
              0.4444444444444444,
              "#bd3786"
             ],
             [
              0.5555555555555556,
              "#d8576b"
             ],
             [
              0.6666666666666666,
              "#ed7953"
             ],
             [
              0.7777777777777778,
              "#fb9f3a"
             ],
             [
              0.8888888888888888,
              "#fdca26"
             ],
             [
              1,
              "#f0f921"
             ]
            ],
            "type": "heatmapgl"
           }
          ],
          "histogram": [
           {
            "marker": {
             "colorbar": {
              "outlinewidth": 0,
              "ticks": ""
             }
            },
            "type": "histogram"
           }
          ],
          "histogram2d": [
           {
            "colorbar": {
             "outlinewidth": 0,
             "ticks": ""
            },
            "colorscale": [
             [
              0,
              "#0d0887"
             ],
             [
              0.1111111111111111,
              "#46039f"
             ],
             [
              0.2222222222222222,
              "#7201a8"
             ],
             [
              0.3333333333333333,
              "#9c179e"
             ],
             [
              0.4444444444444444,
              "#bd3786"
             ],
             [
              0.5555555555555556,
              "#d8576b"
             ],
             [
              0.6666666666666666,
              "#ed7953"
             ],
             [
              0.7777777777777778,
              "#fb9f3a"
             ],
             [
              0.8888888888888888,
              "#fdca26"
             ],
             [
              1,
              "#f0f921"
             ]
            ],
            "type": "histogram2d"
           }
          ],
          "histogram2dcontour": [
           {
            "colorbar": {
             "outlinewidth": 0,
             "ticks": ""
            },
            "colorscale": [
             [
              0,
              "#0d0887"
             ],
             [
              0.1111111111111111,
              "#46039f"
             ],
             [
              0.2222222222222222,
              "#7201a8"
             ],
             [
              0.3333333333333333,
              "#9c179e"
             ],
             [
              0.4444444444444444,
              "#bd3786"
             ],
             [
              0.5555555555555556,
              "#d8576b"
             ],
             [
              0.6666666666666666,
              "#ed7953"
             ],
             [
              0.7777777777777778,
              "#fb9f3a"
             ],
             [
              0.8888888888888888,
              "#fdca26"
             ],
             [
              1,
              "#f0f921"
             ]
            ],
            "type": "histogram2dcontour"
           }
          ],
          "mesh3d": [
           {
            "colorbar": {
             "outlinewidth": 0,
             "ticks": ""
            },
            "type": "mesh3d"
           }
          ],
          "parcoords": [
           {
            "line": {
             "colorbar": {
              "outlinewidth": 0,
              "ticks": ""
             }
            },
            "type": "parcoords"
           }
          ],
          "pie": [
           {
            "automargin": true,
            "type": "pie"
           }
          ],
          "scatter": [
           {
            "marker": {
             "colorbar": {
              "outlinewidth": 0,
              "ticks": ""
             }
            },
            "type": "scatter"
           }
          ],
          "scatter3d": [
           {
            "line": {
             "colorbar": {
              "outlinewidth": 0,
              "ticks": ""
             }
            },
            "marker": {
             "colorbar": {
              "outlinewidth": 0,
              "ticks": ""
             }
            },
            "type": "scatter3d"
           }
          ],
          "scattercarpet": [
           {
            "marker": {
             "colorbar": {
              "outlinewidth": 0,
              "ticks": ""
             }
            },
            "type": "scattercarpet"
           }
          ],
          "scattergeo": [
           {
            "marker": {
             "colorbar": {
              "outlinewidth": 0,
              "ticks": ""
             }
            },
            "type": "scattergeo"
           }
          ],
          "scattergl": [
           {
            "marker": {
             "colorbar": {
              "outlinewidth": 0,
              "ticks": ""
             }
            },
            "type": "scattergl"
           }
          ],
          "scattermapbox": [
           {
            "marker": {
             "colorbar": {
              "outlinewidth": 0,
              "ticks": ""
             }
            },
            "type": "scattermapbox"
           }
          ],
          "scatterpolar": [
           {
            "marker": {
             "colorbar": {
              "outlinewidth": 0,
              "ticks": ""
             }
            },
            "type": "scatterpolar"
           }
          ],
          "scatterpolargl": [
           {
            "marker": {
             "colorbar": {
              "outlinewidth": 0,
              "ticks": ""
             }
            },
            "type": "scatterpolargl"
           }
          ],
          "scatterternary": [
           {
            "marker": {
             "colorbar": {
              "outlinewidth": 0,
              "ticks": ""
             }
            },
            "type": "scatterternary"
           }
          ],
          "surface": [
           {
            "colorbar": {
             "outlinewidth": 0,
             "ticks": ""
            },
            "colorscale": [
             [
              0,
              "#0d0887"
             ],
             [
              0.1111111111111111,
              "#46039f"
             ],
             [
              0.2222222222222222,
              "#7201a8"
             ],
             [
              0.3333333333333333,
              "#9c179e"
             ],
             [
              0.4444444444444444,
              "#bd3786"
             ],
             [
              0.5555555555555556,
              "#d8576b"
             ],
             [
              0.6666666666666666,
              "#ed7953"
             ],
             [
              0.7777777777777778,
              "#fb9f3a"
             ],
             [
              0.8888888888888888,
              "#fdca26"
             ],
             [
              1,
              "#f0f921"
             ]
            ],
            "type": "surface"
           }
          ],
          "table": [
           {
            "cells": {
             "fill": {
              "color": "#EBF0F8"
             },
             "line": {
              "color": "white"
             }
            },
            "header": {
             "fill": {
              "color": "#C8D4E3"
             },
             "line": {
              "color": "white"
             }
            },
            "type": "table"
           }
          ]
         },
         "layout": {
          "annotationdefaults": {
           "arrowcolor": "#2a3f5f",
           "arrowhead": 0,
           "arrowwidth": 1
          },
          "coloraxis": {
           "colorbar": {
            "outlinewidth": 0,
            "ticks": ""
           }
          },
          "colorscale": {
           "diverging": [
            [
             0,
             "#8e0152"
            ],
            [
             0.1,
             "#c51b7d"
            ],
            [
             0.2,
             "#de77ae"
            ],
            [
             0.3,
             "#f1b6da"
            ],
            [
             0.4,
             "#fde0ef"
            ],
            [
             0.5,
             "#f7f7f7"
            ],
            [
             0.6,
             "#e6f5d0"
            ],
            [
             0.7,
             "#b8e186"
            ],
            [
             0.8,
             "#7fbc41"
            ],
            [
             0.9,
             "#4d9221"
            ],
            [
             1,
             "#276419"
            ]
           ],
           "sequential": [
            [
             0,
             "#0d0887"
            ],
            [
             0.1111111111111111,
             "#46039f"
            ],
            [
             0.2222222222222222,
             "#7201a8"
            ],
            [
             0.3333333333333333,
             "#9c179e"
            ],
            [
             0.4444444444444444,
             "#bd3786"
            ],
            [
             0.5555555555555556,
             "#d8576b"
            ],
            [
             0.6666666666666666,
             "#ed7953"
            ],
            [
             0.7777777777777778,
             "#fb9f3a"
            ],
            [
             0.8888888888888888,
             "#fdca26"
            ],
            [
             1,
             "#f0f921"
            ]
           ],
           "sequentialminus": [
            [
             0,
             "#0d0887"
            ],
            [
             0.1111111111111111,
             "#46039f"
            ],
            [
             0.2222222222222222,
             "#7201a8"
            ],
            [
             0.3333333333333333,
             "#9c179e"
            ],
            [
             0.4444444444444444,
             "#bd3786"
            ],
            [
             0.5555555555555556,
             "#d8576b"
            ],
            [
             0.6666666666666666,
             "#ed7953"
            ],
            [
             0.7777777777777778,
             "#fb9f3a"
            ],
            [
             0.8888888888888888,
             "#fdca26"
            ],
            [
             1,
             "#f0f921"
            ]
           ]
          },
          "colorway": [
           "#636efa",
           "#EF553B",
           "#00cc96",
           "#ab63fa",
           "#FFA15A",
           "#19d3f3",
           "#FF6692",
           "#B6E880",
           "#FF97FF",
           "#FECB52"
          ],
          "font": {
           "color": "#2a3f5f"
          },
          "geo": {
           "bgcolor": "white",
           "lakecolor": "white",
           "landcolor": "#E5ECF6",
           "showlakes": true,
           "showland": true,
           "subunitcolor": "white"
          },
          "hoverlabel": {
           "align": "left"
          },
          "hovermode": "closest",
          "mapbox": {
           "style": "light"
          },
          "paper_bgcolor": "white",
          "plot_bgcolor": "#E5ECF6",
          "polar": {
           "angularaxis": {
            "gridcolor": "white",
            "linecolor": "white",
            "ticks": ""
           },
           "bgcolor": "#E5ECF6",
           "radialaxis": {
            "gridcolor": "white",
            "linecolor": "white",
            "ticks": ""
           }
          },
          "scene": {
           "xaxis": {
            "backgroundcolor": "#E5ECF6",
            "gridcolor": "white",
            "gridwidth": 2,
            "linecolor": "white",
            "showbackground": true,
            "ticks": "",
            "zerolinecolor": "white"
           },
           "yaxis": {
            "backgroundcolor": "#E5ECF6",
            "gridcolor": "white",
            "gridwidth": 2,
            "linecolor": "white",
            "showbackground": true,
            "ticks": "",
            "zerolinecolor": "white"
           },
           "zaxis": {
            "backgroundcolor": "#E5ECF6",
            "gridcolor": "white",
            "gridwidth": 2,
            "linecolor": "white",
            "showbackground": true,
            "ticks": "",
            "zerolinecolor": "white"
           }
          },
          "shapedefaults": {
           "line": {
            "color": "#2a3f5f"
           }
          },
          "ternary": {
           "aaxis": {
            "gridcolor": "white",
            "linecolor": "white",
            "ticks": ""
           },
           "baxis": {
            "gridcolor": "white",
            "linecolor": "white",
            "ticks": ""
           },
           "bgcolor": "#E5ECF6",
           "caxis": {
            "gridcolor": "white",
            "linecolor": "white",
            "ticks": ""
           }
          },
          "title": {
           "x": 0.05
          },
          "xaxis": {
           "automargin": true,
           "gridcolor": "white",
           "linecolor": "white",
           "ticks": "",
           "title": {
            "standoff": 15
           },
           "zerolinecolor": "white",
           "zerolinewidth": 2
          },
          "yaxis": {
           "automargin": true,
           "gridcolor": "white",
           "linecolor": "white",
           "ticks": "",
           "title": {
            "standoff": 15
           },
           "zerolinecolor": "white",
           "zerolinewidth": 2
          }
         }
        },
        "uniformtext": {
         "minsize": 8,
         "mode": "hide"
        },
        "xaxis": {
         "anchor": "y",
         "autorange": true,
         "domain": [
          0,
          1
         ],
         "range": [
          -0.5,
          227.17270419372161
         ],
         "title": {
          "text": "Country/Region"
         },
         "type": "category"
        },
        "yaxis": {
         "anchor": "x",
         "autorange": true,
         "domain": [
          0,
          1
         ],
         "range": [
          0,
          12.896662864401442
         ],
         "title": {
          "text": "DeathRate"
         },
         "type": "linear"
        }
       }
      },
      "image/png": "[encoded data removed]",
      "text/html": [
       "<div>\n",
       "        \n",
       "        \n",
       "            <div id=\"da9df2a2-5ea0-4bb0-9ff7-492a0cfe24ea\" class=\"plotly-graph-div\" style=\"height:525px; width:100%;\"></div>\n",
       "            <script type=\"text/javascript\">\n",
       "                require([\"plotly\"], function(Plotly) {\n",
       "                    window.PLOTLYENV=window.PLOTLYENV || {};\n",
       "                    \n",
       "                if (document.getElementById(\"da9df2a2-5ea0-4bb0-9ff7-492a0cfe24ea\")) {\n",
       "                    Plotly.newPlot(\n",
       "                        'da9df2a2-5ea0-4bb0-9ff7-492a0cfe24ea',\n",
       "                        [{\"alignmentgroup\": \"True\", \"hoverlabel\": {\"namelength\": 0}, \"hovertemplate\": \"Country/Region=%{x}<br>DeathRate=%{y}<br>CumDeaths=%{text}\", \"legendgroup\": \"\", \"marker\": {\"color\": \"#636efa\"}, \"name\": \"\", \"offsetgroup\": \"\", \"orientation\": \"v\", \"showlegend\": false, \"text\": [14681.0, 30.0, 6507.0, 13.0, 1487.0, 3605.0, 11198.0, 181.0, 105.0, 9.0, 1143.0, 15.0, 66.0, 54.0, 3294.0, 48.0, 358.0, 17.0, 16.0, 3203.0, 7.0, 68.0, 136.0, 145.0, 133.0, 26.0, 5.0, 359.0, 63.0, 61.0, 7.0, 139.0, 16.0, 18.0, 17.0, 50.0, 4.0, 39.0, 591.0, 17.0, 14.0, 120.0, 72.0, 12.0, 11.0, 39.0, 7087.0, 27.0, 4.0, 37.0, 246.0, 5.0, 63.0, 6.0, 20.0, 6.0, 71.0, 425.0, 25.0, 4.0, 174.0, 5.0, 53.0, 8.0, 11.0, 40.0, 168.0, 5.0, 1275.0, 8.0, 53.0, 9.0, 6.0, 12.0, 20.0, 25.0, 31.0, 2.0, 4.0, 5.0, 59.0, 67.0, 4.0, 19.0, 7.0, 2.0, 34.0, 1.0, 1.0, 1.0, 8.0, 9.0, 9.0, 4.0, 22.0, 40.0, 1.0, 12.0, 1.0, 2.0, 1.0, 5.0, 1.0, 5.0, 3.0, 1.0, 1.0, 1.0], \"textposition\": \"outside\", \"texttemplate\": \"%{text:.2s}\", \"type\": \"bar\", \"x\": [\"Italy\", \"San Marino\", \"France\", \"Congo (Kinshasa)\", \"Netherlands\", \"United Kingdom\", \"Spain\", \"Indonesia\", \"Algeria\", \"Bolivia\", \"Belgium\", \"Honduras\", \"Egypt\", \"Iraq\", \"Iran\", \"Morocco\", \"Sweden\", \"Albania\", \"Burkina Faso\", \"China\", \"Venezuela\", \"Dominican Republic\", \"Philippines\", \"Ecuador\", \"Romania\", \"Hungary\", \"Niger\", \"Brazil\", \"Greece\", \"Peru\", \"Mauritius\", \"Denmark\", \"Andorra\", \"Tunisia\", \"Lebanon\", \"Mexico\", \"Kenya\", \"Argentina\", \"Switzerland\", \"Bosnia and Herzegovina\", \"Bulgaria\", \"Ireland\", \"India\", \"North Macedonia\", \"Cyprus\", \"Serbia\", \"US\", \"Ukraine\", \"Sri Lanka\", \"Panama\", \"Portugal\", \"Ghana\", \"Japan\", \"Cuba\", \"Slovenia\", \"Afghanistan\", \"Poland\", \"Turkey\", \"Colombia\", \"Nigeria\", \"Korea, South\", \"Jordan\", \"Malaysia\", \"Cameroon\", \"Diamond Princess\", \"Pakistan\", \"Austria\", \"Taiwan*\", \"Germany\", \"Moldova\", \"Czechia\", \"Lithuania\", \"Kazakhstan\", \"Estonia\", \"Finland\", \"Saudi Arabia\", \"Luxembourg\", \"Montenegro\", \"Belarus\", \"Azerbaijan\", \"Norway\", \"Canada\", \"Uruguay\", \"Thailand\", \"Armenia\", \"Uzbekistan\", \"Russia\", \"Kosovo\", \"Kyrgyzstan\", \"Brunei\", \"Croatia\", \"United Arab Emirates\", \"South Africa\", \"Bahrain\", \"Chile\", \"Israel\", \"West Bank and Gaza\", \"Australia\", \"Senegal\", \"Costa Rica\", \"Cote d'Ivoire\", \"Singapore\", \"Oman\", \"Iceland\", \"Qatar\", \"Slovakia\", \"Latvia\", \"New Zealand\"], \"xaxis\": \"x\", \"y\": [12.25182972118137, 12.244897959183673, 10.113774130373962, 9.701492537313433, 9.457482668701902, 9.445084887864178, 9.394374113876793, 9.113796576032225, 8.9666951323655, 6.8181818181818175, 6.815742397137746, 6.756756756756757, 6.7005076142131985, 6.585365853658537, 6.193708515879134, 6.06826801517067, 5.839177948132441, 5.592105263157895, 5.298013245033113, 4.724049438069673, 4.57516339869281, 4.56989247311828, 4.506295559973492, 4.305225653206651, 4.178448005026705, 4.173354735152488, 4.166666666666666, 3.964222614840989, 3.9057656540607564, 3.8244514106583067, 3.763440860215054, 3.6997604471652914, 3.644646924829157, 3.6363636363636362, 3.346456692913386, 3.3112582781456954, 3.278688524590164, 3.08300395256917, 3.0143833520350913, 2.936096718480138, 2.88659793814433, 2.808331383103206, 2.8048305414881183, 2.7906976744186047, 2.7777777777777777, 2.642276422764228, 2.571611039748028, 2.5186567164179103, 2.515723270440252, 2.5084745762711864, 2.488367388225774, 2.4390243902439024, 2.407336645013374, 2.2304832713754648, 2.141327623126338, 2.135231316725979, 2.0987289388117056, 2.0314516514506957, 1.973164956590371, 1.9047619047619049, 1.7292784734645201, 1.6129032258064515, 1.5901590159015901, 1.5717092337917484, 1.544943820224719, 1.4892032762472078, 1.4578271433530026, 1.4367816091954022, 1.3986550971379677, 1.353637901861252, 1.295526766071865, 1.293103448275862, 1.293103448275862, 1.2486992715920915, 1.238390092879257, 1.2260912211868562, 1.1868300153139357, 1.1494252873563218, 1.1396011396011396, 1.1286681715575622, 1.0986964618249535, 1.0981806261268645, 1.084010840108401, 0.9605662285136503, 0.9510869565217392, 0.881057268722467, 0.8194745721860689, 0.7936507936507936, 0.7692307692307693, 0.7462686567164178, 0.7414272474513438, 0.7120253164556962, 0.5980066445182725, 0.5952380952380952, 0.5887075194005887, 0.5385029617662896, 0.5154639175257731, 0.5023022185014651, 0.4830917874396135, 0.4807692307692308, 0.45871559633027525, 0.4488330341113106, 0.3968253968253968, 0.36656891495601174, 0.27906976744186046, 0.2222222222222222, 0.2028397565922921, 0.1152073732718894], \"yaxis\": \"y\"}, {\"mode\": \"lines+markers\", \"name\": \"lines+markers\", \"type\": \"scatter\", \"x\": [0, 1, 2, 3, 4, 5, 6, 7, 8, 9, 10, 11, 12, 13, 14, 15, 16, 17, 18, 19, 20, 21, 22, 23, 24, 25, 26, 27, 28, 29, 30, 31, 32, 33, 34, 35, 36, 37, 38, 39, 40, 41, 42, 43, 44, 45, 46, 47, 48, 49, 50, 51, 52, 53, 54, 55, 56, 57, 58, 59, 60, 61, 62, 63, 64, 65, 66, 67, 68, 69, 70, 71, 72, 73, 74, 75, 76, 77, 78, 79, 80, 81, 82, 83, 84, 85, 86, 87, 88, 89, 90, 91, 92, 93, 94, 95, 96, 97, 98, 99, 100, 101, 102, 103, 104, 105, 106, 107], \"y\": [3.032151142698162, 3.032151142698162, 3.032151142698162, 3.032151142698162, 3.032151142698162, 3.032151142698162, 3.032151142698162, 3.032151142698162, 3.032151142698162, 3.032151142698162, 3.032151142698162, 3.032151142698162, 3.032151142698162, 3.032151142698162, 3.032151142698162, 3.032151142698162, 3.032151142698162, 3.032151142698162, 3.032151142698162, 3.032151142698162, 3.032151142698162, 3.032151142698162, 3.032151142698162, 3.032151142698162, 3.032151142698162, 3.032151142698162, 3.032151142698162, 3.032151142698162, 3.032151142698162, 3.032151142698162, 3.032151142698162, 3.032151142698162, 3.032151142698162, 3.032151142698162, 3.032151142698162, 3.032151142698162, 3.032151142698162, 3.032151142698162, 3.032151142698162, 3.032151142698162, 3.032151142698162, 3.032151142698162, 3.032151142698162, 3.032151142698162, 3.032151142698162, 3.032151142698162, 3.032151142698162, 3.032151142698162, 3.032151142698162, 3.032151142698162, 3.032151142698162, 3.032151142698162, 3.032151142698162, 3.032151142698162, 3.032151142698162, 3.032151142698162, 3.032151142698162, 3.032151142698162, 3.032151142698162, 3.032151142698162, 3.032151142698162, 3.032151142698162, 3.032151142698162, 3.032151142698162, 3.032151142698162, 3.032151142698162, 3.032151142698162, 3.032151142698162, 3.032151142698162, 3.032151142698162, 3.032151142698162, 3.032151142698162, 3.032151142698162, 3.032151142698162, 3.032151142698162, 3.032151142698162, 3.032151142698162, 3.032151142698162, 3.032151142698162, 3.032151142698162, 3.032151142698162, 3.032151142698162, 3.032151142698162, 3.032151142698162, 3.032151142698162, 3.032151142698162, 3.032151142698162, 3.032151142698162, 3.032151142698162, 3.032151142698162, 3.032151142698162, 3.032151142698162, 3.032151142698162, 3.032151142698162, 3.032151142698162, 3.032151142698162, 3.032151142698162, 3.032151142698162, 3.032151142698162, 3.032151142698162, 3.032151142698162, 3.032151142698162, 3.032151142698162, 3.032151142698162, 3.032151142698162, 3.032151142698162, 3.032151142698162, 3.032151142698162]}],\n",
       "                        {\"barmode\": \"relative\", \"legend\": {\"tracegroupgap\": 0}, \"margin\": {\"t\": 60}, \"template\": {\"data\": {\"bar\": [{\"error_x\": {\"color\": \"#2a3f5f\"}, \"error_y\": {\"color\": \"#2a3f5f\"}, \"marker\": {\"line\": {\"color\": \"#E5ECF6\", \"width\": 0.5}}, \"type\": \"bar\"}], \"barpolar\": [{\"marker\": {\"line\": {\"color\": \"#E5ECF6\", \"width\": 0.5}}, \"type\": \"barpolar\"}], \"carpet\": [{\"aaxis\": {\"endlinecolor\": \"#2a3f5f\", \"gridcolor\": \"white\", \"linecolor\": \"white\", \"minorgridcolor\": \"white\", \"startlinecolor\": \"#2a3f5f\"}, \"baxis\": {\"endlinecolor\": \"#2a3f5f\", \"gridcolor\": \"white\", \"linecolor\": \"white\", \"minorgridcolor\": \"white\", \"startlinecolor\": \"#2a3f5f\"}, \"type\": \"carpet\"}], \"choropleth\": [{\"colorbar\": {\"outlinewidth\": 0, \"ticks\": \"\"}, \"type\": \"choropleth\"}], \"contour\": [{\"colorbar\": {\"outlinewidth\": 0, \"ticks\": \"\"}, \"colorscale\": [[0.0, \"#0d0887\"], [0.1111111111111111, \"#46039f\"], [0.2222222222222222, \"#7201a8\"], [0.3333333333333333, \"#9c179e\"], [0.4444444444444444, \"#bd3786\"], [0.5555555555555556, \"#d8576b\"], [0.6666666666666666, \"#ed7953\"], [0.7777777777777778, \"#fb9f3a\"], [0.8888888888888888, \"#fdca26\"], [1.0, \"#f0f921\"]], \"type\": \"contour\"}], \"contourcarpet\": [{\"colorbar\": {\"outlinewidth\": 0, \"ticks\": \"\"}, \"type\": \"contourcarpet\"}], \"heatmap\": [{\"colorbar\": {\"outlinewidth\": 0, \"ticks\": \"\"}, \"colorscale\": [[0.0, \"#0d0887\"], [0.1111111111111111, \"#46039f\"], [0.2222222222222222, \"#7201a8\"], [0.3333333333333333, \"#9c179e\"], [0.4444444444444444, \"#bd3786\"], [0.5555555555555556, \"#d8576b\"], [0.6666666666666666, \"#ed7953\"], [0.7777777777777778, \"#fb9f3a\"], [0.8888888888888888, \"#fdca26\"], [1.0, \"#f0f921\"]], \"type\": \"heatmap\"}], \"heatmapgl\": [{\"colorbar\": {\"outlinewidth\": 0, \"ticks\": \"\"}, \"colorscale\": [[0.0, \"#0d0887\"], [0.1111111111111111, \"#46039f\"], [0.2222222222222222, \"#7201a8\"], [0.3333333333333333, \"#9c179e\"], [0.4444444444444444, \"#bd3786\"], [0.5555555555555556, \"#d8576b\"], [0.6666666666666666, \"#ed7953\"], [0.7777777777777778, \"#fb9f3a\"], [0.8888888888888888, \"#fdca26\"], [1.0, \"#f0f921\"]], \"type\": \"heatmapgl\"}], \"histogram\": [{\"marker\": {\"colorbar\": {\"outlinewidth\": 0, \"ticks\": \"\"}}, \"type\": \"histogram\"}], \"histogram2d\": [{\"colorbar\": {\"outlinewidth\": 0, \"ticks\": \"\"}, \"colorscale\": [[0.0, \"#0d0887\"], [0.1111111111111111, \"#46039f\"], [0.2222222222222222, \"#7201a8\"], [0.3333333333333333, \"#9c179e\"], [0.4444444444444444, \"#bd3786\"], [0.5555555555555556, \"#d8576b\"], [0.6666666666666666, \"#ed7953\"], [0.7777777777777778, \"#fb9f3a\"], [0.8888888888888888, \"#fdca26\"], [1.0, \"#f0f921\"]], \"type\": \"histogram2d\"}], \"histogram2dcontour\": [{\"colorbar\": {\"outlinewidth\": 0, \"ticks\": \"\"}, \"colorscale\": [[0.0, \"#0d0887\"], [0.1111111111111111, \"#46039f\"], [0.2222222222222222, \"#7201a8\"], [0.3333333333333333, \"#9c179e\"], [0.4444444444444444, \"#bd3786\"], [0.5555555555555556, \"#d8576b\"], [0.6666666666666666, \"#ed7953\"], [0.7777777777777778, \"#fb9f3a\"], [0.8888888888888888, \"#fdca26\"], [1.0, \"#f0f921\"]], \"type\": \"histogram2dcontour\"}], \"mesh3d\": [{\"colorbar\": {\"outlinewidth\": 0, \"ticks\": \"\"}, \"type\": \"mesh3d\"}], \"parcoords\": [{\"line\": {\"colorbar\": {\"outlinewidth\": 0, \"ticks\": \"\"}}, \"type\": \"parcoords\"}], \"pie\": [{\"automargin\": true, \"type\": \"pie\"}], \"scatter\": [{\"marker\": {\"colorbar\": {\"outlinewidth\": 0, \"ticks\": \"\"}}, \"type\": \"scatter\"}], \"scatter3d\": [{\"line\": {\"colorbar\": {\"outlinewidth\": 0, \"ticks\": \"\"}}, \"marker\": {\"colorbar\": {\"outlinewidth\": 0, \"ticks\": \"\"}}, \"type\": \"scatter3d\"}], \"scattercarpet\": [{\"marker\": {\"colorbar\": {\"outlinewidth\": 0, \"ticks\": \"\"}}, \"type\": \"scattercarpet\"}], \"scattergeo\": [{\"marker\": {\"colorbar\": {\"outlinewidth\": 0, \"ticks\": \"\"}}, \"type\": \"scattergeo\"}], \"scattergl\": [{\"marker\": {\"colorbar\": {\"outlinewidth\": 0, \"ticks\": \"\"}}, \"type\": \"scattergl\"}], \"scattermapbox\": [{\"marker\": {\"colorbar\": {\"outlinewidth\": 0, \"ticks\": \"\"}}, \"type\": \"scattermapbox\"}], \"scatterpolar\": [{\"marker\": {\"colorbar\": {\"outlinewidth\": 0, \"ticks\": \"\"}}, \"type\": \"scatterpolar\"}], \"scatterpolargl\": [{\"marker\": {\"colorbar\": {\"outlinewidth\": 0, \"ticks\": \"\"}}, \"type\": \"scatterpolargl\"}], \"scatterternary\": [{\"marker\": {\"colorbar\": {\"outlinewidth\": 0, \"ticks\": \"\"}}, \"type\": \"scatterternary\"}], \"surface\": [{\"colorbar\": {\"outlinewidth\": 0, \"ticks\": \"\"}, \"colorscale\": [[0.0, \"#0d0887\"], [0.1111111111111111, \"#46039f\"], [0.2222222222222222, \"#7201a8\"], [0.3333333333333333, \"#9c179e\"], [0.4444444444444444, \"#bd3786\"], [0.5555555555555556, \"#d8576b\"], [0.6666666666666666, \"#ed7953\"], [0.7777777777777778, \"#fb9f3a\"], [0.8888888888888888, \"#fdca26\"], [1.0, \"#f0f921\"]], \"type\": \"surface\"}], \"table\": [{\"cells\": {\"fill\": {\"color\": \"#EBF0F8\"}, \"line\": {\"color\": \"white\"}}, \"header\": {\"fill\": {\"color\": \"#C8D4E3\"}, \"line\": {\"color\": \"white\"}}, \"type\": \"table\"}]}, \"layout\": {\"annotationdefaults\": {\"arrowcolor\": \"#2a3f5f\", \"arrowhead\": 0, \"arrowwidth\": 1}, \"coloraxis\": {\"colorbar\": {\"outlinewidth\": 0, \"ticks\": \"\"}}, \"colorscale\": {\"diverging\": [[0, \"#8e0152\"], [0.1, \"#c51b7d\"], [0.2, \"#de77ae\"], [0.3, \"#f1b6da\"], [0.4, \"#fde0ef\"], [0.5, \"#f7f7f7\"], [0.6, \"#e6f5d0\"], [0.7, \"#b8e186\"], [0.8, \"#7fbc41\"], [0.9, \"#4d9221\"], [1, \"#276419\"]], \"sequential\": [[0.0, \"#0d0887\"], [0.1111111111111111, \"#46039f\"], [0.2222222222222222, \"#7201a8\"], [0.3333333333333333, \"#9c179e\"], [0.4444444444444444, \"#bd3786\"], [0.5555555555555556, \"#d8576b\"], [0.6666666666666666, \"#ed7953\"], [0.7777777777777778, \"#fb9f3a\"], [0.8888888888888888, \"#fdca26\"], [1.0, \"#f0f921\"]], \"sequentialminus\": [[0.0, \"#0d0887\"], [0.1111111111111111, \"#46039f\"], [0.2222222222222222, \"#7201a8\"], [0.3333333333333333, \"#9c179e\"], [0.4444444444444444, \"#bd3786\"], [0.5555555555555556, \"#d8576b\"], [0.6666666666666666, \"#ed7953\"], [0.7777777777777778, \"#fb9f3a\"], [0.8888888888888888, \"#fdca26\"], [1.0, \"#f0f921\"]]}, \"colorway\": [\"#636efa\", \"#EF553B\", \"#00cc96\", \"#ab63fa\", \"#FFA15A\", \"#19d3f3\", \"#FF6692\", \"#B6E880\", \"#FF97FF\", \"#FECB52\"], \"font\": {\"color\": \"#2a3f5f\"}, \"geo\": {\"bgcolor\": \"white\", \"lakecolor\": \"white\", \"landcolor\": \"#E5ECF6\", \"showlakes\": true, \"showland\": true, \"subunitcolor\": \"white\"}, \"hoverlabel\": {\"align\": \"left\"}, \"hovermode\": \"closest\", \"mapbox\": {\"style\": \"light\"}, \"paper_bgcolor\": \"white\", \"plot_bgcolor\": \"#E5ECF6\", \"polar\": {\"angularaxis\": {\"gridcolor\": \"white\", \"linecolor\": \"white\", \"ticks\": \"\"}, \"bgcolor\": \"#E5ECF6\", \"radialaxis\": {\"gridcolor\": \"white\", \"linecolor\": \"white\", \"ticks\": \"\"}}, \"scene\": {\"xaxis\": {\"backgroundcolor\": \"#E5ECF6\", \"gridcolor\": \"white\", \"gridwidth\": 2, \"linecolor\": \"white\", \"showbackground\": true, \"ticks\": \"\", \"zerolinecolor\": \"white\"}, \"yaxis\": {\"backgroundcolor\": \"#E5ECF6\", \"gridcolor\": \"white\", \"gridwidth\": 2, \"linecolor\": \"white\", \"showbackground\": true, \"ticks\": \"\", \"zerolinecolor\": \"white\"}, \"zaxis\": {\"backgroundcolor\": \"#E5ECF6\", \"gridcolor\": \"white\", \"gridwidth\": 2, \"linecolor\": \"white\", \"showbackground\": true, \"ticks\": \"\", \"zerolinecolor\": \"white\"}}, \"shapedefaults\": {\"line\": {\"color\": \"#2a3f5f\"}}, \"ternary\": {\"aaxis\": {\"gridcolor\": \"white\", \"linecolor\": \"white\", \"ticks\": \"\"}, \"baxis\": {\"gridcolor\": \"white\", \"linecolor\": \"white\", \"ticks\": \"\"}, \"bgcolor\": \"#E5ECF6\", \"caxis\": {\"gridcolor\": \"white\", \"linecolor\": \"white\", \"ticks\": \"\"}}, \"title\": {\"x\": 0.05}, \"xaxis\": {\"automargin\": true, \"gridcolor\": \"white\", \"linecolor\": \"white\", \"ticks\": \"\", \"title\": {\"standoff\": 15}, \"zerolinecolor\": \"white\", \"zerolinewidth\": 2}, \"yaxis\": {\"automargin\": true, \"gridcolor\": \"white\", \"linecolor\": \"white\", \"ticks\": \"\", \"title\": {\"standoff\": 15}, \"zerolinecolor\": \"white\", \"zerolinewidth\": 2}}}, \"uniformtext\": {\"minsize\": 8, \"mode\": \"hide\"}, \"xaxis\": {\"anchor\": \"y\", \"domain\": [0.0, 1.0], \"title\": {\"text\": \"Country/Region\"}}, \"yaxis\": {\"anchor\": \"x\", \"domain\": [0.0, 1.0], \"title\": {\"text\": \"DeathRate\"}}},\n",
       "                        {\"responsive\": true}\n",
       "                    ).then(function(){\n",
       "                            \n",
       "var gd = document.getElementById('da9df2a2-5ea0-4bb0-9ff7-492a0cfe24ea');\n",
       "var x = new MutationObserver(function (mutations, observer) {{\n",
       "        var display = window.getComputedStyle(gd).display;\n",
       "        if (!display || display === 'none') {{\n",
       "            console.log([gd, 'removed!']);\n",
       "            Plotly.purge(gd);\n",
       "            observer.disconnect();\n",
       "        }}\n",
       "}});\n",
       "\n",
       "// Listen for the removal of the full notebook cells\n",
       "var notebookContainer = gd.closest('#notebook-container');\n",
       "if (notebookContainer) {{\n",
       "    x.observe(notebookContainer, {childList: true});\n",
       "}}\n",
       "\n",
       "// Listen for the clearing of the current output cell\n",
       "var outputEl = gd.closest('.output');\n",
       "if (outputEl) {{\n",
       "    x.observe(outputEl, {childList: true});\n",
       "}}\n",
       "\n",
       "                        })\n",
       "                };\n",
       "                });\n",
       "            </script>\n",
       "        </div>"
      ]
     },
     "metadata": {},
     "output_type": "display_data"
    }
   ],
   "source": [
    "import plotly.express as px\n",
    "\n",
    "fig = px.bar(more_than_100, y='DeathRate', x='Country/Region', text='CumDeaths')\n",
    "fig.update_traces(texttemplate='%{text:.2s}', textposition='outside')\n",
    "fig.update_layout(uniformtext_minsize=8, uniformtext_mode='hide')\n",
    "fig.add_trace(go.Scatter(x=list(range(len(more_than_100))), y=[mean for i in range(len(more_than_100))],\n",
    "                    mode='lines+markers',\n",
    "                    name='lines+markers'))\n",
    "fig.show()"
   ]
  },
  {
   "cell_type": "code",
   "execution_count": 202,
   "metadata": {},
   "outputs": [
    {
     "data": {
      "text/html": [
       "<div>\n",
       "<style scoped>\n",
       "    .dataframe tbody tr th:only-of-type {\n",
       "        vertical-align: middle;\n",
       "    }\n",
       "\n",
       "    .dataframe tbody tr th {\n",
       "        vertical-align: top;\n",
       "    }\n",
       "\n",
       "    .dataframe thead th {\n",
       "        text-align: right;\n",
       "    }\n",
       "</style>\n",
       "<table border=\"1\" class=\"dataframe\">\n",
       "  <thead>\n",
       "    <tr style=\"text-align: right;\">\n",
       "      <th></th>\n",
       "      <th>Lat</th>\n",
       "      <th>Long</th>\n",
       "      <th>date</th>\n",
       "      <th>CumConfirmed</th>\n",
       "      <th>CumDeaths</th>\n",
       "      <th>dev_index</th>\n",
       "      <th>population</th>\n",
       "      <th>perc_65</th>\n",
       "      <th>DeathRate</th>\n",
       "    </tr>\n",
       "    <tr>\n",
       "      <th>Country/Region</th>\n",
       "      <th></th>\n",
       "      <th></th>\n",
       "      <th></th>\n",
       "      <th></th>\n",
       "      <th></th>\n",
       "      <th></th>\n",
       "      <th></th>\n",
       "      <th></th>\n",
       "      <th></th>\n",
       "    </tr>\n",
       "  </thead>\n",
       "  <tbody>\n",
       "    <tr>\n",
       "      <th>Italy</th>\n",
       "      <td>43.0000</td>\n",
       "      <td>12.0000</td>\n",
       "      <td>2020-04-03</td>\n",
       "      <td>119827</td>\n",
       "      <td>14681</td>\n",
       "      <td>0.880</td>\n",
       "      <td>60461.826</td>\n",
       "      <td>22.751680</td>\n",
       "      <td>12.251830</td>\n",
       "    </tr>\n",
       "    <tr>\n",
       "      <th>San Marino</th>\n",
       "      <td>43.9424</td>\n",
       "      <td>12.4578</td>\n",
       "      <td>2020-04-03</td>\n",
       "      <td>245</td>\n",
       "      <td>30</td>\n",
       "      <td>NaN</td>\n",
       "      <td>NaN</td>\n",
       "      <td>19.800000</td>\n",
       "      <td>12.244898</td>\n",
       "    </tr>\n",
       "    <tr>\n",
       "      <th>France</th>\n",
       "      <td>46.2276</td>\n",
       "      <td>165.6180</td>\n",
       "      <td>2020-04-03</td>\n",
       "      <td>64338</td>\n",
       "      <td>6507</td>\n",
       "      <td>0.901</td>\n",
       "      <td>65273.511</td>\n",
       "      <td>20.034625</td>\n",
       "      <td>10.113774</td>\n",
       "    </tr>\n",
       "    <tr>\n",
       "      <th>Congo (Kinshasa)</th>\n",
       "      <td>-4.0383</td>\n",
       "      <td>21.7587</td>\n",
       "      <td>2020-04-03</td>\n",
       "      <td>134</td>\n",
       "      <td>13</td>\n",
       "      <td>NaN</td>\n",
       "      <td>NaN</td>\n",
       "      <td>NaN</td>\n",
       "      <td>9.701493</td>\n",
       "    </tr>\n",
       "    <tr>\n",
       "      <th>Netherlands</th>\n",
       "      <td>52.1326</td>\n",
       "      <td>5.2913</td>\n",
       "      <td>2020-04-03</td>\n",
       "      <td>15723</td>\n",
       "      <td>1487</td>\n",
       "      <td>0.931</td>\n",
       "      <td>17134.872</td>\n",
       "      <td>19.196193</td>\n",
       "      <td>9.457483</td>\n",
       "    </tr>\n",
       "  </tbody>\n",
       "</table>\n",
       "</div>"
      ],
      "text/plain": [
       "                      Lat      Long       date  CumConfirmed  CumDeaths  \\\n",
       "Country/Region                                                            \n",
       "Italy             43.0000   12.0000 2020-04-03        119827      14681   \n",
       "San Marino        43.9424   12.4578 2020-04-03           245         30   \n",
       "France            46.2276  165.6180 2020-04-03         64338       6507   \n",
       "Congo (Kinshasa)  -4.0383   21.7587 2020-04-03           134         13   \n",
       "Netherlands       52.1326    5.2913 2020-04-03         15723       1487   \n",
       "\n",
       "                  dev_index  population    perc_65  DeathRate  \n",
       "Country/Region                                                 \n",
       "Italy                 0.880   60461.826  22.751680  12.251830  \n",
       "San Marino              NaN         NaN  19.800000  12.244898  \n",
       "France                0.901   65273.511  20.034625  10.113774  \n",
       "Congo (Kinshasa)        NaN         NaN        NaN   9.701493  \n",
       "Netherlands           0.931   17134.872  19.196193   9.457483  "
      ]
     },
     "execution_count": 202,
     "metadata": {},
     "output_type": "execute_result"
    }
   ],
   "source": [
    "more_than_100.head()"
   ]
  },
  {
   "cell_type": "code",
   "execution_count": 204,
   "metadata": {},
   "outputs": [
    {
     "data": {
      "image/png": "[encoded data removed]",
      "text/plain": [
       "<Figure size 432x288 with 1 Axes>"
      ]
     },
     "metadata": {},
     "output_type": "display_data"
    }
   ],
   "source": [
    "fix, ax = plt.subplots()\n",
    "\n",
    "\n",
    "sns.set_style('dark')\n",
    "size = dev_index.pop2020\n",
    "ax = sns.regplot(x=\"perc_65\", y=\"DeathRate\", data=more_than_100)\n",
    "ax.set_title('Death Rates vs Development Index')\n",
    "sns.despine()\n",
    "plt.savefig('death_rate_v_dev_index.png', dpi=600)"
   ]
  },
  {
   "cell_type": "code",
   "execution_count": 234,
   "metadata": {},
   "outputs": [
    {
     "data": {
      "application/vnd.plotly.v1+json": {
       "config": {
        "plotlyServerURL": "https://plot.ly"
       },
       "data": [
        {
         "marker": {
          "color": [
           60461.826,
           null,
           65273.511,
           null,
           17134.872,
           67886.011,
           46754.778,
           273523.615,
           43851.044,
           11673.021,
           11589.623,
           9904.607,
           102334.404,
           40222.493,
           83992.949,
           36910.56,
           10099.265,
           2877.797,
           20903.273,
           1439323.776,
           28435.94,
           10847.91,
           109581.078,
           17643.054,
           19237.691,
           9660.351,
           24206.644,
           212559.417,
           10423.054,
           32971.854,
           1271.768,
           5792.202,
           77.265,
           11818.619,
           6825.445,
           128932.753,
           53771.296,
           45195.774,
           8654.622,
           3280.819,
           6948.445,
           4937.786,
           1380004.385,
           null,
           1207.359,
           8737.371,
           331002.651,
           43733.762,
           21413.249,
           4314.767,
           10196.709,
           31072.94,
           126476.461,
           11326.616,
           2078.938,
           38928.346,
           37846.611,
           84339.067,
           50882.891,
           206139.589,
           51269.185,
           10203.134,
           32365.999,
           26545.863,
           null,
           220892.34,
           9006.398,
           null,
           83783.942,
           4033.963,
           null,
           2722.289,
           18776.707,
           1326.535,
           5540.72,
           34813.871,
           625.978,
           628.066,
           9449.323,
           10139.177,
           5421.241,
           37742.154,
           3473.73,
           69799.978,
           2963.243,
           33469.203,
           145934.462,
           null,
           6524.195,
           437.479,
           4105.267,
           9890.402,
           59308.69,
           1701.575,
           19116.201,
           8655.535,
           null,
           25499.884,
           16743.927,
           5094.118,
           null,
           5850.342,
           5106.626,
           341.243,
           2881.053,
           5459.642,
           1886.198,
           4822.233
          ]
         },
         "mode": "markers",
         "type": "scatter",
         "x": [
          22.7516796025077,
          19.8,
          20.0346247469881,
          null,
          19.1961926333387,
          18.395865674146602,
          19.3785075224995,
          5.857165612728631,
          6.3624965449798605,
          7.19194739218447,
          18.7887437383395,
          4.69061765907812,
          null,
          3.3235996627950497,
          5.48,
          7.0129048211122,
          20.0955249278002,
          13.7447359109736,
          2.4069808286635497,
          10.9208835350654,
          null,
          7.08281747649721,
          5.12256876829946,
          7.15728972666108,
          18.338701393829602,
          19.1577253832321,
          2.5950078826985297,
          8.92283783244003,
          21.6552720778435,
          8.08839279183076,
          11.474173068652199,
          19.8129526369902,
          16.18,
          8.315679078988769,
          7.002368134392941,
          7.2236849808719805,
          2.33918661191556,
          11.1177888760774,
          18.6232165647717,
          16.4703174710621,
          21.021914434268,
          13.8658017012923,
          6.1799556494714905,
          13.6701813815648,
          13.719061773448301,
          18.3457926916963,
          15.8076540556035,
          16.434686439201602,
          10.4732197537841,
          8.104731079667571,
          21.9538575375873,
          3.0688980069339595,
          27.576369910355,
          15.1862114171521,
          19.6068796541788,
          2.58492693988024,
          17.5178167625452,
          8.4832129399716,
          8.47804701986958,
          2.7473770053274302,
          null,
          3.8464903979983402,
          6.67175462547886,
          2.7288773552405696,
          null,
          4.312774311337559,
          19.0015664595899,
          null,
          21.4619619953309,
          11.469556341351199,
          null,
          19.7050331564608,
          7.39184627103032,
          19.626356846974897,
          21.7207875455222,
          3.31408802294981,
          14.183154184147199,
          14.9749366447439,
          14.8451481743098,
          6.195182750714929,
          17.0492221563211,
          17.232006678865098,
          14.8145195308593,
          11.9008931395893,
          11.2538176570131,
          4.419137878136401,
          null,
          7.43,
          null,
          null,
          20.445433012423,
          1.0850009848448101,
          5.31800500542302,
          2.42633387832394,
          11.529801656881599,
          11.9769860249625,
          3.13330573708009,
          15.656475227559099,
          3.08682370101833,
          9.54984767296984,
          2.85894301500285,
          11.4633801933791,
          2.39278695625796,
          14.795092556568902,
          1.3700703387375,
          null,
          20.0436203206809,
          15.652424527174098
         ],
         "y": [
          12.25182972118137,
          12.244897959183673,
          10.113774130373962,
          9.701492537313433,
          9.457482668701902,
          9.445084887864178,
          9.394374113876793,
          9.113796576032225,
          8.9666951323655,
          6.8181818181818175,
          6.815742397137746,
          6.756756756756757,
          6.7005076142131985,
          6.585365853658537,
          6.193708515879134,
          6.06826801517067,
          5.839177948132441,
          5.592105263157895,
          5.298013245033113,
          4.724049438069673,
          4.57516339869281,
          4.56989247311828,
          4.506295559973492,
          4.305225653206651,
          4.178448005026705,
          4.173354735152488,
          4.166666666666666,
          3.964222614840989,
          3.9057656540607564,
          3.8244514106583067,
          3.763440860215054,
          3.6997604471652914,
          3.644646924829157,
          3.6363636363636362,
          3.346456692913386,
          3.3112582781456954,
          3.278688524590164,
          3.08300395256917,
          3.0143833520350913,
          2.936096718480138,
          2.88659793814433,
          2.808331383103206,
          2.8048305414881183,
          2.7906976744186047,
          2.7777777777777777,
          2.642276422764228,
          2.571611039748028,
          2.5186567164179103,
          2.515723270440252,
          2.5084745762711864,
          2.488367388225774,
          2.4390243902439024,
          2.407336645013374,
          2.2304832713754648,
          2.141327623126338,
          2.135231316725979,
          2.0987289388117056,
          2.0314516514506957,
          1.973164956590371,
          1.9047619047619049,
          1.7292784734645201,
          1.6129032258064515,
          1.5901590159015901,
          1.5717092337917484,
          1.544943820224719,
          1.4892032762472078,
          1.4578271433530026,
          1.4367816091954022,
          1.3986550971379677,
          1.353637901861252,
          1.295526766071865,
          1.293103448275862,
          1.293103448275862,
          1.2486992715920915,
          1.238390092879257,
          1.2260912211868562,
          1.1868300153139357,
          1.1494252873563218,
          1.1396011396011396,
          1.1286681715575622,
          1.0986964618249535,
          1.0981806261268645,
          1.084010840108401,
          0.9605662285136503,
          0.9510869565217392,
          0.881057268722467,
          0.8194745721860689,
          0.7936507936507936,
          0.7692307692307693,
          0.7462686567164178,
          0.7414272474513438,
          0.7120253164556962,
          0.5980066445182725,
          0.5952380952380952,
          0.5887075194005887,
          0.5385029617662896,
          0.5154639175257731,
          0.5023022185014651,
          0.4830917874396135,
          0.4807692307692308,
          0.45871559633027525,
          0.4488330341113106,
          0.3968253968253968,
          0.36656891495601174,
          0.27906976744186046,
          0.2222222222222222,
          0.2028397565922921,
          0.1152073732718894
         ]
        }
       ],
       "layout": {
        "autosize": true,
        "template": {
         "data": {
          "bar": [
           {
            "error_x": {
             "color": "#2a3f5f"
            },
            "error_y": {
             "color": "#2a3f5f"
            },
            "marker": {
             "line": {
              "color": "#E5ECF6",
              "width": 0.5
             }
            },
            "type": "bar"
           }
          ],
          "barpolar": [
           {
            "marker": {
             "line": {
              "color": "#E5ECF6",
              "width": 0.5
             }
            },
            "type": "barpolar"
           }
          ],
          "carpet": [
           {
            "aaxis": {
             "endlinecolor": "#2a3f5f",
             "gridcolor": "white",
             "linecolor": "white",
             "minorgridcolor": "white",
             "startlinecolor": "#2a3f5f"
            },
            "baxis": {
             "endlinecolor": "#2a3f5f",
             "gridcolor": "white",
             "linecolor": "white",
             "minorgridcolor": "white",
             "startlinecolor": "#2a3f5f"
            },
            "type": "carpet"
           }
          ],
          "choropleth": [
           {
            "colorbar": {
             "outlinewidth": 0,
             "ticks": ""
            },
            "type": "choropleth"
           }
          ],
          "contour": [
           {
            "colorbar": {
             "outlinewidth": 0,
             "ticks": ""
            },
            "colorscale": [
             [
              0,
              "#0d0887"
             ],
             [
              0.1111111111111111,
              "#46039f"
             ],
             [
              0.2222222222222222,
              "#7201a8"
             ],
             [
              0.3333333333333333,
              "#9c179e"
             ],
             [
              0.4444444444444444,
              "#bd3786"
             ],
             [
              0.5555555555555556,
              "#d8576b"
             ],
             [
              0.6666666666666666,
              "#ed7953"
             ],
             [
              0.7777777777777778,
              "#fb9f3a"
             ],
             [
              0.8888888888888888,
              "#fdca26"
             ],
             [
              1,
              "#f0f921"
             ]
            ],
            "type": "contour"
           }
          ],
          "contourcarpet": [
           {
            "colorbar": {
             "outlinewidth": 0,
             "ticks": ""
            },
            "type": "contourcarpet"
           }
          ],
          "heatmap": [
           {
            "colorbar": {
             "outlinewidth": 0,
             "ticks": ""
            },
            "colorscale": [
             [
              0,
              "#0d0887"
             ],
             [
              0.1111111111111111,
              "#46039f"
             ],
             [
              0.2222222222222222,
              "#7201a8"
             ],
             [
              0.3333333333333333,
              "#9c179e"
             ],
             [
              0.4444444444444444,
              "#bd3786"
             ],
             [
              0.5555555555555556,
              "#d8576b"
             ],
             [
              0.6666666666666666,
              "#ed7953"
             ],
             [
              0.7777777777777778,
              "#fb9f3a"
             ],
             [
              0.8888888888888888,
              "#fdca26"
             ],
             [
              1,
              "#f0f921"
             ]
            ],
            "type": "heatmap"
           }
          ],
          "heatmapgl": [
           {
            "colorbar": {
             "outlinewidth": 0,
             "ticks": ""
            },
            "colorscale": [
             [
              0,
              "#0d0887"
             ],
             [
              0.1111111111111111,
              "#46039f"
             ],
             [
              0.2222222222222222,
              "#7201a8"
             ],
             [
              0.3333333333333333,
              "#9c179e"
             ],
             [
              0.4444444444444444,
              "#bd3786"
             ],
             [
              0.5555555555555556,
              "#d8576b"
             ],
             [
              0.6666666666666666,
              "#ed7953"
             ],
             [
              0.7777777777777778,
              "#fb9f3a"
             ],
             [
              0.8888888888888888,
              "#fdca26"
             ],
             [
              1,
              "#f0f921"
             ]
            ],
            "type": "heatmapgl"
           }
          ],
          "histogram": [
           {
            "marker": {
             "colorbar": {
              "outlinewidth": 0,
              "ticks": ""
             }
            },
            "type": "histogram"
           }
          ],
          "histogram2d": [
           {
            "colorbar": {
             "outlinewidth": 0,
             "ticks": ""
            },
            "colorscale": [
             [
              0,
              "#0d0887"
             ],
             [
              0.1111111111111111,
              "#46039f"
             ],
             [
              0.2222222222222222,
              "#7201a8"
             ],
             [
              0.3333333333333333,
              "#9c179e"
             ],
             [
              0.4444444444444444,
              "#bd3786"
             ],
             [
              0.5555555555555556,
              "#d8576b"
             ],
             [
              0.6666666666666666,
              "#ed7953"
             ],
             [
              0.7777777777777778,
              "#fb9f3a"
             ],
             [
              0.8888888888888888,
              "#fdca26"
             ],
             [
              1,
              "#f0f921"
             ]
            ],
            "type": "histogram2d"
           }
          ],
          "histogram2dcontour": [
           {
            "colorbar": {
             "outlinewidth": 0,
             "ticks": ""
            },
            "colorscale": [
             [
              0,
              "#0d0887"
             ],
             [
              0.1111111111111111,
              "#46039f"
             ],
             [
              0.2222222222222222,
              "#7201a8"
             ],
             [
              0.3333333333333333,
              "#9c179e"
             ],
             [
              0.4444444444444444,
              "#bd3786"
             ],
             [
              0.5555555555555556,
              "#d8576b"
             ],
             [
              0.6666666666666666,
              "#ed7953"
             ],
             [
              0.7777777777777778,
              "#fb9f3a"
             ],
             [
              0.8888888888888888,
              "#fdca26"
             ],
             [
              1,
              "#f0f921"
             ]
            ],
            "type": "histogram2dcontour"
           }
          ],
          "mesh3d": [
           {
            "colorbar": {
             "outlinewidth": 0,
             "ticks": ""
            },
            "type": "mesh3d"
           }
          ],
          "parcoords": [
           {
            "line": {
             "colorbar": {
              "outlinewidth": 0,
              "ticks": ""
             }
            },
            "type": "parcoords"
           }
          ],
          "pie": [
           {
            "automargin": true,
            "type": "pie"
           }
          ],
          "scatter": [
           {
            "marker": {
             "colorbar": {
              "outlinewidth": 0,
              "ticks": ""
             }
            },
            "type": "scatter"
           }
          ],
          "scatter3d": [
           {
            "line": {
             "colorbar": {
              "outlinewidth": 0,
              "ticks": ""
             }
            },
            "marker": {
             "colorbar": {
              "outlinewidth": 0,
              "ticks": ""
             }
            },
            "type": "scatter3d"
           }
          ],
          "scattercarpet": [
           {
            "marker": {
             "colorbar": {
              "outlinewidth": 0,
              "ticks": ""
             }
            },
            "type": "scattercarpet"
           }
          ],
          "scattergeo": [
           {
            "marker": {
             "colorbar": {
              "outlinewidth": 0,
              "ticks": ""
             }
            },
            "type": "scattergeo"
           }
          ],
          "scattergl": [
           {
            "marker": {
             "colorbar": {
              "outlinewidth": 0,
              "ticks": ""
             }
            },
            "type": "scattergl"
           }
          ],
          "scattermapbox": [
           {
            "marker": {
             "colorbar": {
              "outlinewidth": 0,
              "ticks": ""
             }
            },
            "type": "scattermapbox"
           }
          ],
          "scatterpolar": [
           {
            "marker": {
             "colorbar": {
              "outlinewidth": 0,
              "ticks": ""
             }
            },
            "type": "scatterpolar"
           }
          ],
          "scatterpolargl": [
           {
            "marker": {
             "colorbar": {
              "outlinewidth": 0,
              "ticks": ""
             }
            },
            "type": "scatterpolargl"
           }
          ],
          "scatterternary": [
           {
            "marker": {
             "colorbar": {
              "outlinewidth": 0,
              "ticks": ""
             }
            },
            "type": "scatterternary"
           }
          ],
          "surface": [
           {
            "colorbar": {
             "outlinewidth": 0,
             "ticks": ""
            },
            "colorscale": [
             [
              0,
              "#0d0887"
             ],
             [
              0.1111111111111111,
              "#46039f"
             ],
             [
              0.2222222222222222,
              "#7201a8"
             ],
             [
              0.3333333333333333,
              "#9c179e"
             ],
             [
              0.4444444444444444,
              "#bd3786"
             ],
             [
              0.5555555555555556,
              "#d8576b"
             ],
             [
              0.6666666666666666,
              "#ed7953"
             ],
             [
              0.7777777777777778,
              "#fb9f3a"
             ],
             [
              0.8888888888888888,
              "#fdca26"
             ],
             [
              1,
              "#f0f921"
             ]
            ],
            "type": "surface"
           }
          ],
          "table": [
           {
            "cells": {
             "fill": {
              "color": "#EBF0F8"
             },
             "line": {
              "color": "white"
             }
            },
            "header": {
             "fill": {
              "color": "#C8D4E3"
             },
             "line": {
              "color": "white"
             }
            },
            "type": "table"
           }
          ]
         },
         "layout": {
          "annotationdefaults": {
           "arrowcolor": "#2a3f5f",
           "arrowhead": 0,
           "arrowwidth": 1
          },
          "coloraxis": {
           "colorbar": {
            "outlinewidth": 0,
            "ticks": ""
           }
          },
          "colorscale": {
           "diverging": [
            [
             0,
             "#8e0152"
            ],
            [
             0.1,
             "#c51b7d"
            ],
            [
             0.2,
             "#de77ae"
            ],
            [
             0.3,
             "#f1b6da"
            ],
            [
             0.4,
             "#fde0ef"
            ],
            [
             0.5,
             "#f7f7f7"
            ],
            [
             0.6,
             "#e6f5d0"
            ],
            [
             0.7,
             "#b8e186"
            ],
            [
             0.8,
             "#7fbc41"
            ],
            [
             0.9,
             "#4d9221"
            ],
            [
             1,
             "#276419"
            ]
           ],
           "sequential": [
            [
             0,
             "#0d0887"
            ],
            [
             0.1111111111111111,
             "#46039f"
            ],
            [
             0.2222222222222222,
             "#7201a8"
            ],
            [
             0.3333333333333333,
             "#9c179e"
            ],
            [
             0.4444444444444444,
             "#bd3786"
            ],
            [
             0.5555555555555556,
             "#d8576b"
            ],
            [
             0.6666666666666666,
             "#ed7953"
            ],
            [
             0.7777777777777778,
             "#fb9f3a"
            ],
            [
             0.8888888888888888,
             "#fdca26"
            ],
            [
             1,
             "#f0f921"
            ]
           ],
           "sequentialminus": [
            [
             0,
             "#0d0887"
            ],
            [
             0.1111111111111111,
             "#46039f"
            ],
            [
             0.2222222222222222,
             "#7201a8"
            ],
            [
             0.3333333333333333,
             "#9c179e"
            ],
            [
             0.4444444444444444,
             "#bd3786"
            ],
            [
             0.5555555555555556,
             "#d8576b"
            ],
            [
             0.6666666666666666,
             "#ed7953"
            ],
            [
             0.7777777777777778,
             "#fb9f3a"
            ],
            [
             0.8888888888888888,
             "#fdca26"
            ],
            [
             1,
             "#f0f921"
            ]
           ]
          },
          "colorway": [
           "#636efa",
           "#EF553B",
           "#00cc96",
           "#ab63fa",
           "#FFA15A",
           "#19d3f3",
           "#FF6692",
           "#B6E880",
           "#FF97FF",
           "#FECB52"
          ],
          "font": {
           "color": "#2a3f5f"
          },
          "geo": {
           "bgcolor": "white",
           "lakecolor": "white",
           "landcolor": "#E5ECF6",
           "showlakes": true,
           "showland": true,
           "subunitcolor": "white"
          },
          "hoverlabel": {
           "align": "left"
          },
          "hovermode": "closest",
          "mapbox": {
           "style": "light"
          },
          "paper_bgcolor": "white",
          "plot_bgcolor": "#E5ECF6",
          "polar": {
           "angularaxis": {
            "gridcolor": "white",
            "linecolor": "white",
            "ticks": ""
           },
           "bgcolor": "#E5ECF6",
           "radialaxis": {
            "gridcolor": "white",
            "linecolor": "white",
            "ticks": ""
           }
          },
          "scene": {
           "xaxis": {
            "backgroundcolor": "#E5ECF6",
            "gridcolor": "white",
            "gridwidth": 2,
            "linecolor": "white",
            "showbackground": true,
            "ticks": "",
            "zerolinecolor": "white"
           },
           "yaxis": {
            "backgroundcolor": "#E5ECF6",
            "gridcolor": "white",
            "gridwidth": 2,
            "linecolor": "white",
            "showbackground": true,
            "ticks": "",
            "zerolinecolor": "white"
           },
           "zaxis": {
            "backgroundcolor": "#E5ECF6",
            "gridcolor": "white",
            "gridwidth": 2,
            "linecolor": "white",
            "showbackground": true,
            "ticks": "",
            "zerolinecolor": "white"
           }
          },
          "shapedefaults": {
           "line": {
            "color": "#2a3f5f"
           }
          },
          "ternary": {
           "aaxis": {
            "gridcolor": "white",
            "linecolor": "white",
            "ticks": ""
           },
           "baxis": {
            "gridcolor": "white",
            "linecolor": "white",
            "ticks": ""
           },
           "bgcolor": "#E5ECF6",
           "caxis": {
            "gridcolor": "white",
            "linecolor": "white",
            "ticks": ""
           }
          },
          "title": {
           "x": 0.05
          },
          "xaxis": {
           "automargin": true,
           "gridcolor": "white",
           "linecolor": "white",
           "ticks": "",
           "title": {
            "standoff": 15
           },
           "zerolinecolor": "white",
           "zerolinewidth": 2
          },
          "yaxis": {
           "automargin": true,
           "gridcolor": "white",
           "linecolor": "white",
           "ticks": "",
           "title": {
            "standoff": 15
           },
           "zerolinecolor": "white",
           "zerolinewidth": 2
          }
         }
        },
        "xaxis": {
         "autorange": true,
         "range": [
          -0.5042555242071427,
          29.165626419406955
         ],
         "type": "linear"
        },
        "yaxis": {
         "autorange": true,
         "range": [
          -0.7737808878807158,
          13.140817982333974
         ],
         "type": "linear"
        }
       }
      },
      "image/png": "[encoded data removed]",
      "text/html": [
       "<div>\n",
       "        \n",
       "        \n",
       "            <div id=\"4729b263-fc64-4bfe-a664-4ae3d3d7e522\" class=\"plotly-graph-div\" style=\"height:525px; width:100%;\"></div>\n",
       "            <script type=\"text/javascript\">\n",
       "                require([\"plotly\"], function(Plotly) {\n",
       "                    window.PLOTLYENV=window.PLOTLYENV || {};\n",
       "                    \n",
       "                if (document.getElementById(\"4729b263-fc64-4bfe-a664-4ae3d3d7e522\")) {\n",
       "                    Plotly.newPlot(\n",
       "                        '4729b263-fc64-4bfe-a664-4ae3d3d7e522',\n",
       "                        [{\"marker\": {\"color\": [60461.826, null, 65273.511, null, 17134.872, 67886.011, 46754.778, 273523.615, 43851.044, 11673.021, 11589.623, 9904.607, 102334.404, 40222.493, 83992.949, 36910.56, 10099.265, 2877.797, 20903.273, 1439323.776, 28435.94, 10847.91, 109581.078, 17643.054, 19237.691, 9660.351, 24206.644, 212559.417, 10423.054, 32971.854, 1271.768, 5792.202, 77.265, 11818.619, 6825.445, 128932.753, 53771.296, 45195.774, 8654.622, 3280.819, 6948.445, 4937.786, 1380004.385, null, 1207.359, 8737.371, 331002.651, 43733.762, 21413.249, 4314.767, 10196.709, 31072.94, 126476.461, 11326.616, 2078.938, 38928.346, 37846.611, 84339.067, 50882.891, 206139.589, 51269.185, 10203.134, 32365.999, 26545.863, null, 220892.34, 9006.398, null, 83783.942, 4033.963, null, 2722.289, 18776.707, 1326.535, 5540.72, 34813.871, 625.978, 628.066, 9449.323, 10139.177, 5421.241, 37742.154, 3473.73, 69799.978, 2963.243, 33469.203, 145934.462, null, 6524.195, 437.479, 4105.267, 9890.402, 59308.69, 1701.575, 19116.201, 8655.535, null, 25499.884, 16743.927, 5094.118, null, 5850.342, 5106.626, 341.243, 2881.053, 5459.642, 1886.198, 4822.233]}, \"mode\": \"markers\", \"type\": \"scatter\", \"x\": [22.7516796025077, 19.8, 20.0346247469881, null, 19.1961926333387, 18.395865674146602, 19.3785075224995, 5.857165612728631, 6.3624965449798605, 7.19194739218447, 18.7887437383395, 4.69061765907812, null, 3.3235996627950497, 5.48, 7.0129048211122, 20.0955249278002, 13.7447359109736, 2.4069808286635497, 10.9208835350654, null, 7.08281747649721, 5.12256876829946, 7.15728972666108, 18.338701393829602, 19.1577253832321, 2.5950078826985297, 8.92283783244003, 21.6552720778435, 8.08839279183076, 11.474173068652199, 19.8129526369902, 16.18, 8.315679078988769, 7.002368134392941, 7.2236849808719805, 2.33918661191556, 11.1177888760774, 18.6232165647717, 16.4703174710621, 21.021914434268, 13.8658017012923, 6.1799556494714905, 13.6701813815648, 13.719061773448301, 18.3457926916963, 15.8076540556035, 16.434686439201602, 10.4732197537841, 8.104731079667571, 21.9538575375873, 3.0688980069339595, 27.576369910355, 15.1862114171521, 19.6068796541788, 2.58492693988024, 17.5178167625452, 8.4832129399716, 8.47804701986958, 2.7473770053274302, null, 3.8464903979983402, 6.67175462547886, 2.7288773552405696, null, 4.312774311337559, 19.0015664595899, null, 21.4619619953309, 11.469556341351199, null, 19.7050331564608, 7.39184627103032, 19.626356846974897, 21.7207875455222, 3.31408802294981, 14.183154184147199, 14.9749366447439, 14.8451481743098, 6.195182750714929, 17.0492221563211, 17.232006678865098, 14.8145195308593, 11.9008931395893, 11.2538176570131, 4.419137878136401, null, 7.43, null, null, 20.445433012423, 1.0850009848448101, 5.31800500542302, 2.42633387832394, 11.529801656881599, 11.9769860249625, 3.13330573708009, 15.656475227559099, 3.08682370101833, 9.54984767296984, 2.85894301500285, 11.4633801933791, 2.39278695625796, 14.795092556568902, 1.3700703387375, null, 20.0436203206809, 15.652424527174098], \"y\": [12.25182972118137, 12.244897959183673, 10.113774130373962, 9.701492537313433, 9.457482668701902, 9.445084887864178, 9.394374113876793, 9.113796576032225, 8.9666951323655, 6.8181818181818175, 6.815742397137746, 6.756756756756757, 6.7005076142131985, 6.585365853658537, 6.193708515879134, 6.06826801517067, 5.839177948132441, 5.592105263157895, 5.298013245033113, 4.724049438069673, 4.57516339869281, 4.56989247311828, 4.506295559973492, 4.305225653206651, 4.178448005026705, 4.173354735152488, 4.166666666666666, 3.964222614840989, 3.9057656540607564, 3.8244514106583067, 3.763440860215054, 3.6997604471652914, 3.644646924829157, 3.6363636363636362, 3.346456692913386, 3.3112582781456954, 3.278688524590164, 3.08300395256917, 3.0143833520350913, 2.936096718480138, 2.88659793814433, 2.808331383103206, 2.8048305414881183, 2.7906976744186047, 2.7777777777777777, 2.642276422764228, 2.571611039748028, 2.5186567164179103, 2.515723270440252, 2.5084745762711864, 2.488367388225774, 2.4390243902439024, 2.407336645013374, 2.2304832713754648, 2.141327623126338, 2.135231316725979, 2.0987289388117056, 2.0314516514506957, 1.973164956590371, 1.9047619047619049, 1.7292784734645201, 1.6129032258064515, 1.5901590159015901, 1.5717092337917484, 1.544943820224719, 1.4892032762472078, 1.4578271433530026, 1.4367816091954022, 1.3986550971379677, 1.353637901861252, 1.295526766071865, 1.293103448275862, 1.293103448275862, 1.2486992715920915, 1.238390092879257, 1.2260912211868562, 1.1868300153139357, 1.1494252873563218, 1.1396011396011396, 1.1286681715575622, 1.0986964618249535, 1.0981806261268645, 1.084010840108401, 0.9605662285136503, 0.9510869565217392, 0.881057268722467, 0.8194745721860689, 0.7936507936507936, 0.7692307692307693, 0.7462686567164178, 0.7414272474513438, 0.7120253164556962, 0.5980066445182725, 0.5952380952380952, 0.5887075194005887, 0.5385029617662896, 0.5154639175257731, 0.5023022185014651, 0.4830917874396135, 0.4807692307692308, 0.45871559633027525, 0.4488330341113106, 0.3968253968253968, 0.36656891495601174, 0.27906976744186046, 0.2222222222222222, 0.2028397565922921, 0.1152073732718894]}],\n",
       "                        {\"template\": {\"data\": {\"bar\": [{\"error_x\": {\"color\": \"#2a3f5f\"}, \"error_y\": {\"color\": \"#2a3f5f\"}, \"marker\": {\"line\": {\"color\": \"#E5ECF6\", \"width\": 0.5}}, \"type\": \"bar\"}], \"barpolar\": [{\"marker\": {\"line\": {\"color\": \"#E5ECF6\", \"width\": 0.5}}, \"type\": \"barpolar\"}], \"carpet\": [{\"aaxis\": {\"endlinecolor\": \"#2a3f5f\", \"gridcolor\": \"white\", \"linecolor\": \"white\", \"minorgridcolor\": \"white\", \"startlinecolor\": \"#2a3f5f\"}, \"baxis\": {\"endlinecolor\": \"#2a3f5f\", \"gridcolor\": \"white\", \"linecolor\": \"white\", \"minorgridcolor\": \"white\", \"startlinecolor\": \"#2a3f5f\"}, \"type\": \"carpet\"}], \"choropleth\": [{\"colorbar\": {\"outlinewidth\": 0, \"ticks\": \"\"}, \"type\": \"choropleth\"}], \"contour\": [{\"colorbar\": {\"outlinewidth\": 0, \"ticks\": \"\"}, \"colorscale\": [[0.0, \"#0d0887\"], [0.1111111111111111, \"#46039f\"], [0.2222222222222222, \"#7201a8\"], [0.3333333333333333, \"#9c179e\"], [0.4444444444444444, \"#bd3786\"], [0.5555555555555556, \"#d8576b\"], [0.6666666666666666, \"#ed7953\"], [0.7777777777777778, \"#fb9f3a\"], [0.8888888888888888, \"#fdca26\"], [1.0, \"#f0f921\"]], \"type\": \"contour\"}], \"contourcarpet\": [{\"colorbar\": {\"outlinewidth\": 0, \"ticks\": \"\"}, \"type\": \"contourcarpet\"}], \"heatmap\": [{\"colorbar\": {\"outlinewidth\": 0, \"ticks\": \"\"}, \"colorscale\": [[0.0, \"#0d0887\"], [0.1111111111111111, \"#46039f\"], [0.2222222222222222, \"#7201a8\"], [0.3333333333333333, \"#9c179e\"], [0.4444444444444444, \"#bd3786\"], [0.5555555555555556, \"#d8576b\"], [0.6666666666666666, \"#ed7953\"], [0.7777777777777778, \"#fb9f3a\"], [0.8888888888888888, \"#fdca26\"], [1.0, \"#f0f921\"]], \"type\": \"heatmap\"}], \"heatmapgl\": [{\"colorbar\": {\"outlinewidth\": 0, \"ticks\": \"\"}, \"colorscale\": [[0.0, \"#0d0887\"], [0.1111111111111111, \"#46039f\"], [0.2222222222222222, \"#7201a8\"], [0.3333333333333333, \"#9c179e\"], [0.4444444444444444, \"#bd3786\"], [0.5555555555555556, \"#d8576b\"], [0.6666666666666666, \"#ed7953\"], [0.7777777777777778, \"#fb9f3a\"], [0.8888888888888888, \"#fdca26\"], [1.0, \"#f0f921\"]], \"type\": \"heatmapgl\"}], \"histogram\": [{\"marker\": {\"colorbar\": {\"outlinewidth\": 0, \"ticks\": \"\"}}, \"type\": \"histogram\"}], \"histogram2d\": [{\"colorbar\": {\"outlinewidth\": 0, \"ticks\": \"\"}, \"colorscale\": [[0.0, \"#0d0887\"], [0.1111111111111111, \"#46039f\"], [0.2222222222222222, \"#7201a8\"], [0.3333333333333333, \"#9c179e\"], [0.4444444444444444, \"#bd3786\"], [0.5555555555555556, \"#d8576b\"], [0.6666666666666666, \"#ed7953\"], [0.7777777777777778, \"#fb9f3a\"], [0.8888888888888888, \"#fdca26\"], [1.0, \"#f0f921\"]], \"type\": \"histogram2d\"}], \"histogram2dcontour\": [{\"colorbar\": {\"outlinewidth\": 0, \"ticks\": \"\"}, \"colorscale\": [[0.0, \"#0d0887\"], [0.1111111111111111, \"#46039f\"], [0.2222222222222222, \"#7201a8\"], [0.3333333333333333, \"#9c179e\"], [0.4444444444444444, \"#bd3786\"], [0.5555555555555556, \"#d8576b\"], [0.6666666666666666, \"#ed7953\"], [0.7777777777777778, \"#fb9f3a\"], [0.8888888888888888, \"#fdca26\"], [1.0, \"#f0f921\"]], \"type\": \"histogram2dcontour\"}], \"mesh3d\": [{\"colorbar\": {\"outlinewidth\": 0, \"ticks\": \"\"}, \"type\": \"mesh3d\"}], \"parcoords\": [{\"line\": {\"colorbar\": {\"outlinewidth\": 0, \"ticks\": \"\"}}, \"type\": \"parcoords\"}], \"pie\": [{\"automargin\": true, \"type\": \"pie\"}], \"scatter\": [{\"marker\": {\"colorbar\": {\"outlinewidth\": 0, \"ticks\": \"\"}}, \"type\": \"scatter\"}], \"scatter3d\": [{\"line\": {\"colorbar\": {\"outlinewidth\": 0, \"ticks\": \"\"}}, \"marker\": {\"colorbar\": {\"outlinewidth\": 0, \"ticks\": \"\"}}, \"type\": \"scatter3d\"}], \"scattercarpet\": [{\"marker\": {\"colorbar\": {\"outlinewidth\": 0, \"ticks\": \"\"}}, \"type\": \"scattercarpet\"}], \"scattergeo\": [{\"marker\": {\"colorbar\": {\"outlinewidth\": 0, \"ticks\": \"\"}}, \"type\": \"scattergeo\"}], \"scattergl\": [{\"marker\": {\"colorbar\": {\"outlinewidth\": 0, \"ticks\": \"\"}}, \"type\": \"scattergl\"}], \"scattermapbox\": [{\"marker\": {\"colorbar\": {\"outlinewidth\": 0, \"ticks\": \"\"}}, \"type\": \"scattermapbox\"}], \"scatterpolar\": [{\"marker\": {\"colorbar\": {\"outlinewidth\": 0, \"ticks\": \"\"}}, \"type\": \"scatterpolar\"}], \"scatterpolargl\": [{\"marker\": {\"colorbar\": {\"outlinewidth\": 0, \"ticks\": \"\"}}, \"type\": \"scatterpolargl\"}], \"scatterternary\": [{\"marker\": {\"colorbar\": {\"outlinewidth\": 0, \"ticks\": \"\"}}, \"type\": \"scatterternary\"}], \"surface\": [{\"colorbar\": {\"outlinewidth\": 0, \"ticks\": \"\"}, \"colorscale\": [[0.0, \"#0d0887\"], [0.1111111111111111, \"#46039f\"], [0.2222222222222222, \"#7201a8\"], [0.3333333333333333, \"#9c179e\"], [0.4444444444444444, \"#bd3786\"], [0.5555555555555556, \"#d8576b\"], [0.6666666666666666, \"#ed7953\"], [0.7777777777777778, \"#fb9f3a\"], [0.8888888888888888, \"#fdca26\"], [1.0, \"#f0f921\"]], \"type\": \"surface\"}], \"table\": [{\"cells\": {\"fill\": {\"color\": \"#EBF0F8\"}, \"line\": {\"color\": \"white\"}}, \"header\": {\"fill\": {\"color\": \"#C8D4E3\"}, \"line\": {\"color\": \"white\"}}, \"type\": \"table\"}]}, \"layout\": {\"annotationdefaults\": {\"arrowcolor\": \"#2a3f5f\", \"arrowhead\": 0, \"arrowwidth\": 1}, \"coloraxis\": {\"colorbar\": {\"outlinewidth\": 0, \"ticks\": \"\"}}, \"colorscale\": {\"diverging\": [[0, \"#8e0152\"], [0.1, \"#c51b7d\"], [0.2, \"#de77ae\"], [0.3, \"#f1b6da\"], [0.4, \"#fde0ef\"], [0.5, \"#f7f7f7\"], [0.6, \"#e6f5d0\"], [0.7, \"#b8e186\"], [0.8, \"#7fbc41\"], [0.9, \"#4d9221\"], [1, \"#276419\"]], \"sequential\": [[0.0, \"#0d0887\"], [0.1111111111111111, \"#46039f\"], [0.2222222222222222, \"#7201a8\"], [0.3333333333333333, \"#9c179e\"], [0.4444444444444444, \"#bd3786\"], [0.5555555555555556, \"#d8576b\"], [0.6666666666666666, \"#ed7953\"], [0.7777777777777778, \"#fb9f3a\"], [0.8888888888888888, \"#fdca26\"], [1.0, \"#f0f921\"]], \"sequentialminus\": [[0.0, \"#0d0887\"], [0.1111111111111111, \"#46039f\"], [0.2222222222222222, \"#7201a8\"], [0.3333333333333333, \"#9c179e\"], [0.4444444444444444, \"#bd3786\"], [0.5555555555555556, \"#d8576b\"], [0.6666666666666666, \"#ed7953\"], [0.7777777777777778, \"#fb9f3a\"], [0.8888888888888888, \"#fdca26\"], [1.0, \"#f0f921\"]]}, \"colorway\": [\"#636efa\", \"#EF553B\", \"#00cc96\", \"#ab63fa\", \"#FFA15A\", \"#19d3f3\", \"#FF6692\", \"#B6E880\", \"#FF97FF\", \"#FECB52\"], \"font\": {\"color\": \"#2a3f5f\"}, \"geo\": {\"bgcolor\": \"white\", \"lakecolor\": \"white\", \"landcolor\": \"#E5ECF6\", \"showlakes\": true, \"showland\": true, \"subunitcolor\": \"white\"}, \"hoverlabel\": {\"align\": \"left\"}, \"hovermode\": \"closest\", \"mapbox\": {\"style\": \"light\"}, \"paper_bgcolor\": \"white\", \"plot_bgcolor\": \"#E5ECF6\", \"polar\": {\"angularaxis\": {\"gridcolor\": \"white\", \"linecolor\": \"white\", \"ticks\": \"\"}, \"bgcolor\": \"#E5ECF6\", \"radialaxis\": {\"gridcolor\": \"white\", \"linecolor\": \"white\", \"ticks\": \"\"}}, \"scene\": {\"xaxis\": {\"backgroundcolor\": \"#E5ECF6\", \"gridcolor\": \"white\", \"gridwidth\": 2, \"linecolor\": \"white\", \"showbackground\": true, \"ticks\": \"\", \"zerolinecolor\": \"white\"}, \"yaxis\": {\"backgroundcolor\": \"#E5ECF6\", \"gridcolor\": \"white\", \"gridwidth\": 2, \"linecolor\": \"white\", \"showbackground\": true, \"ticks\": \"\", \"zerolinecolor\": \"white\"}, \"zaxis\": {\"backgroundcolor\": \"#E5ECF6\", \"gridcolor\": \"white\", \"gridwidth\": 2, \"linecolor\": \"white\", \"showbackground\": true, \"ticks\": \"\", \"zerolinecolor\": \"white\"}}, \"shapedefaults\": {\"line\": {\"color\": \"#2a3f5f\"}}, \"ternary\": {\"aaxis\": {\"gridcolor\": \"white\", \"linecolor\": \"white\", \"ticks\": \"\"}, \"baxis\": {\"gridcolor\": \"white\", \"linecolor\": \"white\", \"ticks\": \"\"}, \"bgcolor\": \"#E5ECF6\", \"caxis\": {\"gridcolor\": \"white\", \"linecolor\": \"white\", \"ticks\": \"\"}}, \"title\": {\"x\": 0.05}, \"xaxis\": {\"automargin\": true, \"gridcolor\": \"white\", \"linecolor\": \"white\", \"ticks\": \"\", \"title\": {\"standoff\": 15}, \"zerolinecolor\": \"white\", \"zerolinewidth\": 2}, \"yaxis\": {\"automargin\": true, \"gridcolor\": \"white\", \"linecolor\": \"white\", \"ticks\": \"\", \"title\": {\"standoff\": 15}, \"zerolinecolor\": \"white\", \"zerolinewidth\": 2}}}},\n",
       "                        {\"responsive\": true}\n",
       "                    ).then(function(){\n",
       "                            \n",
       "var gd = document.getElementById('4729b263-fc64-4bfe-a664-4ae3d3d7e522');\n",
       "var x = new MutationObserver(function (mutations, observer) {{\n",
       "        var display = window.getComputedStyle(gd).display;\n",
       "        if (!display || display === 'none') {{\n",
       "            console.log([gd, 'removed!']);\n",
       "            Plotly.purge(gd);\n",
       "            observer.disconnect();\n",
       "        }}\n",
       "}});\n",
       "\n",
       "// Listen for the removal of the full notebook cells\n",
       "var notebookContainer = gd.closest('#notebook-container');\n",
       "if (notebookContainer) {{\n",
       "    x.observe(notebookContainer, {childList: true});\n",
       "}}\n",
       "\n",
       "// Listen for the clearing of the current output cell\n",
       "var outputEl = gd.closest('.output');\n",
       "if (outputEl) {{\n",
       "    x.observe(outputEl, {childList: true});\n",
       "}}\n",
       "\n",
       "                        })\n",
       "                };\n",
       "                });\n",
       "            </script>\n",
       "        </div>"
      ]
     },
     "metadata": {},
     "output_type": "display_data"
    }
   ],
   "source": [
    "import plotly.express as px\n",
    "\n",
    "fig = go.Figure(data=go.Scatter(\n",
    "                x=more_than_100['perc_65'],\n",
    "                y=more_than_100['DeathRate'],\n",
    "                mode='markers', marker= dict(color=more_than_100['population'])\n",
    "))\n",
    "fig.show()"
   ]
  },
  {
   "cell_type": "code",
   "execution_count": 205,
   "metadata": {},
   "outputs": [
    {
     "data": {
      "image/png": "[encoded data removed]",
      "text/plain": [
       "<Figure size 432x288 with 1 Axes>"
      ]
     },
     "metadata": {},
     "output_type": "display_data"
    }
   ],
   "source": [
    "fix, ax = plt.subplots()\n",
    "\n",
    "\n",
    "sns.set_style('dark')\n",
    "size = dev_index.pop2020\n",
    "ax = sns.regplot(x=\"dev_index\", y=\"DeathRate\", data=more_than_100)\n",
    "ax.set_title('Death Rates vs Population')\n",
    "sns.despine()\n",
    "plt.savefig('death_rate_v_population.png', dpi=600)"
   ]
  },
  {
   "cell_type": "code",
   "execution_count": 206,
   "metadata": {},
   "outputs": [
    {
     "name": "stderr",
     "output_type": "stream",
     "text": [
      "/Users/rogerlefort/anaconda3/envs/corona/lib/python3.8/site-packages/seaborn/axisgrid.py:1848: UserWarning:\n",
      "\n",
      "JointGrid annotation is deprecated and will be removed in a future release.\n",
      "\n"
     ]
    },
    {
     "data": {
      "image/png": "[encoded data removed]",
      "text/plain": [
       "<Figure size 432x432 with 3 Axes>"
      ]
     },
     "metadata": {},
     "output_type": "display_data"
    }
   ],
   "source": [
    "from scipy import stats\n",
    "\n",
    "x = more_than_100.perc_65\n",
    "y = more_than_100.DeathRate\n",
    "\n",
    "def r2(x, y):\n",
    "    return stats.pearsonr(x, y)[0] ** 2\n",
    "sns.jointplot(x, y, kind=\"reg\", stat_func=r2)\n",
    "plt.savefig('death_rate_v_age_pearson.png', dpi=600)"
   ]
  },
  {
   "cell_type": "code",
   "execution_count": 207,
   "metadata": {},
   "outputs": [
    {
     "data": {
      "image/png": "[encoded data removed]",
      "text/plain": [
       "<Figure size 432x288 with 1 Axes>"
      ]
     },
     "metadata": {},
     "output_type": "display_data"
    }
   ],
   "source": [
    "fix, ax = plt.subplots()\n",
    "\n",
    "sns.set_style('dark')\n",
    "#size = dev_index['pop2020']\n",
    "ax = sns.scatterplot(x=\"perc_65\", y=\"DeathRate\", data=more_than_100, size='population', hue=\"population\")\n",
    "ax.set_title('Death Rates vs Development Index')\n",
    "sns.despine()\n",
    "plt.savefig('death_rate_v_dev_index_2.png', dpi=600)"
   ]
  },
  {
   "cell_type": "code",
   "execution_count": 37,
   "metadata": {},
   "outputs": [
    {
     "data": {
      "image/png": "[encoded data removed]",
      "text/plain": [
       "<Figure size 432x288 with 1 Axes>"
      ]
     },
     "metadata": {},
     "output_type": "display_data"
    }
   ],
   "source": [
    "fix, ax = plt.subplots()\n",
    "\n",
    "sns.set_style('dark')\n",
    "#size = dev_index['pop2020']\n",
    "ax = sns.scatterplot(x=\"dev_index\", y=\"population\", data=more_than_100, size='population')\n",
    "ax.set_title('Death Rates vs Development Index')\n",
    "sns.despine()\n",
    "plt.savefig('pop_v_dev_index.png', dpi=600)"
   ]
  },
  {
   "cell_type": "code",
   "execution_count": null,
   "metadata": {},
   "outputs": [],
   "source": []
  },
  {
   "cell_type": "code",
   "execution_count": 244,
   "metadata": {},
   "outputs": [
    {
     "ename": "KeyError",
     "evalue": "'code'",
     "output_type": "error",
     "traceback": [
      "\u001b[0;31m---------------------------------------------------------------------------\u001b[0m",
      "\u001b[0;31mKeyError\u001b[0m                                  Traceback (most recent call last)",
      "\u001b[0;32m~/anaconda3/envs/corona/lib/python3.8/site-packages/pandas/core/indexes/base.py\u001b[0m in \u001b[0;36mget_loc\u001b[0;34m(self, key, method, tolerance)\u001b[0m\n\u001b[1;32m   2645\u001b[0m             \u001b[0;32mtry\u001b[0m\u001b[0;34m:\u001b[0m\u001b[0;34m\u001b[0m\u001b[0;34m\u001b[0m\u001b[0m\n\u001b[0;32m-> 2646\u001b[0;31m                 \u001b[0;32mreturn\u001b[0m \u001b[0mself\u001b[0m\u001b[0;34m.\u001b[0m\u001b[0m_engine\u001b[0m\u001b[0;34m.\u001b[0m\u001b[0mget_loc\u001b[0m\u001b[0;34m(\u001b[0m\u001b[0mkey\u001b[0m\u001b[0;34m)\u001b[0m\u001b[0;34m\u001b[0m\u001b[0;34m\u001b[0m\u001b[0m\n\u001b[0m\u001b[1;32m   2647\u001b[0m             \u001b[0;32mexcept\u001b[0m \u001b[0mKeyError\u001b[0m\u001b[0;34m:\u001b[0m\u001b[0;34m\u001b[0m\u001b[0;34m\u001b[0m\u001b[0m\n",
      "\u001b[0;32mpandas/_libs/index.pyx\u001b[0m in \u001b[0;36mpandas._libs.index.IndexEngine.get_loc\u001b[0;34m()\u001b[0m\n",
      "\u001b[0;32mpandas/_libs/index.pyx\u001b[0m in \u001b[0;36mpandas._libs.index.IndexEngine.get_loc\u001b[0;34m()\u001b[0m\n",
      "\u001b[0;32mpandas/_libs/hashtable_class_helper.pxi\u001b[0m in \u001b[0;36mpandas._libs.hashtable.PyObjectHashTable.get_item\u001b[0;34m()\u001b[0m\n",
      "\u001b[0;32mpandas/_libs/hashtable_class_helper.pxi\u001b[0m in \u001b[0;36mpandas._libs.hashtable.PyObjectHashTable.get_item\u001b[0;34m()\u001b[0m\n",
      "\u001b[0;31mKeyError\u001b[0m: 'code'",
      "\nDuring handling of the above exception, another exception occurred:\n",
      "\u001b[0;31mKeyError\u001b[0m                                  Traceback (most recent call last)",
      "\u001b[0;32m<ipython-input-244-426a35e51452>\u001b[0m in \u001b[0;36m<module>\u001b[0;34m\u001b[0m\n\u001b[1;32m     22\u001b[0m fig.add_trace(\n\u001b[1;32m     23\u001b[0m     go.Choropleth(\n\u001b[0;32m---> 24\u001b[0;31m         \u001b[0mlocations\u001b[0m \u001b[0;34m=\u001b[0m \u001b[0mgrouped_country\u001b[0m\u001b[0;34m[\u001b[0m\u001b[0;34m'code'\u001b[0m\u001b[0;34m]\u001b[0m\u001b[0;34m,\u001b[0m\u001b[0;34m\u001b[0m\u001b[0;34m\u001b[0m\u001b[0m\n\u001b[0m\u001b[1;32m     25\u001b[0m         \u001b[0mz\u001b[0m \u001b[0;34m=\u001b[0m \u001b[0mgrouped_country\u001b[0m\u001b[0;34m[\u001b[0m\u001b[0;34m'CumConfirmed'\u001b[0m\u001b[0;34m]\u001b[0m\u001b[0;34m,\u001b[0m\u001b[0;34m\u001b[0m\u001b[0;34m\u001b[0m\u001b[0m\n\u001b[1;32m     26\u001b[0m \u001b[0;31m#         text = grouped_countries['CumConfirmed'],\u001b[0m\u001b[0;34m\u001b[0m\u001b[0;34m\u001b[0m\u001b[0;34m\u001b[0m\u001b[0m\n",
      "\u001b[0;32m~/anaconda3/envs/corona/lib/python3.8/site-packages/pandas/core/frame.py\u001b[0m in \u001b[0;36m__getitem__\u001b[0;34m(self, key)\u001b[0m\n\u001b[1;32m   2798\u001b[0m             \u001b[0;32mif\u001b[0m \u001b[0mself\u001b[0m\u001b[0;34m.\u001b[0m\u001b[0mcolumns\u001b[0m\u001b[0;34m.\u001b[0m\u001b[0mnlevels\u001b[0m \u001b[0;34m>\u001b[0m \u001b[0;36m1\u001b[0m\u001b[0;34m:\u001b[0m\u001b[0;34m\u001b[0m\u001b[0;34m\u001b[0m\u001b[0m\n\u001b[1;32m   2799\u001b[0m                 \u001b[0;32mreturn\u001b[0m \u001b[0mself\u001b[0m\u001b[0;34m.\u001b[0m\u001b[0m_getitem_multilevel\u001b[0m\u001b[0;34m(\u001b[0m\u001b[0mkey\u001b[0m\u001b[0;34m)\u001b[0m\u001b[0;34m\u001b[0m\u001b[0;34m\u001b[0m\u001b[0m\n\u001b[0;32m-> 2800\u001b[0;31m             \u001b[0mindexer\u001b[0m \u001b[0;34m=\u001b[0m \u001b[0mself\u001b[0m\u001b[0;34m.\u001b[0m\u001b[0mcolumns\u001b[0m\u001b[0;34m.\u001b[0m\u001b[0mget_loc\u001b[0m\u001b[0;34m(\u001b[0m\u001b[0mkey\u001b[0m\u001b[0;34m)\u001b[0m\u001b[0;34m\u001b[0m\u001b[0;34m\u001b[0m\u001b[0m\n\u001b[0m\u001b[1;32m   2801\u001b[0m             \u001b[0;32mif\u001b[0m \u001b[0mis_integer\u001b[0m\u001b[0;34m(\u001b[0m\u001b[0mindexer\u001b[0m\u001b[0;34m)\u001b[0m\u001b[0;34m:\u001b[0m\u001b[0;34m\u001b[0m\u001b[0;34m\u001b[0m\u001b[0m\n\u001b[1;32m   2802\u001b[0m                 \u001b[0mindexer\u001b[0m \u001b[0;34m=\u001b[0m \u001b[0;34m[\u001b[0m\u001b[0mindexer\u001b[0m\u001b[0;34m]\u001b[0m\u001b[0;34m\u001b[0m\u001b[0;34m\u001b[0m\u001b[0m\n",
      "\u001b[0;32m~/anaconda3/envs/corona/lib/python3.8/site-packages/pandas/core/indexes/base.py\u001b[0m in \u001b[0;36mget_loc\u001b[0;34m(self, key, method, tolerance)\u001b[0m\n\u001b[1;32m   2646\u001b[0m                 \u001b[0;32mreturn\u001b[0m \u001b[0mself\u001b[0m\u001b[0;34m.\u001b[0m\u001b[0m_engine\u001b[0m\u001b[0;34m.\u001b[0m\u001b[0mget_loc\u001b[0m\u001b[0;34m(\u001b[0m\u001b[0mkey\u001b[0m\u001b[0;34m)\u001b[0m\u001b[0;34m\u001b[0m\u001b[0;34m\u001b[0m\u001b[0m\n\u001b[1;32m   2647\u001b[0m             \u001b[0;32mexcept\u001b[0m \u001b[0mKeyError\u001b[0m\u001b[0;34m:\u001b[0m\u001b[0;34m\u001b[0m\u001b[0;34m\u001b[0m\u001b[0m\n\u001b[0;32m-> 2648\u001b[0;31m                 \u001b[0;32mreturn\u001b[0m \u001b[0mself\u001b[0m\u001b[0;34m.\u001b[0m\u001b[0m_engine\u001b[0m\u001b[0;34m.\u001b[0m\u001b[0mget_loc\u001b[0m\u001b[0;34m(\u001b[0m\u001b[0mself\u001b[0m\u001b[0;34m.\u001b[0m\u001b[0m_maybe_cast_indexer\u001b[0m\u001b[0;34m(\u001b[0m\u001b[0mkey\u001b[0m\u001b[0;34m)\u001b[0m\u001b[0;34m)\u001b[0m\u001b[0;34m\u001b[0m\u001b[0;34m\u001b[0m\u001b[0m\n\u001b[0m\u001b[1;32m   2649\u001b[0m         \u001b[0mindexer\u001b[0m \u001b[0;34m=\u001b[0m \u001b[0mself\u001b[0m\u001b[0;34m.\u001b[0m\u001b[0mget_indexer\u001b[0m\u001b[0;34m(\u001b[0m\u001b[0;34m[\u001b[0m\u001b[0mkey\u001b[0m\u001b[0;34m]\u001b[0m\u001b[0;34m,\u001b[0m \u001b[0mmethod\u001b[0m\u001b[0;34m=\u001b[0m\u001b[0mmethod\u001b[0m\u001b[0;34m,\u001b[0m \u001b[0mtolerance\u001b[0m\u001b[0;34m=\u001b[0m\u001b[0mtolerance\u001b[0m\u001b[0;34m)\u001b[0m\u001b[0;34m\u001b[0m\u001b[0;34m\u001b[0m\u001b[0m\n\u001b[1;32m   2650\u001b[0m         \u001b[0;32mif\u001b[0m \u001b[0mindexer\u001b[0m\u001b[0;34m.\u001b[0m\u001b[0mndim\u001b[0m \u001b[0;34m>\u001b[0m \u001b[0;36m1\u001b[0m \u001b[0;32mor\u001b[0m \u001b[0mindexer\u001b[0m\u001b[0;34m.\u001b[0m\u001b[0msize\u001b[0m \u001b[0;34m>\u001b[0m \u001b[0;36m1\u001b[0m\u001b[0;34m:\u001b[0m\u001b[0;34m\u001b[0m\u001b[0;34m\u001b[0m\u001b[0m\n",
      "\u001b[0;32mpandas/_libs/index.pyx\u001b[0m in \u001b[0;36mpandas._libs.index.IndexEngine.get_loc\u001b[0;34m()\u001b[0m\n",
      "\u001b[0;32mpandas/_libs/index.pyx\u001b[0m in \u001b[0;36mpandas._libs.index.IndexEngine.get_loc\u001b[0;34m()\u001b[0m\n",
      "\u001b[0;32mpandas/_libs/hashtable_class_helper.pxi\u001b[0m in \u001b[0;36mpandas._libs.hashtable.PyObjectHashTable.get_item\u001b[0;34m()\u001b[0m\n",
      "\u001b[0;32mpandas/_libs/hashtable_class_helper.pxi\u001b[0m in \u001b[0;36mpandas._libs.hashtable.PyObjectHashTable.get_item\u001b[0;34m()\u001b[0m\n",
      "\u001b[0;31mKeyError\u001b[0m: 'code'"
     ]
    }
   ],
   "source": [
    "import plotly.graph_objects as go\n",
    "from plotly.subplots import make_subplots\n",
    "\n",
    "import pandas as pd\n",
    "\n",
    "# read in volcano database data\n",
    "\n",
    "\n",
    "# Country\n",
    "country = grouped_country['Country/Region']\n",
    "\n",
    "\n",
    "# Initialize figure with subplots\n",
    "fig = make_subplots(\n",
    "    rows=2, cols=2,\n",
    "    column_widths=[0.6, 0.4],\n",
    "    row_heights=[0.4, 0.6],\n",
    "    specs=[[{\"type\": \"choropleth\", \"rowspan\": 2}, {\"type\": \"bar\"}],\n",
    "           [            None                    , {\"type\": \"surface\"}]])\n",
    "\n",
    "# Add scattergeo globe map of volcano locations\n",
    "fig.add_trace(\n",
    "    go.Choropleth(\n",
    "        locations = grouped_country['code'],\n",
    "        z = grouped_country['CumConfirmed'],\n",
    "#         text = grouped_countries['CumConfirmed'],\n",
    "        colorscale = 'Reds',\n",
    "        autocolorscale=False,\n",
    "        reversescale=False,\n",
    "        marker_line_color='darkgray',\n",
    "        marker_line_width=0.5,\n",
    "        colorbar_tickprefix = '',\n",
    "        colorbar_title = '',\n",
    "    )\n",
    ")\n",
    "# fig.update_layout(margin={\n",
    "#         \"r\": 500,\n",
    "#         \"t\": 500,\n",
    "#         \"l\": 500,\n",
    "#         \"b\": 500\n",
    "#     }, coloraxis_showscale=False)\n",
    "\n",
    "\n",
    "\n",
    "# Add locations bar chart\n",
    "fig.add_trace(\n",
    "    go.Bar(x=more_than_100[\"Country/Region\"],y=more_than_100[\"DeathRate\"], marker=dict(color=\"crimson\"), showlegend=False),\n",
    "    row=1, col=2\n",
    ")\n",
    "fig.update_layout(xaxis={'categoryorder':'total descending'})\n",
    "\n",
    "# # Add 3d surface of volcano\n",
    "# fig.add_trace(\n",
    "#     go.Surface(z=df_v.values.tolist(), showscale=False),\n",
    "#     row=2, col=2\n",
    "# )\n",
    "\n",
    "# # Update geo subplot properties\n",
    "# fig.update_geos(\n",
    "#     projection_type=\"orthographic\",\n",
    "#     landcolor=\"white\",\n",
    "#     oceancolor=\"MidnightBlue\",\n",
    "#     showocean=True,\n",
    "#     lakecolor=\"LightBlue\"\n",
    "# )\n",
    "\n",
    "# # Rotate x-axis labels\n",
    "# fig.update_xaxes(tickangle=45)\n",
    "\n",
    "# Set theme, margin, and annotation in layout\n",
    "fig.update_layout(coloraxis_showscale=False,\n",
    "            coloraxis_colorbar=dict(\n",
    "    title=\"Number of Bills per Cell\",\n",
    "    thicknessmode=\"pixels\", thickness=10,\n",
    "    lenmode=\"pixels\", len=50,\n",
    "    yanchor=\"top\", y=1,\n",
    "    ticks=\"outside\", ticksuffix=\" bills\",\n",
    "    dtick=5),      \n",
    "    template=\"plotly_dark\",\n",
    "    margin=dict(r=0, t=0, b=0, l=0),\n",
    "    annotations=[\n",
    "        dict(\n",
    "            text=\"Source: NOAA\",\n",
    "            showarrow=False,\n",
    "            xref=\"paper\",\n",
    "            yref=\"paper\",\n",
    "            x=0,\n",
    "            y=0)\n",
    "    ]\n",
    ")"
   ]
  },
  {
   "cell_type": "code",
   "execution_count": null,
   "metadata": {},
   "outputs": [],
   "source": []
  }
 ],
 "metadata": {
  "kernelspec": {
   "display_name": "corona",
   "language": "python",
   "name": "corona"
  },
  "language_info": {
   "codemirror_mode": {
    "name": "ipython",
    "version": 3
   },
   "file_extension": ".py",
   "mimetype": "text/x-python",
   "name": "python",
   "nbconvert_exporter": "python",
   "pygments_lexer": "ipython3",
   "version": "3.8.1"
  }
 },
 "nbformat": 4,
 "nbformat_minor": 4
}
